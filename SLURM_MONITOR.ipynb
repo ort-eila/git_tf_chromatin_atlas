{
 "cells": [
  {
   "cell_type": "code",
   "execution_count": 1,
   "id": "99d37c98-61d7-42a1-964a-247b0d94362c",
   "metadata": {},
   "outputs": [
    {
     "name": "stdout",
     "output_type": "stream",
     "text": [
      "1354\n"
     ]
    }
   ],
   "source": [
    "!ls -lt $GROUP_SCRATCH/eila/encode_pseudobulks/encode_pseudobulks_negative/*/*/*/fold_0/*nonpeaks_negatives.bed | wc -l\n",
    "#1354\n"
   ]
  },
  {
   "cell_type": "code",
   "execution_count": 2,
   "id": "306d802e-7e41-4125-8297-a09095b23f81",
   "metadata": {},
   "outputs": [],
   "source": [
    "# !ls -lt $GROUP_SCRATCH/eila/encode_pseudobulks/encode_pseudobulks_negative/*/*/*/fold_0/*nonpeaks_negatives.bed | head"
   ]
  },
  {
   "cell_type": "code",
   "execution_count": 3,
   "id": "a7043188-2e35-4fcc-b4e3-c76a25cc8ce0",
   "metadata": {},
   "outputs": [
    {
     "name": "stdout",
     "output_type": "stream",
     "text": [
      "1354\n"
     ]
    }
   ],
   "source": [
    "!ls -lt $GROUP_SCRATCH/eila/encode_pseudobulks/encode_pseudobulks_negative/*/*/*/fold_1/*nonpeaks_negatives.bed | wc -l\n",
    "#1354\n"
   ]
  },
  {
   "cell_type": "code",
   "execution_count": 4,
   "id": "ce206665-cbca-4cae-8a1e-b98514ffc177",
   "metadata": {},
   "outputs": [
    {
     "name": "stdout",
     "output_type": "stream",
     "text": [
      "1354\n"
     ]
    }
   ],
   "source": [
    "!ls -lt $GROUP_SCRATCH/eila/encode_pseudobulks/encode_pseudobulks_negative/*/*/*/fold_2/*nonpeaks_negatives.bed | wc -l\n",
    "#1354\n"
   ]
  },
  {
   "cell_type": "code",
   "execution_count": 5,
   "id": "3d067478-368f-4c45-ba89-9a9400a4cbfb",
   "metadata": {},
   "outputs": [
    {
     "name": "stdout",
     "output_type": "stream",
     "text": [
      "1354\n"
     ]
    }
   ],
   "source": [
    "!ls -lt $GROUP_SCRATCH/eila/encode_pseudobulks/encode_pseudobulks_negative/*/*/*/fold_3/*nonpeaks_negatives.bed | wc -l\n",
    "#1354\n"
   ]
  },
  {
   "cell_type": "code",
   "execution_count": 6,
   "id": "0587dc0d-9a4d-4a0f-9b43-3d72e7472bbd",
   "metadata": {},
   "outputs": [
    {
     "name": "stdout",
     "output_type": "stream",
     "text": [
      "1354\n"
     ]
    }
   ],
   "source": [
    "!ls -lt $GROUP_SCRATCH/eila/encode_pseudobulks/encode_pseudobulks_negative/*/*/*/fold_4/*nonpeaks_negatives.bed | wc -l\n",
    "#1354\n"
   ]
  },
  {
   "cell_type": "code",
   "execution_count": 1,
   "id": "dd88bc54-52f3-40be-ba56-0c2efc55c42a",
   "metadata": {},
   "outputs": [
    {
     "name": "stdout",
     "output_type": "stream",
     "text": [
      "130\n"
     ]
    }
   ],
   "source": [
    "!squeue --user=$USER | wc -l\n",
    "\n",
    "# 216"
   ]
  },
  {
   "cell_type": "code",
   "execution_count": 2,
   "id": "570b8e2e-b25c-40b8-91fb-f5493020c1bb",
   "metadata": {},
   "outputs": [],
   "source": [
    "# !rm errors.log"
   ]
  },
  {
   "cell_type": "code",
   "execution_count": 3,
   "id": "5aed952b-282a-40dd-b716-d35214f9a43f",
   "metadata": {},
   "outputs": [],
   "source": [
    "# !grep -i \"error\" ./local_logs/slurm.step5NegativesNoPeaksBackground.combined.err | tr '\\n' ' ' >> errors.log\n",
    "\n"
   ]
  },
  {
   "cell_type": "code",
   "execution_count": 4,
   "id": "36d08f0e-e4c0-41e6-b765-9ccf6b5370bc",
   "metadata": {},
   "outputs": [],
   "source": [
    "# !grep -E \"error|failed|exception\" ./local_logs/slurm.step5NegativesNoPeaksBackground.combined.err | tr '\\n' ' ' >> errors1.log\n",
    "# !grep -E -o \".{0,100}(error|failed|exception).{0,100}\" ./local_logs/slurm.step5NegativesNoPeaksBackground.combined.err >> errors1.log\n",
    "# !grep -i -E -o \".{0,100}(error|failed|exception).{0,100}\" ./local_logs/slurm.step5NegativesNoPeaksBackground.combined.err >> errors1.log\n"
   ]
  },
  {
   "cell_type": "code",
   "execution_count": 5,
   "id": "0381a889-b737-4eb1-8cb4-9d62ac5d5d73",
   "metadata": {},
   "outputs": [],
   "source": [
    "# head ./loca"
   ]
  },
  {
   "cell_type": "code",
   "execution_count": 6,
   "id": "58898ea8-bd27-42ea-b3b3-bbdc71abb9ae",
   "metadata": {},
   "outputs": [
    {
     "name": "stdout",
     "output_type": "stream",
     "text": [
      "             JOBID PARTITION     NAME     USER ST       TIME  NODES NODELIST(REASON)\n",
      "      54311036_288  akundaje step62.b     eila  R    9:43:07      1 sh02-12n09\n",
      "       54311036_12  akundaje step62.b     eila  R   20:01:03      1 sh02-12n09\n",
      "       54311036_13  akundaje step62.b     eila  R   20:01:03      1 sh02-12n09\n",
      "        54311036_5  akundaje step62.b     eila  R   20:09:04      1 sh02-12n10\n",
      "       54311036_25  akundaje step62.b     eila  R   19:16:00      1 sh02-12n08\n",
      "       54311036_26  akundaje step62.b     eila  R   19:16:00      1 sh02-12n08\n",
      "       54311036_27  akundaje step62.b     eila  R   19:16:00      1 sh02-12n08\n",
      "       54311036_28  akundaje step62.b     eila  R   19:16:00      1 sh02-12n08\n",
      "      54311036_346  akundaje step62.b     eila  R    4:27:26      1 sh03-16n09\n",
      "      54311036_287  akundaje step62.b     eila  R    9:43:07      1 sh02-12n11\n",
      "      54311036_348  akundaje step62.b     eila  R    4:07:16      1 sh03-16n09\n",
      "      54311036_347  akundaje step62.b     eila  R    4:13:23      1 sh02-12n07\n",
      "      54311036_345  akundaje step62.b     eila  R    4:27:26      1 sh02-12n10\n",
      "      54311036_336  akundaje step62.b     eila  R    4:51:32      1 sh02-12n07\n",
      "      54311036_321  akundaje step62.b     eila  R    6:00:56      1 sh03-16n09\n",
      "      54311036_320  akundaje step62.b     eila  R    6:02:55      1 sh02-12n10\n",
      "      54311036_319  akundaje step62.b     eila  R    6:15:34      1 sh03-16n09\n",
      "      54311036_312  akundaje step62.b     eila  R    7:40:09      1 sh03-16n09\n",
      "      54311036_301  akundaje step62.b     eila  R    8:10:20      1 sh02-12n11\n",
      "      54311036_300  akundaje step62.b     eila  R    8:20:25      1 sh02-12n11\n",
      "      54311036_299  akundaje step62.b     eila  R    8:47:30      1 sh02-12n07\n",
      "      54311036_298  akundaje step62.b     eila  R    9:03:01      1 sh03-16n09\n",
      "      54311036_260    owners step62.b     eila  R   11:14:35      1 sh02-12n12\n",
      "      54311036_272    owners step62.b     eila  R   11:14:35      1 sh03-13n04\n",
      "      54311036_274    owners step62.b     eila  R   11:14:35      1 sh03-13n03\n",
      "      54311036_279    owners step62.b     eila  R   11:14:35      1 sh02-16n01\n",
      "      54311036_280    owners step62.b     eila  R   11:14:35      1 sh02-16n01\n",
      "      54311036_281    owners step62.b     eila  R   11:14:35      1 sh02-16n01\n",
      "      54311036_282    owners step62.b     eila  R   11:14:35      1 sh02-16n01\n",
      "      54311036_283    owners step62.b     eila  R   11:14:35      1 sh02-16n01\n",
      "      54311036_284    owners step62.b     eila  R   11:14:35      1 sh02-16n01\n",
      "      54311036_253    owners step62.b     eila  R   14:54:01      1 sh03-14n01\n",
      "      54311036_246    owners step62.b     eila  R   15:06:25      1 sh03-15n03\n",
      "      54311036_251    owners step62.b     eila  R   15:06:25      1 sh02-12n17\n",
      "      54311036_210    owners step62.b     eila  R   16:08:28      1 sh02-15n04\n",
      "      54311036_211    owners step62.b     eila  R   16:08:28      1 sh02-14n15\n",
      "      54311036_213    owners step62.b     eila  R   16:08:28      1 sh02-14n13\n",
      "      54311036_216    owners step62.b     eila  R   16:08:28      1 sh02-13n10\n",
      "      54311036_218    owners step62.b     eila  R   16:08:28      1 sh02-14n12\n",
      "      54311036_219    owners step62.b     eila  R   16:08:28      1 sh02-14n12\n",
      "      54311036_220    owners step62.b     eila  R   16:08:28      1 sh02-14n12\n",
      "      54311036_222    owners step62.b     eila  R   16:08:28      1 sh02-14n10\n",
      "      54311036_224    owners step62.b     eila  R   16:08:28      1 sh02-13n04\n",
      "      54311036_225    owners step62.b     eila  R   16:08:28      1 sh02-16n03\n",
      "      54311036_228    owners step62.b     eila  R   16:08:28      1 sh02-16n03\n",
      "      54311036_229    owners step62.b     eila  R   16:08:28      1 sh02-15n03\n",
      "      54311036_231    owners step62.b     eila  R   16:08:28      1 sh02-15n03\n",
      "      54311036_232    owners step62.b     eila  R   16:08:28      1 sh02-15n03\n",
      "      54311036_203    owners step62.b     eila  R   17:11:01      1 sh02-16n08\n",
      "       54311036_99    owners step62.b     eila  R   17:33:14      1 sh03-14n02\n",
      "      54311036_114    owners step62.b     eila  R   17:33:14      1 sh03-13n08\n",
      "      54311036_116    owners step62.b     eila  R   17:33:14      1 sh03-13n08\n",
      "      54311036_127    owners step62.b     eila  R   17:33:14      1 sh03-13n03\n",
      "      54311036_128    owners step62.b     eila  R   17:33:14      1 sh02-15n04\n",
      "      54311036_130    owners step62.b     eila  R   17:33:14      1 sh02-15n04\n",
      "      54311036_131    owners step62.b     eila  R   17:33:14      1 sh02-14n15\n",
      "      54311036_136    owners step62.b     eila  R   17:33:14      1 sh02-14n14\n",
      "      54311036_139    owners step62.b     eila  R   17:33:14      1 sh02-14n13\n",
      "      54311036_142    owners step62.b     eila  R   17:33:14      1 sh02-14n09\n",
      "      54311036_151    owners step62.b     eila  R   17:33:14      1 sh02-14n12\n",
      "      54311036_156    owners step62.b     eila  R   17:33:14      1 sh02-13n03\n",
      "      54311036_157    owners step62.b     eila  R   17:33:14      1 sh02-13n03\n",
      "      54311036_160    owners step62.b     eila  R   17:33:14      1 sh02-13n02\n",
      "      54311036_161    owners step62.b     eila  R   17:33:14      1 sh02-13n02\n",
      "      54311036_165    owners step62.b     eila  R   17:33:14      1 sh02-12n17\n",
      "      54311036_169    owners step62.b     eila  R   17:33:14      1 sh02-12n16\n",
      "      54311036_173    owners step62.b     eila  R   17:33:14      1 sh02-12n15\n",
      "      54311036_174    owners step62.b     eila  R   17:33:14      1 sh02-12n14\n",
      "      54311036_176    owners step62.b     eila  R   17:33:14      1 sh02-12n14\n",
      "      54311036_182    owners step62.b     eila  R   17:33:14      1 sh02-16n03\n",
      "      54311036_185    owners step62.b     eila  R   17:33:14      1 sh02-15n03\n",
      "       54311036_31    owners step62.b     eila  R   17:33:16      1 sh02-16n02\n",
      "       54311036_33    owners step62.b     eila  R   17:33:16      1 sh02-15n11\n",
      "       54311036_44    owners step62.b     eila  R   17:33:16      1 sh02-15n01\n",
      "       54311036_55    owners step62.b     eila  R   17:33:16      1 sh02-13n08\n",
      "       54311036_56    owners step62.b     eila  R   17:33:16      1 sh02-13n08\n",
      "      54311036_368    owners step62.b     eila  R    3:34:18      1 sh02-15n10\n",
      "      54311036_369    owners step62.b     eila  R    3:34:18      1 sh02-14n14\n",
      "      54311036_370    owners step62.b     eila  R    3:34:18      1 sh02-13n10\n",
      "      54311036_366    owners step62.b     eila  R    3:42:40      1 sh03-17n09\n",
      "      54311036_367    owners step62.b     eila  R    3:42:40      1 sh02-12n14\n",
      "      54311036_349    owners step62.b     eila  R    3:51:12      1 sh02-15n05\n",
      "      54311036_350    owners step62.b     eila  R    3:51:12      1 sh02-15n01\n",
      "      54311036_351    owners step62.b     eila  R    3:51:12      1 sh02-14n05\n",
      "      54311036_352    owners step62.b     eila  R    3:51:12      1 sh03-18n14\n",
      "      54311036_353    owners step62.b     eila  R    3:51:12      1 sh03-18n14\n",
      "      54311036_354    owners step62.b     eila  R    3:51:12      1 sh03-18n14\n",
      "      54311036_355    owners step62.b     eila  R    3:51:12      1 sh03-17n11\n",
      "      54311036_356    owners step62.b     eila  R    3:51:12      1 sh03-17n11\n",
      "      54311036_357    owners step62.b     eila  R    3:51:12      1 sh03-17n11\n",
      "      54311036_358    owners step62.b     eila  R    3:51:12      1 sh03-17n10\n",
      "      54311036_359    owners step62.b     eila  R    3:51:12      1 sh03-16n03\n",
      "      54311036_360    owners step62.b     eila  R    3:51:12      1 sh03-16n03\n",
      "      54311036_361    owners step62.b     eila  R    3:51:12      1 sh03-15n02\n",
      "      54311036_362    owners step62.b     eila  R    3:51:12      1 sh02-13n11\n",
      "      54311036_363    owners step62.b     eila  R    3:51:12      1 sh02-13n10\n",
      "      54311036_364    owners step62.b     eila  R    3:51:12      1 sh03-16n06\n",
      "      54311036_365    owners step62.b     eila  R    3:51:12      1 sh02-12n13\n",
      "      54311036_337    owners step62.b     eila  R    4:32:41      1 sh02-14n08\n",
      "      54311036_338    owners step62.b     eila  R    4:32:41      1 sh02-13n08\n",
      "      54311036_339    owners step62.b     eila  R    4:32:41      1 sh02-14n09\n",
      "      54311036_340    owners step62.b     eila  R    4:32:41      1 sh02-13n11\n",
      "      54311036_341    owners step62.b     eila  R    4:32:41      1 sh03-16n06\n",
      "      54311036_342    owners step62.b     eila  R    4:32:41      1 sh02-16n03\n",
      "      54311036_322    owners step62.b     eila  R    5:12:20      1 sh02-15n11\n",
      "      54311036_323    owners step62.b     eila  R    5:12:20      1 sh02-15n02\n",
      "      54311036_324    owners step62.b     eila  R    5:12:20      1 sh02-15n01\n",
      "      54311036_325    owners step62.b     eila  R    5:12:20      1 sh03-15n05\n",
      "      54311036_326    owners step62.b     eila  R    5:12:20      1 sh03-15n04\n",
      "      54311036_327    owners step62.b     eila  R    5:12:20      1 sh03-15n01\n",
      "      54311036_328    owners step62.b     eila  R    5:12:20      1 sh03-14n02\n",
      "      54311036_329    owners step62.b     eila  R    5:12:20      1 sh03-14n01\n",
      "      54311036_333    owners step62.b     eila  R    5:12:20      1 sh02-13n04\n",
      "      54311036_334    owners step62.b     eila  R    5:12:20      1 sh02-12n17\n",
      "      54311036_335    owners step62.b     eila  R    5:12:20      1 sh02-12n15\n",
      "      54311036_314    owners step62.b     eila  R    6:19:28      1 sh03-15n15\n",
      "      54311036_315    owners step62.b     eila  R    6:19:28      1 sh03-15n03\n",
      "      54311036_316    owners step62.b     eila  R    6:19:28      1 sh03-15n02\n",
      "      54311036_317    owners step62.b     eila  R    6:19:28      1 sh02-13n05\n",
      "      54311036_318    owners step62.b     eila  R    6:19:28      1 sh02-13n05\n",
      "      54311036_310    owners step62.b     eila  R    7:44:25      1 sh02-15n07\n",
      "      54311036_311    owners step62.b     eila  R    7:44:25      1 sh03-15n04\n",
      "      54311036_302    owners step62.b     eila  R    7:58:26      1 sh02-14n06\n",
      "      54311036_303    owners step62.b     eila  R    7:58:26      1 sh02-14n06\n",
      "      54311036_304    owners step62.b     eila  R    7:58:26      1 sh02-14n06\n",
      "      54311036_305    owners step62.b     eila  R    7:58:26      1 sh03-13n14\n",
      "      54311036_306    owners step62.b     eila  R    7:58:26      1 sh03-13n14\n",
      "      54311036_293    owners step62.b     eila  R    9:06:17      1 sh03-13n15\n",
      "      54311036_294    owners step62.b     eila  R    9:06:17      1 sh03-13n15\n"
     ]
    }
   ],
   "source": [
    "!squeue --user=$USER\n",
    "# | tail"
   ]
  },
  {
   "cell_type": "code",
   "execution_count": 7,
   "id": "08016a6e-3f6b-44c0-ba36-faf5a13662f7",
   "metadata": {},
   "outputs": [],
   "source": [
    "# !scancel 54297785\n",
    "# !scancel 54291987"
   ]
  },
  {
   "cell_type": "code",
   "execution_count": 8,
   "id": "4a80fc2f-91ed-4716-b31e-2ddca8cdd593",
   "metadata": {},
   "outputs": [
    {
     "name": "stdout",
     "output_type": "stream",
     "text": [
      "162\n"
     ]
    }
   ],
   "source": [
    "!ls /scratch/groups/akundaje/eila/encode_pseudobulks/encode_pseudobulks_model_training/human/*/*/fold_0/step62.bpnetPipeline/evaluation/overall_report.html | wc -l \n",
    "#117\n"
   ]
  },
  {
   "cell_type": "code",
   "execution_count": 32,
   "id": "41914edf-9726-441c-a5ae-55a74191c767",
   "metadata": {},
   "outputs": [],
   "source": [
    "# !scancel 54084823"
   ]
  },
  {
   "cell_type": "code",
   "execution_count": 51,
   "id": "66ce8732-61d7-458c-a6fa-de4c26c5b678",
   "metadata": {},
   "outputs": [],
   "source": [
    "# !squeue -u $USER -o \"%i %j\" | grep step5Neg\n"
   ]
  },
  {
   "cell_type": "code",
   "execution_count": 44,
   "id": "224f0409-6634-4be7-bba2-1303834e7842",
   "metadata": {},
   "outputs": [],
   "source": [
    " # scp -r eila@login.sherlock.stanford.edu:/scratch/users/eila/encode_pseudobulks_model_training/human/ENCSR037JDN/ENCFF933KCP/fold_1_30000_20240912_182023/evaluation . \n",
    "\n",
    "# !rm ./local_logs/slurm_samools_err.combined.err\n",
    "# !rm ./local_logs/slurm_samools_out.combined.out"
   ]
  }
 ],
 "metadata": {
  "kernelspec": {
   "display_name": "Python 3 (ipykernel)",
   "language": "python",
   "name": "python3"
  },
  "language_info": {
   "codemirror_mode": {
    "name": "ipython",
    "version": 3
   },
   "file_extension": ".py",
   "mimetype": "text/x-python",
   "name": "python",
   "nbconvert_exporter": "python",
   "pygments_lexer": "ipython3",
   "version": "3.12.4"
  }
 },
 "nbformat": 4,
 "nbformat_minor": 5
}
