{
 "cells": [
  {
   "cell_type": "code",
   "execution_count": 1,
   "id": "99d37c98-61d7-42a1-964a-247b0d94362c",
   "metadata": {},
   "outputs": [
    {
     "name": "stdout",
     "output_type": "stream",
     "text": [
      "1354\n"
     ]
    }
   ],
   "source": [
    "!ls -lt $GROUP_SCRATCH/eila/encode_pseudobulks/encode_pseudobulks_negative/*/*/*/fold_0/*nonpeaks_negatives.bed | wc -l\n",
    "#1354\n"
   ]
  },
  {
   "cell_type": "code",
   "execution_count": 2,
   "id": "306d802e-7e41-4125-8297-a09095b23f81",
   "metadata": {},
   "outputs": [],
   "source": [
    "# !ls -lt $GROUP_SCRATCH/eila/encode_pseudobulks/encode_pseudobulks_negative/*/*/*/fold_0/*nonpeaks_negatives.bed | head"
   ]
  },
  {
   "cell_type": "code",
   "execution_count": 3,
   "id": "a7043188-2e35-4fcc-b4e3-c76a25cc8ce0",
   "metadata": {},
   "outputs": [
    {
     "name": "stdout",
     "output_type": "stream",
     "text": [
      "1354\n"
     ]
    }
   ],
   "source": [
    "!ls -lt $GROUP_SCRATCH/eila/encode_pseudobulks/encode_pseudobulks_negative/*/*/*/fold_1/*nonpeaks_negatives.bed | wc -l\n",
    "#1354\n"
   ]
  },
  {
   "cell_type": "code",
   "execution_count": 4,
   "id": "ce206665-cbca-4cae-8a1e-b98514ffc177",
   "metadata": {},
   "outputs": [
    {
     "name": "stdout",
     "output_type": "stream",
     "text": [
      "1354\n"
     ]
    }
   ],
   "source": [
    "!ls -lt $GROUP_SCRATCH/eila/encode_pseudobulks/encode_pseudobulks_negative/*/*/*/fold_2/*nonpeaks_negatives.bed | wc -l\n",
    "#1354\n"
   ]
  },
  {
   "cell_type": "code",
   "execution_count": 5,
   "id": "3d067478-368f-4c45-ba89-9a9400a4cbfb",
   "metadata": {},
   "outputs": [
    {
     "name": "stdout",
     "output_type": "stream",
     "text": [
      "1354\n"
     ]
    }
   ],
   "source": [
    "!ls -lt $GROUP_SCRATCH/eila/encode_pseudobulks/encode_pseudobulks_negative/*/*/*/fold_3/*nonpeaks_negatives.bed | wc -l\n",
    "#1354\n"
   ]
  },
  {
   "cell_type": "code",
   "execution_count": 6,
   "id": "0587dc0d-9a4d-4a0f-9b43-3d72e7472bbd",
   "metadata": {},
   "outputs": [
    {
     "name": "stdout",
     "output_type": "stream",
     "text": [
      "1354\n"
     ]
    }
   ],
   "source": [
    "!ls -lt $GROUP_SCRATCH/eila/encode_pseudobulks/encode_pseudobulks_negative/*/*/*/fold_4/*nonpeaks_negatives.bed | wc -l\n",
    "#1354\n"
   ]
  },
  {
   "cell_type": "code",
   "execution_count": 7,
   "id": "dd88bc54-52f3-40be-ba56-0c2efc55c42a",
   "metadata": {},
   "outputs": [
    {
     "name": "stdout",
     "output_type": "stream",
     "text": [
      "119\n"
     ]
    }
   ],
   "source": [
    "!squeue --user=$USER | wc -l\n",
    "\n",
    "# 119\n"
   ]
  },
  {
   "cell_type": "code",
   "execution_count": 2,
   "id": "0381a889-b737-4eb1-8cb4-9d62ac5d5d73",
   "metadata": {},
   "outputs": [],
   "source": [
    "# !wc -l ./steps_inputs/step6/chrombpnet_pipeline_extracted_paths.txt\n"
   ]
  },
  {
   "cell_type": "code",
   "execution_count": 3,
   "id": "58898ea8-bd27-42ea-b3b3-bbdc71abb9ae",
   "metadata": {},
   "outputs": [
    {
     "name": "stdout",
     "output_type": "stream",
     "text": [
      "             JOBID PARTITION     NAME     USER ST       TIME  NODES NODELIST(REASON)\n",
      "       54625583_28  akundaje step62.b     eila  R 1-02:34:57      1 sh02-12n10\n",
      "       54625583_24  akundaje step62.b     eila  R 1-02:36:28      1 sh02-12n08\n",
      "       54625583_25  akundaje step62.b     eila  R 1-02:36:28      1 sh02-12n08\n",
      "       54625583_15  akundaje step62.b     eila  R 1-02:36:55      1 sh02-12n08\n",
      "     54625584_1110  akundaje step62.b     eila  R    1:23:24      1 sh02-12n09\n",
      "      54625583_142  akundaje step62.b     eila  R   16:44:56      1 sh02-12n07\n",
      "     54625584_1109  akundaje step62.b     eila  R    2:13:19      1 sh03-16n09\n",
      "     54625585_2070  akundaje step62.b     eila  R    8:41:06      1 sh02-12n11\n",
      "     54625585_2065  akundaje step62.b     eila  R   10:21:29      1 sh02-12n07\n",
      "     54625585_2059  akundaje step62.b     eila  R   13:05:23      1 sh02-12n11\n",
      "      54625583_172  akundaje step62.b     eila  R    7:06:50      1 sh03-16n09\n",
      "     54625585_2047  akundaje step62.b     eila  R   15:37:44      1 sh02-12n07\n",
      "     54625585_2080  akundaje step62.b     eila  R    6:17:44      1 sh02-12n06\n",
      "     54625585_2078  akundaje step62.b     eila  R    6:56:49      1 sh03-16n09\n",
      "      54625583_175  akundaje step62.b     eila  R    6:29:44      1 sh03-16n09\n",
      "     54625585_2064  akundaje step62.b     eila  R   10:24:33      1 sh02-12n09\n",
      "     54625584_1100  akundaje step62.b     eila  R    3:49:33      1 sh02-12n10\n",
      "     54625585_2079  akundaje step62.b     eila  R    6:18:44      1 sh02-12n06\n",
      "     54625585_2084  akundaje step62.b     eila  R    5:40:30      1 sh03-16n09\n",
      "     54625585_2098  akundaje step62.b     eila  R    3:02:29      1 sh03-16n09\n",
      "     54625585_2063  akundaje step62.b     eila  R   10:31:36      1 sh02-12n11\n",
      "     54625585_2045  akundaje step62.b     eila  R   15:45:46      1 sh02-12n07\n",
      "     54625585_2082  akundaje step62.b     eila  R    5:43:32      1 sh02-12n09\n",
      "     54625585_2083  akundaje step62.b     eila  R    5:43:32      1 sh03-16n09\n",
      "     54625584_1112  akundaje step62.b     eila  R      47:10      1 sh02-12n10\n",
      "     54625584_1122  akundaje step62.b     eila  R       3:05      1 sh02-12n09\n",
      "     54625585_2105  akundaje step62.b     eila  R      35:07      1 sh02-12n06\n",
      "     54625585_2072  akundaje step62.b     eila  R    8:17:00      1 sh02-12n11\n",
      "      54625583_180  akundaje step62.b     eila  R    4:56:46      1 sh02-12n10\n",
      "      54625583_208  akundaje step62.b     eila  R    3:30:31      1 sh03-16n09\n",
      "     54625585_2043    owners step62.b     eila  R   17:54:24      1 sh02-14n15\n",
      "      54625583_143    owners step62.b     eila  R   16:40:51      1 sh02-15n13\n",
      "     54625585_2100    owners step62.b     eila  R    2:36:21      1 sh03-15n03\n",
      "     54625584_1059    owners step62.b     eila  R   15:58:44      1 sh03-13n15\n",
      "      54625583_159    owners step62.b     eila  R    9:51:07      1 sh02-16n02\n",
      "     54625584_1069    owners step62.b     eila  R   13:45:27      1 sh02-14n15\n",
      "     54625585_2085    owners step62.b     eila  R    5:32:16      1 sh03-13n12\n",
      "      54625583_188    owners step62.b     eila  R    4:10:55      1 sh02-15n13\n",
      "      54625583_189    owners step62.b     eila  R    4:10:55      1 sh02-14n05\n",
      "      54625583_190    owners step62.b     eila  R    4:10:55      1 sh03-15n02\n",
      "     54625585_2103    owners step62.b     eila  R      55:38      1 sh03-15n13\n",
      "     54625585_2093    owners step62.b     eila  R    3:30:38      1 sh03-11n10\n",
      "     54625585_2099    owners step62.b     eila  R    2:49:49      1 sh02-13n04\n",
      "     54625585_2073    owners step62.b     eila  R    7:59:24      1 sh02-13n15\n",
      "     54625585_2074    owners step62.b     eila  R    7:59:24      1 sh03-15n03\n",
      "     54625585_2075    owners step62.b     eila  R    7:59:24      1 sh03-15n02\n",
      "     54625585_2077    owners step62.b     eila  R    7:59:24      1 sh03-14n01\n",
      "     54625585_2067    owners step62.b     eila  R   10:18:52      1 sh03-17n11\n",
      "     54625584_1080    owners step62.b     eila  R    8:40:19      1 sh03-11n11\n",
      "      54625583_173    owners step62.b     eila  R    7:03:57      1 sh02-12n12\n",
      "      54625583_174    owners step62.b     eila  R    7:03:57      1 sh02-15n05\n",
      "     54625584_1075    owners step62.b     eila  R   10:59:39      1 sh03-14n02\n",
      "     54625584_1117    owners step62.b     eila  R      12:26      1 sh02-15n06\n",
      "     54625584_1118    owners step62.b     eila  R      12:26      1 sh02-15n06\n",
      "     54625584_1119    owners step62.b     eila  R      12:26      1 sh03-15n12\n",
      "     54625584_1082    owners step62.b     eila  R    6:51:51      1 sh02-15n02\n",
      "     54625584_1085    owners step62.b     eila  R    5:05:34      1 sh02-15n02\n",
      "     54625584_1088    owners step62.b     eila  R    5:05:34      1 sh02-13n11\n",
      "     54625584_1089    owners step62.b     eila  R    5:05:34      1 sh02-12n17\n",
      "     54625584_1090    owners step62.b     eila  R    5:05:34      1 sh02-12n13\n",
      "     54625585_2088    owners step62.b     eila  R    4:37:51      1 sh02-16n02\n",
      "     54625584_1083    owners step62.b     eila  R    6:11:56      1 sh03-16n04\n",
      "      54625583_203    owners step62.b     eila  R    3:30:38      1 sh02-13n10\n",
      "     54625585_2069    owners step62.b     eila  R    9:20:38      1 sh03-15n05\n",
      "     54625585_2068    owners step62.b     eila  R    9:51:07      1 sh03-11n02\n",
      "     54625584_1092    owners step62.b     eila  R    4:37:51      1 sh02-14n05\n",
      "     54625584_1093    owners step62.b     eila  R    4:37:51      1 sh03-17n10\n",
      "     54625584_1094    owners step62.b     eila  R    4:37:51      1 sh03-17n10\n",
      "     54625584_1095    owners step62.b     eila  R    4:37:51      1 sh02-14n14\n",
      "      54625583_162    owners step62.b     eila  R    9:36:41      1 sh03-11n14\n",
      "      54625583_164    owners step62.b     eila  R    9:36:41      1 sh03-13n10\n",
      "      54625583_165    owners step62.b     eila  R    9:36:41      1 sh02-12n16\n",
      "     54625584_1097    owners step62.b     eila  R    3:57:23      1 sh03-11n05\n",
      "     54625584_1098    owners step62.b     eila  R    3:57:23      1 sh02-13n02\n",
      "     54625584_1099    owners step62.b     eila  R    3:57:23      1 sh02-12n15\n",
      "     54625584_1103    owners step62.b     eila  R    3:16:39      1 sh02-13n08\n",
      "     54625584_1104    owners step62.b     eila  R    3:16:39      1 sh03-11n02\n",
      "     54625584_1105    owners step62.b     eila  R    3:16:39      1 sh03-16n02\n",
      "     54625584_1107    owners step62.b     eila  R    3:16:39      1 sh03-16n02\n",
      "      54625583_183    owners step62.b     eila  R    4:51:59      1 sh03-11n11\n",
      "     54625584_1070    owners step62.b     eila  R   12:32:10      1 sh03-15n15\n",
      "     54625585_2087    owners step62.b     eila  R    5:26:43      1 sh02-16n02\n",
      "      54625583_169    owners step62.b     eila  R    8:26:46      1 sh03-14n01\n",
      "      54625583_170    owners step62.b     eila  R    8:26:46      1 sh02-14n09\n",
      "      54625583_177    owners step62.b     eila  R    6:11:56      1 sh03-14n02\n",
      "     54625584_1084    owners step62.b     eila  R    5:32:16      1 sh03-13n11\n",
      "     54625585_2090    owners step62.b     eila  R    4:10:54      1 sh02-14n09\n",
      "     54625584_1102    owners step62.b     eila  R    3:30:38      1 sh02-13n04\n",
      "      54625583_179    owners step62.b     eila  R    5:32:16      1 sh03-13n05\n",
      "      54625583_187    owners step62.b     eila  R    4:23:49      1 sh03-13n14\n",
      "     54625584_1113    owners step62.b     eila  R      40:20      1 sh03-13n08\n",
      "     54625584_1114    owners step62.b     eila  R      40:20      1 sh03-13n04\n",
      "     54625584_1115    owners step62.b     eila  R      40:20      1 sh03-16n06\n",
      "      54625583_222    owners step62.b     eila  R      12:26      1 sh03-13n15\n",
      "      54625583_223    owners step62.b     eila  R      12:26      1 sh03-13n10\n",
      "      54625583_224    owners step62.b     eila  R      12:26      1 sh03-16n07\n",
      "      54625583_225    owners step62.b     eila  R      12:26      1 sh02-13n02\n",
      "      54625583_228    owners step62.b     eila  R      12:26      1 sh03-15n16\n",
      "      54625583_220    owners step62.b     eila  R      40:20      1 sh03-16n06\n",
      "      54625583_218    owners step62.b     eila  R      49:39      1 sh03-13n05\n",
      "      54625583_219    owners step62.b     eila  R      49:39      1 sh03-13n03\n",
      "      54625583_213    owners step62.b     eila  R      55:38      1 sh03-15n12\n",
      "      54625583_215    owners step62.b     eila  R      55:38      1 sh03-13n14\n",
      "      54625583_209    owners step62.b     eila  R    3:16:39      1 sh02-16n03\n",
      "      54625583_210    owners step62.b     eila  R    3:16:39      1 sh03-14n15\n",
      "      54625583_205    owners step62.b     eila  R    3:30:38      1 sh02-13n05\n",
      "      54625583_207    owners step62.b     eila  R    3:30:38      1 sh03-14n15\n",
      "      54625583_192    owners step62.b     eila  R    4:10:54      1 sh02-13n10\n",
      "      54625583_193    owners step62.b     eila  R    4:10:54      1 sh03-16n05\n",
      "      54625583_194    owners step62.b     eila  R    4:10:54      1 sh03-16n05\n",
      "      54625583_195    owners step62.b     eila  R    4:10:54      1 sh03-16n05\n",
      "      54625583_198    owners step62.b     eila  R    4:10:54      1 sh02-12n17\n",
      "      54625583_199    owners step62.b     eila  R    4:10:54      1 sh02-12n17\n",
      "      54625583_200    owners step62.b     eila  R    4:10:54      1 sh02-12n15\n",
      "      54625583_134    owners step62.b     eila  R   22:48:51      1 sh02-13n08\n",
      "54625583_[229-1000 owners,ak step62.b     eila PD       0:00      1 (Priority)\n",
      "54625585_[2107-300 owners,ak step62.b     eila PD       0:00      1 (Priority)\n",
      "54625584_[1120,112 owners,ak step62.b     eila PD       0:00      1 (Priority)\n"
     ]
    }
   ],
   "source": [
    "!squeue --user=$USER"
   ]
  },
  {
   "cell_type": "code",
   "execution_count": 4,
   "id": "08016a6e-3f6b-44c0-ba36-faf5a13662f7",
   "metadata": {},
   "outputs": [],
   "source": [
    "# !scancel 54624920\n",
    "# !scancel 54624921\n",
    "# !ls ./steps_inputs/step6/"
   ]
  },
  {
   "cell_type": "code",
   "execution_count": 6,
   "id": "4a80fc2f-91ed-4716-b31e-2ddca8cdd593",
   "metadata": {},
   "outputs": [
    {
     "name": "stdout",
     "output_type": "stream",
     "text": [
      "706\n"
     ]
    }
   ],
   "source": [
    "!ls /scratch/groups/akundaje/eila/encode_pseudobulks/encode_pseudobulks_model_training/human/*/*/fold_0/step62.bpnetPipeline/evaluation/overall_report.html | wc -l \n",
    "#706\n"
   ]
  },
  {
   "cell_type": "code",
   "execution_count": 8,
   "id": "41914edf-9726-441c-a5ae-55a74191c767",
   "metadata": {},
   "outputs": [],
   "source": [
    "# !scancel 54084823"
   ]
  },
  {
   "cell_type": "code",
   "execution_count": 9,
   "id": "66ce8732-61d7-458c-a6fa-de4c26c5b678",
   "metadata": {},
   "outputs": [],
   "source": [
    "# !squeue -u $USER -o \"%i %j\" | grep step5Neg\n"
   ]
  },
  {
   "cell_type": "code",
   "execution_count": 44,
   "id": "224f0409-6634-4be7-bba2-1303834e7842",
   "metadata": {},
   "outputs": [],
   "source": [
    " # scp -r eila@login.sherlock.stanford.edu:/scratch/users/eila/encode_pseudobulks_model_training/human/ENCSR037JDN/ENCFF933KCP/fold_1_30000_20240912_182023/evaluation . \n",
    "\n",
    "# !rm ./local_logs/slurm_samools_err.combined.err\n",
    "# !rm ./local_logs/slurm_samools_out.combined.out"
   ]
  }
 ],
 "metadata": {
  "kernelspec": {
   "display_name": "Python 3 (ipykernel)",
   "language": "python",
   "name": "python3"
  },
  "language_info": {
   "codemirror_mode": {
    "name": "ipython",
    "version": 3
   },
   "file_extension": ".py",
   "mimetype": "text/x-python",
   "name": "python",
   "nbconvert_exporter": "python",
   "pygments_lexer": "ipython3",
   "version": "3.12.4"
  }
 },
 "nbformat": 4,
 "nbformat_minor": 5
}
