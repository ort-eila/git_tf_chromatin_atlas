{
 "cells": [
  {
   "cell_type": "code",
   "execution_count": 1,
   "id": "99d37c98-61d7-42a1-964a-247b0d94362c",
   "metadata": {},
   "outputs": [
    {
     "name": "stdout",
     "output_type": "stream",
     "text": [
      "1354\n"
     ]
    }
   ],
   "source": [
    "!ls -lt $GROUP_SCRATCH/eila/encode_pseudobulks/encode_pseudobulks_negative/*/*/*/fold_0/*nonpeaks_negatives.bed | wc -l\n",
    "#1354\n"
   ]
  },
  {
   "cell_type": "code",
   "execution_count": 2,
   "id": "306d802e-7e41-4125-8297-a09095b23f81",
   "metadata": {},
   "outputs": [],
   "source": [
    "# !ls -lt $GROUP_SCRATCH/eila/encode_pseudobulks/encode_pseudobulks_negative/*/*/*/fold_0/*nonpeaks_negatives.bed | head"
   ]
  },
  {
   "cell_type": "code",
   "execution_count": 3,
   "id": "a7043188-2e35-4fcc-b4e3-c76a25cc8ce0",
   "metadata": {},
   "outputs": [
    {
     "name": "stdout",
     "output_type": "stream",
     "text": [
      "1354\n"
     ]
    }
   ],
   "source": [
    "!ls -lt $GROUP_SCRATCH/eila/encode_pseudobulks/encode_pseudobulks_negative/*/*/*/fold_1/*nonpeaks_negatives.bed | wc -l\n",
    "#1354\n"
   ]
  },
  {
   "cell_type": "code",
   "execution_count": 4,
   "id": "ce206665-cbca-4cae-8a1e-b98514ffc177",
   "metadata": {},
   "outputs": [
    {
     "name": "stdout",
     "output_type": "stream",
     "text": [
      "1354\n"
     ]
    }
   ],
   "source": [
    "!ls -lt $GROUP_SCRATCH/eila/encode_pseudobulks/encode_pseudobulks_negative/*/*/*/fold_2/*nonpeaks_negatives.bed | wc -l\n",
    "#1354\n"
   ]
  },
  {
   "cell_type": "code",
   "execution_count": 5,
   "id": "3d067478-368f-4c45-ba89-9a9400a4cbfb",
   "metadata": {},
   "outputs": [
    {
     "name": "stdout",
     "output_type": "stream",
     "text": [
      "1354\n"
     ]
    }
   ],
   "source": [
    "!ls -lt $GROUP_SCRATCH/eila/encode_pseudobulks/encode_pseudobulks_negative/*/*/*/fold_3/*nonpeaks_negatives.bed | wc -l\n",
    "#1354\n"
   ]
  },
  {
   "cell_type": "code",
   "execution_count": 6,
   "id": "0587dc0d-9a4d-4a0f-9b43-3d72e7472bbd",
   "metadata": {},
   "outputs": [
    {
     "name": "stdout",
     "output_type": "stream",
     "text": [
      "1354\n"
     ]
    }
   ],
   "source": [
    "!ls -lt $GROUP_SCRATCH/eila/encode_pseudobulks/encode_pseudobulks_negative/*/*/*/fold_4/*nonpeaks_negatives.bed | wc -l\n",
    "#1354\n"
   ]
  },
  {
   "cell_type": "code",
   "execution_count": 5,
   "id": "dd88bc54-52f3-40be-ba56-0c2efc55c42a",
   "metadata": {},
   "outputs": [
    {
     "name": "stdout",
     "output_type": "stream",
     "text": [
      "3\n"
     ]
    }
   ],
   "source": [
    "!squeue --user=$USER | wc -l\n",
    "\n",
    "# 8\n"
   ]
  },
  {
   "cell_type": "code",
   "execution_count": 86,
   "id": "e8eda8f0-742d-48ad-8816-bef15dfa9e62",
   "metadata": {},
   "outputs": [
    {
     "name": "stdout",
     "output_type": "stream",
     "text": [
      "             JOBID PARTITION     NAME     USER ST       TIME  NODES NODELIST(REASON)\n",
      "56469636_[1-381%38 akundaje, step62.b     eila PD       0:00      1 (Priority)\n",
      "56469701_[1-973%97 akundaje, 633_moti     eila PD       0:00      1 (Priority)\n"
     ]
    }
   ],
   "source": [
    "!squeue --user=$USER"
   ]
  },
  {
   "cell_type": "code",
   "execution_count": 82,
   "id": "9b763055-e307-47a7-acee-054fbfbb3b98",
   "metadata": {},
   "outputs": [],
   "source": [
    "!scancel 56439941"
   ]
  },
  {
   "cell_type": "code",
   "execution_count": 3,
   "id": "43fa34e6-4929-475c-8efe-2b78c288ebcd",
   "metadata": {},
   "outputs": [],
   "source": [
    "# !rm ./local_logs/633*\n",
    "# !./execute_sbatch_arrays_on_sherlock.sh ./steps_inputs/step6_3/debug_one_modisco_results_profile_scores_h5.txt step6-3-3-qc-bias-tn5.sh 1 1 \n"
   ]
  },
  {
   "cell_type": "code",
   "execution_count": 4,
   "id": "aab920bd-90e1-44e2-9643-9d1165d93003",
   "metadata": {},
   "outputs": [],
   "source": [
    "!grep \"qval\" ./local_logs/slurm.step62.bpnetPipeline.combined.out"
   ]
  },
  {
   "cell_type": "code",
   "execution_count": 15,
   "id": "0381a889-b737-4eb1-8cb4-9d62ac5d5d73",
   "metadata": {},
   "outputs": [
    {
     "name": "stdout",
     "output_type": "stream",
     "text": [
      "Output directory and required folders already exist: /scratch/groups/akundaje/eila/encode_pseudobulks/encode_pseudobulks_model_training/human/ENCSR110NNR/ENCFF280HZH/fold_1/step62.bpnetPipeline. Exiting.\n",
      "Output directory and required folders already exist: /scratch/groups/akundaje/eila/encode_pseudobulks/encode_pseudobulks_model_training/human/ENCSR110JCS/ENCFF691JXI/fold_3/step62.bpnetPipeline. Exiting.\n",
      "Output directory and required folders already exist: /scratch/groups/akundaje/eila/encode_pseudobulks/encode_pseudobulks_model_training/human/ENCSR110NNR/ENCFF280HZH/fold_2/step62.bpnetPipeline. Exiting.\n",
      "Output directory and required folders already exist: /scratch/groups/akundaje/eila/encode_pseudobulks/encode_pseudobulks_model_training/human/ENCSR110NNR/ENCFF280HZH/fold_3/step62.bpnetPipeline. Exiting.\n",
      "Output directory and required folders already exist: /scratch/groups/akundaje/eila/encode_pseudobulks/encode_pseudobulks_model_training/human/ENCSR110NNR/ENCFF280HZH/fold_4/step62.bpnetPipeline. Exiting.\n"
     ]
    }
   ],
   "source": [
    "# !wc -l ./steps_inputs/step6/chrombpnet_pipeline_extracted_paths.txt\n",
    "!head -5 ./local_logs/slurm.step62.bpnetPipeline.combined.out"
   ]
  },
  {
   "cell_type": "code",
   "execution_count": 6,
   "id": "da74cf44-253c-4926-b1c8-b6197825d426",
   "metadata": {},
   "outputs": [
    {
     "name": "stdout",
     "output_type": "stream",
     "text": [
      "Output directory and required folders already exist: /scratch/groups/akundaje/eila/encode_pseudobulks/encode_pseudobulks_model_training/human/ENCSR607ITW/ENCFF502THJ/fold_4/step62.bpnetPipeline. Exiting.\n"
     ]
    }
   ],
   "source": [
    "!tail -5 ./local_logs/slurm.step62.bpnetPipeline.combined.out"
   ]
  },
  {
   "cell_type": "code",
   "execution_count": 7,
   "id": "f494c4fe-b853-44d5-9072-5f794d5e98fc",
   "metadata": {},
   "outputs": [],
   "source": [
    "!grep modisco ./local_logs/slurm.step62.bpnetPipeline.combined.err"
   ]
  },
  {
   "cell_type": "code",
   "execution_count": 8,
   "id": "0ef5c379-a6aa-4f3a-a1de-cd6fa9745aad",
   "metadata": {},
   "outputs": [],
   "source": [
    "!grep \"qval\" ./local_logs/slurm.step62.bpnetPipeline.combined.err"
   ]
  },
  {
   "cell_type": "code",
   "execution_count": 9,
   "id": "9d8ea066-f383-43b4-83d3-cd417ec62ec3",
   "metadata": {},
   "outputs": [
    {
     "name": "stdout",
     "output_type": "stream",
     "text": [
      "++ conda shell.bash hook\n",
      "+ eval 'export CONDA_EXE='\\''/home/users/eila/miniconda3/bin/conda'\\''\n",
      "export _CE_M='\\'''\\''\n",
      "export _CE_CONDA='\\'''\\''\n",
      "export CONDA_PYTHON_EXE='\\''/home/users/eila/miniconda3/bin/python'\\''\n"
     ]
    }
   ],
   "source": [
    "!head -5 ./local_logs/slurm.step62.bpnetPipeline.combined.err"
   ]
  },
  {
   "cell_type": "code",
   "execution_count": 10,
   "id": "965e34bb-8a80-4f99-a68e-daf750d8b14c",
   "metadata": {},
   "outputs": [
    {
     "name": "stdout",
     "output_type": "stream",
     "text": [
      "+ for folder in '\"${REQUIRED_FOLDERS[@]}\"'\n",
      "+ '[' '!' -d /scratch/groups/akundaje/eila/encode_pseudobulks/encode_pseudobulks_model_training/human/ENCSR607ITW/ENCFF502THJ/fold_4/step62.bpnetPipeline/models ']'\n",
      "+ true\n",
      "+ echo 'Output directory and required folders already exist: /scratch/groups/akundaje/eila/encode_pseudobulks/encode_pseudobulks_model_training/human/ENCSR607ITW/ENCFF502THJ/fold_4/step62.bpnetPipeline. Exiting.'\n",
      "+ exit 0\n"
     ]
    }
   ],
   "source": [
    "!tail -5 ./local_logs/slurm.step62.bpnetPipeline.combined.err"
   ]
  },
  {
   "cell_type": "code",
   "execution_count": 6,
   "id": "08016a6e-3f6b-44c0-ba36-faf5a13662f7",
   "metadata": {},
   "outputs": [],
   "source": [
    "# !scancel 56235764\n",
    "# !scancel $USER\n",
    "# !ls ./steps_inputs/step6/"
   ]
  },
  {
   "cell_type": "code",
   "execution_count": 30,
   "id": "4a80fc2f-91ed-4716-b31e-2ddca8cdd593",
   "metadata": {},
   "outputs": [
    {
     "name": "stdout",
     "output_type": "stream",
     "text": [
      "972\n"
     ]
    }
   ],
   "source": [
    "!ls /scratch/groups/akundaje/eila/encode_pseudobulks/encode_pseudobulks_model_training/*/*/*/fold_0/step62.bpnetPipeline/evaluation/overall_report.html | wc -l \n",
    "#972\n"
   ]
  },
  {
   "cell_type": "code",
   "execution_count": 31,
   "id": "e8560dc5-3a7e-46cb-a02f-3c0232be5603",
   "metadata": {},
   "outputs": [
    {
     "name": "stdout",
     "output_type": "stream",
     "text": [
      "709\n"
     ]
    }
   ],
   "source": [
    "\n",
    "# fold 1:\n",
    "!ls /scratch/groups/akundaje/eila/encode_pseudobulks/encode_pseudobulks_model_training/*/*/*/fold_1/step62.bpnetPipeline/evaluation/overall_report.html | wc -l \n",
    "# 709\n",
    "\n"
   ]
  },
  {
   "cell_type": "code",
   "execution_count": 32,
   "id": "2c5abbc8-9e42-4128-9de7-1076821a9fa7",
   "metadata": {},
   "outputs": [
    {
     "name": "stdout",
     "output_type": "stream",
     "text": [
      "474\n"
     ]
    }
   ],
   "source": [
    "\n",
    "# fold 2:\n",
    "!ls /scratch/groups/akundaje/eila/encode_pseudobulks/encode_pseudobulks_model_training/*/*/*/fold_2/step62.bpnetPipeline/evaluation/overall_report.html | wc -l \n",
    "# 474\n",
    "\n"
   ]
  },
  {
   "cell_type": "code",
   "execution_count": 33,
   "id": "759c2450-8f54-4938-abd9-3236346c5155",
   "metadata": {},
   "outputs": [
    {
     "name": "stdout",
     "output_type": "stream",
     "text": [
      "354\n"
     ]
    }
   ],
   "source": [
    "\n",
    "\n",
    "# fold 3:\n",
    "!ls /scratch/groups/akundaje/eila/encode_pseudobulks/encode_pseudobulks_model_training/*/*/*/fold_3/step62.bpnetPipeline/evaluation/overall_report.html | wc -l \n",
    "# 354\n",
    "\n"
   ]
  },
  {
   "cell_type": "code",
   "execution_count": 34,
   "id": "17ef58e3-feca-4141-81c9-8fd0464008b9",
   "metadata": {},
   "outputs": [
    {
     "name": "stdout",
     "output_type": "stream",
     "text": [
      "377\n"
     ]
    }
   ],
   "source": [
    "\n",
    "\n",
    "# fold 4:\n",
    "!ls /scratch/groups/akundaje/eila/encode_pseudobulks/encode_pseudobulks_model_training/*/*/*/fold_4/step62.bpnetPipeline/evaluation/overall_report.html | wc -l \n",
    "\n",
    "# 377\n"
   ]
  },
  {
   "cell_type": "code",
   "execution_count": 35,
   "id": "759bf51b-b5b9-4540-8bff-c372f36ed811",
   "metadata": {},
   "outputs": [
    {
     "name": "stdout",
     "output_type": "stream",
     "text": [
      "2886\n"
     ]
    }
   ],
   "source": [
    "\n",
    "\n",
    "# all folds:\n",
    "!ls /scratch/groups/akundaje/eila/encode_pseudobulks/encode_pseudobulks_model_training/*/*/*/*/step62.bpnetPipeline/evaluation/overall_report.html | wc -l \n",
    "# 2886\n",
    "\n"
   ]
  },
  {
   "cell_type": "code",
   "execution_count": 58,
   "id": "52247bf1-aad2-4aa5-986e-41c9bba018ce",
   "metadata": {},
   "outputs": [],
   "source": [
    "# 5416/2134"
   ]
  },
  {
   "cell_type": "code",
   "execution_count": 42,
   "id": "41914edf-9726-441c-a5ae-55a74191c767",
   "metadata": {},
   "outputs": [],
   "source": [
    "# !scancel -u $USER"
   ]
  },
  {
   "cell_type": "code",
   "execution_count": 9,
   "id": "66ce8732-61d7-458c-a6fa-de4c26c5b678",
   "metadata": {},
   "outputs": [],
   "source": [
    "# !squeue -u $USER -o \"%i %j\" | grep step5Neg\n"
   ]
  },
  {
   "cell_type": "code",
   "execution_count": 44,
   "id": "224f0409-6634-4be7-bba2-1303834e7842",
   "metadata": {},
   "outputs": [],
   "source": [
    " # scp -r eila@login.sherlock.stanford.edu:/scratch/users/eila/encode_pseudobulks_model_training/human/ENCSR037JDN/ENCFF933KCP/fold_1_30000_20240912_182023/evaluation . \n",
    "\n",
    "# !rm ./local_logs/slurm_samools_err.combined.err\n",
    "# !rm ./local_logs/slurm_samools_out.combined.out"
   ]
  },
  {
   "cell_type": "code",
   "execution_count": 1,
   "id": "3ed9ed22-1c14-4b08-9411-c37a4af0e3c9",
   "metadata": {},
   "outputs": [
    {
     "name": "stdout",
     "output_type": "stream",
     "text": [
      "execute_sbatch_arrays_on_sherlock-Copy1.sh\n",
      "execute_sbatch_arrays_on_sherlock-Copy2.sh\n",
      "execute_sbatch_arrays_on_sherlock.sh\n"
     ]
    }
   ],
   "source": [
    "!ls execute*"
   ]
  },
  {
   "cell_type": "code",
   "execution_count": 25,
   "id": "042dfbb6-7c20-486b-baff-fe35da1c318f",
   "metadata": {},
   "outputs": [],
   "source": [
    "%%bash\n",
    "find /scratch/groups/akundaje/eila/encode_pseudobulks/encode_pseudobulks_model_training/human/*/*/fold_0/step62.bpnetPipeline/evaluation/ -name \"overall_report.html\" \\\n",
    "    | while read dir; do\n",
    "        # Get the parent directory of \"evaluation\"\n",
    "        parent_dir=$(dirname \"$(dirname \"$dir\")\")\n",
    "        \n",
    "        # Check if modisco_results_profile_scores.h5 exists under auxiliary/interpret_subsample\n",
    "        if ! find \"$parent_dir/auxiliary/interpret_subsample\" -name \"modisco_results_profile_scores.h5\" > /dev/null; then\n",
    "            # Print the directory containing overall_report.html if modisco_results_profile_scores.h5 is not found\n",
    "            echo \"$parent_dir\"\n",
    "        fi\n",
    "    done\n",
    "\n",
    "\n",
    "\n"
   ]
  },
  {
   "cell_type": "code",
   "execution_count": 32,
   "id": "06be2332-3a54-4e9a-baba-9e61ec1a065b",
   "metadata": {},
   "outputs": [
    {
     "name": "stdout",
     "output_type": "stream",
     "text": [
      "Directories missing at least one of the files ('overall_report.html' or 'modisco_results_profile_scores.h5'):\n"
     ]
    }
   ],
   "source": [
    "import os\n",
    "import glob\n",
    "\n",
    "# Set the base directories for the two files\n",
    "evaluation_dir = '/scratch/groups/akundaje/eila/encode_pseudobulks/encode_pseudobulks_model_training/human/*/*/fold_0/step62.bpnetPipeline/evaluation'\n",
    "modisco_dir = '/scratch/groups/akundaje/eila/encode_pseudobulks/encode_pseudobulks_model_training/human/*/*/fold_0/step62.bpnetPipeline/auxiliary/interpret_subsample'\n",
    "\n",
    "# Find all directories with the relevant files\n",
    "overall_report_dirs = set(os.path.dirname(path) for path in glob.glob(f\"{evaluation_dir}/overall_report.html\"))\n",
    "modisco_dirs = set(os.path.dirname(path) for path in glob.glob(f\"{modisco_dir}/modisco_results_profile_scores.h5\"))\n",
    "\n",
    "# Get the base path up to fold_0/step62.bpnetPipeline/\n",
    "base_path = '/scratch/groups/akundaje/eila/encode_pseudobulks/encode_pseudobulks_model_training/human/*/*/fold_0/step62.bpnetPipeline'\n",
    "\n",
    "# Find directories missing at least one file\n",
    "missing_files_dirs = set()\n",
    "\n",
    "# Iterate over directories up to the base path level\n",
    "for dir in glob.glob(f\"{base_path}/*/*/\"):\n",
    "    # If the directory has overall_report.html but not modisco_results_profile_scores.h5\n",
    "    if dir in overall_report_dirs and dir not in modisco_dirs:\n",
    "        missing_files_dirs.add(dir)\n",
    "    # If the directory has modisco_results_profile_scores.h5 but not overall_report.html\n",
    "    elif dir in modisco_dirs and dir not in overall_report_dirs:\n",
    "        missing_files_dirs.add(dir)\n",
    "\n",
    "# Print out the result\n",
    "print(f\"Directories missing at least one of the files ('overall_report.html' or 'modisco_results_profile_scores.h5'):\")\n",
    "for dir in missing_files_dirs:\n",
    "    print(dir)\n"
   ]
  },
  {
   "cell_type": "code",
   "execution_count": 28,
   "id": "2ce1ea64-b4a7-4529-90cb-3503e3073f1c",
   "metadata": {},
   "outputs": [],
   "source": [
    "import os\n",
    "\n",
    "def find_folders_without_file(base_path, target_file):\n",
    "    # Walk through the directory structure\n",
    "    folders_without_file = []\n",
    "\n",
    "    for root, dirs, files in os.walk(base_path):\n",
    "        # Check if the current directory contains the target file\n",
    "        if target_file not in files:\n",
    "            folders_without_file.append(root)\n",
    "    \n",
    "    return folders_without_file\n",
    "\n",
    "# Define the base path and the target file\n",
    "base_path = '/scratch/groups/akundaje/eila/encode_pseudobulks/encode_pseudobulks_model_training/*/*/*/fold_0/'\n",
    "target_file = 'step62.bpnetPipeline/auxiliary/interpret_subsample/modisco_results_profile_scores.h5'\n",
    "\n",
    "# Call the function to find folders without the file\n",
    "folders = find_folders_without_file(base_path, target_file)\n",
    "\n",
    "# Print the results\n",
    "for folder in folders:\n",
    "    print(folder)\n"
   ]
  },
  {
   "cell_type": "code",
   "execution_count": 29,
   "id": "b5c0a1dc-6670-463d-a1bd-e9ed4b8c7b58",
   "metadata": {},
   "outputs": [],
   "source": [
    "# !ls /scratch/groups/akundaje/eila/encode_pseudobulks/encode_pseudobulks_model_training/human/ENCSR000NVR/ENCFF585MYS/fold_0/step62.bpnetPipeline/auxiliary/interpret_subsample/modisco_results_profile_scores.h5\n",
    "\n"
   ]
  },
  {
   "cell_type": "code",
   "execution_count": 50,
   "id": "2c96e71f-9437-4b85-a614-d16dc38df635",
   "metadata": {},
   "outputs": [
    {
     "name": "stdout",
     "output_type": "stream",
     "text": [
      "ENCSR000NVR_sorted.bam\tENCSR000NVR_sorted.bam.bai\n"
     ]
    }
   ],
   "source": [
    "!ls /scratch/groups/akundaje/eila/encode_pseudobulks/encode_pseudobulks_data/bams/ENCSR000NVR\n",
    "\n"
   ]
  },
  {
   "cell_type": "code",
   "execution_count": 59,
   "id": "41fd1199-70af-417a-b76a-88529f1ec3ee",
   "metadata": {},
   "outputs": [
    {
     "name": "stdout",
     "output_type": "stream",
     "text": [
      "/scratch/groups/akundaje/eila/encode_pseudobulks/encode_pseudobulks_model_training/human/ENCSR000NVR/ENCFF585MYS/fold_0/step62.bpnetPipeline/auxiliary/interpret_subsample/modisco_results_profile_scores.h5\n"
     ]
    }
   ],
   "source": [
    "!ls /scratch/groups/akundaje/eila/encode_pseudobulks/encode_pseudobulks_model_training/human/ENCSR000NVR/ENCFF585MYS/fold_0/step62.bpnetPipeline/auxiliary/interpret_subsample/modisco_results_profile_scores.h5\n",
    "\n",
    "\n"
   ]
  },
  {
   "cell_type": "code",
   "execution_count": null,
   "id": "eff59475-ddb8-4a8e-8390-dbfa53d458a0",
   "metadata": {},
   "outputs": [],
   "source": [
    "#  prep for step6-2-chrombpnet-pipelline.sh \n",
    "# step 1 : find BAM ID without model"
   ]
  },
  {
   "cell_type": "code",
   "execution_count": 76,
   "id": "c31781b5-86cd-48d6-bbc2-848ac31c83e1",
   "metadata": {},
   "outputs": [],
   "source": [
    "import glob\n",
    "import os\n",
    "import csv\n",
    "\n",
    "def find_bams_ids(base_bams_path):\n",
    "    \"\"\"List all BAM IDs from the bams directory.\"\"\"\n",
    "    return [d for d in os.listdir(base_bams_path) if os.path.isdir(os.path.join(base_bams_path, d))]\n",
    "\n",
    "def find_matching_files_with_glob(base_training_path, target_file_pattern, bam_id):\n",
    "    \"\"\"Find modisco_results_profile_scores.h5 using glob pattern matching.\"\"\"\n",
    "    # Correct the glob pattern\n",
    "    search_pattern = os.path.join(base_training_path, '*', bam_id, '*', 'fold_0', 'step62.bpnetPipeline', 'auxiliary', 'interpret_subsample', target_file_pattern)\n",
    "    \n",
    "    # Print the search pattern for debugging\n",
    "    print(f\"Search pattern for {bam_id}: {search_pattern}\")\n",
    "    \n",
    "    # Use glob to find the files matching the pattern\n",
    "    found_paths = glob.glob(search_pattern, recursive=True)\n",
    "    \n",
    "    return found_paths, search_pattern\n",
    "\n",
    "def compare_files(base_bams_path, base_training_path, target_file, output_file):\n",
    "    \"\"\"Compare BAM IDs and return those without a matching modisco_results_profile_scores.h5.\"\"\"\n",
    "    bams_ids = find_bams_ids(base_bams_path)\n",
    "\n",
    "    # Open CSV file for writing the results\n",
    "    with open(output_file, mode='w', newline='') as file:\n",
    "        writer = csv.writer(file)\n",
    "        \n",
    "        # Write header\n",
    "        writer.writerow([\"BAM ID\", \"Found Path\", \"Destination Path (Expected)\", \"Match Found?\"])\n",
    "        \n",
    "        for bam_id in bams_ids:\n",
    "            # Define the BAM source path\n",
    "            bam_path = os.path.join(base_bams_path, bam_id)\n",
    "            \n",
    "            # Find matching files for the target file using glob\n",
    "            matching_folders, expected_path = find_matching_files_with_glob(base_training_path, target_file, bam_id)\n",
    "            \n",
    "            if matching_folders:\n",
    "                # If matches found, write the actual folder path where the file was found\n",
    "                for folder in matching_folders:\n",
    "                    writer.writerow([bam_id, folder, expected_path, \"Yes\"])\n",
    "            else:\n",
    "                # If no match is found, write the expected search path template\n",
    "                writer.writerow([bam_id, \"\", expected_path, \"No\"])\n",
    "            \n",
    "    print(f\"Results have been written to {output_file}\")\n",
    "\n",
    "# Define the base paths and target file\n",
    "base_bams_path = '/scratch/groups/akundaje/eila/encode_pseudobulks/encode_pseudobulks_data/bams'\n",
    "base_training_path = '/scratch/groups/akundaje/eila/encode_pseudobulks/encode_pseudobulks_model_training'\n",
    "target_file = 'modisco_results_profile_scores.h5'\n",
    "output_file = 'missing_models_bams_output.csv'  # Update this to your desired output file location\n",
    "\n",
    "# Run the comparison and save the output to the file\n",
    "compare_files(base_bams_path, base_training_path, target_file, output_file)\n"
   ]
  },
  {
   "cell_type": "code",
   "execution_count": null,
   "id": "9c852753-b2ad-4f04-9382-203b812eb564",
   "metadata": {},
   "outputs": [],
   "source": [
    "# prepare input for the model creation step: step6-2-chrombpnet-pipelline.sh "
   ]
  },
  {
   "cell_type": "code",
   "execution_count": 78,
   "id": "5e53e356-756c-40d4-a2e0-9ce8d1cc2912",
   "metadata": {},
   "outputs": [
    {
     "name": "stdout",
     "output_type": "stream",
     "text": [
      "Missing entries have been written to ./steps_inputs/step6/missing_chrombpnet_pipeline_extracted_paths_fold_0.txt\n"
     ]
    }
   ],
   "source": [
    "import csv\n",
    "\n",
    "def load_previous_results(previous_results_file):\n",
    "    \"\"\"Load previous results to check which BAM IDs did not match.\"\"\"\n",
    "    missing_bam_ids = set()  # Set to store BAM IDs with no match\n",
    "    with open(previous_results_file, mode='r') as file:\n",
    "        reader = csv.reader(file)\n",
    "        next(reader)  # Skip header\n",
    "        for row in reader:\n",
    "            bam_id = row[0]  # BAM ID is the first column\n",
    "            match_found = row[3]  # 'Match Found?' is the fourth column\n",
    "            if match_found == \"No\":  # We care about rows where \"Match Found?\" is \"No\"\n",
    "                missing_bam_ids.add(bam_id)\n",
    "    return missing_bam_ids\n",
    "\n",
    "def find_missing_lines(input_file, missing_bam_ids, output_file):\n",
    "    \"\"\"Compare lines in the input file with missing BAM IDs and write relevant ones to the output file.\"\"\"\n",
    "    with open(input_file, mode='r') as infile, open(output_file, mode='w') as outfile:\n",
    "        reader = infile.readlines()\n",
    "        \n",
    "        for line in reader:\n",
    "            # Split the line by space to extract the columns\n",
    "            columns = line.strip().split()\n",
    "            bam_id = columns[1]  # BAM ID is in the second column\n",
    "            \n",
    "            # Check if the BAM ID is in the missing set\n",
    "            if bam_id in missing_bam_ids:\n",
    "                outfile.write(line)  # Write the relevant line to the output file\n",
    "\n",
    "    print(f\"Missing entries have been written to {output_file}\")\n",
    "\n",
    "# Define paths\n",
    "input_file = './steps_inputs/step6/chrombpnet_pipeline_extracted_paths_fold_0.txt'  # Input text file\n",
    "previous_results_file = 'missing_models_bams_output.csv'  # Previous results file (CSV)\n",
    "output_file = './steps_inputs/step6/missing_chrombpnet_pipeline_extracted_paths_fold_0.txt'  # Corrected Output file path\n",
    "\n",
    "# Load BAM IDs that didn't match from the previous script output\n",
    "missing_bam_ids = load_previous_results(previous_results_file)\n",
    "\n",
    "# Compare input file lines with missing BAM IDs and write missing entries to the output file\n",
    "find_missing_lines(input_file, missing_bam_ids, output_file)\n"
   ]
  },
  {
   "cell_type": "code",
   "execution_count": null,
   "id": "b605ca1b-aa4c-4bde-9cc8-ddd10efb4b57",
   "metadata": {},
   "outputs": [],
   "source": []
  }
 ],
 "metadata": {
  "kernelspec": {
   "display_name": "Python 3 (ipykernel)",
   "language": "python",
   "name": "python3"
  },
  "language_info": {
   "codemirror_mode": {
    "name": "ipython",
    "version": 3
   },
   "file_extension": ".py",
   "mimetype": "text/x-python",
   "name": "python",
   "nbconvert_exporter": "python",
   "pygments_lexer": "ipython3",
   "version": "3.12.4"
  }
 },
 "nbformat": 4,
 "nbformat_minor": 5
}
