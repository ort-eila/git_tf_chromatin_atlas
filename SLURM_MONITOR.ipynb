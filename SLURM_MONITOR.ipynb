{
 "cells": [
  {
   "cell_type": "code",
   "execution_count": 1,
   "id": "99d37c98-61d7-42a1-964a-247b0d94362c",
   "metadata": {},
   "outputs": [
    {
     "name": "stdout",
     "output_type": "stream",
     "text": [
      "1354\n"
     ]
    }
   ],
   "source": [
    "!ls -lt $GROUP_SCRATCH/eila/encode_pseudobulks/encode_pseudobulks_negative/*/*/*/fold_0/*nonpeaks_negatives.bed | wc -l\n",
    "#1354\n"
   ]
  },
  {
   "cell_type": "code",
   "execution_count": 2,
   "id": "306d802e-7e41-4125-8297-a09095b23f81",
   "metadata": {},
   "outputs": [],
   "source": [
    "# !ls -lt $GROUP_SCRATCH/eila/encode_pseudobulks/encode_pseudobulks_negative/*/*/*/fold_0/*nonpeaks_negatives.bed | head"
   ]
  },
  {
   "cell_type": "code",
   "execution_count": 3,
   "id": "a7043188-2e35-4fcc-b4e3-c76a25cc8ce0",
   "metadata": {},
   "outputs": [
    {
     "name": "stdout",
     "output_type": "stream",
     "text": [
      "1354\n"
     ]
    }
   ],
   "source": [
    "!ls -lt $GROUP_SCRATCH/eila/encode_pseudobulks/encode_pseudobulks_negative/*/*/*/fold_1/*nonpeaks_negatives.bed | wc -l\n",
    "#1354\n"
   ]
  },
  {
   "cell_type": "code",
   "execution_count": 4,
   "id": "ce206665-cbca-4cae-8a1e-b98514ffc177",
   "metadata": {},
   "outputs": [
    {
     "name": "stdout",
     "output_type": "stream",
     "text": [
      "1354\n"
     ]
    }
   ],
   "source": [
    "!ls -lt $GROUP_SCRATCH/eila/encode_pseudobulks/encode_pseudobulks_negative/*/*/*/fold_2/*nonpeaks_negatives.bed | wc -l\n",
    "#1354\n"
   ]
  },
  {
   "cell_type": "code",
   "execution_count": 5,
   "id": "3d067478-368f-4c45-ba89-9a9400a4cbfb",
   "metadata": {},
   "outputs": [
    {
     "name": "stdout",
     "output_type": "stream",
     "text": [
      "1354\n"
     ]
    }
   ],
   "source": [
    "!ls -lt $GROUP_SCRATCH/eila/encode_pseudobulks/encode_pseudobulks_negative/*/*/*/fold_3/*nonpeaks_negatives.bed | wc -l\n",
    "#1354\n"
   ]
  },
  {
   "cell_type": "code",
   "execution_count": 6,
   "id": "0587dc0d-9a4d-4a0f-9b43-3d72e7472bbd",
   "metadata": {},
   "outputs": [
    {
     "name": "stdout",
     "output_type": "stream",
     "text": [
      "1354\n"
     ]
    }
   ],
   "source": [
    "!ls -lt $GROUP_SCRATCH/eila/encode_pseudobulks/encode_pseudobulks_negative/*/*/*/fold_4/*nonpeaks_negatives.bed | wc -l\n",
    "#1354\n"
   ]
  },
  {
   "cell_type": "code",
   "execution_count": 3,
   "id": "dd88bc54-52f3-40be-ba56-0c2efc55c42a",
   "metadata": {},
   "outputs": [
    {
     "name": "stdout",
     "output_type": "stream",
     "text": [
      "71\n"
     ]
    }
   ],
   "source": [
    "!squeue --user=$USER | wc -l\n",
    "\n",
    "# 71\n"
   ]
  },
  {
   "cell_type": "code",
   "execution_count": 4,
   "id": "e8eda8f0-742d-48ad-8816-bef15dfa9e62",
   "metadata": {},
   "outputs": [
    {
     "name": "stdout",
     "output_type": "stream",
     "text": [
      "             JOBID PARTITION     NAME     USER ST       TIME  NODES NODELIST(REASON)\n",
      "     55612930_2780  akundaje step62.b     eila  R    3:35:32      1 sh02-12n09\n",
      "     55612930_2778  akundaje step62.b     eila  R    3:51:22      1 sh02-12n10\n",
      "     55612930_2774  akundaje step62.b     eila  R    5:15:40      1 sh02-12n10\n",
      "     55612930_2769  akundaje step62.b     eila  R    6:00:57      1 sh02-12n11\n",
      "     55612930_2768  akundaje step62.b     eila  R    6:55:21      1 sh02-12n10\n",
      "     55612930_2765  akundaje step62.b     eila  R    7:21:43      1 sh02-12n09\n",
      "     55612930_2738  akundaje step62.b     eila  R   12:28:00      1 sh02-12n11\n",
      "     55612930_2739  akundaje step62.b     eila  R   12:28:00      1 sh02-12n11\n",
      "     55612930_2623  akundaje step62.b     eila  R 1-22:58:46      1 sh02-12n08\n",
      "     55612930_2619  akundaje step62.b     eila  R 1-23:09:29      1 sh02-12n08\n",
      "55612930_[2878-300 akundaje, step62.b     eila PD       0:00      1 (Priority)\n",
      "     55612930_2744    owners step62.b     eila  R   11:12:16      1 sh02-12n13\n",
      "     55612930_2745    owners step62.b     eila  R   11:12:16      1 sh02-12n13\n",
      "     55612930_2748    owners step62.b     eila  R   11:12:16      1 sh02-15n03\n",
      "     55612930_2749    owners step62.b     eila  R   11:12:16      1 sh02-13n05\n",
      "     55612930_2750    owners step62.b     eila  R   11:12:16      1 sh02-13n05\n",
      "     55612930_2753    owners step62.b     eila  R   11:12:16      1 sh02-15n01\n",
      "     55612930_2754    owners step62.b     eila  R   11:12:16      1 sh03-18n14\n",
      "     55612930_2728    owners step62.b     eila  R   19:17:23      1 sh02-13n10\n",
      "     55612930_2709    owners step62.b     eila  R   19:31:12      1 sh02-14n10\n",
      "     55612930_2855    owners step62.b     eila  R      42:41      1 sh03-13n12\n",
      "     55612930_2858    owners step62.b     eila  R      42:41      1 sh03-13n07\n",
      "     55612930_2859    owners step62.b     eila  R      42:41      1 sh03-13n06\n",
      "     55612930_2860    owners step62.b     eila  R      42:41      1 sh02-15n04\n",
      "     55612930_2863    owners step62.b     eila  R      42:41      1 sh02-13n02\n",
      "     55612930_2864    owners step62.b     eila  R      42:41      1 sh02-13n02\n",
      "     55612930_2865    owners step62.b     eila  R      42:41      1 sh02-12n17\n",
      "     55612930_2868    owners step62.b     eila  R      42:41      1 sh02-12n15\n",
      "     55612930_2869    owners step62.b     eila  R      42:41      1 sh02-12n15\n",
      "     55612930_2870    owners step62.b     eila  R      42:41      1 sh02-12n14\n",
      "     55612930_2873    owners step62.b     eila  R      42:41      1 sh02-12n13\n",
      "     55612930_2874    owners step62.b     eila  R      42:41      1 sh02-15n03\n",
      "     55612930_2875    owners step62.b     eila  R      42:41      1 sh02-15n03\n",
      "     55612930_2785    owners step62.b     eila  R    2:24:09      1 sh03-17n10\n",
      "     55612930_2790    owners step62.b     eila  R    2:24:09      1 sh03-11n14\n",
      "     55612930_2793    owners step62.b     eila  R    2:24:09      1 sh03-11n08\n",
      "     55612930_2795    owners step62.b     eila  R    2:24:09      1 sh03-11n02\n",
      "     55612930_2798    owners step62.b     eila  R    2:24:09      1 sh03-16n04\n",
      "     55612930_2799    owners step62.b     eila  R    2:24:09      1 sh03-16n04\n",
      "     55612930_2800    owners step62.b     eila  R    2:24:09      1 sh03-16n03\n",
      "     55612930_2803    owners step62.b     eila  R    2:24:09      1 sh03-14n01\n",
      "     55612930_2805    owners step62.b     eila  R    2:24:09      1 sh03-13n10\n",
      "     55612930_2808    owners step62.b     eila  R    2:24:09      1 sh02-14n15\n",
      "     55612930_2809    owners step62.b     eila  R    2:24:09      1 sh02-14n14\n",
      "     55612930_2810    owners step62.b     eila  R    2:24:09      1 sh02-14n09\n",
      "     55612930_2814    owners step62.b     eila  R    2:24:09      1 sh03-17n12\n",
      "     55612930_2815    owners step62.b     eila  R    2:24:09      1 sh03-16n08\n",
      "     55612930_2818    owners step62.b     eila  R    2:24:09      1 sh03-16n07\n",
      "     55612930_2820    owners step62.b     eila  R    2:24:09      1 sh03-16n06\n",
      "     55612930_2823    owners step62.b     eila  R    2:24:09      1 sh03-16n02\n",
      "     55612930_2824    owners step62.b     eila  R    2:24:09      1 sh02-13n03\n",
      "     55612930_2825    owners step62.b     eila  R    2:24:09      1 sh02-13n03\n",
      "     55612930_2828    owners step62.b     eila  R    2:24:09      1 sh02-13n01\n",
      "     55612930_2829    owners step62.b     eila  R    2:24:09      1 sh02-13n01\n",
      "     55612930_2830    owners step62.b     eila  R    2:24:09      1 sh02-13n01\n",
      "     55612930_2833    owners step62.b     eila  R    2:24:09      1 sh02-12n17\n",
      "     55612930_2834    owners step62.b     eila  R    2:24:09      1 sh02-12n16\n",
      "     55612930_2835    owners step62.b     eila  R    2:24:09      1 sh02-12n16\n",
      "     55612930_2839    owners step62.b     eila  R    2:24:09      1 sh02-15n03\n",
      "     55612930_2840    owners step62.b     eila  R    2:24:09      1 sh02-15n03\n",
      "     55612930_2843    owners step62.b     eila  R    2:24:09      1 sh02-15n03\n",
      "     55612930_2844    owners step62.b     eila  R    2:24:09      1 sh03-14n15\n",
      "     55612930_2845    owners step62.b     eila  R    2:24:09      1 sh03-14n15\n",
      "     55612930_2848    owners step62.b     eila  R    2:24:09      1 sh03-14n07\n",
      "     55612930_2849    owners step62.b     eila  R    2:24:09      1 sh03-14n07\n",
      "     55612930_2850    owners step62.b     eila  R    2:24:09      1 sh03-14n05\n",
      "     55612930_2784 owners,ak step62.b     eila PD       0:00      1 (Priority)\n",
      "     55612930_2789 owners,ak step62.b     eila PD       0:00      1 (Priority)\n",
      "     55612930_2788 owners,ak step62.b     eila PD       0:00      1 (Priority)\n",
      "     55612930_2639 owners,ak step62.b     eila PD       0:00      1 (Priority)\n"
     ]
    }
   ],
   "source": [
    "!squeue --user=$USER"
   ]
  },
  {
   "cell_type": "code",
   "execution_count": 5,
   "id": "aab920bd-90e1-44e2-9643-9d1165d93003",
   "metadata": {},
   "outputs": [],
   "source": [
    "!grep \"qval\" ./local_logs/slurm.step62.bpnetPipeline.combined.out"
   ]
  },
  {
   "cell_type": "code",
   "execution_count": 6,
   "id": "0381a889-b737-4eb1-8cb4-9d62ac5d5d73",
   "metadata": {},
   "outputs": [
    {
     "name": "stdout",
     "output_type": "stream",
     "text": [
      "2202/2423 [==========================>...] - ETA: 36s - loss: 524.8126 - logits_profile_predictions_loss: 496.0375 - logcount_predictions_loss: 0.8993Done 20300 examples of 30000\n",
      "2207/2423 [==========================>...] - ETA: 35s - loss: 524.7875 - logits_profile_predictions_loss: 496.0099 - logcount_predictions_loss: 0.8993Output directory and required folders already exist: /scratch/groups/akundaje/eila/encode_pseudobulks/encode_pseudobulks_model_training/human/ENCSR593NWX/ENCFF535QKI/fold_1/step62.bpnetPipeline. Exiting.\n",
      " 958/1028 [==========================>...] - ETA: 57s - loss: 134.3396 - logits_profile_predictions_loss: 131.9172 - logcount_predictions_loss: 0.6375Done 15900 examples of 30000\n",
      "2049/2145 [===========================>..] - ETA: 15s - loss: 306.0751 - logits_profile_predictions_loss: 298.9243 - logcount_predictions_loss: 0.5376Done 8000 examples of 30000\n",
      " 38/344 [==>...........................] - ETA: 1:10Done 22000 examples of 30000profile_predictions_loss: 297.3799 - logcount_predictions_loss: 0.58776\n"
     ]
    }
   ],
   "source": [
    "# !wc -l ./steps_inputs/step6/chrombpnet_pipeline_extracted_paths.txt\n",
    "!head -5 ./local_logs/slurm.step62.bpnetPipeline.combined.out"
   ]
  },
  {
   "cell_type": "code",
   "execution_count": 7,
   "id": "da74cf44-253c-4926-b1c8-b6197825d426",
   "metadata": {},
   "outputs": [
    {
     "name": "stdout",
     "output_type": "stream",
     "text": [
      "1464/2423 [=================>............] - ETA: 2:31 - loss: 506.1642 - logits_profile_predictions_loss: 484.2581 - logcount_predictions_loss: 0.6846Done 8800 examples of 30000\n",
      "2101/2405 [=========================>....] - ETA: 4:51 - loss: 352.7115 - logits_profile_predictions_loss: 341.0001 - logcount_predictions_loss: 0.6617Done 2000 examples of 30000\n",
      "1141/2645 [===========>..................] - ETA: 18:45 - loss: 605.5715 - logits_profile_predictions_loss: 576.9880 - logcount_predictions_loss: 0.7831Done 4300 examples of 30000\n",
      " 301/1070 [=======>......................] - ETA: 10:24 - loss: 146.1995 - logits_profile_predictions_loss: 143.7897 - logcount_predictions_loss: 0.5355Done 4500 examples of 30000\n",
      "627/777 [=======================>......] - ETA: 1:59 - loss: 129.8441 - logits_profile_predictions_loss: 126.8880 - logcount_predictions_loss: 0.8212542"
     ]
    }
   ],
   "source": [
    "!tail -5 ./local_logs/slurm.step62.bpnetPipeline.combined.out"
   ]
  },
  {
   "cell_type": "code",
   "execution_count": 8,
   "id": "f494c4fe-b853-44d5-9072-5f794d5e98fc",
   "metadata": {},
   "outputs": [],
   "source": [
    "!grep modisco ./local_logs/slurm.step62.bpnetPipeline.combined.err"
   ]
  },
  {
   "cell_type": "code",
   "execution_count": 7,
   "id": "0ef5c379-a6aa-4f3a-a1de-cd6fa9745aad",
   "metadata": {},
   "outputs": [],
   "source": [
    "!grep \"qval\" ./local_logs/slurm.step62.bpnetPipeline.combined.err"
   ]
  },
  {
   "cell_type": "code",
   "execution_count": 8,
   "id": "9d8ea066-f383-43b4-83d3-cd417ec62ec3",
   "metadata": {},
   "outputs": [
    {
     "name": "stdout",
     "output_type": "stream",
     "text": [
      "++ conda shell.bash hook\n",
      "+ eval 'export CONDA_EXE='\\''/home/users/eila/miniconda3/bin/conda'\\''\n",
      "export _CE_M='\\'''\\''\n",
      "export _CE_CONDA='\\'''\\''\n",
      "export CONDA_PYTHON_EXE='\\''/home/users/eila/miniconda3/bin/python'\\''\n"
     ]
    }
   ],
   "source": [
    "!head -5 ./local_logs/slurm.step62.bpnetPipeline.combined.err"
   ]
  },
  {
   "cell_type": "code",
   "execution_count": 9,
   "id": "965e34bb-8a80-4f99-a68e-daf750d8b14c",
   "metadata": {},
   "outputs": [
    {
     "name": "stdout",
     "output_type": "stream",
     "text": [
      "slurmstepd: error: NVML: Failed to get usage(15): GPU is lost\n",
      "slurmstepd: error: NVML: Failed to get Compute running process count(15): GPU is lost\n",
      "slurmstepd: error: NVML: Failed to get usage(15): GPU is lost\n",
      "slurmstepd: error: NVML: Failed to get Compute running process count(15): GPU is lost\n",
      "slurmstepd: error: NVML: Failed to get usage(15): GPU is lost\n"
     ]
    }
   ],
   "source": [
    "!tail -5 ./local_logs/slurm.step62.bpnetPipeline.combined.err"
   ]
  },
  {
   "cell_type": "code",
   "execution_count": 10,
   "id": "08016a6e-3f6b-44c0-ba36-faf5a13662f7",
   "metadata": {},
   "outputs": [],
   "source": [
    "# !scancel 54958967\n",
    "# !scancel 54958966\n",
    "# !ls ./steps_inputs/step6/"
   ]
  },
  {
   "cell_type": "code",
   "execution_count": 9,
   "id": "4a80fc2f-91ed-4716-b31e-2ddca8cdd593",
   "metadata": {},
   "outputs": [
    {
     "name": "stdout",
     "output_type": "stream",
     "text": [
      "706\n"
     ]
    }
   ],
   "source": [
    "!ls /scratch/groups/akundaje/eila/encode_pseudobulks/encode_pseudobulks_model_training/human/*/*/fold_0/step62.bpnetPipeline/evaluation/overall_report.html | wc -l \n",
    "#706\n"
   ]
  },
  {
   "cell_type": "code",
   "execution_count": 10,
   "id": "e8560dc5-3a7e-46cb-a02f-3c0232be5603",
   "metadata": {},
   "outputs": [
    {
     "name": "stdout",
     "output_type": "stream",
     "text": [
      "457\n"
     ]
    }
   ],
   "source": [
    "\n",
    "# fold 1:\n",
    "!ls /scratch/groups/akundaje/eila/encode_pseudobulks/encode_pseudobulks_model_training/human/*/*/fold_1/step62.bpnetPipeline/evaluation/overall_report.html | wc -l \n",
    "# 457\n",
    "\n"
   ]
  },
  {
   "cell_type": "code",
   "execution_count": 11,
   "id": "2c5abbc8-9e42-4128-9de7-1076821a9fa7",
   "metadata": {},
   "outputs": [
    {
     "name": "stdout",
     "output_type": "stream",
     "text": [
      "341\n"
     ]
    }
   ],
   "source": [
    "\n",
    "# fold 2:\n",
    "!ls /scratch/groups/akundaje/eila/encode_pseudobulks/encode_pseudobulks_model_training/human/*/*/fold_2/step62.bpnetPipeline/evaluation/overall_report.html | wc -l \n",
    "# 341\n",
    "\n"
   ]
  },
  {
   "cell_type": "code",
   "execution_count": 12,
   "id": "759c2450-8f54-4938-abd9-3236346c5155",
   "metadata": {},
   "outputs": [
    {
     "name": "stdout",
     "output_type": "stream",
     "text": [
      "322\n"
     ]
    }
   ],
   "source": [
    "\n",
    "\n",
    "# fold 3:\n",
    "!ls /scratch/groups/akundaje/eila/encode_pseudobulks/encode_pseudobulks_model_training/human/*/*/fold_3/step62.bpnetPipeline/evaluation/overall_report.html | wc -l \n",
    "# 322\n",
    "\n"
   ]
  },
  {
   "cell_type": "code",
   "execution_count": 13,
   "id": "17ef58e3-feca-4141-81c9-8fd0464008b9",
   "metadata": {},
   "outputs": [
    {
     "name": "stdout",
     "output_type": "stream",
     "text": [
      "341\n"
     ]
    }
   ],
   "source": [
    "\n",
    "\n",
    "# fold 4:\n",
    "!ls /scratch/groups/akundaje/eila/encode_pseudobulks/encode_pseudobulks_model_training/human/*/*/fold_4/step62.bpnetPipeline/evaluation/overall_report.html | wc -l \n",
    "\n",
    "# 341\n"
   ]
  },
  {
   "cell_type": "code",
   "execution_count": 14,
   "id": "759bf51b-b5b9-4540-8bff-c372f36ed811",
   "metadata": {},
   "outputs": [
    {
     "name": "stdout",
     "output_type": "stream",
     "text": [
      "2167\n"
     ]
    }
   ],
   "source": [
    "\n",
    "\n",
    "# all folds:\n",
    "!ls /scratch/groups/akundaje/eila/encode_pseudobulks/encode_pseudobulks_model_training/human/*/*/*/step62.bpnetPipeline/evaluation/overall_report.html | wc -l \n",
    "# 2167\n",
    "\n"
   ]
  },
  {
   "cell_type": "code",
   "execution_count": 19,
   "id": "52247bf1-aad2-4aa5-986e-41c9bba018ce",
   "metadata": {},
   "outputs": [],
   "source": [
    "# 5416/2134"
   ]
  },
  {
   "cell_type": "code",
   "execution_count": 36,
   "id": "41914edf-9726-441c-a5ae-55a74191c767",
   "metadata": {},
   "outputs": [],
   "source": [
    "# !scancel 54084823"
   ]
  },
  {
   "cell_type": "code",
   "execution_count": 9,
   "id": "66ce8732-61d7-458c-a6fa-de4c26c5b678",
   "metadata": {},
   "outputs": [],
   "source": [
    "# !squeue -u $USER -o \"%i %j\" | grep step5Neg\n"
   ]
  },
  {
   "cell_type": "code",
   "execution_count": 44,
   "id": "224f0409-6634-4be7-bba2-1303834e7842",
   "metadata": {},
   "outputs": [],
   "source": [
    " # scp -r eila@login.sherlock.stanford.edu:/scratch/users/eila/encode_pseudobulks_model_training/human/ENCSR037JDN/ENCFF933KCP/fold_1_30000_20240912_182023/evaluation . \n",
    "\n",
    "# !rm ./local_logs/slurm_samools_err.combined.err\n",
    "# !rm ./local_logs/slurm_samools_out.combined.out"
   ]
  }
 ],
 "metadata": {
  "kernelspec": {
   "display_name": "Python 3 (ipykernel)",
   "language": "python",
   "name": "python3"
  },
  "language_info": {
   "codemirror_mode": {
    "name": "ipython",
    "version": 3
   },
   "file_extension": ".py",
   "mimetype": "text/x-python",
   "name": "python",
   "nbconvert_exporter": "python",
   "pygments_lexer": "ipython3",
   "version": "3.12.4"
  }
 },
 "nbformat": 4,
 "nbformat_minor": 5
}
