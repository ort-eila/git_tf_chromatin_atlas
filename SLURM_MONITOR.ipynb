{
 "cells": [
  {
   "cell_type": "code",
   "execution_count": 1,
   "id": "99d37c98-61d7-42a1-964a-247b0d94362c",
   "metadata": {},
   "outputs": [
    {
     "name": "stdout",
     "output_type": "stream",
     "text": [
      "1354\n"
     ]
    }
   ],
   "source": [
    "!ls -lt $GROUP_SCRATCH/eila/encode_pseudobulks/encode_pseudobulks_negative/*/*/*/fold_0/*nonpeaks_negatives.bed | wc -l\n",
    "#1354\n"
   ]
  },
  {
   "cell_type": "code",
   "execution_count": 2,
   "id": "306d802e-7e41-4125-8297-a09095b23f81",
   "metadata": {},
   "outputs": [],
   "source": [
    "# !ls -lt $GROUP_SCRATCH/eila/encode_pseudobulks/encode_pseudobulks_negative/*/*/*/fold_0/*nonpeaks_negatives.bed | head"
   ]
  },
  {
   "cell_type": "code",
   "execution_count": 3,
   "id": "a7043188-2e35-4fcc-b4e3-c76a25cc8ce0",
   "metadata": {},
   "outputs": [
    {
     "name": "stdout",
     "output_type": "stream",
     "text": [
      "1354\n"
     ]
    }
   ],
   "source": [
    "!ls -lt $GROUP_SCRATCH/eila/encode_pseudobulks/encode_pseudobulks_negative/*/*/*/fold_1/*nonpeaks_negatives.bed | wc -l\n",
    "#1354\n"
   ]
  },
  {
   "cell_type": "code",
   "execution_count": 4,
   "id": "ce206665-cbca-4cae-8a1e-b98514ffc177",
   "metadata": {},
   "outputs": [
    {
     "name": "stdout",
     "output_type": "stream",
     "text": [
      "1354\n"
     ]
    }
   ],
   "source": [
    "!ls -lt $GROUP_SCRATCH/eila/encode_pseudobulks/encode_pseudobulks_negative/*/*/*/fold_2/*nonpeaks_negatives.bed | wc -l\n",
    "#1354\n"
   ]
  },
  {
   "cell_type": "code",
   "execution_count": 5,
   "id": "3d067478-368f-4c45-ba89-9a9400a4cbfb",
   "metadata": {},
   "outputs": [
    {
     "name": "stdout",
     "output_type": "stream",
     "text": [
      "1354\n"
     ]
    }
   ],
   "source": [
    "!ls -lt $GROUP_SCRATCH/eila/encode_pseudobulks/encode_pseudobulks_negative/*/*/*/fold_3/*nonpeaks_negatives.bed | wc -l\n",
    "#1354\n"
   ]
  },
  {
   "cell_type": "code",
   "execution_count": 6,
   "id": "0587dc0d-9a4d-4a0f-9b43-3d72e7472bbd",
   "metadata": {},
   "outputs": [
    {
     "name": "stdout",
     "output_type": "stream",
     "text": [
      "1354\n"
     ]
    }
   ],
   "source": [
    "!ls -lt $GROUP_SCRATCH/eila/encode_pseudobulks/encode_pseudobulks_negative/*/*/*/fold_4/*nonpeaks_negatives.bed | wc -l\n",
    "#1354\n"
   ]
  },
  {
   "cell_type": "code",
   "execution_count": 42,
   "id": "dd88bc54-52f3-40be-ba56-0c2efc55c42a",
   "metadata": {},
   "outputs": [
    {
     "name": "stdout",
     "output_type": "stream",
     "text": [
      "16\n"
     ]
    }
   ],
   "source": [
    "!squeue --user=$USER | wc -l\n",
    "\n",
    "# 17\n"
   ]
  },
  {
   "cell_type": "code",
   "execution_count": 43,
   "id": "e8eda8f0-742d-48ad-8816-bef15dfa9e62",
   "metadata": {},
   "outputs": [
    {
     "name": "stdout",
     "output_type": "stream",
     "text": [
      "             JOBID PARTITION     NAME     USER ST       TIME  NODES NODELIST(REASON)\n",
      "     55612930_2985  akundaje step62.b     eila  R   15:40:36      1 sh02-12n11\n",
      "     55612930_2983  akundaje step62.b     eila  R   15:50:58      1 sh02-12n11\n",
      "     55612930_2984  akundaje step62.b     eila  R   15:50:58      1 sh02-12n09\n",
      "     55612930_2934  akundaje step62.b     eila  R   17:40:16      1 sh02-12n10\n",
      "     55612930_2925  akundaje step62.b     eila  R   18:29:40      1 sh02-12n09\n",
      "     55612930_2919  akundaje step62.b     eila  R   18:55:00      1 sh02-12n11\n",
      "56010738_[438-617% akundaje, 633_moti     eila PD       0:00      1 (Resources)\n",
      "     55612930_2935    owners step62.b     eila  R   16:57:22      1 sh02-15n06\n",
      "     55612930_2958    owners step62.b     eila  R   16:57:22      1 sh02-15n04\n",
      "     55612930_2959    owners step62.b     eila  R   16:57:22      1 sh02-15n04\n",
      "     55612930_2960    owners step62.b     eila  R   16:57:22      1 sh02-14n15\n",
      "     55612930_2968    owners step62.b     eila  R   16:57:22      1 sh02-14n09\n",
      "     55612930_2969    owners step62.b     eila  R   16:57:22      1 sh02-14n12\n",
      "     55612930_2970    owners step62.b     eila  R   16:57:22      1 sh02-14n12\n",
      "     55612930_2893    owners step62.b     eila  R   23:37:53      1 sh02-12n13\n"
     ]
    }
   ],
   "source": [
    "!squeue --user=$USER"
   ]
  },
  {
   "cell_type": "code",
   "execution_count": 44,
   "id": "aab920bd-90e1-44e2-9643-9d1165d93003",
   "metadata": {},
   "outputs": [],
   "source": [
    "!grep \"qval\" ./local_logs/slurm.step62.bpnetPipeline.combined.out"
   ]
  },
  {
   "cell_type": "code",
   "execution_count": 45,
   "id": "0381a889-b737-4eb1-8cb4-9d62ac5d5d73",
   "metadata": {},
   "outputs": [
    {
     "name": "stdout",
     "output_type": "stream",
     "text": [
      " 264/3465 [=>............................] - ETA: 42:51 - loss: 927.2764 - logits_profile_predictions_loss: 860.4819 - logcount_predictions_loss: 0.8476Done 20300 examples of 30000\n",
      " 265/3465 [=>............................] - ETA: 42:50 - loss: 927.1113 - logits_profile_predictions_loss: 860.3627 - logcount_predictions_loss: 0.8471Output directory and required folders already exist: /scratch/groups/akundaje/eila/encode_pseudobulks/encode_pseudobulks_model_training/human/ENCSR609UUZ/ENCFF291UOG/fold_2/step62.bpnetPipeline. Exiting.\n",
      " 349/3328 [==>...........................] - ETA: 36:28 - loss: 927.0171 - logits_profile_predictions_loss: 864.0385 - logcount_predictions_loss: 0.7708Done 19200 examples of 30000\n",
      " 309/3465 [=>............................] - ETA: 42:42 - loss: 926.0746 - logits_profile_predictions_loss: 859.1358 - logcount_predictions_loss: 0.8495Done 1100 examples of 30000\n",
      " 312/3465 [=>............................] - ETA: 42:41 - loss: 926.3219 - logits_profile_predictions_loss: 859.4557 - logcount_predictions_loss: 0.8486Done 20400 examples of 30000\n"
     ]
    }
   ],
   "source": [
    "# !wc -l ./steps_inputs/step6/chrombpnet_pipeline_extracted_paths.txt\n",
    "!head -5 ./local_logs/slurm.step62.bpnetPipeline.combined.out"
   ]
  },
  {
   "cell_type": "code",
   "execution_count": 46,
   "id": "da74cf44-253c-4926-b1c8-b6197825d426",
   "metadata": {},
   "outputs": [
    {
     "name": "stdout",
     "output_type": "stream",
     "text": [
      "2841/3465 [=======================>......] - ETA: 8:13 - loss: 911.4255 - logits_profile_predictions_loss: 850.7873 - logcount_predictions_loss: 0.7695Done 25100 examples of 30000\n",
      "2876/3465 [=======================>......] - ETA: 7:46 - loss: 911.3875 - logits_profile_predictions_loss: 850.7249 - logcount_predictions_loss: 0.7698Done 14400 examples of 30000\n",
      "2896/3465 [========================>.....] - ETA: 7:30 - loss: 911.3224 - logits_profile_predictions_loss: 850.6458 - logcount_predictions_loss: 0.7700Done 25200 examples of 30000\n",
      "2923/3465 [========================>.....] - ETA: 7:09 - loss: 911.3095 - logits_profile_predictions_loss: 850.6265 - logcount_predictions_loss: 0.7701Done 14500 examples of 30000\n",
      "2943/3465 [========================>.....] - ETA: 6:53 - loss: 911.1119 - logits_profile_predictions_loss: 850.4482 - logcount_predictions_loss: 0.7698"
     ]
    }
   ],
   "source": [
    "!tail -5 ./local_logs/slurm.step62.bpnetPipeline.combined.out"
   ]
  },
  {
   "cell_type": "code",
   "execution_count": 47,
   "id": "f494c4fe-b853-44d5-9072-5f794d5e98fc",
   "metadata": {},
   "outputs": [],
   "source": [
    "!grep modisco ./local_logs/slurm.step62.bpnetPipeline.combined.err"
   ]
  },
  {
   "cell_type": "code",
   "execution_count": 48,
   "id": "0ef5c379-a6aa-4f3a-a1de-cd6fa9745aad",
   "metadata": {},
   "outputs": [],
   "source": [
    "!grep \"qval\" ./local_logs/slurm.step62.bpnetPipeline.combined.err"
   ]
  },
  {
   "cell_type": "code",
   "execution_count": 49,
   "id": "9d8ea066-f383-43b4-83d3-cd417ec62ec3",
   "metadata": {},
   "outputs": [
    {
     "name": "stdout",
     "output_type": "stream",
     "text": [
      "++ conda shell.bash hook\n",
      "+ eval 'export CONDA_EXE='\\''/home/users/eila/miniconda3/bin/conda'\\''\n",
      "export _CE_M='\\'''\\''\n",
      "export _CE_CONDA='\\'''\\''\n",
      "export CONDA_PYTHON_EXE='\\''/home/users/eila/miniconda3/bin/python'\\''\n"
     ]
    }
   ],
   "source": [
    "!head -5 ./local_logs/slurm.step62.bpnetPipeline.combined.err"
   ]
  },
  {
   "cell_type": "code",
   "execution_count": 50,
   "id": "965e34bb-8a80-4f99-a68e-daf750d8b14c",
   "metadata": {},
   "outputs": [
    {
     "name": "stdout",
     "output_type": "stream",
     "text": [
      "  elif matrix_type is 'probability':\n",
      "/home/users/eila/miniconda3/envs/chrombpnet/lib/python3.8/site-packages/logomaker/src/validate.py:98: SyntaxWarning: \"is\" with a literal. Did you mean \"==\"?\n",
      "  if matrix_type is 'information':\n",
      "/home/users/eila/miniconda3/envs/chrombpnet/lib/python3.8/site-packages/logomaker/src/validate.py:104: SyntaxWarning: \"is\" with a literal. Did you mean \"==\"?\n",
      "  elif matrix_type is 'probability':\n"
     ]
    }
   ],
   "source": [
    "!tail -5 ./local_logs/slurm.step62.bpnetPipeline.combined.err"
   ]
  },
  {
   "cell_type": "code",
   "execution_count": 51,
   "id": "08016a6e-3f6b-44c0-ba36-faf5a13662f7",
   "metadata": {},
   "outputs": [],
   "source": [
    "# !scancel 54958967\n",
    "# !scancel 54958966\n",
    "# !ls ./steps_inputs/step6/"
   ]
  },
  {
   "cell_type": "code",
   "execution_count": 52,
   "id": "4a80fc2f-91ed-4716-b31e-2ddca8cdd593",
   "metadata": {},
   "outputs": [
    {
     "name": "stdout",
     "output_type": "stream",
     "text": [
      "706\n"
     ]
    }
   ],
   "source": [
    "!ls /scratch/groups/akundaje/eila/encode_pseudobulks/encode_pseudobulks_model_training/human/*/*/fold_0/step62.bpnetPipeline/evaluation/overall_report.html | wc -l \n",
    "#706\n"
   ]
  },
  {
   "cell_type": "code",
   "execution_count": 53,
   "id": "e8560dc5-3a7e-46cb-a02f-3c0232be5603",
   "metadata": {},
   "outputs": [
    {
     "name": "stdout",
     "output_type": "stream",
     "text": [
      "457\n"
     ]
    }
   ],
   "source": [
    "\n",
    "# fold 1:\n",
    "!ls /scratch/groups/akundaje/eila/encode_pseudobulks/encode_pseudobulks_model_training/human/*/*/fold_1/step62.bpnetPipeline/evaluation/overall_report.html | wc -l \n",
    "# 457\n",
    "\n"
   ]
  },
  {
   "cell_type": "code",
   "execution_count": 54,
   "id": "2c5abbc8-9e42-4128-9de7-1076821a9fa7",
   "metadata": {},
   "outputs": [
    {
     "name": "stdout",
     "output_type": "stream",
     "text": [
      "368\n"
     ]
    }
   ],
   "source": [
    "\n",
    "# fold 2:\n",
    "!ls /scratch/groups/akundaje/eila/encode_pseudobulks/encode_pseudobulks_model_training/human/*/*/fold_2/step62.bpnetPipeline/evaluation/overall_report.html | wc -l \n",
    "# 368\n",
    "\n"
   ]
  },
  {
   "cell_type": "code",
   "execution_count": 55,
   "id": "759c2450-8f54-4938-abd9-3236346c5155",
   "metadata": {},
   "outputs": [
    {
     "name": "stdout",
     "output_type": "stream",
     "text": [
      "349\n"
     ]
    }
   ],
   "source": [
    "\n",
    "\n",
    "# fold 3:\n",
    "!ls /scratch/groups/akundaje/eila/encode_pseudobulks/encode_pseudobulks_model_training/human/*/*/fold_3/step62.bpnetPipeline/evaluation/overall_report.html | wc -l \n",
    "# 349\n",
    "\n"
   ]
  },
  {
   "cell_type": "code",
   "execution_count": 56,
   "id": "17ef58e3-feca-4141-81c9-8fd0464008b9",
   "metadata": {},
   "outputs": [
    {
     "name": "stdout",
     "output_type": "stream",
     "text": [
      "373\n"
     ]
    }
   ],
   "source": [
    "\n",
    "\n",
    "# fold 4:\n",
    "!ls /scratch/groups/akundaje/eila/encode_pseudobulks/encode_pseudobulks_model_training/human/*/*/fold_4/step62.bpnetPipeline/evaluation/overall_report.html | wc -l \n",
    "\n",
    "# 373\n"
   ]
  },
  {
   "cell_type": "code",
   "execution_count": 57,
   "id": "759bf51b-b5b9-4540-8bff-c372f36ed811",
   "metadata": {},
   "outputs": [
    {
     "name": "stdout",
     "output_type": "stream",
     "text": [
      "2253\n"
     ]
    }
   ],
   "source": [
    "\n",
    "\n",
    "# all folds:\n",
    "!ls /scratch/groups/akundaje/eila/encode_pseudobulks/encode_pseudobulks_model_training/human/*/*/*/step62.bpnetPipeline/evaluation/overall_report.html | wc -l \n",
    "# 2253\n",
    "\n"
   ]
  },
  {
   "cell_type": "code",
   "execution_count": 58,
   "id": "52247bf1-aad2-4aa5-986e-41c9bba018ce",
   "metadata": {},
   "outputs": [],
   "source": [
    "# 5416/2134"
   ]
  },
  {
   "cell_type": "code",
   "execution_count": 21,
   "id": "41914edf-9726-441c-a5ae-55a74191c767",
   "metadata": {},
   "outputs": [],
   "source": [
    "# !scancel 56007868"
   ]
  },
  {
   "cell_type": "code",
   "execution_count": 9,
   "id": "66ce8732-61d7-458c-a6fa-de4c26c5b678",
   "metadata": {},
   "outputs": [],
   "source": [
    "# !squeue -u $USER -o \"%i %j\" | grep step5Neg\n"
   ]
  },
  {
   "cell_type": "code",
   "execution_count": 44,
   "id": "224f0409-6634-4be7-bba2-1303834e7842",
   "metadata": {},
   "outputs": [],
   "source": [
    " # scp -r eila@login.sherlock.stanford.edu:/scratch/users/eila/encode_pseudobulks_model_training/human/ENCSR037JDN/ENCFF933KCP/fold_1_30000_20240912_182023/evaluation . \n",
    "\n",
    "# !rm ./local_logs/slurm_samools_err.combined.err\n",
    "# !rm ./local_logs/slurm_samools_out.combined.out"
   ]
  }
 ],
 "metadata": {
  "kernelspec": {
   "display_name": "Python 3 (ipykernel)",
   "language": "python",
   "name": "python3"
  },
  "language_info": {
   "codemirror_mode": {
    "name": "ipython",
    "version": 3
   },
   "file_extension": ".py",
   "mimetype": "text/x-python",
   "name": "python",
   "nbconvert_exporter": "python",
   "pygments_lexer": "ipython3",
   "version": "3.12.4"
  }
 },
 "nbformat": 4,
 "nbformat_minor": 5
}
