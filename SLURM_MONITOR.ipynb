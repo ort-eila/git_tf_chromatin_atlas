{
 "cells": [
  {
   "cell_type": "code",
   "execution_count": 1,
   "id": "99d37c98-61d7-42a1-964a-247b0d94362c",
   "metadata": {},
   "outputs": [
    {
     "name": "stdout",
     "output_type": "stream",
     "text": [
      "1354\n"
     ]
    }
   ],
   "source": [
    "!ls -lt $GROUP_SCRATCH/eila/encode_pseudobulks/encode_pseudobulks_negative/*/*/*/fold_0/*nonpeaks_negatives.bed | wc -l\n",
    "#1354\n"
   ]
  },
  {
   "cell_type": "code",
   "execution_count": 2,
   "id": "306d802e-7e41-4125-8297-a09095b23f81",
   "metadata": {},
   "outputs": [],
   "source": [
    "# !ls -lt $GROUP_SCRATCH/eila/encode_pseudobulks/encode_pseudobulks_negative/*/*/*/fold_0/*nonpeaks_negatives.bed | head"
   ]
  },
  {
   "cell_type": "code",
   "execution_count": 3,
   "id": "a7043188-2e35-4fcc-b4e3-c76a25cc8ce0",
   "metadata": {},
   "outputs": [
    {
     "name": "stdout",
     "output_type": "stream",
     "text": [
      "1354\n"
     ]
    }
   ],
   "source": [
    "!ls -lt $GROUP_SCRATCH/eila/encode_pseudobulks/encode_pseudobulks_negative/*/*/*/fold_1/*nonpeaks_negatives.bed | wc -l\n",
    "#1354\n"
   ]
  },
  {
   "cell_type": "code",
   "execution_count": 4,
   "id": "ce206665-cbca-4cae-8a1e-b98514ffc177",
   "metadata": {},
   "outputs": [
    {
     "name": "stdout",
     "output_type": "stream",
     "text": [
      "1354\n"
     ]
    }
   ],
   "source": [
    "!ls -lt $GROUP_SCRATCH/eila/encode_pseudobulks/encode_pseudobulks_negative/*/*/*/fold_2/*nonpeaks_negatives.bed | wc -l\n",
    "#1354\n"
   ]
  },
  {
   "cell_type": "code",
   "execution_count": 5,
   "id": "3d067478-368f-4c45-ba89-9a9400a4cbfb",
   "metadata": {},
   "outputs": [
    {
     "name": "stdout",
     "output_type": "stream",
     "text": [
      "1354\n"
     ]
    }
   ],
   "source": [
    "!ls -lt $GROUP_SCRATCH/eila/encode_pseudobulks/encode_pseudobulks_negative/*/*/*/fold_3/*nonpeaks_negatives.bed | wc -l\n",
    "#1354\n"
   ]
  },
  {
   "cell_type": "code",
   "execution_count": 6,
   "id": "0587dc0d-9a4d-4a0f-9b43-3d72e7472bbd",
   "metadata": {},
   "outputs": [
    {
     "name": "stdout",
     "output_type": "stream",
     "text": [
      "1354\n"
     ]
    }
   ],
   "source": [
    "!ls -lt $GROUP_SCRATCH/eila/encode_pseudobulks/encode_pseudobulks_negative/*/*/*/fold_4/*nonpeaks_negatives.bed | wc -l\n",
    "#1354\n"
   ]
  },
  {
   "cell_type": "code",
   "execution_count": 18,
   "id": "dd88bc54-52f3-40be-ba56-0c2efc55c42a",
   "metadata": {},
   "outputs": [
    {
     "name": "stdout",
     "output_type": "stream",
     "text": [
      "106\n"
     ]
    }
   ],
   "source": [
    "!squeue --user=$USER | wc -l\n",
    "\n",
    "# 106\n"
   ]
  },
  {
   "cell_type": "code",
   "execution_count": 17,
   "id": "0381a889-b737-4eb1-8cb4-9d62ac5d5d73",
   "metadata": {},
   "outputs": [
    {
     "name": "stdout",
     "output_type": "stream",
     "text": [
      " 373/1291 [=======>......................] - ETA: 10:05 - loss: 275.3318 - logits_profile_predictions_loss: 265.4436 - logcount_predictions_loss: 0.8598Done 9800 examples of 30000\n",
      " 105/1436 [=>............................] - ETA: 6:35 - loss: 297.8289 - logits_profile_predictions_loss: 289.9257 - logcount_predictions_loss: 0.637444\n",
      "Epoch 5: val_loss improved from 631.03625 to 629.92462, saving model to /scratch/groups/akundaje/eila/encode_pseudobulks/encode_pseudobulks_model_training/mouse/ENCSR783FIZ/ENCFF254DUS/fold_2/step62.bpnetPipeline/models/chrombpnet.h5\n",
      "1667/1667 [==============================] - 1163s 698ms/step - loss: 528.6603 - logits_profile_predictions_loss: 497.5208 - logcount_predictions_loss: 1.0664 - val_loss: 629.9246 - val_logits_profile_predictions_loss: 597.4846 - val_logcount_predictions_loss: 1.1110\n",
      "1044/1870 [===============>..............] - ETA: 4:07 - loss: 376.9437 - logits_profile_predictions_loss: 364.5713 - logcount_predictions_loss: 0.6951Done 18800 examples of 30000\n"
     ]
    }
   ],
   "source": [
    "# !wc -l ./steps_inputs/step6/chrombpnet_pipeline_extracted_paths.txt\n",
    "!head -5 ./local_logs/slurm.step62.bpnetPipeline.combined.out"
   ]
  },
  {
   "cell_type": "code",
   "execution_count": 14,
   "id": "da74cf44-253c-4926-b1c8-b6197825d426",
   "metadata": {},
   "outputs": [
    {
     "name": "stdout",
     "output_type": "stream",
     "text": [
      "1004/1088 [==========================>...] - ETA: 1:00 - loss: 347.3694 - logits_profile_predictions_loss: 332.3050 - logcount_predictions_loss: 1.0318Done 6700 examples of 30000\n",
      "  67/1168 [>.............................] - ETA: 5:26 - loss: 289.0822 - logits_profile_predictions_loss: 281.4357 - logcount_predictions_loss: 0.6167Done 8800 examples of 30000\n",
      " 551/1912 [=======>......................] - ETA: 17:57 - loss: 333.7868 - logits_profile_predictions_loss: 326.6200 - logcount_predictions_loss: 0.5012Done 5900 examples of 30000\n",
      " 47/700 [=>............................] - ETA: 8:38 - loss: 144.7993 - logits_profile_predictions_loss: 143.2794 - logcount_predictions_loss: 0.3304Epoch 6/50\n",
      " 617/1815 [=========>....................] - ETA: 5:59 - loss: 289.9654 - logits_profile_predictions_loss: 284.5434 - logcount_predictions_loss: 0.471522"
     ]
    }
   ],
   "source": [
    "!tail -5 ./local_logs/slurm.step62.bpnetPipeline.combined.out"
   ]
  },
  {
   "cell_type": "code",
   "execution_count": 15,
   "id": "9d8ea066-f383-43b4-83d3-cd417ec62ec3",
   "metadata": {},
   "outputs": [
    {
     "name": "stdout",
     "output_type": "stream",
     "text": [
      "++ conda shell.bash hook\n",
      "+ eval 'export CONDA_EXE='\\''/home/users/eila/miniconda3/bin/conda'\\''\n",
      "export _CE_M='\\'''\\''\n",
      "export _CE_CONDA='\\'''\\''\n",
      "export CONDA_PYTHON_EXE='\\''/home/users/eila/miniconda3/bin/python'\\''\n"
     ]
    }
   ],
   "source": [
    "!head -5 ./local_logs/slurm.step62.bpnetPipeline.combined.err"
   ]
  },
  {
   "cell_type": "code",
   "execution_count": 16,
   "id": "965e34bb-8a80-4f99-a68e-daf750d8b14c",
   "metadata": {},
   "outputs": [
    {
     "name": "stdout",
     "output_type": "stream",
     "text": [
      "slurmstepd: error: NVML: Failed to get usage(15): GPU is lost\n",
      "slurmstepd: error: NVML: Failed to get Compute running process count(15): GPU is lost\n",
      "slurmstepd: error: NVML: Failed to get usage(15): GPU is lost\n",
      "slurmstepd: error: NVML: Failed to get Compute running process count(15): GPU is lost\n",
      "slurmstepd: error: NVML: Failed to get usage(15): GPU is lost\n"
     ]
    }
   ],
   "source": [
    "!tail -5 ./local_logs/slurm.step62.bpnetPipeline.combined.err"
   ]
  },
  {
   "cell_type": "code",
   "execution_count": 6,
   "id": "58898ea8-bd27-42ea-b3b3-bbdc71abb9ae",
   "metadata": {
    "scrolled": true
   },
   "outputs": [
    {
     "name": "stdout",
     "output_type": "stream",
     "text": [
      "             JOBID PARTITION     NAME     USER ST       TIME  NODES NODELIST(REASON)\n",
      "      55199724_568  akundaje step62.b     eila  R   11:12:11      1 sh02-12n09\n",
      "      55199724_563  akundaje step62.b     eila  R   11:26:16      1 sh02-12n09\n",
      "      55199724_882  akundaje step62.b     eila  R       7:57      1 sh02-12n11\n",
      "      55199724_768  akundaje step62.b     eila  R    4:09:47      1 sh02-12n09\n",
      "      55199724_716  akundaje step62.b     eila  R    5:37:15      1 sh02-12n11\n",
      "      55199724_675  akundaje step62.b     eila  R    7:09:12      1 sh02-12n09\n",
      "      55199724_617  akundaje step62.b     eila  R    9:18:31      1 sh02-12n11\n",
      "      55199724_610  akundaje step62.b     eila  R    9:45:21      1 sh02-12n11\n",
      "55199725_[1321-135 akundaje, step62.b     eila PD       0:00      1 (Resources)\n",
      "55199724_[887-1000 akundaje, step62.b     eila PD       0:00      1 (Resources)\n",
      "     55199725_1189    owners step62.b     eila  R   15:50:33      1 sh02-15n04\n",
      "     55199725_1185    owners step62.b     eila  R   16:05:33      1 sh02-14n12\n",
      "     55199725_1251    owners step62.b     eila  R   10:46:03      1 sh02-14n15\n",
      "     55199725_1249    owners step62.b     eila  R   11:07:30      1 sh03-14n02\n",
      "     55199725_1245    owners step62.b     eila  R   11:28:57      1 sh02-14n14\n",
      "     55199725_1243    owners step62.b     eila  R   12:06:43      1 sh03-13n05\n",
      "      55199724_535    owners step62.b     eila  R   12:45:23      1 sh03-13n09\n",
      "      55199724_536    owners step62.b     eila  R   12:45:23      1 sh03-13n09\n",
      "      55199724_537    owners step62.b     eila  R   12:45:23      1 sh02-15n04\n",
      "      55199724_538    owners step62.b     eila  R   12:45:23      1 sh02-14n13\n",
      "      55199724_542    owners step62.b     eila  R   12:45:23      1 sh03-13n09\n",
      "      55199724_543    owners step62.b     eila  R   12:45:23      1 sh02-15n04\n",
      "      55199724_515    owners step62.b     eila  R   13:45:20      1 sh02-13n11\n",
      "     55199725_1224    owners step62.b     eila  R   13:50:20      1 sh02-14n08\n",
      "     55199725_1220    owners step62.b     eila  R   14:06:29      1 sh02-14n13\n",
      "     55199725_1214    owners step62.b     eila  R   14:36:30      1 sh02-14n13\n",
      "     55199725_1209    owners step62.b     eila  R   14:45:06      1 sh02-13n10\n",
      "     55199725_1210    owners step62.b     eila  R   14:45:06      1 sh02-13n10\n",
      "     55199725_1211    owners step62.b     eila  R   14:45:06      1 sh02-13n10\n",
      "     55199725_1213    owners step62.b     eila  R   14:45:06      1 sh02-14n12\n",
      "     55199725_1203    owners step62.b     eila  R   15:07:03      1 sh03-13n13\n",
      "     55199725_1200    owners step62.b     eila  R   15:18:43      1 sh02-14n09\n",
      "     55199725_1320    owners step62.b     eila  R      38:59      1 sh03-11n05\n",
      "     55199725_1317    owners step62.b     eila  R      48:59      1 sh02-13n06\n",
      "     55199725_1318    owners step62.b     eila  R      48:59      1 sh03-18n14\n",
      "     55199725_1316    owners step62.b     eila  R      59:00      1 sh03-11n10\n",
      "     55199725_1311    owners step62.b     eila  R    1:08:52      1 sh03-11n07\n",
      "     55199725_1312    owners step62.b     eila  R    1:08:52      1 sh02-14n10\n",
      "     55199725_1313    owners step62.b     eila  R    1:08:52      1 sh02-14n10\n",
      "     55199725_1314    owners step62.b     eila  R    1:08:52      1 sh02-14n10\n",
      "     55199725_1315    owners step62.b     eila  R    1:08:52      1 sh02-14n10\n",
      "     55199725_1306    owners step62.b     eila  R    1:18:42      1 sh03-11n14\n",
      "     55199725_1307    owners step62.b     eila  R    1:18:42      1 sh03-11n02\n",
      "     55199725_1308    owners step62.b     eila  R    1:18:42      1 sh03-11n02\n",
      "     55199725_1309    owners step62.b     eila  R    1:18:42      1 sh03-11n02\n",
      "     55199725_1300    owners step62.b     eila  R    1:29:29      1 sh02-15n06\n",
      "     55199725_1301    owners step62.b     eila  R    1:29:29      1 sh02-15n06\n",
      "     55199725_1302    owners step62.b     eila  R    1:29:29      1 sh02-15n06\n",
      "     55199725_1303    owners step62.b     eila  R    1:29:29      1 sh03-11n04\n",
      "     55199725_1304    owners step62.b     eila  R    1:29:29      1 sh02-13n02\n",
      "     55199725_1305    owners step62.b     eila  R    1:29:29      1 sh03-11n11\n",
      "     55199725_1299    owners step62.b     eila  R    1:36:30      1 sh03-18n14\n",
      "     55199725_1298    owners step62.b     eila  R    1:42:03      1 sh03-11n09\n",
      "     55199725_1297    owners step62.b     eila  R    1:50:49      1 sh03-11n06\n",
      "     55199725_1291    owners step62.b     eila  R    1:56:34      1 sh03-11n09\n",
      "     55199725_1292    owners step62.b     eila  R    1:56:34      1 sh03-11n09\n",
      "     55199725_1293    owners step62.b     eila  R    1:56:34      1 sh03-14n01\n",
      "     55199725_1294    owners step62.b     eila  R    1:56:34      1 sh03-13n14\n",
      "     55199725_1289    owners step62.b     eila  R    2:07:56      1 sh03-13n13\n",
      "     55199725_1287    owners step62.b     eila  R    2:21:43      1 sh03-11n07\n",
      "     55199725_1288    owners step62.b     eila  R    2:21:43      1 sh03-13n04\n",
      "     55199725_1282    owners step62.b     eila  R    2:29:56      1 sh02-15n03\n",
      "     55199725_1283    owners step62.b     eila  R    2:29:56      1 sh02-15n03\n",
      "     55199725_1284    owners step62.b     eila  R    2:29:56      1 sh02-15n03\n",
      "     55199725_1285    owners step62.b     eila  R    2:29:56      1 sh02-15n03\n",
      "     55199725_1286    owners step62.b     eila  R    2:29:56      1 sh02-15n03\n",
      "     55199725_1281    owners step62.b     eila  R    2:47:40      1 sh03-13n03\n",
      "     55199725_1279    owners step62.b     eila  R    3:10:27      1 sh03-13n15\n",
      "     55199725_1280    owners step62.b     eila  R    3:10:27      1 sh03-13n15\n",
      "     55199725_1276    owners step62.b     eila  R    3:21:23      1 sh02-12n16\n",
      "     55199725_1277    owners step62.b     eila  R    3:21:23      1 sh02-12n16\n",
      "     55199725_1278    owners step62.b     eila  R    3:21:23      1 sh02-12n16\n",
      "     55199725_1274    owners step62.b     eila  R    3:31:24      1 sh02-15n08\n",
      "     55199725_1275    owners step62.b     eila  R    3:31:24      1 sh03-13n08\n",
      "     55199725_1272    owners step62.b     eila  R    3:40:13      1 sh02-12n14\n",
      "     55199725_1273    owners step62.b     eila  R    3:40:13      1 sh02-12n13\n",
      "     55199725_1269    owners step62.b     eila  R    4:03:21      1 sh03-13n12\n",
      "     55199725_1270    owners step62.b     eila  R    4:03:21      1 sh03-13n12\n",
      "     55199725_1268    owners step62.b     eila  R    4:22:16      1 sh02-14n14\n",
      "     55199725_1267    owners step62.b     eila  R    4:34:09      1 sh03-13n04\n",
      "     55199725_1265    owners step62.b     eila  R    4:47:15      1 sh02-12n13\n",
      "     55199725_1264    owners step62.b     eila  R    5:08:38      1 sh02-12n13\n",
      "     55199725_1262    owners step62.b     eila  R    6:59:54      1 sh03-13n08\n",
      "     55199725_1261    owners step62.b     eila  R    7:32:27      1 sh02-13n10\n",
      "     55199725_1260    owners step62.b     eila  R    7:50:46      1 sh03-14n02\n",
      "     55199725_1259    owners step62.b     eila  R    8:47:02      1 sh02-14n09\n",
      "     55199725_1257    owners step62.b     eila  R    9:15:12      1 sh03-13n03\n",
      "     55199725_1258    owners step62.b     eila  R    9:15:12      1 sh03-13n03\n",
      "     55199725_1256    owners step62.b     eila  R    9:20:59      1 sh03-13n05\n",
      "     55199725_1254    owners step62.b     eila  R    9:36:11      1 sh02-14n14\n",
      "     55199725_1255    owners step62.b     eila  R    9:36:11      1 sh02-14n14\n",
      "     55199725_1227 owners,ak step62.b     eila PD       0:00      1 (Resources)\n",
      "     55199725_1319 owners,ak step62.b     eila PD       0:00      1 (Resources)\n",
      "     55199725_1310 owners,ak step62.b     eila PD       0:00      1 (Resources)\n",
      "     55199725_1296 owners,ak step62.b     eila PD       0:00      1 (Resources)\n",
      "     55199725_1295 owners,ak step62.b     eila PD       0:00      1 (Resources)\n",
      "     55199725_1290 owners,ak step62.b     eila PD       0:00      1 (Resources)\n",
      "     55199725_1252 owners,ak step62.b     eila PD       0:00      1 (Resources)\n",
      "     55199725_1247 owners,ak step62.b     eila PD       0:00      1 (Resources)\n",
      "     55199725_1217 owners,ak step62.b     eila PD       0:00      1 (Resources)\n",
      "     55199725_1156 owners,ak step62.b     eila PD       0:00      1 (Resources)\n",
      "     55199725_1154 owners,ak step62.b     eila PD       0:00      1 (Resources)\n",
      "     55199725_1150 owners,ak step62.b     eila PD       0:00      1 (Resources)\n",
      "     55199725_1146 owners,ak step62.b     eila PD       0:00      1 (Resources)\n"
     ]
    }
   ],
   "source": [
    "!squeue --user=$USER"
   ]
  },
  {
   "cell_type": "code",
   "execution_count": 7,
   "id": "08016a6e-3f6b-44c0-ba36-faf5a13662f7",
   "metadata": {},
   "outputs": [],
   "source": [
    "# !scancel 54958967\n",
    "# !scancel 54958966\n",
    "# !ls ./steps_inputs/step6/"
   ]
  },
  {
   "cell_type": "code",
   "execution_count": 8,
   "id": "4a80fc2f-91ed-4716-b31e-2ddca8cdd593",
   "metadata": {},
   "outputs": [
    {
     "name": "stdout",
     "output_type": "stream",
     "text": [
      "706\n"
     ]
    }
   ],
   "source": [
    "!ls /scratch/groups/akundaje/eila/encode_pseudobulks/encode_pseudobulks_model_training/human/*/*/fold_0/step62.bpnetPipeline/evaluation/overall_report.html | wc -l \n",
    "#706\n"
   ]
  },
  {
   "cell_type": "code",
   "execution_count": 9,
   "id": "e8560dc5-3a7e-46cb-a02f-3c0232be5603",
   "metadata": {},
   "outputs": [
    {
     "name": "stdout",
     "output_type": "stream",
     "text": [
      "457\n"
     ]
    }
   ],
   "source": [
    "\n",
    "# fold 1:\n",
    "!ls /scratch/groups/akundaje/eila/encode_pseudobulks/encode_pseudobulks_model_training/human/*/*/fold_1/step62.bpnetPipeline/evaluation/overall_report.html | wc -l \n",
    "# 457\n",
    "\n"
   ]
  },
  {
   "cell_type": "code",
   "execution_count": 10,
   "id": "2c5abbc8-9e42-4128-9de7-1076821a9fa7",
   "metadata": {},
   "outputs": [
    {
     "name": "stdout",
     "output_type": "stream",
     "text": [
      "214\n"
     ]
    }
   ],
   "source": [
    "\n",
    "# fold 2:\n",
    "!ls /scratch/groups/akundaje/eila/encode_pseudobulks/encode_pseudobulks_model_training/human/*/*/fold_2/step62.bpnetPipeline/evaluation/overall_report.html | wc -l \n",
    "# 214\n",
    "\n"
   ]
  },
  {
   "cell_type": "code",
   "execution_count": 11,
   "id": "759c2450-8f54-4938-abd9-3236346c5155",
   "metadata": {},
   "outputs": [
    {
     "name": "stdout",
     "output_type": "stream",
     "text": [
      "197\n"
     ]
    }
   ],
   "source": [
    "\n",
    "\n",
    "# fold 3:\n",
    "!ls /scratch/groups/akundaje/eila/encode_pseudobulks/encode_pseudobulks_model_training/human/*/*/fold_3/step62.bpnetPipeline/evaluation/overall_report.html | wc -l \n",
    "# 197\n",
    "\n"
   ]
  },
  {
   "cell_type": "code",
   "execution_count": 12,
   "id": "17ef58e3-feca-4141-81c9-8fd0464008b9",
   "metadata": {},
   "outputs": [
    {
     "name": "stdout",
     "output_type": "stream",
     "text": [
      "210\n"
     ]
    }
   ],
   "source": [
    "\n",
    "\n",
    "# fold 4:\n",
    "!ls /scratch/groups/akundaje/eila/encode_pseudobulks/encode_pseudobulks_model_training/human/*/*/fold_4/step62.bpnetPipeline/evaluation/overall_report.html | wc -l \n",
    "\n",
    "# 210\n"
   ]
  },
  {
   "cell_type": "code",
   "execution_count": 13,
   "id": "759bf51b-b5b9-4540-8bff-c372f36ed811",
   "metadata": {},
   "outputs": [
    {
     "name": "stdout",
     "output_type": "stream",
     "text": [
      "1784\n"
     ]
    }
   ],
   "source": [
    "\n",
    "\n",
    "# all folds:\n",
    "!ls /scratch/groups/akundaje/eila/encode_pseudobulks/encode_pseudobulks_model_training/human/*/*/*/step62.bpnetPipeline/evaluation/overall_report.html | wc -l \n",
    "# 1784\n",
    "\n"
   ]
  },
  {
   "cell_type": "code",
   "execution_count": 9,
   "id": "41914edf-9726-441c-a5ae-55a74191c767",
   "metadata": {},
   "outputs": [],
   "source": [
    "# !scancel 54084823"
   ]
  },
  {
   "cell_type": "code",
   "execution_count": 9,
   "id": "66ce8732-61d7-458c-a6fa-de4c26c5b678",
   "metadata": {},
   "outputs": [],
   "source": [
    "# !squeue -u $USER -o \"%i %j\" | grep step5Neg\n"
   ]
  },
  {
   "cell_type": "code",
   "execution_count": 44,
   "id": "224f0409-6634-4be7-bba2-1303834e7842",
   "metadata": {},
   "outputs": [],
   "source": [
    " # scp -r eila@login.sherlock.stanford.edu:/scratch/users/eila/encode_pseudobulks_model_training/human/ENCSR037JDN/ENCFF933KCP/fold_1_30000_20240912_182023/evaluation . \n",
    "\n",
    "# !rm ./local_logs/slurm_samools_err.combined.err\n",
    "# !rm ./local_logs/slurm_samools_out.combined.out"
   ]
  }
 ],
 "metadata": {
  "kernelspec": {
   "display_name": "Python 3 (ipykernel)",
   "language": "python",
   "name": "python3"
  },
  "language_info": {
   "codemirror_mode": {
    "name": "ipython",
    "version": 3
   },
   "file_extension": ".py",
   "mimetype": "text/x-python",
   "name": "python",
   "nbconvert_exporter": "python",
   "pygments_lexer": "ipython3",
   "version": "3.12.4"
  }
 },
 "nbformat": 4,
 "nbformat_minor": 5
}
