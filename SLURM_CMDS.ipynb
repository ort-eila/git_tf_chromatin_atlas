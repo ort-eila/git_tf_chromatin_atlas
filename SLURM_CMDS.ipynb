{
 "cells": [
  {
   "cell_type": "code",
   "execution_count": 1,
   "id": "de058c7e-57db-4c6a-814b-8b4f324a61d1",
   "metadata": {},
   "outputs": [],
   "source": [
    "# for all execution\n",
    "!mkdir -p local_logs"
   ]
  },
  {
   "cell_type": "code",
   "execution_count": 4,
   "id": "03f0a817-de06-4932-8013-9071f3131da6",
   "metadata": {},
   "outputs": [],
   "source": [
    "from dotenv import load_dotenv\n",
    "import os\n",
    "\n",
    "# Load environment variables from the .env file\n",
    "load_dotenv()\n",
    "\n",
    "# Access the variables\n",
    "ACCESS_KEY = os.getenv('ACCESS_KEY')\n",
    "SECRET_KEY = os.getenv('SECRET_KEY')\n"
   ]
  },
  {
   "cell_type": "code",
   "execution_count": 5,
   "id": "90fae31a-71f4-4179-8a39-ac8d80d85b5f",
   "metadata": {},
   "outputs": [
    {
     "name": "stdout",
     "output_type": "stream",
     "text": [
      "      User   Def Acct     Admin    Cluster    Account  Partition     Share   Priority MaxJobs MaxNodes  MaxCPUs MaxSubmit     MaxWall  MaxCPUMins                  QOS   Def QOS \n",
      "---------- ---------- --------- ---------- ---------- ---------- --------- ---------- ------- -------- -------- --------- ----------- ----------- -------------------- --------- \n",
      "      eila   akundaje      None   sherlock   akundaje                  100                                                                               high_p,normal    normal \n"
     ]
    }
   ],
   "source": [
    "!sacctmgr show user $USER withassoc\n",
    "\n"
   ]
  },
  {
   "cell_type": "code",
   "execution_count": 6,
   "id": "805ee7a0-db82-4cdb-9819-f9ea1793a9b6",
   "metadata": {},
   "outputs": [],
   "source": [
    "# !echo $ACCESS_KEY\n",
    "# !echo $SECRET_KEY"
   ]
  },
  {
   "cell_type": "code",
   "execution_count": 7,
   "id": "62f6a470-3cb6-4e08-9b9d-0e04039aef6f",
   "metadata": {},
   "outputs": [],
   "source": [
    "# check the jobs:"
   ]
  },
  {
   "cell_type": "code",
   "execution_count": 8,
   "id": "09e462e4-3727-496d-ad12-07ab54ce6bf5",
   "metadata": {},
   "outputs": [
    {
     "name": "stdout",
     "output_type": "stream",
     "text": [
      "             JOBID PARTITION     NAME     USER ST       TIME  NODES NODELIST(REASON)\n"
     ]
    }
   ],
   "source": [
    "!squeue -u eila\n"
   ]
  },
  {
   "cell_type": "code",
   "execution_count": 9,
   "id": "45cd79d9-e485-4ae9-ae12-b2ba1165d2a1",
   "metadata": {},
   "outputs": [],
   "source": [
    "# !squeue -u eila"
   ]
  },
  {
   "cell_type": "code",
   "execution_count": 10,
   "id": "cded3088-39ff-433a-8cda-af7081899c67",
   "metadata": {},
   "outputs": [],
   "source": [
    "# !squeue -u eila"
   ]
  },
  {
   "cell_type": "code",
   "execution_count": 11,
   "id": "cac6e64b-8398-4599-afa0-4874943fc96e",
   "metadata": {},
   "outputs": [],
   "source": [
    "# !scancel -u eila"
   ]
  },
  {
   "cell_type": "code",
   "execution_count": 12,
   "id": "8740142d-272c-4b01-a6af-f76562da4d50",
   "metadata": {},
   "outputs": [],
   "source": [
    "# !squeue -u eila --name=step1-do\n"
   ]
  },
  {
   "cell_type": "code",
   "execution_count": 13,
   "id": "ec5506ee-1145-47a3-a9ac-7f12ecf41da1",
   "metadata": {},
   "outputs": [],
   "source": [
    "# !chmod +x execute_sbatch_arrays_on_sherlock.py \n",
    "\n",
    "# eila_in_download_bams.txt: The input file name.\n",
    "# step1-download-bams.sh: The SLURM script name.\n",
    "# 1: entries_per_job (number of entries per job). - how much is each job needs\n",
    "# 1: max_concurrent_tasks (maximum number of concurrent tasks). - 500 for stanford\n",
    "\n",
    "\n",
    "# example for input of 1300 lines:\n",
    "# ./execute_sbatch_arrays_on_sherlock.sh eila_in_download_bams.txt step1-download-bams.sh 500 500\n",
    "# Breakdown:\n",
    "# eila_in_download_bams.txt: The input file with 1200 lines.\n",
    "# step1-download-bams.sh: The SLURM script to run.\n",
    "# 500: Number of lines per job array (tasks per array).\n",
    "# 500: Maximum number of concurrent tasks per array."
   ]
  },
  {
   "cell_type": "code",
   "execution_count": 17,
   "id": "af8a9b54-759d-4bac-931b-850fca1c5a12",
   "metadata": {},
   "outputs": [
    {
     "name": "stdout",
     "output_type": "stream",
     "text": [
      "01_samtools_merge.sh\n",
      "01_utils_rsync.sh\n",
      "02_samtools_sort.sh\n",
      "03_samtools_index.sh\n",
      "04_chrombpnet_pipeline.sh\n",
      "bam_files_list.txt\n",
      "chrombpnet_tutorial\n",
      "conda_chrombpnet_installation_cmds.txt\n",
      "copy_logs_from_local_machine.txt\n",
      "execute_sbatch_arrays_on_sherlock.sh\n",
      "extracted_data.csv\n",
      "intermediate_merged.bam\n",
      "local_logs\n",
      "output_file.csv\n",
      "shared_vars.sh\n",
      "SLURM_CMDS.ipynb\n",
      "step1-download-bams.sh\n",
      "step2-samtool-sort-index.sh\n",
      "step3-download-peaks.sh\n",
      "step4-compute-negatives-non-peak-background.sh\n",
      "step5-1-create_input.sh\n",
      "step5-2-chrombpnet-pipelline.sh\n",
      "step6-contrib.ipynb\n",
      "step6-contrib.sh\n",
      "steps_inputs\n"
     ]
    }
   ],
   "source": [
    "!ls\n",
    "# !pwd"
   ]
  },
  {
   "cell_type": "code",
   "execution_count": 16,
   "id": "a7e03c65-a985-47f7-9788-7107fffd9270",
   "metadata": {},
   "outputs": [
    {
     "name": "stdout",
     "output_type": "stream",
     "text": [
      "/oak/stanford/groups/akundaje/eila/git_tf_chromatin_atlas/steps_inputs/step1/eila_encids_with_bam_urls-ENCSR164EBP.txt\n"
     ]
    }
   ],
   "source": [
    "!ls /oak/stanford/groups/akundaje/eila/git_tf_chromatin_atlas/steps_inputs/step1/eila_encids_with_bam_urls-ENCSR164EBP.txt"
   ]
  },
  {
   "cell_type": "code",
   "execution_count": 20,
   "id": "01be7f93-162d-4528-9a47-872d8ad33da7",
   "metadata": {},
   "outputs": [
    {
     "name": "stdout",
     "output_type": "stream",
     "text": [
      "Total entries in input file: 1\n",
      "Total number of job arrays to be submitted: 1\n",
      "Submitting job array from 1 to 1 with a maximum of 2 concurrent tasks.\n",
      "sbatch: defined options\n",
      "sbatch: -------------------- --------------------\n",
      "sbatch: array               : 1-1%2\n",
      "sbatch: cpus-per-task       : 4\n",
      "sbatch: error               : /oak/stanford/groups/akundaje/eila/git_tf_chromatin_atlas/local_logs/slurm_step1_download_bams_err.combined.err\n",
      "sbatch: mail-type           : INVALID_DEPEND,BEGIN,END,FAIL,REQUEUE,STAGE_OUT\n",
      "sbatch: mail-user           : eila@stanford.edu\n",
      "sbatch: mem                 : 4G\n",
      "sbatch: ntasks              : 1\n",
      "sbatch: output              : /oak/stanford/groups/akundaje/eila/git_tf_chromatin_atlas/local_logs/slurm_step1_download_bams_out.combined.out\n",
      "sbatch: partition           : akundaje,owners\n",
      "sbatch: time                : 00:35:00\n",
      "sbatch: verbose             : 1\n",
      "sbatch: -------------------- --------------------\n",
      "sbatch: end of defined options\n",
      "Submitted batch job 53458602\n"
     ]
    }
   ],
   "source": [
    "# step 1\n",
    "from dotenv import load_dotenv\n",
    "import os\n",
    "\n",
    "# Load environment variables from the .env file\n",
    "load_dotenv()\n",
    "\n",
    "# Access the variables\n",
    "ACCESS_KEY = os.getenv('ACCESS_KEY')\n",
    "SECRET_KEY = os.getenv('SECRET_KEY')\n",
    "\n",
    "# !echo $ACCESS_KEY\n",
    "# !echo $SECRET_KEY\n",
    "\n",
    "# !rm ./local_logs/slurm_step1_download_bams*\n",
    "# !scancel -u eila\n",
    "# !./execute_sbatch_arrays_on_sherlock.sh /oak/stanford/groups/akundaje/eila/git_tf_chromatin_atlas/steps_inputs/step1/eila_encids_with_bam_urls.txt step1-download-bams.sh 1000 1000\n",
    "# !./execute_sbatch_arrays_on_sherlock.sh /oak/stanford/groups/akundaje/eila/git_tf_chromatin_atlas/steps_inputs/step1/eila_encids_with_bam_urls-debug.txt step1-download-bams.sh 2 2\n",
    "\n",
    "\n",
    "!./execute_sbatch_arrays_on_sherlock.sh /oak/stanford/groups/akundaje/eila/git_tf_chromatin_atlas/steps_inputs/step1/eila_encids_with_bam_urls-ENCSR164EBP.txt step1-download-bams.sh 2 2\n",
    "\n",
    "\n"
   ]
  },
  {
   "cell_type": "code",
   "execution_count": 86,
   "id": "851e4601-ac39-432d-b371-039e6a9e7e0a",
   "metadata": {},
   "outputs": [],
   "source": [
    "# !ls $GROUP_SCRATCH/$USER/encode_pseudobulks/encode_pseudobulks_data/bams/ENCSR*/*_sorted.bam | head "
   ]
  },
  {
   "cell_type": "code",
   "execution_count": 87,
   "id": "b6729ae4-bc32-49c1-bc80-18d5fd34ffb9",
   "metadata": {},
   "outputs": [],
   "source": [
    "# !ls /scratch/users/eila/encode_pseudobulks_data/bam/ENCSR*/*unsorted.bam > /oak/stanford/groups/akundaje/eila/git_tf_chromatin_atlas/steps_inputs/step2/bam_files_list.txt\n",
    "\n"
   ]
  },
  {
   "cell_type": "code",
   "execution_count": 2,
   "id": "894b8758-904b-4395-a3b3-93ca4de41238",
   "metadata": {},
   "outputs": [],
   "source": [
    "# #step 2 - samtools sort and index\n",
    "# !ls /scratch/users/eila/encode_pseudobulks_data/bam/ENCSR*/*unsorted.bam > /oak/stanford/groups/akundaje/eila/git_tf_chromatin_atlas/steps_inputs/step2/bam_files_list.txt\n",
    "\n",
    "# !./execute_sbatch_arrays_on_sherlock.sh /oak/stanford/groups/akundaje/eila/git_tf_chromatin_atlas/steps_inputs/step2/bam_files_list.txt step2-samtool-sort-index.sh 1000 1000\n",
    "\n"
   ]
  },
  {
   "cell_type": "code",
   "execution_count": 3,
   "id": "2944e9df-0825-4d7a-b3d7-68384db3afe4",
   "metadata": {},
   "outputs": [],
   "source": [
    "#step 3 - peaks - independant of BAMS:\n",
    "\n",
    "# !rm !rm ./local_logs/slurm_step3_peaks*\n",
    "# !./execute_sbatch_arrays_on_sherlock.sh /oak/stanford/groups/akundaje/eila/git_tf_chromatin_atlas/steps_inputs/step3/eila_peaks_matched_to_experiments.txt step3-download-peaks.sh 1000 1000\n",
    "\n",
    "# debug\n",
    "# !./execute_sbatch_arrays_on_sherlock.sh /oak/stanford/groups/akundaje/eila/git_tf_chromatin_atlas/steps_inputs/step3/eila_peaks_matched_to_experiments-debug.txt step3-download-peaks.sh 2 2\n",
    "\n",
    "\n"
   ]
  },
  {
   "cell_type": "code",
   "execution_count": 10,
   "id": "88094706-07b5-4476-ad5c-cc8f5b745793",
   "metadata": {},
   "outputs": [],
   "source": [
    "# !pip install pandas"
   ]
  },
  {
   "cell_type": "code",
   "execution_count": 11,
   "id": "d29421a3-1600-4f73-859f-e9113c251c5a",
   "metadata": {},
   "outputs": [],
   "source": [
    "# # input file for step4:\n",
    "\n",
    "# import pandas as pd\n",
    "\n",
    "# # Read the species file\n",
    "# species_df = pd.read_csv('./steps_inputs/encids_matched_to_species.txt', sep='\\t', header=None, names=['ID', 'Species'])\n",
    "\n",
    "# # Read the data file\n",
    "# data_df = pd.read_csv('./steps_inputs/step4/peaks_matched_to_experiments.txt', sep=' ', header=None, names=['ID', 'ENCFF', 'Type', 'URL'])\n",
    "\n",
    "# # Merge the data files based on the ID\n",
    "# merged_df = pd.merge(data_df, species_df, left_on='ID', right_on='ID', how='left')\n",
    "\n",
    "# # Save the merged data to a new file\n",
    "# merged_df.to_csv('./steps_inputs/step4/peaks_matched_to_experiments_species.txt', sep=' ', index=False, header=False)\n",
    "\n"
   ]
  },
  {
   "cell_type": "code",
   "execution_count": 12,
   "id": "1643e458-73d9-41dc-ae37-a1475ea29c11",
   "metadata": {},
   "outputs": [],
   "source": [
    "# #step 4 - non-peaks / background / negative - human:\n",
    "\n",
    "# debug\n",
    "# !rm ./local_logs/slurm_step4_negative_*\n",
    "# !rm -r $SCRATCH/encode_pseudobulks_negative\n",
    "# !./execute_sbatch_arrays_on_sherlock.sh ./steps_inputs/step4/debug_peaks_matched_to_experiments.txt step4-compute-negatives-non-peak-background.sh 2 2\n",
    "\n",
    "# ## all samples\n",
    "# ## !./execute_sbatch_arrays_on_sherlock.sh ./steps_inputs/step4/peaks_matched_to_experiments_species.txt step4-compute-negatives-non-peak-background.sh 1000 1000\n"
   ]
  },
  {
   "cell_type": "code",
   "execution_count": 277,
   "id": "1dcb1377-ba1f-44fe-9358-1821246bd65a",
   "metadata": {},
   "outputs": [],
   "source": [
    "\n",
    "# !rm ./local_logs/slurm.allQuotegpuEp1.01.combined*\n",
    "# !ls"
   ]
  },
  {
   "cell_type": "code",
   "execution_count": 22,
   "id": "ec8bbe1c-e4d5-4be9-93e4-e73222de149e",
   "metadata": {},
   "outputs": [
    {
     "name": "stdout",
     "output_type": "stream",
     "text": [
      "File has been generated at: ./steps_inputs/step5/extracted_paths.txt\n"
     ]
    }
   ],
   "source": [
    "# prep for step 5\n",
    "# !chmod +x step5-2-train.sh\n",
    "# !./step5-1-create_input.sh\n",
    "# !rm ./local_logs/slurm_step5_2*\n",
    "# !./execute_sbatch_arrays_on_sherlock.sh ./steps_inputs/step5/debug-extracted_paths.txt step5-2-train-chrombpnet-model.sh 2 2\n",
    "\n",
    "\n",
    "\n",
    "\n",
    "# !./execute_sbatch_arrays_on_sherlock.sh ./steps_inputs/step5/debug-one-extracted_paths.txt step5-2-train-chrombpnet-model.sh 1 1\n",
    "\n",
    "\n",
    "# !./execute_sbatch_arrays_on_sherlock.sh ./steps_inputs/step5/extracted_paths.csv step5-2-train-chrombonet-model.sh 1000 1000\n",
    "# !./execute_sbatch_arrays_on_sherlock.sh ./steps_inputs/step5/debug-one-30000-extracted_paths.txt step5-2-train-chrombpnet-model.sh 1 1\n",
    "# !./execute_sbatch_arrays_on_sherlock.sh ./steps_inputs/step5/debug-one-30000-extracted_paths.txt step5-2-train-chrombpnet-model.sh 2 2\n"
   ]
  },
  {
   "cell_type": "code",
   "execution_count": 51,
   "id": "9bea715c-6947-492d-844b-a59f34015a92",
   "metadata": {},
   "outputs": [],
   "source": [
    "# Next: \n",
    "# array_job_interpret_example.sh - with 1000 peaks. counts and profile - two heads (one after the other)\n",
    "# seperate the profile from the counts - so we will not have timeput\n",
    "# note: can also run profile and counts steps separately (will have more jobs, each will take less time)\n",
    "# This need to be updated. https://github.com/kundajelab/chrombpnet/wiki/Generate-contribution-score-bigwigs\n",
    "# -pc for counts. -pc for profile. can be as paraemterts with the value of the -pc and one script.\n",
    "# chrombpnet contribs_bw \\\n",
    "#  -m ${MODEL_PATH} \\\n",
    "#  -r ${REGIONS_PATH} \\\n",
    "#  -g /oak/stanford/groups/akundaje/ziwei75/atac_seq_pipeline/hg38/GRCh38_no_alt_analysis_set_GCA_000001405.15.fasta \\ # update this for mouse\n",
    "#  -c /oak/stanford/groups/akundaje/ziwei75/atac_seq_pipeline/hg38/GRCh38_EBV.chrom.sizes.tsv \\ # update this for mouse\n",
    "#  -op ${output_dir}/${ENCSR_ID} | tee -a $log\n",
    "# comment the counts\n",
    "# change to $SCRATCH_GOUP\n",
    "# copy to $SCRATCH_GOUP whatever is remaining.\n",
    "# "
   ]
  },
  {
   "cell_type": "code",
   "execution_count": 52,
   "id": "5821672b-ff92-4a26-ab41-f9d2cd59c48e",
   "metadata": {},
   "outputs": [],
   "source": [
    "# !sstat -j 52658719 --format=JobID,MaxRSS,MaxVMSize\n"
   ]
  },
  {
   "cell_type": "code",
   "execution_count": 53,
   "id": "1d19f5fc-9521-41f8-bd21-d3e51d023468",
   "metadata": {},
   "outputs": [],
   "source": [
    "# !scontrol show job 52659563\n"
   ]
  },
  {
   "cell_type": "code",
   "execution_count": 1,
   "id": "2b4a5a21-b4e5-4a0e-b2e6-5bd37b3222f4",
   "metadata": {},
   "outputs": [
    {
     "name": "stdout",
     "output_type": "stream",
     "text": [
      "             JOBID PARTITION     NAME     USER ST       TIME  NODES NODELIST(REASON)\n"
     ]
    }
   ],
   "source": [
    "!squeue --user=$USER"
   ]
  },
  {
   "cell_type": "code",
   "execution_count": 81,
   "id": "c3963704-cc94-4c58-b481-106aa5628e4b",
   "metadata": {},
   "outputs": [],
   "source": [
    "# !scancel -u eila"
   ]
  },
  {
   "cell_type": "code",
   "execution_count": 82,
   "id": "3924921e-6fd3-43d5-bff5-8918553ba88a",
   "metadata": {},
   "outputs": [],
   "source": [
    "# !scancel 53227216"
   ]
  },
  {
   "cell_type": "code",
   "execution_count": 92,
   "id": "804b2bb7-617b-4e52-9ebd-f96ba8e430b4",
   "metadata": {},
   "outputs": [
    {
     "name": "stdout",
     "output_type": "stream",
     "text": [
      "             JOBID PARTITION     NAME     USER ST       TIME  NODES NODELIST(REASON)\n",
      "          53430788    owners gpu_ENCS     eila  R    2:02:55      1 sh02-14n15\n",
      "    53440165_[1%2] owners,ak step3-do     eila PD       0:00      1 (Priority)\n",
      "53435726_[109-1000 owners,ak step1-do     eila PD       0:00      1 (Resources)\n",
      "53440137_[1001-135 owners,ak step2-sa     eila PD       0:00      1 (Priority)\n",
      "53440135_[1-1000%1 owners,ak step2-sa     eila PD       0:00      1 (Priority)\n"
     ]
    }
   ],
   "source": [
    "!squeue --user=$USER"
   ]
  },
  {
   "cell_type": "code",
   "execution_count": 84,
   "id": "309ec7d2-ef76-4962-8a6c-77638f5af29d",
   "metadata": {},
   "outputs": [],
   "source": [
    "# #step 5 - train chrombpnet - human\n",
    "\n",
    "# !./execute_sbatch_arrays_on_sherlock.sh ./steps_inputs/step5/human/eila_peaks_matched_to_experiments-debug.txt step4-compute-negatives-non-peak-background.sh 2 2\n",
    "\n",
    "\n"
   ]
  },
  {
   "cell_type": "code",
   "execution_count": 21,
   "id": "4f349b2a-9876-4b6a-b233-42728185b20b",
   "metadata": {},
   "outputs": [],
   "source": [
    "# !ls /scratch/users/eila/encode_pseudobulks/chrombpnet_model"
   ]
  },
  {
   "cell_type": "code",
   "execution_count": 22,
   "id": "df692af2-5582-4f35-a382-e211820e4f0c",
   "metadata": {},
   "outputs": [],
   "source": [
    "# !ls /scratch/users/eila/encode_pseudobulks/chrombpnet_model/ENCSR396HHA\n"
   ]
  },
  {
   "cell_type": "code",
   "execution_count": 23,
   "id": "88878e8f-f9a1-4fc0-9a35-ba6509d34afd",
   "metadata": {},
   "outputs": [],
   "source": [
    "# !ls /scratch/users/eila/encode_pseudobulks/chrombpnet_model/ENCSR396HHA/negatives/fold_0\n"
   ]
  },
  {
   "cell_type": "code",
   "execution_count": 24,
   "id": "28bbe918-c9d4-4acf-8ae3-30656b2757bf",
   "metadata": {},
   "outputs": [
    {
     "name": "stdout",
     "output_type": "stream",
     "text": [
      "3\n"
     ]
    }
   ],
   "source": [
    "# !scontrol show job 52237837\n",
    "!squeue --user=$USER --state=PENDING | wc -l"
   ]
  },
  {
   "cell_type": "code",
   "execution_count": 25,
   "id": "b66fe21a-a572-45c3-84be-ac0cd575ba75",
   "metadata": {},
   "outputs": [
    {
     "name": "stdout",
     "output_type": "stream",
     "text": [
      "1\n"
     ]
    }
   ],
   "source": [
    "!squeue --user=$USER --state=COMPLETED | wc -l"
   ]
  },
  {
   "cell_type": "code",
   "execution_count": 26,
   "id": "89f4c495-59c3-483d-bd4a-5255595af6fd",
   "metadata": {},
   "outputs": [],
   "source": [
    "# !squeue --user=$USER --state=RUNNING"
   ]
  },
  {
   "cell_type": "code",
   "execution_count": 196,
   "id": "4a3a2f9b-601d-4e86-9fb7-ba7a3dd79edc",
   "metadata": {},
   "outputs": [
    {
     "name": "stdout",
     "output_type": "stream",
     "text": [
      "             JOBID PARTITION     NAME     USER ST       TIME  NODES NODELIST(REASON)\n",
      "          53289142 owners,ak cE-1.01G     eila PD       0:00      1 (Priority)\n",
      "          53289110 owners,ak cE-1.01G     eila PD       0:00      1 (Priority)\n",
      "          53278339 owners,ak 04_train     eila PD       0:00      1 (Priority)\n",
      "          53277920 owners,ak 04_pipel     eila PD       0:00      1 (Priority)\n"
     ]
    }
   ],
   "source": [
    "!squeue --user=$USER --state=PENDING\n"
   ]
  },
  {
   "cell_type": "code",
   "execution_count": 28,
   "id": "16662045-05db-45d5-b261-c686a54e9c15",
   "metadata": {},
   "outputs": [
    {
     "name": "stdout",
     "output_type": "stream",
     "text": [
      "eila\n"
     ]
    }
   ],
   "source": [
    "!echo $USER"
   ]
  },
  {
   "cell_type": "code",
   "execution_count": 29,
   "id": "067ee76b-968d-4ee2-88ca-3513ad26f0ee",
   "metadata": {},
   "outputs": [],
   "source": [
    "# !scontrol show job 52275013\n"
   ]
  },
  {
   "cell_type": "code",
   "execution_count": 30,
   "id": "6d03ac10-3c0b-431e-a223-fe6e187349c6",
   "metadata": {},
   "outputs": [],
   "source": [
    "# !squeue -u eila\n"
   ]
  },
  {
   "cell_type": "code",
   "execution_count": 31,
   "id": "434a92ae-78f4-41c3-ba51-339a8e5f67e9",
   "metadata": {},
   "outputs": [],
   "source": [
    "# !squeue --user=$USER --state=PENDING\n"
   ]
  },
  {
   "cell_type": "code",
   "execution_count": 32,
   "id": "dc61c75d-b775-4223-af6f-defd7f983e37",
   "metadata": {},
   "outputs": [],
   "source": [
    "# !squeue --user=$USER --state=RUNNING\n"
   ]
  },
  {
   "cell_type": "code",
   "execution_count": 33,
   "id": "baa40ad4-0838-4827-a1f1-3cc444586f44",
   "metadata": {},
   "outputs": [
    {
     "name": "stdout",
     "output_type": "stream",
     "text": [
      "             JOBID PARTITION     NAME     USER ST       TIME  NODES NODELIST(REASON)\n"
     ]
    }
   ],
   "source": [
    "# !scontrol show job | grep $USER\n",
    "!squeue -u eila --state=FAILED,PREEMPTED,TIMEOUT,PREEMPTED,NODE_FAIL,CANCELLED"
   ]
  },
  {
   "cell_type": "code",
   "execution_count": 34,
   "id": "242b570b-3b46-430e-ad7e-78a6525eb288",
   "metadata": {},
   "outputs": [],
   "source": [
    "# !squeue -u eila -o \"%.18i %.9P %.12j %.8u %.2t %.10M %.10l %.10Q %.19V %.19S\"\n"
   ]
  },
  {
   "cell_type": "code",
   "execution_count": 35,
   "id": "e80ccc0e-c081-467c-aabc-42bf30a60b0c",
   "metadata": {},
   "outputs": [
    {
     "name": "stdout",
     "output_type": "stream",
     "text": [
      "/oak/stanford/groups/akundaje/eila/git_tf_chromatin_atlas\n"
     ]
    }
   ],
   "source": [
    "!pwd"
   ]
  },
  {
   "cell_type": "code",
   "execution_count": 36,
   "id": "3b4a2914-5d5b-4ed4-ac74-04a6e1bf1e90",
   "metadata": {},
   "outputs": [],
   "source": [
    "# !squeue -u eila"
   ]
  },
  {
   "cell_type": "code",
   "execution_count": 37,
   "id": "14f8fd3b-ca0b-40e3-a809-406a511143c9",
   "metadata": {},
   "outputs": [],
   "source": [
    "# Remove logs\n",
    "# !find ./local_logs/ -name '*slurm*' -type f -mmin +600 -exec rm {} \\;\n"
   ]
  },
  {
   "cell_type": "code",
   "execution_count": 46,
   "id": "98ca2ef4-31fc-4394-b416-6f792c0593f2",
   "metadata": {},
   "outputs": [
    {
     "name": "stdout",
     "output_type": "stream",
     "text": [
      "/scratch/users/eila/encode_pseudobulks_data/bam/ENCSR925AYP/ENCSR925AYP_sorted.bam\n"
     ]
    }
   ],
   "source": [
    "# !ls /scratch/users/eila/encode_pseudobulks_data/bam/ENCSR925AYP/ENCSR925AYP_sorted.bam "
   ]
  },
  {
   "cell_type": "code",
   "execution_count": 39,
   "id": "db55b4af-268a-4c93-88e7-fa4499dfa763",
   "metadata": {},
   "outputs": [],
   "source": [
    "# !ls /scratch/users/eila/encode_pseudobulks_data/ENCSR000NVR/peaks/ENCFF585MYS/ENCSR000NVR_ENCFF585MYS.bed.gz\n"
   ]
  },
  {
   "cell_type": "code",
   "execution_count": 47,
   "id": "87d6a660-5650-4575-afdc-cc2dd9b7a576",
   "metadata": {},
   "outputs": [
    {
     "name": "stdout",
     "output_type": "stream",
     "text": [
      "1355\n"
     ]
    }
   ],
   "source": [
    "!ls /scratch/users/eila/encode_pseudobulks_data/bam/*/*_sorted.bam | wc -l"
   ]
  },
  {
   "cell_type": "code",
   "execution_count": 48,
   "id": "827fb4a3-a92f-446b-b8d8-440aa4c1e5be",
   "metadata": {},
   "outputs": [
    {
     "name": "stdout",
     "output_type": "stream",
     "text": [
      "1355\n"
     ]
    }
   ],
   "source": [
    "!ls /scratch/users/eila/encode_pseudobulks_data/peaks/*/*/*.bed.gz | wc -l\n"
   ]
  },
  {
   "cell_type": "code",
   "execution_count": 49,
   "id": "66b50acb-ba88-459d-b774-c9519e3f8181",
   "metadata": {},
   "outputs": [
    {
     "name": "stdout",
     "output_type": "stream",
     "text": [
      "1355\n"
     ]
    }
   ],
   "source": [
    "!ls /scratch/users/eila/encode_pseudobulks_data/bam/*/*_unsorted.bam | wc -l"
   ]
  },
  {
   "cell_type": "code",
   "execution_count": 50,
   "id": "71560da8-095b-41b8-8195-ead3aa01d217",
   "metadata": {},
   "outputs": [],
   "source": [
    "# !rm ./local_logs/slurm_step1_download_bams_err.combined.err"
   ]
  },
  {
   "cell_type": "code",
   "execution_count": 51,
   "id": "22921f00-13e6-4ed1-9a1d-3ca2e2974ab3",
   "metadata": {},
   "outputs": [],
   "source": [
    "# !rm ./local_logs/slurm_step4*"
   ]
  },
  {
   "cell_type": "code",
   "execution_count": 53,
   "id": "30f0c0fb-8d4b-486b-8d25-3499b3aaf70b",
   "metadata": {},
   "outputs": [],
   "source": [
    "# !ls"
   ]
  },
  {
   "cell_type": "code",
   "execution_count": 54,
   "id": "1b9a985c-602e-48b3-943a-84729883d656",
   "metadata": {},
   "outputs": [
    {
     "name": "stdout",
     "output_type": "stream",
     "text": [
      "/oak/stanford/groups/akundaje/eila/git_tf_chromatin_atlas\n"
     ]
    }
   ],
   "source": [
    "!pwd"
   ]
  },
  {
   "cell_type": "code",
   "execution_count": 57,
   "id": "0a76c129-168a-4cf0-9b61-4c149ca0cbd2",
   "metadata": {},
   "outputs": [],
   "source": [
    "# !ls -l ./local_logs/slurm_step5*"
   ]
  },
  {
   "cell_type": "code",
   "execution_count": 58,
   "id": "e2b06aed-ebe2-4e79-b4f8-ef2925e082d8",
   "metadata": {},
   "outputs": [],
   "source": [
    "# bias - given for the train\n",
    "# train - on one file. provides correlation metrics. we need to look at the motifs that modisco populates\n",
    "#         model. modisco on subset of the peaks- subset is random. evaludation folder - modisco and interpret on 30K areas\n",
    "# QC\n",
    "# interpret on subset of the peaks.\n"
   ]
  },
  {
   "cell_type": "code",
   "execution_count": 59,
   "id": "b7aaa213-c515-4c83-9baa-9e8919d4a164",
   "metadata": {},
   "outputs": [
    {
     "name": "stdout",
     "output_type": "stream",
     "text": [
      "/home/users/eila\n"
     ]
    }
   ],
   "source": [
    "!echo $HOME"
   ]
  },
  {
   "cell_type": "code",
   "execution_count": 60,
   "id": "cd4ba86a-4125-4fac-a6ef-d743ba4f362a",
   "metadata": {},
   "outputs": [],
   "source": [
    "# %%bash\n",
    "\n",
    "# # Define the base directories\n",
    "# SRC_BASE=\"/scratch/users/eila/encode_pseudobulks_data\"\n",
    "# DEST_BASE=\"/scratch/users/eila/encode_pseudobulks_data/bam\"\n",
    "\n",
    "# # Loop through all directories matching ENCSR* and move files\n",
    "# for DIR in ${SRC_BASE}/ENCSR*/bam; do\n",
    "#     # Extract the directory name after /ENCSR\n",
    "#     DIR_NAME=$(basename $(dirname \"$DIR\"))\n",
    "    \n",
    "#     # Define source and destination directories\n",
    "#     SRC_DIR=\"${SRC_BASE}/${DIR_NAME}/bam\"\n",
    "#     DEST_DIR=\"${DEST_BASE}/${DIR_NAME}\"\n",
    "    \n",
    "#     # Create destination directory if it doesn't exist\n",
    "#     mkdir -p \"$DEST_DIR\"\n",
    "    \n",
    "#     # Move files from source to destination\n",
    "#     mv \"$SRC_DIR\"/* \"$DEST_DIR\"/\n",
    "    \n",
    "#     echo \"Moved files from $SRC_DIR to $DEST_DIR\"\n",
    "# done\n"
   ]
  },
  {
   "cell_type": "code",
   "execution_count": 15,
   "id": "224f0409-6634-4be7-bba2-1303834e7842",
   "metadata": {},
   "outputs": [
    {
     "name": "stdout",
     "output_type": "stream",
     "text": [
      "rm: cannot remove ‘./local_logs/slurm_samools_err.combined.err’: No such file or directory\n"
     ]
    }
   ],
   "source": [
    " # scp -r eila@login.sherlock.stanford.edu:scratch/users/eila/encode_pseudobulks_model_training/human/ENCSR037JDN/ENCFF933KCP/fold_1_30000_20240912_182023/evaluation . \n",
    "\n",
    "\n",
    "# !rm ./local_logs/slurm_samools_err.combined.err\n",
    "# !rm ./local_logs/slurm_samools_out.combined.out"
   ]
  },
  {
   "cell_type": "code",
   "execution_count": 13,
   "id": "48b3b009-58c0-4109-adda-547b1e2e757c",
   "metadata": {},
   "outputs": [
    {
     "name": "stdout",
     "output_type": "stream",
     "text": [
      "sbatch: defined options\n",
      "sbatch: -------------------- --------------------\n",
      "sbatch: cpus-per-task       : 16\n",
      "sbatch: error               : /oak/stanford/groups/akundaje/eila/git_tf_chromatin_atlas/local_logs/slurm_samools_err.combined.err\n",
      "sbatch: job-name            : samtools_merge\n",
      "sbatch: mail-type           : INVALID_DEPEND,BEGIN,END,FAIL,REQUEUE,STAGE_OUT\n",
      "sbatch: mail-user           : eila@stanford.edu\n",
      "sbatch: mem                 : 32G\n",
      "sbatch: ntasks              : 1\n",
      "sbatch: output              : /oak/stanford/groups/akundaje/eila/git_tf_chromatin_atlas/local_logs/slurm_samools_out.combined.out\n",
      "sbatch: partition           : akundaje,owners\n",
      "sbatch: time                : 01:00:00\n",
      "sbatch: verbose             : 1\n",
      "sbatch: -------------------- --------------------\n",
      "sbatch: end of defined options\n",
      "Submitted batch job 53184161\n"
     ]
    }
   ],
   "source": [
    "# !chmod +x samtools_merge.sh\n",
    "# !sbatch --verbose samtools_merge.sh\n",
    "# !ls"
   ]
  },
  {
   "cell_type": "code",
   "execution_count": 21,
   "id": "749b634f-79b7-4bf0-ab17-4578f07e2ea6",
   "metadata": {},
   "outputs": [
    {
     "name": "stdout",
     "output_type": "stream",
     "text": [
      "             JOBID PARTITION     NAME     USER ST       TIME  NODES NODELIST(REASON)\n"
     ]
    }
   ],
   "source": [
    "!squeue --user=$USER"
   ]
  },
  {
   "cell_type": "code",
   "execution_count": 24,
   "id": "fc3613e0-e969-497b-af5c-1c9db1f396fd",
   "metadata": {},
   "outputs": [
    {
     "name": "stdout",
     "output_type": "stream",
     "text": [
      "sbatch: defined options\n",
      "sbatch: -------------------- --------------------\n",
      "sbatch: cpus-per-task       : 16\n",
      "sbatch: error               : /oak/stanford/groups/akundaje/eila/git_tf_chromatin_atlas/local_logs/slurm_samtools_sort_err.combined.err\n",
      "sbatch: job-name            : samtools_sort\n",
      "sbatch: mail-type           : INVALID_DEPEND,BEGIN,END,FAIL,REQUEUE,STAGE_OUT\n",
      "sbatch: mail-user           : eila@stanford.edu\n",
      "sbatch: mem                 : 32G\n",
      "sbatch: ntasks              : 1\n",
      "sbatch: output              : /oak/stanford/groups/akundaje/eila/git_tf_chromatin_atlas/local_logs/slurm_samtools_sort_out.combined.out\n",
      "sbatch: partition           : akundaje,owners\n",
      "sbatch: time                : 01:00:00\n",
      "sbatch: verbose             : 1\n",
      "sbatch: -------------------- --------------------\n",
      "sbatch: end of defined options\n",
      "Submitted batch job 53185591\n"
     ]
    }
   ],
   "source": [
    "# !chmod +x samtools_sort.sh\n",
    "!sbatch --verbose samtools_sort.sh\n",
    "# !ls"
   ]
  },
  {
   "cell_type": "code",
   "execution_count": 37,
   "id": "0e4fb689-2f5a-4755-b656-85324decc427",
   "metadata": {},
   "outputs": [
    {
     "name": "stdout",
     "output_type": "stream",
     "text": [
      "             JOBID PARTITION     NAME     USER ST       TIME  NODES NODELIST(REASON)\n"
     ]
    }
   ],
   "source": [
    "!squeue --user=$USER"
   ]
  },
  {
   "cell_type": "code",
   "execution_count": null,
   "id": "92c96cdd-db77-4776-bc11-9875c58d1d91",
   "metadata": {},
   "outputs": [],
   "source": [
    "# while true; do ls -lt; sleep 10; done"
   ]
  },
  {
   "cell_type": "code",
   "execution_count": 39,
   "id": "8bf6f633-3771-4b3b-898b-7764d367ebc1",
   "metadata": {},
   "outputs": [
    {
     "name": "stdout",
     "output_type": "stream",
     "text": [
      "sbatch: defined options\n",
      "sbatch: -------------------- --------------------\n",
      "sbatch: cpus-per-task       : 8\n",
      "sbatch: error               : /oak/stanford/groups/akundaje/eila/git_tf_chromatin_atlas/local_logs/slurm_samtools_index_err.combined.err\n",
      "sbatch: job-name            : samtools_index\n",
      "sbatch: mail-type           : INVALID_DEPEND,BEGIN,END,FAIL,REQUEUE,STAGE_OUT\n",
      "sbatch: mail-user           : eila@stanford.edu\n",
      "sbatch: mem                 : 16G\n",
      "sbatch: ntasks              : 1\n",
      "sbatch: output              : /oak/stanford/groups/akundaje/eila/git_tf_chromatin_atlas/local_logs/slurm_samtools_index_out.combined.out\n",
      "sbatch: partition           : akundaje,owners\n",
      "sbatch: time                : 01:00:00\n",
      "sbatch: verbose             : 1\n",
      "sbatch: -------------------- --------------------\n",
      "sbatch: end of defined options\n",
      "Submitted batch job 53186108\n"
     ]
    }
   ],
   "source": [
    "# !chmod +x 03_samtools_index.sh\n",
    "# !sbatch --verbose 03_samtools_index.sh\n"
   ]
  },
  {
   "cell_type": "code",
   "execution_count": 6,
   "id": "01ad4e7f-ccfe-45a7-a116-171cf39472ed",
   "metadata": {},
   "outputs": [],
   "source": [
    "# !ls\n",
    "# !chmod +x 04_chrombpnet_pipeline.sh\n",
    "# !chmod +x 04_chrombpnet_pipeline-inputs.sh\n",
    "# !chmod +x Step5-2_Debug_chrombpnet_pipeline.sh\n",
    "# !sbatch --verbose 04_chrombpnet_pipeline.sh"
   ]
  },
  {
   "cell_type": "code",
   "execution_count": 7,
   "id": "1e237257-c908-464f-beda-c9d3e4518d26",
   "metadata": {},
   "outputs": [
    {
     "name": "stdout",
     "output_type": "stream",
     "text": [
      "Submitting with GPU resources\n",
      "Submitted batch job 53460996\n"
     ]
    }
   ],
   "source": [
    "%%bash\n",
    "GPUS=1\n",
    "\n",
    "AVAILABLE_GPUS=$(sinfo -p akundaje,owners --format=\"%G\" | grep -o '[0-9]*' | head -n 1)\n",
    "\n",
    "# Check if GPUs are available on Sherlock\n",
    "if [ \"$AVAILABLE_GPUS\" -ge \"$GPUS\" ]; then\n",
    "    echo \"Submitting with GPU resources\"\n",
    "    # sbatch --gres=gpu:${GPUS} 04_chrombpnet_pipeline.sh\n",
    "    # sbatch --gres=gpu:${GPUS} 04_chrombpnet_pipeline-inputs.sh\n",
    "    sbatch --gres=gpu:${GPUS} Step5-2_Debug_chrombpnet_pipeline.sh\n",
    "else\n",
    "    echo \"No GPU available, submitting with 64 CPUs\"\n",
    "    # sbatch --cpus-per-task=64 04_chrombpnet_pipeline.sh\n",
    "    # sbatch --cpus-per-task=64 04_chrombpnet_pipeline-inputs.sh\n",
    "    sbatch --cpus-per-task=64 Step5-2_Debug_chrombpnet_pipeline.sh\n",
    "fi"
   ]
  },
  {
   "cell_type": "code",
   "execution_count": 265,
   "id": "63e910d3-15d3-49a1-be52-526fd4b6b8a2",
   "metadata": {},
   "outputs": [
    {
     "name": "stdout",
     "output_type": "stream",
     "text": [
      "Submitted batch job 53323168\n"
     ]
    }
   ],
   "source": [
    " # CPU exeuction\n",
    "\n",
    "# !sbatch --cpus-per-task=64 04_chrombpnet_pipeline.sh\n",
    "# !sbatch 01_utils_rsync.sh\n"
   ]
  },
  {
   "cell_type": "code",
   "execution_count": 267,
   "id": "fcc7cef1-b0cd-4ef6-9e38-8305ae67c0ec",
   "metadata": {},
   "outputs": [],
   "source": [
    "# !sinfo -p akundaje,owners --format=\"%G\""
   ]
  },
  {
   "cell_type": "code",
   "execution_count": 11,
   "id": "2eae6f71-7327-4511-8193-08a2dd9a03ea",
   "metadata": {},
   "outputs": [
    {
     "name": "stdout",
     "output_type": "stream",
     "text": [
      "3\n"
     ]
    }
   ],
   "source": [
    "!sinfo -p akundaje,owners --format=\"%G\" | grep -o '[0-9]*' | head -n 1"
   ]
  },
  {
   "cell_type": "code",
   "execution_count": 269,
   "id": "573a25c2-bc18-4cab-9943-bacdd4a57402",
   "metadata": {},
   "outputs": [],
   "source": [
    "# !scontrol update jobid=53289110 nice=0\n"
   ]
  },
  {
   "cell_type": "code",
   "execution_count": 8,
   "id": "6e39c2d2-056a-441b-8669-1403466e4775",
   "metadata": {},
   "outputs": [
    {
     "name": "stdout",
     "output_type": "stream",
     "text": [
      "             JOBID      USER ST TIME_LIMIT PRIORI                 NAME REASON\n",
      "          53459499      eila  R 2-00:00:00 0.0000      gpu_ENCSR037JDN   None\n",
      "          53460996      eila PD 2-00:00:00 0.0000             52allval Priori\n"
     ]
    }
   ],
   "source": [
    "!squeue -u $USER -o \"%.18i %.9u %.2t %.10l %.6p %.20j %.6r\"\n"
   ]
  },
  {
   "cell_type": "code",
   "execution_count": 13,
   "id": "c5a6a917-7fae-4d36-b036-29b8fa2dd0a6",
   "metadata": {},
   "outputs": [
    {
     "name": "stdout",
     "output_type": "stream",
     "text": [
      "             JOBID      USER ST TIME_LIMIT PRIORI                 NAME REASON\n",
      "          53430788      eila PD 2-00:00:00 0.0000      gpu_ENCSR037JDN Priori\n"
     ]
    }
   ],
   "source": [
    "!squeue -o \"%.18i %.9u %.2t %.10l %.6p %.20j %.6r\" -u $USER\n"
   ]
  },
  {
   "cell_type": "code",
   "execution_count": 14,
   "id": "a710fd9b-e79a-4e20-815d-61022695446f",
   "metadata": {},
   "outputs": [
    {
     "name": "stdout",
     "output_type": "stream",
     "text": [
      "             JOBID PARTITION     NAME     USER ST       TIME  NODES NODELIST(REASON)\n",
      "          53430788 owners,ak gpu_ENCS     eila PD       0:00      1 (Priority)\n"
     ]
    }
   ],
   "source": [
    "!squeue --user=$USER "
   ]
  },
  {
   "cell_type": "code",
   "execution_count": 15,
   "id": "0297edda-61c5-4b6a-a13e-7a9a76c54602",
   "metadata": {},
   "outputs": [
    {
     "name": "stdout",
     "output_type": "stream",
     "text": [
      "             JOBID PARTITION     NAME     USER ST       TIME  NODES NODELIST(REASON)\n",
      "          53430788 owners,ak gpu_ENCS     eila PD       0:00      1 (Priority)\n"
     ]
    }
   ],
   "source": [
    "!squeue --user=$USER"
   ]
  },
  {
   "cell_type": "code",
   "execution_count": 273,
   "id": "c3d474e9-7c68-4760-a30f-e71513482870",
   "metadata": {},
   "outputs": [
    {
     "name": "stdout",
     "output_type": "stream",
     "text": [
      "     JOBID       NAME    STATE MIN_MEMOR       CPUS NODELIST(REASON)   NODELIST  TIME_LEFT\n",
      "  53319606 al2Quotegp  RUNNING       64G          1 sh03-16n09 sh03-16n09 1-21:32:00\n",
      "  53319609 al2Quotecp  RUNNING       64G         64 sh03-16n09 sh03-16n09 1-21:25:55\n",
      "  53323168 rsync_bam_  PENDING        8G          1 (Priority)               2:00:00\n"
     ]
    }
   ],
   "source": [
    "!squeue --user=$USER --format=\"%.10i %.10j %.8T %.9m %.10C %.10R %.10N %.10L\""
   ]
  },
  {
   "cell_type": "code",
   "execution_count": 274,
   "id": "d47175d9-469f-4b2f-a2a6-81b02135beb5",
   "metadata": {},
   "outputs": [
    {
     "name": "stdout",
     "output_type": "stream",
     "text": [
      "             JOBID                                               NAME    STATE       TIME PARTI NODELIST(REASON)\n",
      "          53319606                                  al2QuotegpuEp1.01  RUNNING    2:28:00 akund       sh03-16n09\n",
      "          53319609                                  al2QuotecpuEp1.01  RUNNING    2:34:05 akund       sh03-16n09\n",
      "          53323168                                    rsync_bam_files  PENDING       0:00 owner       (Priority)\n"
     ]
    }
   ],
   "source": [
    "!squeue --user=$USER --format=\"%.18i %.50j %.8T %.10M %.5P %.16R\"\n"
   ]
  },
  {
   "cell_type": "code",
   "execution_count": 246,
   "id": "b3e66e38-9bed-4358-bc7a-ffb7bdce57fa",
   "metadata": {},
   "outputs": [],
   "source": [
    "# !scancel 53305606"
   ]
  },
  {
   "cell_type": "code",
   "execution_count": 247,
   "id": "61994866-7f84-4ba7-8ed8-3dd3ca5b0e75",
   "metadata": {},
   "outputs": [
    {
     "name": "stdout",
     "output_type": "stream",
     "text": [
      "Thu Sep 19 22:44:00 2024\n",
      "             JOBID PARTITION     NAME     USER    STATE       TIME TIME_LIMI  NODES NODELIST(REASON)\n",
      "          53305613 owners,ak gpuEp1.0     eila  PENDING       0:00   5:00:00      1 (Priority)\n",
      "          53305603 owners,ak cpuEp1.0     eila  PENDING       0:00   5:00:00      1 (Priority)\n"
     ]
    }
   ],
   "source": [
    "!squeue --user=$USER --long\n",
    "\n"
   ]
  },
  {
   "cell_type": "code",
   "execution_count": 248,
   "id": "7d576901-eda8-474f-8f99-01adb257a39d",
   "metadata": {},
   "outputs": [
    {
     "name": "stdout",
     "output_type": "stream",
     "text": [
      "     JOBID       NAME    STATE MIN_MEMOR       CPUS\n",
      "  53305613  gpuEp1.01  PENDING       64G          1\n",
      "  53305603  cpuEp1.01  PENDING       64G         64\n"
     ]
    }
   ],
   "source": [
    "!squeue --user=$USER --format=\"%.10i %.10j %.8T %.9m %.10C\"\n",
    "\n",
    "\n"
   ]
  },
  {
   "cell_type": "code",
   "execution_count": 10,
   "id": "15c7a3a7-69b7-4be4-836d-2aadfd519395",
   "metadata": {},
   "outputs": [
    {
     "name": "stdout",
     "output_type": "stream",
     "text": [
      "     JOBID       NAME    STATE    NODES NODELIST(REASON)\n",
      "  53459499 gpu_ENCSR0  RUNNING        1       sh03-15n11\n",
      "  53460996   52allval  RUNNING        1       sh03-17n12\n"
     ]
    }
   ],
   "source": [
    "!squeue --user=$USER --format=\"%.10i %.10j %.8T %.8D %.16R\"\n",
    "\n",
    "\n"
   ]
  },
  {
   "cell_type": "code",
   "execution_count": 57,
   "id": "300fa490-a509-4c6a-bdd6-5c2d54c68d27",
   "metadata": {},
   "outputs": [],
   "source": [
    "# !ls ./chrombpnet_tutorial/data/splits"
   ]
  },
  {
   "cell_type": "code",
   "execution_count": 58,
   "id": "7cf34f55-92e3-496f-bceb-fead7c5b6f9f",
   "metadata": {},
   "outputs": [],
   "source": [
    "# !ls ./chrombpnet_tutorial/data/downloads"
   ]
  },
  {
   "cell_type": "code",
   "execution_count": 59,
   "id": "d73aa1f7-d281-4cda-b548-cb195d7fc941",
   "metadata": {},
   "outputs": [],
   "source": [
    "# !ls ./chrombpnet_tutorial/bias_model"
   ]
  },
  {
   "cell_type": "code",
   "execution_count": 60,
   "id": "7477a740-ffb5-4c13-9286-071f68c33dc3",
   "metadata": {},
   "outputs": [],
   "source": [
    "# !ls ./chrombpnet_tutorial/data"
   ]
  },
  {
   "cell_type": "code",
   "execution_count": 47,
   "id": "6aad875d-acdb-47dc-8050-c24b3af7adbe",
   "metadata": {},
   "outputs": [],
   "source": [
    "# !rm ./local_logs/slurm_or_*"
   ]
  },
  {
   "cell_type": "code",
   "execution_count": null,
   "id": "c5b0ca0c-106b-4e02-9282-2d02006e0d56",
   "metadata": {},
   "outputs": [],
   "source": []
  },
  {
   "cell_type": "code",
   "execution_count": 283,
   "id": "43baaa45-fb03-4ef7-a749-ebbefd235d62",
   "metadata": {},
   "outputs": [],
   "source": [
    "# !rm ./local_logs/slurm_tr_epoch.combined*"
   ]
  },
  {
   "cell_type": "code",
   "execution_count": 25,
   "id": "03594938-0df9-419b-a492-e34e94737de7",
   "metadata": {},
   "outputs": [],
   "source": [
    "# !rm ./local_logs/slurm.gpu_ENCSR037JDN.*"
   ]
  },
  {
   "cell_type": "code",
   "execution_count": null,
   "id": "76fdc4bc-96f2-4a8e-b81f-879929b397d1",
   "metadata": {},
   "outputs": [],
   "source": []
  }
 ],
 "metadata": {
  "kernelspec": {
   "display_name": "Python 3 (ipykernel)",
   "language": "python",
   "name": "python3"
  },
  "language_info": {
   "codemirror_mode": {
    "name": "ipython",
    "version": 3
   },
   "file_extension": ".py",
   "mimetype": "text/x-python",
   "name": "python",
   "nbconvert_exporter": "python",
   "pygments_lexer": "ipython3",
   "version": "3.12.4"
  }
 },
 "nbformat": 4,
 "nbformat_minor": 5
}
