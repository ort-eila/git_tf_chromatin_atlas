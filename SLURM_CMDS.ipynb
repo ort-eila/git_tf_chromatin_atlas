{
 "cells": [
  {
   "cell_type": "code",
   "execution_count": null,
   "id": "de058c7e-57db-4c6a-814b-8b4f324a61d1",
   "metadata": {},
   "outputs": [],
   "source": [
    "# for all execution\n",
    "!mkdir -p local_logs"
   ]
  },
  {
   "cell_type": "code",
   "execution_count": 16,
   "id": "03f0a817-de06-4932-8013-9071f3131da6",
   "metadata": {},
   "outputs": [],
   "source": [
    "from dotenv import load_dotenv\n",
    "import os\n",
    "\n",
    "# Load environment variables from the .env file\n",
    "load_dotenv()\n",
    "\n",
    "# Access the variables\n",
    "ACCESS_KEY = os.getenv('ACCESS_KEY')\n",
    "SECRET_KEY = os.getenv('SECRET_KEY')\n"
   ]
  },
  {
   "cell_type": "code",
   "execution_count": 17,
   "id": "90fae31a-71f4-4179-8a39-ac8d80d85b5f",
   "metadata": {},
   "outputs": [
    {
     "name": "stdout",
     "output_type": "stream",
     "text": [
      "      User   Def Acct     Admin    Cluster    Account  Partition     Share   Priority MaxJobs MaxNodes  MaxCPUs MaxSubmit     MaxWall  MaxCPUMins                  QOS   Def QOS \n",
      "---------- ---------- --------- ---------- ---------- ---------- --------- ---------- ------- -------- -------- --------- ----------- ----------- -------------------- --------- \n",
      "      eila   akundaje      None   sherlock   akundaje                  100                                                                               high_p,normal    normal \n"
     ]
    }
   ],
   "source": [
    "!sacctmgr show user $USER withassoc\n",
    "\n"
   ]
  },
  {
   "cell_type": "code",
   "execution_count": 6,
   "id": "805ee7a0-db82-4cdb-9819-f9ea1793a9b6",
   "metadata": {},
   "outputs": [],
   "source": [
    "# !echo $ACCESS_KEY\n",
    "# !echo $SECRET_KEY"
   ]
  },
  {
   "cell_type": "code",
   "execution_count": 7,
   "id": "62f6a470-3cb6-4e08-9b9d-0e04039aef6f",
   "metadata": {},
   "outputs": [],
   "source": [
    "# check the jobs:"
   ]
  },
  {
   "cell_type": "code",
   "execution_count": 33,
   "id": "09e462e4-3727-496d-ad12-07ab54ce6bf5",
   "metadata": {},
   "outputs": [],
   "source": [
    "# !squeue -u eila\n"
   ]
  },
  {
   "cell_type": "code",
   "execution_count": 9,
   "id": "45cd79d9-e485-4ae9-ae12-b2ba1165d2a1",
   "metadata": {},
   "outputs": [],
   "source": [
    "# !squeue -u eila"
   ]
  },
  {
   "cell_type": "code",
   "execution_count": 10,
   "id": "cded3088-39ff-433a-8cda-af7081899c67",
   "metadata": {},
   "outputs": [],
   "source": [
    "# !squeue -u eila"
   ]
  },
  {
   "cell_type": "code",
   "execution_count": 11,
   "id": "cac6e64b-8398-4599-afa0-4874943fc96e",
   "metadata": {},
   "outputs": [],
   "source": [
    "# !scancel -u eila"
   ]
  },
  {
   "cell_type": "code",
   "execution_count": 12,
   "id": "8740142d-272c-4b01-a6af-f76562da4d50",
   "metadata": {},
   "outputs": [],
   "source": [
    "# !squeue -u eila --name=step1-do\n"
   ]
  },
  {
   "cell_type": "code",
   "execution_count": 13,
   "id": "ec5506ee-1145-47a3-a9ac-7f12ecf41da1",
   "metadata": {},
   "outputs": [],
   "source": [
    "# !chmod +x execute_sbatch_arrays_on_sherlock.py \n",
    "\n",
    "# eila_in_download_bams.txt: The input file name.\n",
    "# step1-download-bams.sh: The SLURM script name.\n",
    "# 1: entries_per_job (number of entries per job). - how much is each job needs\n",
    "# 1: max_concurrent_tasks (maximum number of concurrent tasks). - 500 for stanford\n",
    "\n",
    "\n",
    "# example for input of 1300 lines:\n",
    "# ./execute_sbatch_arrays_on_sherlock.sh eila_in_download_bams.txt step1-download-bams.sh 500 500\n",
    "# Breakdown:\n",
    "# eila_in_download_bams.txt: The input file with 1200 lines.\n",
    "# step1-download-bams.sh: The SLURM script to run.\n",
    "# 500: Number of lines per job array (tasks per array).\n",
    "# 500: Maximum number of concurrent tasks per array."
   ]
  },
  {
   "cell_type": "code",
   "execution_count": 3,
   "id": "af8a9b54-759d-4bac-931b-850fca1c5a12",
   "metadata": {},
   "outputs": [],
   "source": [
    "# !ls\n",
    "# !pwd"
   ]
  },
  {
   "cell_type": "code",
   "execution_count": 4,
   "id": "a7e03c65-a985-47f7-9788-7107fffd9270",
   "metadata": {},
   "outputs": [],
   "source": [
    "# !ls /oak/stanford/groups/akundaje/eila/git_tf_chromatin_atlas/steps_inputs/step1/eila_encids_with_bam_urls-ENCSR164EBP.txt"
   ]
  },
  {
   "cell_type": "code",
   "execution_count": 28,
   "id": "01be7f93-162d-4528-9a47-872d8ad33da7",
   "metadata": {},
   "outputs": [
    {
     "name": "stdout",
     "output_type": "stream",
     "text": [
      "./execute_sbatch_arrays_on_sherlock.sh: line 22: /oak/stanford/groups/akundaje/eila/git_tf_chromatin_atlas/steps_inputs/step1/eila_encids_with_bam_urls-ENCSR164EBP.txt: No such file or directory\n",
      "Total entries in input file: \n",
      "Total number of job arrays to be submitted: 0\n"
     ]
    }
   ],
   "source": [
    "# step 1\n",
    "from dotenv import load_dotenv\n",
    "import os\n",
    "\n",
    "# Load environment variables from the .env file\n",
    "load_dotenv()\n",
    "\n",
    "# Access the variables\n",
    "ACCESS_KEY = os.getenv('ACCESS_KEY')\n",
    "SECRET_KEY = os.getenv('SECRET_KEY')\n",
    "\n",
    "# !echo $ACCESS_KEY\n",
    "# !echo $SECRET_KEY\n",
    "\n",
    "# !rm ./local_logs/slurm_step1_download_bams*\n",
    "# !scancel -u eila\n",
    "# !./execute_sbatch_arrays_on_sherlock.sh /oak/stanford/groups/akundaje/eila/git_tf_chromatin_atlas/steps_inputs/step1/eila_encids_with_bam_urls.txt step1-download-bams.sh 1000 1000\n",
    "# !./execute_sbatch_arrays_on_sherlock.sh /oak/stanford/groups/akundaje/eila/git_tf_chromatin_atlas/steps_inputs/step1/eila_encids_with_bam_urls-debug.txt step1-download-bams.sh 2 2\n",
    "\n",
    "\n",
    "!./execute_sbatch_arrays_on_sherlock.sh /oak/stanford/groups/akundaje/eila/git_tf_chromatin_atlas/steps_inputs/step1/eila_encids_with_bam_urls-ENCSR164EBP.txt step1-download-bams.sh 2 2\n",
    "\n",
    "\n"
   ]
  },
  {
   "cell_type": "code",
   "execution_count": 86,
   "id": "851e4601-ac39-432d-b371-039e6a9e7e0a",
   "metadata": {},
   "outputs": [],
   "source": [
    "# !ls $GROUP_SCRATCH/$USER/encode_pseudobulks/encode_pseudobulks_data/bams/ENCSR*/*_sorted.bam | head "
   ]
  },
  {
   "cell_type": "code",
   "execution_count": 87,
   "id": "b6729ae4-bc32-49c1-bc80-18d5fd34ffb9",
   "metadata": {},
   "outputs": [],
   "source": [
    "# !ls /scratch/users/eila/encode_pseudobulks_data/bam/ENCSR*/*unsorted.bam > /oak/stanford/groups/akundaje/eila/git_tf_chromatin_atlas/steps_inputs/step2/bam_files_list.txt\n",
    "\n"
   ]
  },
  {
   "cell_type": "code",
   "execution_count": 2,
   "id": "894b8758-904b-4395-a3b3-93ca4de41238",
   "metadata": {},
   "outputs": [],
   "source": [
    "# #step 2 - samtools sort and index\n",
    "# !ls /scratch/users/eila/encode_pseudobulks_data/bam/ENCSR*/*unsorted.bam > /oak/stanford/groups/akundaje/eila/git_tf_chromatin_atlas/steps_inputs/step2/bam_files_list.txt\n",
    "\n",
    "# !./execute_sbatch_arrays_on_sherlock.sh /oak/stanford/groups/akundaje/eila/git_tf_chromatin_atlas/steps_inputs/step2/bam_files_list.txt step2-samtool-sort-index.sh 1000 1000\n",
    "\n"
   ]
  },
  {
   "cell_type": "code",
   "execution_count": 20,
   "id": "05858e98-39db-411c-b80e-90c48e053da9",
   "metadata": {},
   "outputs": [],
   "source": [
    "# !ls ./steps_inputs/"
   ]
  },
  {
   "cell_type": "code",
   "execution_count": 44,
   "id": "2944e9df-0825-4d7a-b3d7-68384db3afe4",
   "metadata": {},
   "outputs": [
    {
     "name": "stdout",
     "output_type": "stream",
     "text": [
      "Total entries in input file: 1354\n",
      "Total number of job arrays to be submitted: 2\n",
      "Submitting job array from 1 to 1000 with a maximum of 1000 concurrent tasks.\n",
      "sbatch: defined options\n",
      "sbatch: -------------------- --------------------\n",
      "sbatch: array               : 1-1000%1000\n",
      "sbatch: cpus-per-task       : 2\n",
      "sbatch: error               : /oak/stanford/groups/akundaje/eila/git_tf_chromatin_atlas/local_logs/slurm_step3_peaks.err.combined.err\n",
      "sbatch: mail-type           : INVALID_DEPEND,BEGIN,END,FAIL,REQUEUE,STAGE_OUT\n",
      "sbatch: mail-user           : eila@stanford.edu\n",
      "sbatch: mem                 : 2G\n",
      "sbatch: ntasks              : 1\n",
      "sbatch: output              : /oak/stanford/groups/akundaje/eila/git_tf_chromatin_atlas/local_logs/slurm_step3_peaks.out.combined.out\n",
      "sbatch: partition           : akundaje,owners\n",
      "sbatch: time                : 00:20:00\n",
      "sbatch: verbose             : 1\n",
      "sbatch: -------------------- --------------------\n",
      "sbatch: end of defined options\n",
      "Submitted batch job 53981926\n",
      "Submitting job array from 1001 to 1354 with a maximum of 1000 concurrent tasks.\n",
      "sbatch: defined options\n",
      "sbatch: -------------------- --------------------\n",
      "sbatch: array               : 1001-1354%1000\n",
      "sbatch: cpus-per-task       : 2\n",
      "sbatch: error               : /oak/stanford/groups/akundaje/eila/git_tf_chromatin_atlas/local_logs/slurm_step3_peaks.err.combined.err\n",
      "sbatch: mail-type           : INVALID_DEPEND,BEGIN,END,FAIL,REQUEUE,STAGE_OUT\n",
      "sbatch: mail-user           : eila@stanford.edu\n",
      "sbatch: mem                 : 2G\n",
      "sbatch: ntasks              : 1\n",
      "sbatch: output              : /oak/stanford/groups/akundaje/eila/git_tf_chromatin_atlas/local_logs/slurm_step3_peaks.out.combined.out\n",
      "sbatch: partition           : akundaje,owners\n",
      "sbatch: time                : 00:20:00\n",
      "sbatch: verbose             : 1\n",
      "sbatch: -------------------- --------------------\n",
      "sbatch: end of defined options\n",
      "Submitted batch job 53981927\n"
     ]
    }
   ],
   "source": [
    "#step 3 - peaks - independant of BAMS:\n",
    "from dotenv import load_dotenv\n",
    "import os\n",
    "\n",
    "# Load environment variables from the .env file\n",
    "load_dotenv()\n",
    "\n",
    "# Access the variables\n",
    "ACCESS_KEY = os.getenv('ACCESS_KEY')\n",
    "SECRET_KEY = os.getenv('SECRET_KEY')\n",
    "\n",
    "!rm ./local_logs/slurm_step3_peaks*\n",
    "!ACCESS_KEY={ACCESS_KEY} SECRET_KEY={SECRET_KEY} ./execute_sbatch_arrays_on_sherlock.sh ./steps_inputs/step3/eila_peaks_matched_to_experiments.txt step3-download-peaks.sh 1000 1000\n",
    "\n",
    "# !./execute_sbatch_arrays_on_sherlock.sh ./steps_inputs/step3/eila_peaks_matched_to_experiments.txt step3-download-peaks.sh 1000 1000\n",
    "\n",
    "# debug\n",
    "# !./execute_sbatch_arrays_on_sherlock.sh /oak/stanford/groups/akundaje/eila/git_tf_chromatin_atlas/steps_inputs/step3/eila_peaks_matched_to_experiments-debug.txt step3-download-peaks.sh 2 2\n"
   ]
  },
  {
   "cell_type": "code",
   "execution_count": 1,
   "id": "5655d171-defb-4847-82dc-c6315d84b9fd",
   "metadata": {},
   "outputs": [
    {
     "name": "stdout",
     "output_type": "stream",
     "text": [
      "             JOBID PARTITION     NAME     USER ST       TIME  NODES NODELIST(REASON)\n"
     ]
    }
   ],
   "source": [
    "!squeue --user=$USER"
   ]
  },
  {
   "cell_type": "code",
   "execution_count": 101,
   "id": "cc37c42e-ae0d-4a4b-85a2-c033b268d279",
   "metadata": {},
   "outputs": [
    {
     "name": "stdout",
     "output_type": "stream",
     "text": [
      "1354\n"
     ]
    }
   ],
   "source": [
    "ls /scratch/groups/akundaje/eila/encode_pseudobulks/encode_pseudobulks_data/peaks/ | wc -l"
   ]
  },
  {
   "cell_type": "code",
   "execution_count": 59,
   "id": "03a62b23-2eb9-4f09-891c-76b2443c7bbb",
   "metadata": {},
   "outputs": [],
   "source": [
    "# execute step 4-1 to create the input\n",
    "# !chmod +x step4-1-input-for-peaks-by-blacklist.py\n",
    "# !python step4-1-input-for-peaks-by-blacklist.py"
   ]
  },
  {
   "cell_type": "code",
   "execution_count": 1,
   "id": "fff95f84-af23-498b-8fa1-540eb48c121f",
   "metadata": {},
   "outputs": [
    {
     "name": "stdout",
     "output_type": "stream",
     "text": [
      "/scratch/groups/akundaje/eila/encode_pseudobulks/encode_pseudobulks_data/peaks/ENCSR449JMK/ENCFF672JNY/ENCSR449JMK_ENCFF672JNY.bed.gz human\n",
      "/scratch/groups/akundaje/eila/encode_pseudobulks/encode_pseudobulks_data/peaks/ENCSR926GYX/ENCFF650UCO/ENCSR926GYX_ENCFF650UCO.bed.gz human\n",
      "/scratch/groups/akundaje/eila/encode_pseudobulks/encode_pseudobulks_data/peaks/ENCSR863KXH/ENCFF200NJZ/ENCSR863KXH_ENCFF200NJZ.bed.gz human\n",
      "/scratch/groups/akundaje/eila/encode_pseudobulks/encode_pseudobulks_data/peaks/ENCSR458RWW/ENCFF680GAC/ENCSR458RWW_ENCFF680GAC.bed.gz mouse\n",
      "/scratch/groups/akundaje/eila/encode_pseudobulks/encode_pseudobulks_data/peaks/ENCSR552IFM/ENCFF207BWB/ENCSR552IFM_ENCFF207BWB.bed.gz mouse\n"
     ]
    }
   ],
   "source": [
    "# ! rm ./local_logs/slurm.al*\n",
    "# !cat ./steps_inputs/step4/peaks_with_species-debug.txt\n",
    "!head -5 ./steps_inputs/step4/peaks_with_species.txt"
   ]
  },
  {
   "cell_type": "code",
   "execution_count": 80,
   "id": "a19489f9-429d-4136-a278-6fe1353f8212",
   "metadata": {},
   "outputs": [
    {
     "name": "stdout",
     "output_type": "stream",
     "text": [
      "Total entries in input file: 1354\n",
      "Total number of job arrays to be submitted: 2\n",
      "Submitting job array from 1 to 1000 with a maximum of 1000 concurrent tasks.\n",
      "sbatch: defined options\n",
      "sbatch: -------------------- --------------------\n",
      "sbatch: array               : 1-1000%1000\n",
      "sbatch: cpus-per-task       : 2\n",
      "sbatch: error               : /oak/stanford/groups/akundaje/eila/git_tf_chromatin_atlas/local_logs/slurm.step42.filterBackground.err.filter.log\n",
      "sbatch: mail-type           : INVALID_DEPEND,BEGIN,END,FAIL,REQUEUE,STAGE_OUT\n",
      "sbatch: mail-user           : eila@stanford.edu\n",
      "sbatch: mem                 : 2G\n",
      "sbatch: ntasks              : 1\n",
      "sbatch: output              : /oak/stanford/groups/akundaje/eila/git_tf_chromatin_atlas/local_logs/slurm.step42.filterBackground.out.filter.log\n",
      "sbatch: partition           : akundaje,owners\n",
      "sbatch: time                : 00:20:00\n",
      "sbatch: verbose             : 1\n",
      "sbatch: -------------------- --------------------\n",
      "sbatch: end of defined options\n",
      "Submitted batch job 53991058\n",
      "Submitting job array from 1001 to 1354 with a maximum of 1000 concurrent tasks.\n",
      "sbatch: defined options\n",
      "sbatch: -------------------- --------------------\n",
      "sbatch: array               : 1001-1354%1000\n",
      "sbatch: cpus-per-task       : 2\n",
      "sbatch: error               : /oak/stanford/groups/akundaje/eila/git_tf_chromatin_atlas/local_logs/slurm.step42.filterBackground.err.filter.log\n",
      "sbatch: mail-type           : INVALID_DEPEND,BEGIN,END,FAIL,REQUEUE,STAGE_OUT\n",
      "sbatch: mail-user           : eila@stanford.edu\n",
      "sbatch: mem                 : 2G\n",
      "sbatch: ntasks              : 1\n",
      "sbatch: output              : /oak/stanford/groups/akundaje/eila/git_tf_chromatin_atlas/local_logs/slurm.step42.filterBackground.out.filter.log\n",
      "sbatch: partition           : akundaje,owners\n",
      "sbatch: time                : 00:20:00\n",
      "sbatch: verbose             : 1\n",
      "sbatch: -------------------- --------------------\n",
      "sbatch: end of defined options\n",
      "Submitted batch job 53991059\n"
     ]
    }
   ],
   "source": [
    "# execute step 4-2\n",
    "# !chmod +x step4-2-filter-peaks-by-blacklist.sh\n",
    "!rm ./local_logs/slurm.step42*\n",
    "\n",
    "!./execute_sbatch_arrays_on_sherlock.sh ./steps_inputs/step4/peaks_with_species.txt step4-2-filter-peaks-by-blacklist.sh 1000 1000\n",
    "\n",
    "# debug\n",
    "# !./execute_sbatch_arrays_on_sherlock.sh ./steps_inputs/step4/peaks_with_species-debug.txt step4-2-filter-peaks-by-blacklist.sh 2 2\n"
   ]
  },
  {
   "cell_type": "code",
   "execution_count": 8,
   "id": "4d956aed-7afb-4f56-ab49-7de6b977788b",
   "metadata": {},
   "outputs": [
    {
     "name": "stdout",
     "output_type": "stream",
     "text": [
      "1354\n"
     ]
    }
   ],
   "source": [
    "ls /scratch/groups/akundaje/eila/encode_pseudobulks/encode_pseudobulks_data/peaks_blacklist_filter/  | wc -l "
   ]
  },
  {
   "cell_type": "code",
   "execution_count": 104,
   "id": "6f458808-a05e-4ee6-b036-398f45667f72",
   "metadata": {},
   "outputs": [],
   "source": [
    "# !squeue --user=$USER "
   ]
  },
  {
   "cell_type": "code",
   "execution_count": 74,
   "id": "88b7d062-f001-41e7-8918-8b600d1f128c",
   "metadata": {},
   "outputs": [
    {
     "name": "stdout",
     "output_type": "stream",
     "text": [
      "base_path is /scratch/groups/akundaje/eila/encode_pseudobulks/encode_pseudobulks_data/peaks_blacklist_filter\n",
      "Output saved to ./steps_inputs/step5/peaks_filtered_by_blacklist_merged_with_species_output.txt\n"
     ]
    }
   ],
   "source": [
    "#preperation for step 5\n",
    "import os\n",
    "import pandas as pd\n",
    "import glob\n",
    "\n",
    "# Define the path based on your environment\n",
    "group_scratch = os.getenv('GROUP_SCRATCH')\n",
    "user = os.getenv('USER')\n",
    "base_path = os.path.join(group_scratch, user, 'encode_pseudobulks', 'encode_pseudobulks_data', 'peaks_blacklist_filter')\n",
    "print(f\"base_path is {base_path}\")\n",
    "\n",
    "# Read the file with sample data\n",
    "data_file = './steps_inputs/encids_matched_to_species.txt'  # Ensure this path is correct\n",
    "df = pd.read_csv(data_file, sep='\\t', header=None, names=['folder_name', 'species'])\n",
    "\n",
    "# Create a list to hold output rows\n",
    "output_rows = []\n",
    "\n",
    "# Iterate through each folder name in the DataFrame\n",
    "for _, row in df.iterrows():\n",
    "    folder = row['folder_name']\n",
    "    species = row['species']\n",
    "    \n",
    "    # Use glob to find all relevant .bed.gz files in the specified path\n",
    "    search_pattern = os.path.join(base_path, folder, '*', '*_peaks_no_blacklist.bed.gz')\n",
    "    files = glob.glob(search_pattern)\n",
    "    \n",
    "    # Add an entry for each found file\n",
    "    for file in files:\n",
    "        output_rows.append([folder, species, file])\n",
    "\n",
    "# Convert the output list to a DataFrame\n",
    "output_df = pd.DataFrame(output_rows, columns=['folder_name', 'species', 'file_path'])\n",
    "\n",
    "# Ensure output directory exists\n",
    "output_dir = './steps_inputs/step5/'\n",
    "os.makedirs(output_dir, exist_ok=True)\n",
    "\n",
    "# Define the output file path\n",
    "output_file = os.path.join(output_dir, 'peaks_filtered_by_blacklist_merged_with_species_output.txt')\n",
    "\n",
    "# Save the output DataFrame to a space-delimited file, overwriting if it exists\n",
    "output_df.to_csv(output_file, sep=' ', header=False, index=False)\n",
    "\n",
    "print(f'Output saved to {output_file}')\n"
   ]
  },
  {
   "cell_type": "code",
   "execution_count": 106,
   "id": "16c8ffb6-e788-43a1-a584-7137edf69f7e",
   "metadata": {},
   "outputs": [
    {
     "name": "stdout",
     "output_type": "stream",
     "text": [
      "1354 ./steps_inputs/step5/peaks_filtered_by_blacklist_merged_with_species_output.txt\n"
     ]
    }
   ],
   "source": [
    "!wc -l ./steps_inputs/step5/peaks_filtered_by_blacklist_merged_with_species_output.txt\n"
   ]
  },
  {
   "cell_type": "code",
   "execution_count": null,
   "id": "1643e458-73d9-41dc-ae37-a1475ea29c11",
   "metadata": {},
   "outputs": [
    {
     "name": "stdout",
     "output_type": "stream",
     "text": [
      "Total entries in input file: 1354\n",
      "Total number of job arrays to be submitted: 2\n",
      "Submitting job array from 1 to 1000 with a maximum of 1000 concurrent tasks.\n",
      "sbatch: defined options\n",
      "sbatch: -------------------- --------------------\n",
      "sbatch: array               : 1-1000%1000\n",
      "sbatch: cpus-per-task       : 8\n",
      "sbatch: error               : /oak/stanford/groups/akundaje/eila/git_tf_chromatin_atlas/local_logs/slurm.step5NegativesNoPeaksBackground_%A_%a.err\n",
      "sbatch: job-name            : step5NegativesNoPeaksBackground\n",
      "sbatch: mem                 : 64G\n",
      "sbatch: ntasks              : 1\n",
      "sbatch: output              : /oak/stanford/groups/akundaje/eila/git_tf_chromatin_atlas/local_logs/slurm.step5NegativesNoPeaksBackground_%A_%a.out\n",
      "sbatch: partition           : akundaje,owners\n",
      "sbatch: time                : 10:00:00\n",
      "sbatch: verbose             : 1\n",
      "sbatch: -------------------- --------------------\n",
      "sbatch: end of defined options\n",
      "Submitting job array from 1001 to 1354 with a maximum of 1000 concurrent tasks.\n",
      "sbatch: defined options\n",
      "sbatch: -------------------- --------------------\n",
      "sbatch: array               : 1001-1354%1000\n",
      "sbatch: cpus-per-task       : 8\n",
      "sbatch: error               : /oak/stanford/groups/akundaje/eila/git_tf_chromatin_atlas/local_logs/slurm.step5NegativesNoPeaksBackground_%A_%a.err\n",
      "sbatch: job-name            : step5NegativesNoPeaksBackground\n",
      "sbatch: mem                 : 64G\n",
      "sbatch: ntasks              : 1\n",
      "sbatch: output              : /oak/stanford/groups/akundaje/eila/git_tf_chromatin_atlas/local_logs/slurm.step5NegativesNoPeaksBackground_%A_%a.out\n",
      "sbatch: partition           : akundaje,owners\n",
      "sbatch: time                : 10:00:00\n",
      "sbatch: verbose             : 1\n",
      "sbatch: -------------------- --------------------\n",
      "sbatch: end of defined options\n",
      "Waiting for jobs 54320875,54320876 to complete... Sleeping for 20 minutes.\n",
      "Waiting for jobs 54320875,54320876 to complete... Sleeping for 20 minutes.\n",
      "Waiting for jobs 54320875,54320876 to complete... Sleeping for 20 minutes.\n",
      "Waiting for jobs 54320875,54320876 to complete... Sleeping for 20 minutes.\n",
      "Waiting for jobs 54320875,54320876 to complete... Sleeping for 20 minutes.\n",
      "Waiting for jobs 54320875,54320876 to complete... Sleeping for 20 minutes.\n"
     ]
    }
   ],
   "source": [
    "# #step 5 - non-peaks / background / negative - human:\n",
    "\n",
    "# Generate negative for all folds\n",
    "!rm ./local_logs/slurm.step5NegativesNoPeaksBackground*\n",
    "!./execute_sbatch_arrays_on_sherlock.sh ./steps_inputs/step5/peaks_filtered_by_blacklist_merged_with_species_output.txt step5-compute-peak-without-blacklist.sh 1000 1000\n",
    "\n",
    "#  debug\n",
    "# !./execute_sbatch_arrays_on_sherlock.sh ./steps_inputs/step5/debug_peaks_filtered_by_blacklist_merged_with_species_output.txt step5-compute-peak-without-blacklist.sh 1 1\n",
    "\n"
   ]
  },
  {
   "cell_type": "code",
   "execution_count": 1,
   "id": "99d37c98-61d7-42a1-964a-247b0d94362c",
   "metadata": {},
   "outputs": [
    {
     "name": "stdout",
     "output_type": "stream",
     "text": [
      "1354\n"
     ]
    }
   ],
   "source": [
    "!ls -lt $GROUP_SCRATCH/eila/encode_pseudobulks/encode_pseudobulks_negative/*/*/*/fold_0/*nonpeaks_negatives.bed | wc -l\n",
    "#1354\n"
   ]
  },
  {
   "cell_type": "code",
   "execution_count": 2,
   "id": "a7043188-2e35-4fcc-b4e3-c76a25cc8ce0",
   "metadata": {},
   "outputs": [
    {
     "name": "stdout",
     "output_type": "stream",
     "text": [
      "1354\n"
     ]
    }
   ],
   "source": [
    "!ls -lt $GROUP_SCRATCH/eila/encode_pseudobulks/encode_pseudobulks_negative/*/*/*/fold_1/*nonpeaks_negatives.bed | wc -l\n",
    "#1354\n"
   ]
  },
  {
   "cell_type": "code",
   "execution_count": 3,
   "id": "ce206665-cbca-4cae-8a1e-b98514ffc177",
   "metadata": {},
   "outputs": [
    {
     "name": "stdout",
     "output_type": "stream",
     "text": [
      "1354\n"
     ]
    }
   ],
   "source": [
    "!ls -lt $GROUP_SCRATCH/eila/encode_pseudobulks/encode_pseudobulks_negative/*/*/*/fold_2/*nonpeaks_negatives.bed | wc -l\n",
    "#1354\n"
   ]
  },
  {
   "cell_type": "code",
   "execution_count": 4,
   "id": "3d067478-368f-4c45-ba89-9a9400a4cbfb",
   "metadata": {},
   "outputs": [
    {
     "name": "stdout",
     "output_type": "stream",
     "text": [
      "1354\n"
     ]
    }
   ],
   "source": [
    "!ls -lt $GROUP_SCRATCH/eila/encode_pseudobulks/encode_pseudobulks_negative/*/*/*/fold_3/*nonpeaks_negatives.bed | wc -l\n",
    "#1354\n"
   ]
  },
  {
   "cell_type": "code",
   "execution_count": 5,
   "id": "0587dc0d-9a4d-4a0f-9b43-3d72e7472bbd",
   "metadata": {},
   "outputs": [
    {
     "name": "stdout",
     "output_type": "stream",
     "text": [
      "1354\n"
     ]
    }
   ],
   "source": [
    "!ls -lt $GROUP_SCRATCH/eila/encode_pseudobulks/encode_pseudobulks_negative/*/*/*/fold_4/*nonpeaks_negatives.bed | wc -l\n",
    "#1354\n"
   ]
  },
  {
   "cell_type": "code",
   "execution_count": 3,
   "id": "6c1fb68f-48c2-4483-b8f3-7b927e9a5436",
   "metadata": {},
   "outputs": [],
   "source": [
    "# prep for step 6\n",
    "# !chmod +x ./step6-1-create_input.sh\n",
    "# !./step6-1-create_input.sh \n",
    "# quiet mode\n",
    "# Generate input for fold_0 and all folds. we will start from fold_0 to see what was done correctly. while developing the QC, we will run all the others\n",
    "# The code knows not to repeat models that already available \n",
    "# check the ./local_logs/step6.1.txt for the erros that migght explain missing fold_0 rows\n",
    "\n",
    "# !./step6-1-create_input.sh \n",
    "# ! wc -l ./steps_inputs/step6/chrombpnet_pipeline_extracted_paths_fold_0.txt\n",
    "\n",
    "!chmod +x ./step6-1-create_input_for_all_folds.sh\n",
    "!./step6-1-create_input_for_all_folds.sh\n",
    "# !wc -l ./steps_inputs/step6/chrombpnet_pipeline_extracted_paths_fold_1.txt\n",
    "# "
   ]
  },
  {
   "cell_type": "code",
   "execution_count": 7,
   "id": "585a0a15-2626-4028-9fea-8d360f02fa1f",
   "metadata": {},
   "outputs": [
    {
     "name": "stdout",
     "output_type": "stream",
     "text": [
      "1354 ./steps_inputs/step6/chrombpnet_pipeline_extracted_paths_fold_0.txt\n"
     ]
    }
   ],
   "source": [
    "!wc -l ./steps_inputs/step6/chrombpnet_pipeline_extracted_paths_fold_0.txt"
   ]
  },
  {
   "cell_type": "code",
   "execution_count": 4,
   "id": "963957e0-d21d-4bd1-9bc1-e6f2804775c7",
   "metadata": {},
   "outputs": [
    {
     "name": "stdout",
     "output_type": "stream",
     "text": [
      "1354 ./steps_inputs/step6/chrombpnet_pipeline_extracted_paths_fold_1.txt\n"
     ]
    }
   ],
   "source": [
    "!wc -l ./steps_inputs/step6/chrombpnet_pipeline_extracted_paths_fold_1.txt"
   ]
  },
  {
   "cell_type": "code",
   "execution_count": 8,
   "id": "3fe69920-623c-4334-9702-c936dc37daaf",
   "metadata": {},
   "outputs": [
    {
     "name": "stdout",
     "output_type": "stream",
     "text": [
      "1354 ./steps_inputs/step6/chrombpnet_pipeline_extracted_paths_fold_2.txt\n"
     ]
    }
   ],
   "source": [
    "!wc -l ./steps_inputs/step6/chrombpnet_pipeline_extracted_paths_fold_2.txt"
   ]
  },
  {
   "cell_type": "code",
   "execution_count": 6,
   "id": "f7de11e7-6ecd-4f32-83ef-257bbe6430ab",
   "metadata": {},
   "outputs": [
    {
     "name": "stdout",
     "output_type": "stream",
     "text": [
      "1354 ./steps_inputs/step6/chrombpnet_pipeline_extracted_paths_fold_3.txt\n"
     ]
    }
   ],
   "source": [
    "!wc -l ./steps_inputs/step6/chrombpnet_pipeline_extracted_paths_fold_3.txt"
   ]
  },
  {
   "cell_type": "code",
   "execution_count": 5,
   "id": "c8e08021-7b95-43e6-b241-2e44941a58ff",
   "metadata": {},
   "outputs": [
    {
     "name": "stdout",
     "output_type": "stream",
     "text": [
      "chrombpnet_pipeline_extracted_paths_fold_0.txt\n",
      "chrombpnet_pipeline_extracted_paths_fold_1.txt\n",
      "chrombpnet_pipeline_extracted_paths_fold_2.txt\n",
      "chrombpnet_pipeline_extracted_paths_fold_3.txt\n",
      "chrombpnet_pipeline_extracted_paths_fold_4.txt\n",
      "chrombpnet_pipeline_extracted_paths.txt\n"
     ]
    }
   ],
   "source": [
    "!ls ./steps_inputs/step6/"
   ]
  },
  {
   "cell_type": "code",
   "execution_count": null,
   "id": "4ed4efa1-3ca5-4b3f-90c6-391f15702b0c",
   "metadata": {},
   "outputs": [],
   "source": [
    "!wc -l ./steps_inputs/step6/chrombpnet_pipeline_extracted_paths.txt\n"
   ]
  },
  {
   "cell_type": "code",
   "execution_count": null,
   "id": "e472dfa1-d594-42b6-876e-9ff59402a6cf",
   "metadata": {},
   "outputs": [
    {
     "name": "stdout",
     "output_type": "stream",
     "text": [
      "Total entries in input file: 6770\n",
      "Total number of job arrays to be submitted: 7\n",
      "Submitting job array from 1 to 1000 with a maximum of 1000 concurrent tasks.\n",
      "sbatch: defined options\n",
      "sbatch: -------------------- --------------------\n",
      "sbatch: array               : 1-1000%1000\n",
      "sbatch: error               : /oak/stanford/groups/akundaje/eila/git_tf_chromatin_atlas/local_logs/slurm.step62.bpnetPipeline.combined.err\n",
      "sbatch: gpus                : 1\n",
      "sbatch: job-name            : step62.bpnetPipeline\n",
      "sbatch: mem                 : 64G\n",
      "sbatch: ntasks              : 1\n",
      "sbatch: output              : /oak/stanford/groups/akundaje/eila/git_tf_chromatin_atlas/local_logs/slurm.step62.bpnetPipeline.combined.out\n",
      "sbatch: partition           : akundaje,owners\n",
      "sbatch: time                : 2-00:00:00\n",
      "sbatch: verbose             : 1\n",
      "sbatch: -------------------- --------------------\n",
      "sbatch: end of defined options\n",
      "Submitting job array from 1001 to 2000 with a maximum of 1000 concurrent tasks.\n",
      "sbatch: defined options\n",
      "sbatch: -------------------- --------------------\n",
      "sbatch: array               : 1001-2000%1000\n",
      "sbatch: error               : /oak/stanford/groups/akundaje/eila/git_tf_chromatin_atlas/local_logs/slurm.step62.bpnetPipeline.combined.err\n",
      "sbatch: gpus                : 1\n",
      "sbatch: job-name            : step62.bpnetPipeline\n",
      "sbatch: mem                 : 64G\n",
      "sbatch: ntasks              : 1\n",
      "sbatch: output              : /oak/stanford/groups/akundaje/eila/git_tf_chromatin_atlas/local_logs/slurm.step62.bpnetPipeline.combined.out\n",
      "sbatch: partition           : akundaje,owners\n",
      "sbatch: time                : 2-00:00:00\n",
      "sbatch: verbose             : 1\n",
      "sbatch: -------------------- --------------------\n",
      "sbatch: end of defined options\n",
      "Submitting job array from 2001 to 3000 with a maximum of 1000 concurrent tasks.\n",
      "sbatch: defined options\n",
      "sbatch: -------------------- --------------------\n",
      "sbatch: array               : 2001-3000%1000\n",
      "sbatch: error               : /oak/stanford/groups/akundaje/eila/git_tf_chromatin_atlas/local_logs/slurm.step62.bpnetPipeline.combined.err\n",
      "sbatch: gpus                : 1\n",
      "sbatch: job-name            : step62.bpnetPipeline\n",
      "sbatch: mem                 : 64G\n",
      "sbatch: ntasks              : 1\n",
      "sbatch: output              : /oak/stanford/groups/akundaje/eila/git_tf_chromatin_atlas/local_logs/slurm.step62.bpnetPipeline.combined.out\n",
      "sbatch: partition           : akundaje,owners\n",
      "sbatch: time                : 2-00:00:00\n",
      "sbatch: verbose             : 1\n",
      "sbatch: -------------------- --------------------\n",
      "sbatch: end of defined options\n",
      "Submitting job array from 3001 to 4000 with a maximum of 1000 concurrent tasks.\n",
      "sbatch: defined options\n",
      "sbatch: -------------------- --------------------\n",
      "sbatch: array               : 3001-4000%1000\n",
      "sbatch: error               : /oak/stanford/groups/akundaje/eila/git_tf_chromatin_atlas/local_logs/slurm.step62.bpnetPipeline.combined.err\n",
      "sbatch: gpus                : 1\n",
      "sbatch: job-name            : step62.bpnetPipeline\n",
      "sbatch: mem                 : 64G\n",
      "sbatch: ntasks              : 1\n",
      "sbatch: output              : /oak/stanford/groups/akundaje/eila/git_tf_chromatin_atlas/local_logs/slurm.step62.bpnetPipeline.combined.out\n",
      "sbatch: partition           : akundaje,owners\n",
      "sbatch: time                : 2-00:00:00\n",
      "sbatch: verbose             : 1\n",
      "sbatch: -------------------- --------------------\n",
      "sbatch: end of defined options\n",
      "sbatch: error: QOSMaxSubmitJobPerUserLimit\n",
      "sbatch: error: Batch job submission failed: Job violates accounting/QOS policy (job submit limit, user's size and/or time limits)\n",
      "Submitting job array from 4001 to 5000 with a maximum of 1000 concurrent tasks.\n",
      "sbatch: defined options\n",
      "sbatch: -------------------- --------------------\n",
      "sbatch: array               : 4001-5000%1000\n",
      "sbatch: error               : /oak/stanford/groups/akundaje/eila/git_tf_chromatin_atlas/local_logs/slurm.step62.bpnetPipeline.combined.err\n",
      "sbatch: gpus                : 1\n",
      "sbatch: job-name            : step62.bpnetPipeline\n",
      "sbatch: mem                 : 64G\n",
      "sbatch: ntasks              : 1\n",
      "sbatch: output              : /oak/stanford/groups/akundaje/eila/git_tf_chromatin_atlas/local_logs/slurm.step62.bpnetPipeline.combined.out\n",
      "sbatch: partition           : akundaje,owners\n",
      "sbatch: time                : 2-00:00:00\n",
      "sbatch: verbose             : 1\n",
      "sbatch: -------------------- --------------------\n",
      "sbatch: end of defined options\n",
      "sbatch: error: QOSMaxSubmitJobPerUserLimit\n",
      "sbatch: error: Batch job submission failed: Job violates accounting/QOS policy (job submit limit, user's size and/or time limits)\n",
      "Submitting job array from 5001 to 6000 with a maximum of 1000 concurrent tasks.\n",
      "sbatch: defined options\n",
      "sbatch: -------------------- --------------------\n",
      "sbatch: array               : 5001-6000%1000\n",
      "sbatch: error               : /oak/stanford/groups/akundaje/eila/git_tf_chromatin_atlas/local_logs/slurm.step62.bpnetPipeline.combined.err\n",
      "sbatch: gpus                : 1\n",
      "sbatch: job-name            : step62.bpnetPipeline\n",
      "sbatch: mem                 : 64G\n",
      "sbatch: ntasks              : 1\n",
      "sbatch: output              : /oak/stanford/groups/akundaje/eila/git_tf_chromatin_atlas/local_logs/slurm.step62.bpnetPipeline.combined.out\n",
      "sbatch: partition           : akundaje,owners\n",
      "sbatch: time                : 2-00:00:00\n",
      "sbatch: verbose             : 1\n",
      "sbatch: -------------------- --------------------\n",
      "sbatch: end of defined options\n",
      "sbatch: error: QOSMaxSubmitJobPerUserLimit\n",
      "sbatch: error: Batch job submission failed: Job violates accounting/QOS policy (job submit limit, user's size and/or time limits)\n",
      "Submitting job array from 6001 to 6770 with a maximum of 1000 concurrent tasks.\n",
      "sbatch: defined options\n",
      "sbatch: -------------------- --------------------\n",
      "sbatch: array               : 6001-6770%1000\n",
      "sbatch: error               : /oak/stanford/groups/akundaje/eila/git_tf_chromatin_atlas/local_logs/slurm.step62.bpnetPipeline.combined.err\n",
      "sbatch: gpus                : 1\n",
      "sbatch: job-name            : step62.bpnetPipeline\n",
      "sbatch: mem                 : 64G\n",
      "sbatch: ntasks              : 1\n",
      "sbatch: output              : /oak/stanford/groups/akundaje/eila/git_tf_chromatin_atlas/local_logs/slurm.step62.bpnetPipeline.combined.out\n",
      "sbatch: partition           : akundaje,owners\n",
      "sbatch: time                : 2-00:00:00\n",
      "sbatch: verbose             : 1\n",
      "sbatch: -------------------- --------------------\n",
      "sbatch: end of defined options\n",
      "sbatch: error: QOSMaxSubmitJobPerUserLimit\n",
      "sbatch: error: Batch job submission failed: Job violates accounting/QOS policy (job submit limit, user's size and/or time limits)\n",
      "Waiting for jobs 55612928,55612929,55612930,,,, to complete... Sleeping for 20 minutes.\n",
      "Waiting for jobs 55612928,55612929,55612930,,,, to complete... Sleeping for 20 minutes.\n"
     ]
    }
   ],
   "source": [
    "# all folds:\n",
    "\n",
    "!./execute_sbatch_arrays_on_sherlock.sh ./steps_inputs/step6/chrombpnet_pipeline_extracted_paths.txt step6-2-chrombpnet-pipelline.sh 1000 1000 \n"
   ]
  },
  {
   "cell_type": "code",
   "execution_count": 1,
   "id": "ec8bbe1c-e4d5-4be9-93e4-e73222de149e",
   "metadata": {},
   "outputs": [],
   "source": [
    "# !chmod +x step6-2-train.sh\n",
    "# !rm ./local_logs/slurm.step62.bpnetPipeline*\n",
    "# fold_0\n",
    "# !./execute_sbatch_arrays_on_sherlock.sh ./steps_inputs/step6/chrombpnet_pipeline_extracted_paths_fold_0.txt step6-2-chrombpnet-pipelline.sh 1000 1000 \n"
   ]
  },
  {
   "cell_type": "code",
   "execution_count": null,
   "id": "309156d8-8857-462e-b970-956c2b23a660",
   "metadata": {},
   "outputs": [],
   "source": [
    "# chrombpnet_pipeline_extracted_paths_fold_1\n",
    "# !./execute_sbatch_arrays_on_sherlock.sh ./steps_inputs/step6/chrombpnet_pipeline_extracted_paths_fold_1.txt step6-2-chrombpnet-pipelline.sh 1000 1000 \n",
    "\n"
   ]
  },
  {
   "cell_type": "code",
   "execution_count": 18,
   "id": "ed3dd771-6a43-4f3a-b5f6-f3fcaf29de0b",
   "metadata": {},
   "outputs": [],
   "source": [
    "# chrombpnet_pipeline_extracted_paths_fold_2\n",
    "# !./execute_sbatch_arrays_on_sherlock.sh ./steps_inputs/step6/chrombpnet_pipeline_extracted_paths_fold_2.txt step6-2-chrombpnet-pipelline.sh 1000 1000 \n"
   ]
  },
  {
   "cell_type": "code",
   "execution_count": null,
   "id": "7b9dbcf2-00ee-4ddf-b360-1e3b8be8e571",
   "metadata": {},
   "outputs": [],
   "source": [
    "# chrombpnet_pipeline_extracted_paths_fold_3\n",
    "# !./execute_sbatch_arrays_on_sherlock.sh ./steps_inputs/step6/chrombpnet_pipeline_extracted_paths_fold_3.txt step6-2-chrombpnet-pipelline.sh 1000 1000 \n",
    "\n"
   ]
  },
  {
   "cell_type": "code",
   "execution_count": null,
   "id": "6bb7d76c-e1d3-42c4-8b58-eab14bfcbfd4",
   "metadata": {},
   "outputs": [],
   "source": [
    "# chrombpnet_pipeline_extracted_paths_fold_4\n",
    "# !./execute_sbatch_arrays_on_sherlock.sh ./steps_inputs/step6/chrombpnet_pipeline_extracted_paths_fold_4.txt step6-2-chrombpnet-pipelline.sh 1000 1000 \n"
   ]
  },
  {
   "cell_type": "markdown",
   "id": "d1bf50a2-5752-4097-9b44-dfec32683932",
   "metadata": {},
   "source": [
    "6.3.1-check the results - nseqspec"
   ]
  },
  {
   "cell_type": "code",
   "execution_count": 2,
   "id": "eac06b24-46d6-4bca-993a-b491333c8e2f",
   "metadata": {},
   "outputs": [],
   "source": [
    "# !ls"
   ]
  },
  {
   "cell_type": "code",
   "execution_count": 5,
   "id": "79320ae6-e147-4b6a-b344-f209e99fc00c",
   "metadata": {},
   "outputs": [
    {
     "name": "stdout",
     "output_type": "stream",
     "text": [
      "step6_3_1_remove_motifs_with_low_numseqs.py\n"
     ]
    }
   ],
   "source": [
    "# NA:\n",
    "# !jupyter nbconvert --to script step6-3-1-remove-motifs-with-low-numseqs.ipynb --output step6_3_1_remove_motifs_with_low_numseqs\n",
    "# !ls step6_3*\n"
   ]
  },
  {
   "cell_type": "code",
   "execution_count": 1,
   "id": "bb6c9954-5e9e-4ded-a534-27dc395aee8b",
   "metadata": {},
   "outputs": [
    {
     "name": "stdout",
     "output_type": "stream",
     "text": [
      "invalid_images\t\t invalid_pos_patterns.h5  valid_neg_patterns.h5\n",
      "invalid_neg_patterns.h5  valid_images\t\t  valid_pos_patterns.h5\n"
     ]
    }
   ],
   "source": [
    "# !ls /scratch/groups/akundaje/eila/encode_pseudobulks/old_encode_pseudobulks_model_training/human/*/*/fold_0/step62.bpnetPipeline/evaluation/modisco_profile/trimmed_logos\n",
    "# !ls /scratch/groups/akundaje/eila/encode_pseudobulks/old_encode_pseudobulks_model_training/human/ENCSR004DZS/ENCFF709MRG/fold_0/step62.bpnetPipeline/auxiliary/interpret_subsample/modisco_results_profile_scores.h5\n",
    "!ls /scratch/groups/akundaje/eila/encode_pseudobulks/old_encode_pseudobulks_model_training/human/ENCSR004DZS/ENCFF709MRG/fold_0/step62.bpnetPipeline/qc/out_step_6_3_1_motifs_qc\n",
    "\n",
    "\n",
    "\n"
   ]
  },
  {
   "cell_type": "code",
   "execution_count": 2,
   "id": "37d38d79-3985-4132-b3e1-18e691bd1a3f",
   "metadata": {},
   "outputs": [
    {
     "name": "stdout",
     "output_type": "stream",
     "text": [
      "neg_patterns.pattern_0.cwm.fwd.png   pos_patterns.pattern_15.cwm.fwd.png\n",
      "neg_patterns.pattern_0.cwm.rev.png   pos_patterns.pattern_15.cwm.rev.png\n",
      "neg_patterns.pattern_1.cwm.fwd.png   pos_patterns.pattern_16.cwm.fwd.png\n",
      "neg_patterns.pattern_1.cwm.rev.png   pos_patterns.pattern_16.cwm.rev.png\n",
      "pos_patterns.pattern_13.cwm.fwd.png  pos_patterns.pattern_17.cwm.fwd.png\n",
      "pos_patterns.pattern_13.cwm.rev.png  pos_patterns.pattern_17.cwm.rev.png\n",
      "pos_patterns.pattern_14.cwm.fwd.png  pos_patterns.pattern_18.cwm.fwd.png\n",
      "pos_patterns.pattern_14.cwm.rev.png  pos_patterns.pattern_18.cwm.rev.png\n"
     ]
    }
   ],
   "source": [
    "\n",
    "!ls /scratch/groups/akundaje/eila/encode_pseudobulks/old_encode_pseudobulks_model_training/human/ENCSR004DZS/ENCFF709MRG/fold_0/step62.bpnetPipeline/qc/out_step_6_3_1_motifs_qc/invalid_images\n"
   ]
  },
  {
   "cell_type": "code",
   "execution_count": 3,
   "id": "a1ffeb04-8dc7-4642-8082-964e8eb430a3",
   "metadata": {},
   "outputs": [
    {
     "data": {
      "image/png": "[encoded data removed]",
      "text/plain": [
       "<IPython.core.display.Image object>"
      ]
     },
     "metadata": {},
     "output_type": "display_data"
    }
   ],
   "source": [
    "from IPython.display import Image, display\n",
    "\n",
    "# Display a PNG image\n",
    "image_path = \"/scratch/groups/akundaje/eila/encode_pseudobulks/old_encode_pseudobulks_model_training/human/ENCSR004DZS/ENCFF709MRG/fold_0/step62.bpnetPipeline/qc/out_step_6_3_1_motifs_qc/invalid_images/neg_patterns.pattern_0.cwm.fwd.png\"\n",
    "\n",
    "display(Image(filename=image_path))"
   ]
  },
  {
   "cell_type": "code",
   "execution_count": 5,
   "id": "00f9453b-2e7e-4822-9b0f-c5f7299a918e",
   "metadata": {},
   "outputs": [],
   "source": [
    "# !chmod +x step6-3-1-qc-nseqlet.sh\n",
    "# !chmod +x step6_3_1_remove_motifs_with_low_numseqs.py\n",
    "# /scratch/groups/akundaje/eila/encode_pseudobulks/old_encode_pseudobulks_model_training/human/ENCSR004DZS/ENCFF709MRG/fold_0/step62.bpnetPipeline/evaluation/modisco_profile/trimmed_logos\n",
    "# !./step6-3-1-qc-nseqlet.sh /scratch/groups/akundaje/eila/encode_pseudobulks/old_encode_pseudobulks_model_training/human/ENCSR004DZS/ENCFF709MRG/fold_0/step62.bpnetPipeline/auxiliary/interpret_subsample/modisco_results_profile_scores.h5\n",
    "\n"
   ]
  },
  {
   "cell_type": "markdown",
   "id": "339828dc-c6f8-49e9-b096-ed5a34cbf07d",
   "metadata": {},
   "source": [
    "6.3.2 -check the results - qval"
   ]
  },
  {
   "cell_type": "code",
   "execution_count": 6,
   "id": "4a1cef7c-bf4c-40be-b3ab-e3b4c391263a",
   "metadata": {},
   "outputs": [],
   "source": [
    "# !chmod +x step6-3-2-qc-qval.sh\n",
    "# !chmod +x step6_3_2_filter_motifs_by_qval.py\n",
    "# !./step6-3-2-qc-qval.sh /scratch/groups/akundaje/eila/encode_pseudobulks/old_encode_pseudobulks_model_training/human/ENCSR877WNS/ENCFF270AAM/fold_0/step62.bpnetPipeline/auxiliary/interpret_subsample/modisco_results_profile_scores.h5\n",
    "\n"
   ]
  },
  {
   "cell_type": "code",
   "execution_count": 7,
   "id": "d010fa05-917f-4571-b0f4-d9d584ca7054",
   "metadata": {},
   "outputs": [
    {
     "name": "stdout",
     "output_type": "stream",
     "text": [
      "step6-1-create_input_for_all_folds.sh\n",
      "step6-2-chrombpnet-pipelline.sh\n",
      "step6-3-1-qc-nseqlet.sh\n",
      "step6_3_1_remove_motifs_with_low_numseqs.py\n",
      "step6_3_2_filter_motifs_by_qval.py\n",
      "step6-3-2-qc-qval.sh\n",
      "step6_3_3_filter_motifs_with_tn5_bias.py\n",
      "step6-3-3-qc-bias-tn5.sh\n",
      "step6-3-review-pipeline-report.sh\n"
     ]
    }
   ],
   "source": [
    "!ls step6*"
   ]
  },
  {
   "cell_type": "markdown",
   "id": "d50f3c22-9a35-4184-a2f2-2e536beedc96",
   "metadata": {},
   "source": [
    "6.3.3 -check the for tn5 bias"
   ]
  },
  {
   "cell_type": "code",
   "execution_count": 17,
   "id": "ea115fdb-ac15-4582-921e-f820eed23748",
   "metadata": {
    "scrolled": true
   },
   "outputs": [
    {
     "name": "stdout",
     "output_type": "stream",
     "text": [
      "Loading Conda environment...\n",
      "Conda environment 'chrombpnet' activated.\n",
      "Base logo directory set to: /scratch/groups/akundaje/eila/encode_pseudobulks/old_encode_pseudobulks_model_training/human/ENCSR004DZS/ENCFF709MRG/fold_0/step62.bpnetPipeline/evaluation/modisco_profile/trimmed_logos/\n",
      "Output directory set to: /scratch/groups/akundaje/eila/encode_pseudobulks/old_encode_pseudobulks_model_training/human/ENCSR004DZS/ENCFF709MRG/fold_0/step62.bpnetPipeline/qc/out_step_6_3_3_motifs_qc_bias_tn5\n",
      "Removing existing output directory: /scratch/groups/akundaje/eila/encode_pseudobulks/old_encode_pseudobulks_model_training/human/ENCSR004DZS/ENCFF709MRG/fold_0/step62.bpnetPipeline/qc/out_step_6_3_3_motifs_qc_bias_tn5\n",
      "Processing neg_patterns with threshold 80...\n",
      "Executing Python command...\n",
      "2024-11-20 13:23:58,761 - INFO - Ensuring output directories exist.\n",
      "2024-11-20 13:23:58,763 - INFO - Processing group type: neg_patterns\n",
      "2024-11-20 13:23:58,764 - INFO - Opened HDF5 file: /scratch/groups/akundaje/eila/encode_pseudobulks/old_encode_pseudobulks_model_training/human/ENCSR004DZS/ENCFF709MRG/fold_0/step62.bpnetPipeline/auxiliary/interpret_subsample/modisco_results_profile_scores.h5\n",
      "2024-11-20 13:23:58,767 - DEBUG - Processing pattern: pattern_0\n",
      "2024-11-20 13:23:58,768 - DEBUG - Seqlet one-hot encoding shape: (87, 30, 4)\n",
      "2024-11-20 13:23:58,768 - DEBUG - Decoded seqlet: GGAGTCATTTCCTACCCACTTGCTTTTCTC\n",
      "2024-11-20 13:23:58,768 - DEBUG - Checking seqlet: GGAGTCATTTCCTACCCACTTGCTTTTCTC against all TN5 isoforms.\n",
      "2024-11-20 13:23:58,768 - DEBUG - Best similarity score: 0 at position 0 (threshold: 80)\n",
      "2024-11-20 13:23:58,768 - DEBUG - Similarity: 0% at position 0 (threshold: 80)\n",
      "2024-11-20 13:23:58,768 - DEBUG - Best similarity score: 0 at position 0 (threshold: 80)\n",
      "2024-11-20 13:23:58,768 - DEBUG - Similarity: 0% at position 0 (threshold: 80)\n",
      "2024-11-20 13:23:58,768 - DEBUG - Best similarity score: 0 at position 0 (threshold: 80)\n",
      "2024-11-20 13:23:58,768 - DEBUG - Similarity: 0% at position 0 (threshold: 80)\n",
      "2024-11-20 13:23:58,768 - DEBUG - Best similarity score: 0 at position 0 (threshold: 80)\n",
      "2024-11-20 13:23:58,768 - DEBUG - Similarity: 0% at position 0 (threshold: 80)\n",
      "2024-11-20 13:23:58,768 - DEBUG - Best similarity score: 0 at position 0 (threshold: 80)\n",
      "2024-11-20 13:23:58,768 - DEBUG - Similarity: 0% at position 0 (threshold: 80)\n",
      "2024-11-20 13:23:58,768 - DEBUG - Seqlet did not match any TN5 isoform. it is a valid seqlet\n",
      "2024-11-20 13:23:58,769 - INFO - Pattern pattern_0 is valid and saved.\n",
      "2024-11-20 13:23:58,774 - DEBUG - Copying file /scratch/groups/akundaje/eila/encode_pseudobulks/old_encode_pseudobulks_model_training/human/ENCSR004DZS/ENCFF709MRG/fold_0/step62.bpnetPipeline/evaluation/modisco_profile/trimmed_logos/neg_patterns.pattern_0.cwm.rev.png to /scratch/groups/akundaje/eila/encode_pseudobulks/old_encode_pseudobulks_model_training/human/ENCSR004DZS/ENCFF709MRG/fold_0/step62.bpnetPipeline/qc/out_step_6_3_3_motifs_qc_bias_tn5/neg_patterns_valid_logos/neg_patterns.pattern_0.cwm.rev.png\n",
      "2024-11-20 13:23:58,775 - INFO - Copied logo: neg_patterns.pattern_0.cwm.rev.png to valid directory.\n",
      "2024-11-20 13:23:58,775 - DEBUG - Copying file /scratch/groups/akundaje/eila/encode_pseudobulks/old_encode_pseudobulks_model_training/human/ENCSR004DZS/ENCFF709MRG/fold_0/step62.bpnetPipeline/evaluation/modisco_profile/trimmed_logos/neg_patterns.pattern_0.cwm.fwd.png to /scratch/groups/akundaje/eila/encode_pseudobulks/old_encode_pseudobulks_model_training/human/ENCSR004DZS/ENCFF709MRG/fold_0/step62.bpnetPipeline/qc/out_step_6_3_3_motifs_qc_bias_tn5/neg_patterns_valid_logos/neg_patterns.pattern_0.cwm.fwd.png\n",
      "2024-11-20 13:23:58,775 - INFO - Copied logo: neg_patterns.pattern_0.cwm.fwd.png to valid directory.\n",
      "2024-11-20 13:23:58,775 - DEBUG - Decoded seqlet: AGGATTATTTCCTGTAATGGATCAGGTAAC\n",
      "2024-11-20 13:23:58,775 - DEBUG - Checking seqlet: AGGATTATTTCCTGTAATGGATCAGGTAAC against all TN5 isoforms.\n",
      "2024-11-20 13:23:58,775 - DEBUG - Best similarity score: 0 at position 0 (threshold: 80)\n",
      "2024-11-20 13:23:58,775 - DEBUG - Similarity: 0% at position 0 (threshold: 80)\n",
      "2024-11-20 13:23:58,775 - DEBUG - Best similarity score: 0 at position 0 (threshold: 80)\n",
      "2024-11-20 13:23:58,775 - DEBUG - Similarity: 0% at position 0 (threshold: 80)\n",
      "2024-11-20 13:23:58,775 - DEBUG - Best similarity score: 0 at position 0 (threshold: 80)\n",
      "2024-11-20 13:23:58,775 - DEBUG - Similarity: 0% at position 0 (threshold: 80)\n",
      "2024-11-20 13:23:58,775 - DEBUG - Best similarity score: 0 at position 0 (threshold: 80)\n",
      "2024-11-20 13:23:58,775 - DEBUG - Similarity: 0% at position 0 (threshold: 80)\n",
      "2024-11-20 13:23:58,775 - DEBUG - Best similarity score: 0 at position 0 (threshold: 80)\n",
      "2024-11-20 13:23:58,775 - DEBUG - Similarity: 0% at position 0 (threshold: 80)\n",
      "2024-11-20 13:23:58,775 - DEBUG - Seqlet did not match any TN5 isoform. it is a valid seqlet\n",
      "2024-11-20 13:23:58,775 - ERROR - Error processing pattern pattern_0: Unable to synchronously copy object (destination object already exists)\n",
      "2024-11-20 13:23:58,775 - DEBUG - Processing pattern: pattern_1\n",
      "2024-11-20 13:23:58,776 - DEBUG - Seqlet one-hot encoding shape: (22, 30, 4)\n",
      "2024-11-20 13:23:58,776 - DEBUG - Decoded seqlet: AAATATCCCCCGACGATTGGCTGAAAACAT\n",
      "2024-11-20 13:23:58,776 - DEBUG - Checking seqlet: AAATATCCCCCGACGATTGGCTGAAAACAT against all TN5 isoforms.\n",
      "2024-11-20 13:23:58,776 - DEBUG - Best similarity score: 0 at position 0 (threshold: 80)\n",
      "2024-11-20 13:23:58,776 - DEBUG - Similarity: 0% at position 0 (threshold: 80)\n",
      "2024-11-20 13:23:58,776 - DEBUG - Best similarity score: 0 at position 0 (threshold: 80)\n",
      "2024-11-20 13:23:58,776 - DEBUG - Similarity: 0% at position 0 (threshold: 80)\n",
      "2024-11-20 13:23:58,776 - DEBUG - Best similarity score: 0 at position 0 (threshold: 80)\n",
      "2024-11-20 13:23:58,776 - DEBUG - Similarity: 0% at position 0 (threshold: 80)\n",
      "2024-11-20 13:23:58,776 - DEBUG - Best similarity score: 0 at position 0 (threshold: 80)\n",
      "2024-11-20 13:23:58,776 - DEBUG - Similarity: 0% at position 0 (threshold: 80)\n",
      "2024-11-20 13:23:58,776 - DEBUG - Best similarity score: 0 at position 0 (threshold: 80)\n",
      "2024-11-20 13:23:58,776 - DEBUG - Similarity: 0% at position 0 (threshold: 80)\n",
      "2024-11-20 13:23:58,776 - DEBUG - Seqlet did not match any TN5 isoform. it is a valid seqlet\n",
      "2024-11-20 13:23:58,776 - INFO - Pattern pattern_1 is valid and saved.\n",
      "2024-11-20 13:23:58,777 - DEBUG - Copying file /scratch/groups/akundaje/eila/encode_pseudobulks/old_encode_pseudobulks_model_training/human/ENCSR004DZS/ENCFF709MRG/fold_0/step62.bpnetPipeline/evaluation/modisco_profile/trimmed_logos/neg_patterns.pattern_1.cwm.rev.png to /scratch/groups/akundaje/eila/encode_pseudobulks/old_encode_pseudobulks_model_training/human/ENCSR004DZS/ENCFF709MRG/fold_0/step62.bpnetPipeline/qc/out_step_6_3_3_motifs_qc_bias_tn5/neg_patterns_valid_logos/neg_patterns.pattern_1.cwm.rev.png\n",
      "2024-11-20 13:23:58,777 - INFO - Copied logo: neg_patterns.pattern_1.cwm.rev.png to valid directory.\n",
      "2024-11-20 13:23:58,777 - DEBUG - Copying file /scratch/groups/akundaje/eila/encode_pseudobulks/old_encode_pseudobulks_model_training/human/ENCSR004DZS/ENCFF709MRG/fold_0/step62.bpnetPipeline/evaluation/modisco_profile/trimmed_logos/neg_patterns.pattern_1.cwm.fwd.png to /scratch/groups/akundaje/eila/encode_pseudobulks/old_encode_pseudobulks_model_training/human/ENCSR004DZS/ENCFF709MRG/fold_0/step62.bpnetPipeline/qc/out_step_6_3_3_motifs_qc_bias_tn5/neg_patterns_valid_logos/neg_patterns.pattern_1.cwm.fwd.png\n",
      "2024-11-20 13:23:58,778 - INFO - Copied logo: neg_patterns.pattern_1.cwm.fwd.png to valid directory.\n",
      "2024-11-20 13:23:58,778 - DEBUG - Decoded seqlet: TGGGGCGGAGTTTTGGTTGGGTGTTTTCCT\n",
      "2024-11-20 13:23:58,778 - DEBUG - Checking seqlet: TGGGGCGGAGTTTTGGTTGGGTGTTTTCCT against all TN5 isoforms.\n",
      "2024-11-20 13:23:58,778 - DEBUG - Best similarity score: 0 at position 0 (threshold: 80)\n",
      "2024-11-20 13:23:58,778 - DEBUG - Similarity: 0% at position 0 (threshold: 80)\n",
      "2024-11-20 13:23:58,778 - DEBUG - Best similarity score: 0 at position 0 (threshold: 80)\n",
      "2024-11-20 13:23:58,778 - DEBUG - Similarity: 0% at position 0 (threshold: 80)\n",
      "2024-11-20 13:23:58,778 - DEBUG - Best similarity score: 0 at position 0 (threshold: 80)\n",
      "2024-11-20 13:23:58,778 - DEBUG - Similarity: 0% at position 0 (threshold: 80)\n",
      "2024-11-20 13:23:58,778 - DEBUG - Best similarity score: 0 at position 0 (threshold: 80)\n",
      "2024-11-20 13:23:58,778 - DEBUG - Similarity: 0% at position 0 (threshold: 80)\n",
      "2024-11-20 13:23:58,778 - DEBUG - Best similarity score: 0 at position 0 (threshold: 80)\n",
      "2024-11-20 13:23:58,778 - DEBUG - Similarity: 0% at position 0 (threshold: 80)\n",
      "2024-11-20 13:23:58,778 - DEBUG - Seqlet did not match any TN5 isoform. it is a valid seqlet\n",
      "2024-11-20 13:23:58,778 - ERROR - Error processing pattern pattern_1: Unable to synchronously copy object (destination object already exists)\n",
      "Processing pos_patterns with threshold 80...\n",
      "Executing Python command...\n",
      "2024-11-20 13:23:59,103 - INFO - Ensuring output directories exist.\n",
      "2024-11-20 13:23:59,104 - INFO - Processing group type: pos_patterns\n",
      "2024-11-20 13:23:59,105 - INFO - Opened HDF5 file: /scratch/groups/akundaje/eila/encode_pseudobulks/old_encode_pseudobulks_model_training/human/ENCSR004DZS/ENCFF709MRG/fold_0/step62.bpnetPipeline/auxiliary/interpret_subsample/modisco_results_profile_scores.h5\n",
      "2024-11-20 13:23:59,109 - DEBUG - Processing pattern: pattern_0\n",
      "2024-11-20 13:23:59,111 - DEBUG - Seqlet one-hot encoding shape: (8193, 30, 4)\n",
      "2024-11-20 13:23:59,111 - DEBUG - Decoded seqlet: CCACTCACAGAATTTCCTGCTGGCACTGTC\n",
      "2024-11-20 13:23:59,111 - DEBUG - Checking seqlet: CCACTCACAGAATTTCCTGCTGGCACTGTC against all TN5 isoforms.\n",
      "2024-11-20 13:23:59,111 - DEBUG - Best similarity score: 0 at position 0 (threshold: 80)\n",
      "2024-11-20 13:23:59,111 - DEBUG - Similarity: 0% at position 0 (threshold: 80)\n",
      "2024-11-20 13:23:59,111 - DEBUG - Best similarity score: 0 at position 0 (threshold: 80)\n",
      "2024-11-20 13:23:59,111 - DEBUG - Similarity: 0% at position 0 (threshold: 80)\n",
      "2024-11-20 13:23:59,111 - DEBUG - Best similarity score: 0 at position 0 (threshold: 80)\n",
      "2024-11-20 13:23:59,111 - DEBUG - Similarity: 0% at position 0 (threshold: 80)\n",
      "2024-11-20 13:23:59,111 - DEBUG - Best similarity score: 0 at position 0 (threshold: 80)\n",
      "2024-11-20 13:23:59,111 - DEBUG - Similarity: 0% at position 0 (threshold: 80)\n",
      "2024-11-20 13:23:59,111 - DEBUG - Best similarity score: 0 at position 0 (threshold: 80)\n",
      "2024-11-20 13:23:59,111 - DEBUG - Similarity: 0% at position 0 (threshold: 80)\n",
      "2024-11-20 13:23:59,111 - DEBUG - Seqlet did not match any TN5 isoform. it is a valid seqlet\n",
      "2024-11-20 13:23:59,142 - INFO - Pattern pattern_0 is valid and saved.\n",
      "2024-11-20 13:23:59,143 - DEBUG - Copying file /scratch/groups/akundaje/eila/encode_pseudobulks/old_encode_pseudobulks_model_training/human/ENCSR004DZS/ENCFF709MRG/fold_0/step62.bpnetPipeline/evaluation/modisco_profile/trimmed_logos/pos_patterns.pattern_0.cwm.rev.png to /scratch/groups/akundaje/eila/encode_pseudobulks/old_encode_pseudobulks_model_training/human/ENCSR004DZS/ENCFF709MRG/fold_0/step62.bpnetPipeline/qc/out_step_6_3_3_motifs_qc_bias_tn5/pos_patterns_valid_logos/pos_patterns.pattern_0.cwm.rev.png\n",
      "2024-11-20 13:23:59,143 - INFO - Copied logo: pos_patterns.pattern_0.cwm.rev.png to valid directory.\n",
      "2024-11-20 13:23:59,143 - DEBUG - Copying file /scratch/groups/akundaje/eila/encode_pseudobulks/old_encode_pseudobulks_model_training/human/ENCSR004DZS/ENCFF709MRG/fold_0/step62.bpnetPipeline/evaluation/modisco_profile/trimmed_logos/pos_patterns.pattern_0.cwm.fwd.png to /scratch/groups/akundaje/eila/encode_pseudobulks/old_encode_pseudobulks_model_training/human/ENCSR004DZS/ENCFF709MRG/fold_0/step62.bpnetPipeline/qc/out_step_6_3_3_motifs_qc_bias_tn5/pos_patterns_valid_logos/pos_patterns.pattern_0.cwm.fwd.png\n",
      "2024-11-20 13:23:59,144 - INFO - Copied logo: pos_patterns.pattern_0.cwm.fwd.png to valid directory.\n",
      "2024-11-20 13:23:59,144 - DEBUG - Decoded seqlet: TCACAGGCAGAGTTTCCTGTCAATAGCAAA\n",
      "2024-11-20 13:23:59,144 - DEBUG - Checking seqlet: TCACAGGCAGAGTTTCCTGTCAATAGCAAA against all TN5 isoforms.\n",
      "2024-11-20 13:23:59,144 - DEBUG - Best similarity score: 0 at position 0 (threshold: 80)\n",
      "2024-11-20 13:23:59,144 - DEBUG - Similarity: 0% at position 0 (threshold: 80)\n",
      "2024-11-20 13:23:59,144 - DEBUG - Best similarity score: 0 at position 0 (threshold: 80)\n",
      "2024-11-20 13:23:59,144 - DEBUG - Similarity: 0% at position 0 (threshold: 80)\n",
      "2024-11-20 13:23:59,144 - DEBUG - Best similarity score: 0 at position 0 (threshold: 80)\n",
      "2024-11-20 13:23:59,144 - DEBUG - Similarity: 0% at position 0 (threshold: 80)\n",
      "2024-11-20 13:23:59,144 - DEBUG - Best similarity score: 0 at position 0 (threshold: 80)\n",
      "2024-11-20 13:23:59,144 - DEBUG - Similarity: 0% at position 0 (threshold: 80)\n",
      "2024-11-20 13:23:59,144 - DEBUG - Best similarity score: 0 at position 0 (threshold: 80)\n",
      "2024-11-20 13:23:59,144 - DEBUG - Similarity: 0% at position 0 (threshold: 80)\n",
      "2024-11-20 13:23:59,144 - DEBUG - Seqlet did not match any TN5 isoform. it is a valid seqlet\n",
      "2024-11-20 13:23:59,144 - ERROR - Error processing pattern pattern_0: Unable to synchronously copy object (destination object already exists)\n",
      "2024-11-20 13:23:59,144 - DEBUG - Processing pattern: pattern_1\n",
      "2024-11-20 13:23:59,146 - DEBUG - Seqlet one-hot encoding shape: (5480, 30, 4)\n",
      "2024-11-20 13:23:59,146 - DEBUG - Decoded seqlet: TGGGAGCTGTGGGCGGGGCCACAGTCGCCA\n",
      "2024-11-20 13:23:59,146 - DEBUG - Checking seqlet: TGGGAGCTGTGGGCGGGGCCACAGTCGCCA against all TN5 isoforms.\n",
      "2024-11-20 13:23:59,146 - DEBUG - Best similarity score: 0 at position 0 (threshold: 80)\n",
      "2024-11-20 13:23:59,146 - DEBUG - Similarity: 0% at position 0 (threshold: 80)\n",
      "2024-11-20 13:23:59,146 - DEBUG - Best similarity score: 0 at position 0 (threshold: 80)\n",
      "2024-11-20 13:23:59,146 - DEBUG - Similarity: 0% at position 0 (threshold: 80)\n",
      "2024-11-20 13:23:59,146 - DEBUG - Best similarity score: 0 at position 0 (threshold: 80)\n",
      "2024-11-20 13:23:59,146 - DEBUG - Similarity: 0% at position 0 (threshold: 80)\n",
      "2024-11-20 13:23:59,146 - DEBUG - Best similarity score: 0 at position 0 (threshold: 80)\n",
      "2024-11-20 13:23:59,146 - DEBUG - Similarity: 0% at position 0 (threshold: 80)\n",
      "2024-11-20 13:23:59,146 - DEBUG - Best similarity score: 0 at position 0 (threshold: 80)\n",
      "2024-11-20 13:23:59,146 - DEBUG - Similarity: 0% at position 0 (threshold: 80)\n",
      "2024-11-20 13:23:59,146 - DEBUG - Seqlet did not match any TN5 isoform. it is a valid seqlet\n",
      "2024-11-20 13:23:59,183 - INFO - Pattern pattern_1 is valid and saved.\n",
      "2024-11-20 13:23:59,184 - DEBUG - Copying file /scratch/groups/akundaje/eila/encode_pseudobulks/old_encode_pseudobulks_model_training/human/ENCSR004DZS/ENCFF709MRG/fold_0/step62.bpnetPipeline/evaluation/modisco_profile/trimmed_logos/pos_patterns.pattern_1.cwm.rev.png to /scratch/groups/akundaje/eila/encode_pseudobulks/old_encode_pseudobulks_model_training/human/ENCSR004DZS/ENCFF709MRG/fold_0/step62.bpnetPipeline/qc/out_step_6_3_3_motifs_qc_bias_tn5/pos_patterns_valid_logos/pos_patterns.pattern_1.cwm.rev.png\n",
      "2024-11-20 13:23:59,184 - INFO - Copied logo: pos_patterns.pattern_1.cwm.rev.png to valid directory.\n",
      "2024-11-20 13:23:59,184 - DEBUG - Copying file /scratch/groups/akundaje/eila/encode_pseudobulks/old_encode_pseudobulks_model_training/human/ENCSR004DZS/ENCFF709MRG/fold_0/step62.bpnetPipeline/evaluation/modisco_profile/trimmed_logos/pos_patterns.pattern_1.cwm.fwd.png to /scratch/groups/akundaje/eila/encode_pseudobulks/old_encode_pseudobulks_model_training/human/ENCSR004DZS/ENCFF709MRG/fold_0/step62.bpnetPipeline/qc/out_step_6_3_3_motifs_qc_bias_tn5/pos_patterns_valid_logos/pos_patterns.pattern_1.cwm.fwd.png\n",
      "2024-11-20 13:23:59,185 - INFO - Copied logo: pos_patterns.pattern_1.cwm.fwd.png to valid directory.\n",
      "2024-11-20 13:23:59,185 - DEBUG - Decoded seqlet: GGCGACAGTGGGGCGGGGCTTGCGGTGGGA\n",
      "2024-11-20 13:23:59,185 - DEBUG - Checking seqlet: GGCGACAGTGGGGCGGGGCTTGCGGTGGGA against all TN5 isoforms.\n",
      "2024-11-20 13:23:59,185 - DEBUG - Best similarity score: 0 at position 0 (threshold: 80)\n",
      "2024-11-20 13:23:59,185 - DEBUG - Similarity: 0% at position 0 (threshold: 80)\n",
      "2024-11-20 13:23:59,185 - DEBUG - Best similarity score: 0 at position 0 (threshold: 80)\n",
      "2024-11-20 13:23:59,185 - DEBUG - Similarity: 0% at position 0 (threshold: 80)\n",
      "2024-11-20 13:23:59,185 - DEBUG - Best similarity score: 0 at position 0 (threshold: 80)\n",
      "2024-11-20 13:23:59,185 - DEBUG - Similarity: 0% at position 0 (threshold: 80)\n",
      "2024-11-20 13:23:59,185 - DEBUG - Best similarity score: 0 at position 0 (threshold: 80)\n",
      "2024-11-20 13:23:59,185 - DEBUG - Similarity: 0% at position 0 (threshold: 80)\n",
      "2024-11-20 13:23:59,185 - DEBUG - Best similarity score: 0 at position 0 (threshold: 80)\n",
      "2024-11-20 13:23:59,185 - DEBUG - Similarity: 0% at position 0 (threshold: 80)\n",
      "2024-11-20 13:23:59,185 - DEBUG - Seqlet did not match any TN5 isoform. it is a valid seqlet\n",
      "2024-11-20 13:23:59,185 - ERROR - Error processing pattern pattern_1: Unable to synchronously copy object (destination object already exists)\n",
      "2024-11-20 13:23:59,185 - DEBUG - Processing pattern: pattern_10\n",
      "2024-11-20 13:23:59,185 - DEBUG - Seqlet one-hot encoding shape: (236, 30, 4)\n",
      "2024-11-20 13:23:59,186 - DEBUG - Decoded seqlet: TGACCCAAGATGGCGGAGCCGTGATTGAAA\n",
      "2024-11-20 13:23:59,186 - DEBUG - Checking seqlet: TGACCCAAGATGGCGGAGCCGTGATTGAAA against all TN5 isoforms.\n",
      "2024-11-20 13:23:59,186 - DEBUG - Best similarity score: 0 at position 0 (threshold: 80)\n",
      "2024-11-20 13:23:59,186 - DEBUG - Similarity: 0% at position 0 (threshold: 80)\n",
      "2024-11-20 13:23:59,186 - DEBUG - Best similarity score: 0 at position 0 (threshold: 80)\n",
      "2024-11-20 13:23:59,186 - DEBUG - Similarity: 0% at position 0 (threshold: 80)\n",
      "2024-11-20 13:23:59,186 - DEBUG - Best similarity score: 0 at position 0 (threshold: 80)\n",
      "2024-11-20 13:23:59,186 - DEBUG - Similarity: 0% at position 0 (threshold: 80)\n",
      "2024-11-20 13:23:59,186 - DEBUG - Best similarity score: 0 at position 0 (threshold: 80)\n",
      "2024-11-20 13:23:59,186 - DEBUG - Similarity: 0% at position 0 (threshold: 80)\n",
      "2024-11-20 13:23:59,186 - DEBUG - Best similarity score: 0 at position 0 (threshold: 80)\n",
      "2024-11-20 13:23:59,186 - DEBUG - Similarity: 0% at position 0 (threshold: 80)\n",
      "2024-11-20 13:23:59,186 - DEBUG - Seqlet did not match any TN5 isoform. it is a valid seqlet\n",
      "2024-11-20 13:23:59,187 - INFO - Pattern pattern_10 is valid and saved.\n",
      "2024-11-20 13:23:59,188 - DEBUG - Copying file /scratch/groups/akundaje/eila/encode_pseudobulks/old_encode_pseudobulks_model_training/human/ENCSR004DZS/ENCFF709MRG/fold_0/step62.bpnetPipeline/evaluation/modisco_profile/trimmed_logos/pos_patterns.pattern_10.cwm.rev.png to /scratch/groups/akundaje/eila/encode_pseudobulks/old_encode_pseudobulks_model_training/human/ENCSR004DZS/ENCFF709MRG/fold_0/step62.bpnetPipeline/qc/out_step_6_3_3_motifs_qc_bias_tn5/pos_patterns_valid_logos/pos_patterns.pattern_10.cwm.rev.png\n",
      "2024-11-20 13:23:59,188 - INFO - Copied logo: pos_patterns.pattern_10.cwm.rev.png to valid directory.\n",
      "2024-11-20 13:23:59,188 - DEBUG - Copying file /scratch/groups/akundaje/eila/encode_pseudobulks/old_encode_pseudobulks_model_training/human/ENCSR004DZS/ENCFF709MRG/fold_0/step62.bpnetPipeline/evaluation/modisco_profile/trimmed_logos/pos_patterns.pattern_10.cwm.fwd.png to /scratch/groups/akundaje/eila/encode_pseudobulks/old_encode_pseudobulks_model_training/human/ENCSR004DZS/ENCFF709MRG/fold_0/step62.bpnetPipeline/qc/out_step_6_3_3_motifs_qc_bias_tn5/pos_patterns_valid_logos/pos_patterns.pattern_10.cwm.fwd.png\n",
      "2024-11-20 13:23:59,188 - INFO - Copied logo: pos_patterns.pattern_10.cwm.fwd.png to valid directory.\n",
      "2024-11-20 13:23:59,189 - DEBUG - Decoded seqlet: GTCTCCAAGATGGCGGCCGCCTGGCCGTCT\n",
      "2024-11-20 13:23:59,189 - DEBUG - Checking seqlet: GTCTCCAAGATGGCGGCCGCCTGGCCGTCT against all TN5 isoforms.\n",
      "2024-11-20 13:23:59,189 - DEBUG - Best similarity score: 0 at position 0 (threshold: 80)\n",
      "2024-11-20 13:23:59,189 - DEBUG - Similarity: 0% at position 0 (threshold: 80)\n",
      "2024-11-20 13:23:59,189 - DEBUG - Best similarity score: 0 at position 0 (threshold: 80)\n",
      "2024-11-20 13:23:59,189 - DEBUG - Similarity: 0% at position 0 (threshold: 80)\n",
      "2024-11-20 13:23:59,189 - DEBUG - Best similarity score: 0 at position 0 (threshold: 80)\n",
      "2024-11-20 13:23:59,189 - DEBUG - Similarity: 0% at position 0 (threshold: 80)\n",
      "2024-11-20 13:23:59,189 - DEBUG - Best similarity score: 0 at position 0 (threshold: 80)\n",
      "2024-11-20 13:23:59,189 - DEBUG - Similarity: 0% at position 0 (threshold: 80)\n",
      "2024-11-20 13:23:59,189 - DEBUG - Best similarity score: 0 at position 0 (threshold: 80)\n",
      "2024-11-20 13:23:59,189 - DEBUG - Similarity: 0% at position 0 (threshold: 80)\n",
      "2024-11-20 13:23:59,189 - DEBUG - Seqlet did not match any TN5 isoform. it is a valid seqlet\n",
      "2024-11-20 13:23:59,189 - ERROR - Error processing pattern pattern_10: Unable to synchronously copy object (destination object already exists)\n",
      "2024-11-20 13:23:59,189 - DEBUG - Processing pattern: pattern_11\n",
      "2024-11-20 13:23:59,189 - DEBUG - Seqlet one-hot encoding shape: (176, 30, 4)\n",
      "2024-11-20 13:23:59,189 - DEBUG - Decoded seqlet: CCTTCCCGATGACGTCACATCCTAATAAAG\n",
      "2024-11-20 13:23:59,189 - DEBUG - Checking seqlet: CCTTCCCGATGACGTCACATCCTAATAAAG against all TN5 isoforms.\n",
      "2024-11-20 13:23:59,189 - DEBUG - Best similarity score: 0 at position 0 (threshold: 80)\n",
      "2024-11-20 13:23:59,189 - DEBUG - Similarity: 0% at position 0 (threshold: 80)\n",
      "2024-11-20 13:23:59,189 - DEBUG - Best similarity score: 0 at position 0 (threshold: 80)\n",
      "2024-11-20 13:23:59,189 - DEBUG - Similarity: 0% at position 0 (threshold: 80)\n",
      "2024-11-20 13:23:59,189 - DEBUG - Best similarity score: 0 at position 0 (threshold: 80)\n",
      "2024-11-20 13:23:59,189 - DEBUG - Similarity: 0% at position 0 (threshold: 80)\n",
      "2024-11-20 13:23:59,189 - DEBUG - Best similarity score: 0 at position 0 (threshold: 80)\n",
      "2024-11-20 13:23:59,189 - DEBUG - Similarity: 0% at position 0 (threshold: 80)\n",
      "2024-11-20 13:23:59,189 - DEBUG - Best similarity score: 0 at position 0 (threshold: 80)\n",
      "2024-11-20 13:23:59,189 - DEBUG - Similarity: 0% at position 0 (threshold: 80)\n",
      "2024-11-20 13:23:59,189 - DEBUG - Seqlet did not match any TN5 isoform. it is a valid seqlet\n",
      "2024-11-20 13:23:59,191 - INFO - Pattern pattern_11 is valid and saved.\n",
      "2024-11-20 13:23:59,192 - DEBUG - Copying file /scratch/groups/akundaje/eila/encode_pseudobulks/old_encode_pseudobulks_model_training/human/ENCSR004DZS/ENCFF709MRG/fold_0/step62.bpnetPipeline/evaluation/modisco_profile/trimmed_logos/pos_patterns.pattern_11.cwm.rev.png to /scratch/groups/akundaje/eila/encode_pseudobulks/old_encode_pseudobulks_model_training/human/ENCSR004DZS/ENCFF709MRG/fold_0/step62.bpnetPipeline/qc/out_step_6_3_3_motifs_qc_bias_tn5/pos_patterns_valid_logos/pos_patterns.pattern_11.cwm.rev.png\n",
      "2024-11-20 13:23:59,192 - INFO - Copied logo: pos_patterns.pattern_11.cwm.rev.png to valid directory.\n",
      "2024-11-20 13:23:59,192 - DEBUG - Copying file /scratch/groups/akundaje/eila/encode_pseudobulks/old_encode_pseudobulks_model_training/human/ENCSR004DZS/ENCFF709MRG/fold_0/step62.bpnetPipeline/evaluation/modisco_profile/trimmed_logos/pos_patterns.pattern_11.cwm.fwd.png to /scratch/groups/akundaje/eila/encode_pseudobulks/old_encode_pseudobulks_model_training/human/ENCSR004DZS/ENCFF709MRG/fold_0/step62.bpnetPipeline/qc/out_step_6_3_3_motifs_qc_bias_tn5/pos_patterns_valid_logos/pos_patterns.pattern_11.cwm.fwd.png\n",
      "2024-11-20 13:23:59,192 - INFO - Copied logo: pos_patterns.pattern_11.cwm.fwd.png to valid directory.\n",
      "2024-11-20 13:23:59,192 - DEBUG - Decoded seqlet: AGCGCTCCGTGACGTCACTTCCGCCTCCAG\n",
      "2024-11-20 13:23:59,192 - DEBUG - Checking seqlet: AGCGCTCCGTGACGTCACTTCCGCCTCCAG against all TN5 isoforms.\n",
      "2024-11-20 13:23:59,192 - DEBUG - Best similarity score: 0 at position 0 (threshold: 80)\n",
      "2024-11-20 13:23:59,192 - DEBUG - Similarity: 0% at position 0 (threshold: 80)\n",
      "2024-11-20 13:23:59,192 - DEBUG - Best similarity score: 0 at position 0 (threshold: 80)\n",
      "2024-11-20 13:23:59,192 - DEBUG - Similarity: 0% at position 0 (threshold: 80)\n",
      "2024-11-20 13:23:59,192 - DEBUG - Best similarity score: 0 at position 0 (threshold: 80)\n",
      "2024-11-20 13:23:59,192 - DEBUG - Similarity: 0% at position 0 (threshold: 80)\n",
      "2024-11-20 13:23:59,192 - DEBUG - Best similarity score: 0 at position 0 (threshold: 80)\n",
      "2024-11-20 13:23:59,192 - DEBUG - Similarity: 0% at position 0 (threshold: 80)\n",
      "2024-11-20 13:23:59,192 - DEBUG - Best similarity score: 0 at position 0 (threshold: 80)\n",
      "2024-11-20 13:23:59,192 - DEBUG - Similarity: 0% at position 0 (threshold: 80)\n",
      "2024-11-20 13:23:59,192 - DEBUG - Seqlet did not match any TN5 isoform. it is a valid seqlet\n",
      "2024-11-20 13:23:59,193 - ERROR - Error processing pattern pattern_11: Unable to synchronously copy object (destination object already exists)\n",
      "2024-11-20 13:23:59,193 - DEBUG - Processing pattern: pattern_12\n",
      "2024-11-20 13:23:59,193 - DEBUG - Seqlet one-hot encoding shape: (174, 30, 4)\n",
      "2024-11-20 13:23:59,193 - DEBUG - Decoded seqlet: GTGACGCGCGGGGAGGGGCGAGCCGGGGCC\n",
      "2024-11-20 13:23:59,193 - DEBUG - Checking seqlet: GTGACGCGCGGGGAGGGGCGAGCCGGGGCC against all TN5 isoforms.\n",
      "2024-11-20 13:23:59,193 - DEBUG - Best similarity score: 0 at position 0 (threshold: 80)\n",
      "2024-11-20 13:23:59,193 - DEBUG - Similarity: 0% at position 0 (threshold: 80)\n",
      "2024-11-20 13:23:59,193 - DEBUG - Best similarity score: 0 at position 0 (threshold: 80)\n",
      "2024-11-20 13:23:59,193 - DEBUG - Similarity: 0% at position 0 (threshold: 80)\n",
      "2024-11-20 13:23:59,193 - DEBUG - Best similarity score: 0 at position 0 (threshold: 80)\n",
      "2024-11-20 13:23:59,193 - DEBUG - Similarity: 0% at position 0 (threshold: 80)\n",
      "2024-11-20 13:23:59,193 - DEBUG - Best similarity score: 0 at position 0 (threshold: 80)\n",
      "2024-11-20 13:23:59,193 - DEBUG - Similarity: 0% at position 0 (threshold: 80)\n",
      "2024-11-20 13:23:59,193 - DEBUG - Best similarity score: 0 at position 0 (threshold: 80)\n",
      "2024-11-20 13:23:59,193 - DEBUG - Similarity: 0% at position 0 (threshold: 80)\n",
      "2024-11-20 13:23:59,193 - DEBUG - Seqlet did not match any TN5 isoform. it is a valid seqlet\n",
      "2024-11-20 13:23:59,195 - INFO - Pattern pattern_12 is valid and saved.\n",
      "2024-11-20 13:23:59,195 - DEBUG - Copying file /scratch/groups/akundaje/eila/encode_pseudobulks/old_encode_pseudobulks_model_training/human/ENCSR004DZS/ENCFF709MRG/fold_0/step62.bpnetPipeline/evaluation/modisco_profile/trimmed_logos/pos_patterns.pattern_12.cwm.rev.png to /scratch/groups/akundaje/eila/encode_pseudobulks/old_encode_pseudobulks_model_training/human/ENCSR004DZS/ENCFF709MRG/fold_0/step62.bpnetPipeline/qc/out_step_6_3_3_motifs_qc_bias_tn5/pos_patterns_valid_logos/pos_patterns.pattern_12.cwm.rev.png\n",
      "2024-11-20 13:23:59,195 - INFO - Copied logo: pos_patterns.pattern_12.cwm.rev.png to valid directory.\n",
      "2024-11-20 13:23:59,195 - DEBUG - Copying file /scratch/groups/akundaje/eila/encode_pseudobulks/old_encode_pseudobulks_model_training/human/ENCSR004DZS/ENCFF709MRG/fold_0/step62.bpnetPipeline/evaluation/modisco_profile/trimmed_logos/pos_patterns.pattern_12.cwm.fwd.png to /scratch/groups/akundaje/eila/encode_pseudobulks/old_encode_pseudobulks_model_training/human/ENCSR004DZS/ENCFF709MRG/fold_0/step62.bpnetPipeline/qc/out_step_6_3_3_motifs_qc_bias_tn5/pos_patterns_valid_logos/pos_patterns.pattern_12.cwm.fwd.png\n",
      "2024-11-20 13:23:59,196 - INFO - Copied logo: pos_patterns.pattern_12.cwm.fwd.png to valid directory.\n",
      "2024-11-20 13:23:59,196 - DEBUG - Decoded seqlet: GTCACGCGCGGGGCGGGTCCTGCGCTGCGT\n",
      "2024-11-20 13:23:59,196 - DEBUG - Checking seqlet: GTCACGCGCGGGGCGGGTCCTGCGCTGCGT against all TN5 isoforms.\n",
      "2024-11-20 13:23:59,196 - DEBUG - Best similarity score: 0 at position 0 (threshold: 80)\n",
      "2024-11-20 13:23:59,196 - DEBUG - Similarity: 0% at position 0 (threshold: 80)\n",
      "2024-11-20 13:23:59,196 - DEBUG - Best similarity score: 0 at position 0 (threshold: 80)\n",
      "2024-11-20 13:23:59,196 - DEBUG - Similarity: 0% at position 0 (threshold: 80)\n",
      "2024-11-20 13:23:59,196 - DEBUG - Best similarity score: 0 at position 0 (threshold: 80)\n",
      "2024-11-20 13:23:59,196 - DEBUG - Similarity: 0% at position 0 (threshold: 80)\n",
      "2024-11-20 13:23:59,196 - DEBUG - Best similarity score: 0 at position 0 (threshold: 80)\n",
      "2024-11-20 13:23:59,196 - DEBUG - Similarity: 0% at position 0 (threshold: 80)\n",
      "2024-11-20 13:23:59,196 - DEBUG - Best similarity score: 0 at position 0 (threshold: 80)\n",
      "2024-11-20 13:23:59,196 - DEBUG - Similarity: 0% at position 0 (threshold: 80)\n",
      "2024-11-20 13:23:59,196 - DEBUG - Seqlet did not match any TN5 isoform. it is a valid seqlet\n",
      "2024-11-20 13:23:59,196 - ERROR - Error processing pattern pattern_12: Unable to synchronously copy object (destination object already exists)\n",
      "2024-11-20 13:23:59,196 - DEBUG - Processing pattern: pattern_13\n",
      "2024-11-20 13:23:59,196 - DEBUG - Seqlet one-hot encoding shape: (90, 30, 4)\n",
      "2024-11-20 13:23:59,196 - DEBUG - Decoded seqlet: GGCGAGGCGGGATGTGATGAGTCAGCCCCG\n",
      "2024-11-20 13:23:59,196 - DEBUG - Checking seqlet: GGCGAGGCGGGATGTGATGAGTCAGCCCCG against all TN5 isoforms.\n",
      "2024-11-20 13:23:59,196 - DEBUG - Best similarity score: 0 at position 0 (threshold: 80)\n",
      "2024-11-20 13:23:59,196 - DEBUG - Similarity: 0% at position 0 (threshold: 80)\n",
      "2024-11-20 13:23:59,196 - DEBUG - Best similarity score: 0 at position 0 (threshold: 80)\n",
      "2024-11-20 13:23:59,196 - DEBUG - Similarity: 0% at position 0 (threshold: 80)\n",
      "2024-11-20 13:23:59,196 - DEBUG - Best similarity score: 0 at position 0 (threshold: 80)\n",
      "2024-11-20 13:23:59,196 - DEBUG - Similarity: 0% at position 0 (threshold: 80)\n",
      "2024-11-20 13:23:59,196 - DEBUG - Best similarity score: 0 at position 0 (threshold: 80)\n",
      "2024-11-20 13:23:59,196 - DEBUG - Similarity: 0% at position 0 (threshold: 80)\n",
      "2024-11-20 13:23:59,196 - DEBUG - Best similarity score: 0 at position 0 (threshold: 80)\n",
      "2024-11-20 13:23:59,196 - DEBUG - Similarity: 0% at position 0 (threshold: 80)\n",
      "2024-11-20 13:23:59,196 - DEBUG - Seqlet did not match any TN5 isoform. it is a valid seqlet\n",
      "2024-11-20 13:23:59,198 - INFO - Pattern pattern_13 is valid and saved.\n",
      "2024-11-20 13:23:59,198 - DEBUG - Copying file /scratch/groups/akundaje/eila/encode_pseudobulks/old_encode_pseudobulks_model_training/human/ENCSR004DZS/ENCFF709MRG/fold_0/step62.bpnetPipeline/evaluation/modisco_profile/trimmed_logos/pos_patterns.pattern_13.cwm.fwd.png to /scratch/groups/akundaje/eila/encode_pseudobulks/old_encode_pseudobulks_model_training/human/ENCSR004DZS/ENCFF709MRG/fold_0/step62.bpnetPipeline/qc/out_step_6_3_3_motifs_qc_bias_tn5/pos_patterns_valid_logos/pos_patterns.pattern_13.cwm.fwd.png\n",
      "2024-11-20 13:23:59,199 - INFO - Copied logo: pos_patterns.pattern_13.cwm.fwd.png to valid directory.\n",
      "2024-11-20 13:23:59,199 - DEBUG - Copying file /scratch/groups/akundaje/eila/encode_pseudobulks/old_encode_pseudobulks_model_training/human/ENCSR004DZS/ENCFF709MRG/fold_0/step62.bpnetPipeline/evaluation/modisco_profile/trimmed_logos/pos_patterns.pattern_13.cwm.rev.png to /scratch/groups/akundaje/eila/encode_pseudobulks/old_encode_pseudobulks_model_training/human/ENCSR004DZS/ENCFF709MRG/fold_0/step62.bpnetPipeline/qc/out_step_6_3_3_motifs_qc_bias_tn5/pos_patterns_valid_logos/pos_patterns.pattern_13.cwm.rev.png\n",
      "2024-11-20 13:23:59,199 - INFO - Copied logo: pos_patterns.pattern_13.cwm.rev.png to valid directory.\n",
      "2024-11-20 13:23:59,199 - DEBUG - Decoded seqlet: CTGATTTTATGATGTCACCAATGACACAGA\n",
      "2024-11-20 13:23:59,199 - DEBUG - Checking seqlet: CTGATTTTATGATGTCACCAATGACACAGA against all TN5 isoforms.\n",
      "2024-11-20 13:23:59,199 - DEBUG - Best similarity score: 0 at position 0 (threshold: 80)\n",
      "2024-11-20 13:23:59,199 - DEBUG - Similarity: 0% at position 0 (threshold: 80)\n",
      "2024-11-20 13:23:59,199 - DEBUG - Best similarity score: 0 at position 0 (threshold: 80)\n",
      "2024-11-20 13:23:59,199 - DEBUG - Similarity: 0% at position 0 (threshold: 80)\n",
      "2024-11-20 13:23:59,199 - DEBUG - Best similarity score: 0 at position 0 (threshold: 80)\n",
      "2024-11-20 13:23:59,199 - DEBUG - Similarity: 0% at position 0 (threshold: 80)\n",
      "2024-11-20 13:23:59,199 - DEBUG - Best similarity score: 0 at position 0 (threshold: 80)\n",
      "2024-11-20 13:23:59,199 - DEBUG - Similarity: 0% at position 0 (threshold: 80)\n",
      "2024-11-20 13:23:59,199 - DEBUG - Best similarity score: 0 at position 0 (threshold: 80)\n",
      "2024-11-20 13:23:59,199 - DEBUG - Similarity: 0% at position 0 (threshold: 80)\n",
      "2024-11-20 13:23:59,199 - DEBUG - Seqlet did not match any TN5 isoform. it is a valid seqlet\n",
      "2024-11-20 13:23:59,200 - ERROR - Error processing pattern pattern_13: Unable to synchronously copy object (destination object already exists)\n",
      "2024-11-20 13:23:59,200 - DEBUG - Processing pattern: pattern_14\n",
      "2024-11-20 13:23:59,200 - DEBUG - Seqlet one-hot encoding shape: (82, 30, 4)\n",
      "2024-11-20 13:23:59,200 - DEBUG - Decoded seqlet: CCCGCCTCCTTCCTTCCGGTCCGCTGCTGA\n",
      "2024-11-20 13:23:59,200 - DEBUG - Checking seqlet: CCCGCCTCCTTCCTTCCGGTCCGCTGCTGA against all TN5 isoforms.\n",
      "2024-11-20 13:23:59,200 - DEBUG - Best similarity score: 0 at position 0 (threshold: 80)\n",
      "2024-11-20 13:23:59,200 - DEBUG - Similarity: 0% at position 0 (threshold: 80)\n",
      "2024-11-20 13:23:59,200 - DEBUG - Best similarity score: 0 at position 0 (threshold: 80)\n",
      "2024-11-20 13:23:59,200 - DEBUG - Similarity: 0% at position 0 (threshold: 80)\n",
      "2024-11-20 13:23:59,200 - DEBUG - Best similarity score: 0 at position 0 (threshold: 80)\n",
      "2024-11-20 13:23:59,200 - DEBUG - Similarity: 0% at position 0 (threshold: 80)\n",
      "2024-11-20 13:23:59,200 - DEBUG - Best similarity score: 0 at position 0 (threshold: 80)\n",
      "2024-11-20 13:23:59,200 - DEBUG - Similarity: 0% at position 0 (threshold: 80)\n",
      "2024-11-20 13:23:59,200 - DEBUG - Best similarity score: 0 at position 0 (threshold: 80)\n",
      "2024-11-20 13:23:59,200 - DEBUG - Similarity: 0% at position 0 (threshold: 80)\n",
      "2024-11-20 13:23:59,200 - DEBUG - Seqlet did not match any TN5 isoform. it is a valid seqlet\n",
      "2024-11-20 13:23:59,201 - INFO - Pattern pattern_14 is valid and saved.\n",
      "2024-11-20 13:23:59,202 - DEBUG - Copying file /scratch/groups/akundaje/eila/encode_pseudobulks/old_encode_pseudobulks_model_training/human/ENCSR004DZS/ENCFF709MRG/fold_0/step62.bpnetPipeline/evaluation/modisco_profile/trimmed_logos/pos_patterns.pattern_14.cwm.fwd.png to /scratch/groups/akundaje/eila/encode_pseudobulks/old_encode_pseudobulks_model_training/human/ENCSR004DZS/ENCFF709MRG/fold_0/step62.bpnetPipeline/qc/out_step_6_3_3_motifs_qc_bias_tn5/pos_patterns_valid_logos/pos_patterns.pattern_14.cwm.fwd.png\n",
      "2024-11-20 13:23:59,202 - INFO - Copied logo: pos_patterns.pattern_14.cwm.fwd.png to valid directory.\n",
      "2024-11-20 13:23:59,202 - DEBUG - Copying file /scratch/groups/akundaje/eila/encode_pseudobulks/old_encode_pseudobulks_model_training/human/ENCSR004DZS/ENCFF709MRG/fold_0/step62.bpnetPipeline/evaluation/modisco_profile/trimmed_logos/pos_patterns.pattern_14.cwm.rev.png to /scratch/groups/akundaje/eila/encode_pseudobulks/old_encode_pseudobulks_model_training/human/ENCSR004DZS/ENCFF709MRG/fold_0/step62.bpnetPipeline/qc/out_step_6_3_3_motifs_qc_bias_tn5/pos_patterns_valid_logos/pos_patterns.pattern_14.cwm.rev.png\n",
      "2024-11-20 13:23:59,202 - INFO - Copied logo: pos_patterns.pattern_14.cwm.rev.png to valid directory.\n",
      "2024-11-20 13:23:59,202 - DEBUG - Decoded seqlet: CCAAAGGACTTCCTTCCTGCTTTCAGGGAG\n",
      "2024-11-20 13:23:59,202 - DEBUG - Checking seqlet: CCAAAGGACTTCCTTCCTGCTTTCAGGGAG against all TN5 isoforms.\n",
      "2024-11-20 13:23:59,202 - DEBUG - Best similarity score: 0 at position 0 (threshold: 80)\n",
      "2024-11-20 13:23:59,202 - DEBUG - Similarity: 0% at position 0 (threshold: 80)\n",
      "2024-11-20 13:23:59,203 - DEBUG - Best similarity score: 0 at position 0 (threshold: 80)\n",
      "2024-11-20 13:23:59,203 - DEBUG - Similarity: 0% at position 0 (threshold: 80)\n",
      "2024-11-20 13:23:59,203 - DEBUG - Best similarity score: 0 at position 0 (threshold: 80)\n",
      "2024-11-20 13:23:59,203 - DEBUG - Similarity: 0% at position 0 (threshold: 80)\n",
      "2024-11-20 13:23:59,203 - DEBUG - Best similarity score: 0 at position 0 (threshold: 80)\n",
      "2024-11-20 13:23:59,203 - DEBUG - Similarity: 0% at position 0 (threshold: 80)\n",
      "2024-11-20 13:23:59,203 - DEBUG - Best similarity score: 0 at position 0 (threshold: 80)\n",
      "2024-11-20 13:23:59,203 - DEBUG - Similarity: 0% at position 0 (threshold: 80)\n",
      "2024-11-20 13:23:59,203 - DEBUG - Seqlet did not match any TN5 isoform. it is a valid seqlet\n",
      "2024-11-20 13:23:59,203 - ERROR - Error processing pattern pattern_14: Unable to synchronously copy object (destination object already exists)\n",
      "2024-11-20 13:23:59,203 - DEBUG - Processing pattern: pattern_15\n",
      "2024-11-20 13:23:59,203 - DEBUG - Seqlet one-hot encoding shape: (44, 30, 4)\n",
      "2024-11-20 13:23:59,203 - DEBUG - Decoded seqlet: GTGTGTGTGTGTGTGAGTGTGTGTGTGTGT\n",
      "2024-11-20 13:23:59,203 - DEBUG - Checking seqlet: GTGTGTGTGTGTGTGAGTGTGTGTGTGTGT against all TN5 isoforms.\n",
      "2024-11-20 13:23:59,203 - DEBUG - Best similarity score: 0 at position 0 (threshold: 80)\n",
      "2024-11-20 13:23:59,203 - DEBUG - Similarity: 0% at position 0 (threshold: 80)\n",
      "2024-11-20 13:23:59,203 - DEBUG - Best similarity score: 0 at position 0 (threshold: 80)\n",
      "2024-11-20 13:23:59,203 - DEBUG - Similarity: 0% at position 0 (threshold: 80)\n",
      "2024-11-20 13:23:59,203 - DEBUG - Best similarity score: 0 at position 0 (threshold: 80)\n",
      "2024-11-20 13:23:59,203 - DEBUG - Similarity: 0% at position 0 (threshold: 80)\n",
      "2024-11-20 13:23:59,203 - DEBUG - Best similarity score: 0 at position 0 (threshold: 80)\n",
      "2024-11-20 13:23:59,203 - DEBUG - Similarity: 0% at position 0 (threshold: 80)\n",
      "2024-11-20 13:23:59,203 - DEBUG - Best similarity score: 0 at position 0 (threshold: 80)\n",
      "2024-11-20 13:23:59,203 - DEBUG - Similarity: 0% at position 0 (threshold: 80)\n",
      "2024-11-20 13:23:59,203 - DEBUG - Seqlet did not match any TN5 isoform. it is a valid seqlet\n",
      "2024-11-20 13:23:59,204 - INFO - Pattern pattern_15 is valid and saved.\n",
      "2024-11-20 13:23:59,204 - DEBUG - Copying file /scratch/groups/akundaje/eila/encode_pseudobulks/old_encode_pseudobulks_model_training/human/ENCSR004DZS/ENCFF709MRG/fold_0/step62.bpnetPipeline/evaluation/modisco_profile/trimmed_logos/pos_patterns.pattern_15.cwm.rev.png to /scratch/groups/akundaje/eila/encode_pseudobulks/old_encode_pseudobulks_model_training/human/ENCSR004DZS/ENCFF709MRG/fold_0/step62.bpnetPipeline/qc/out_step_6_3_3_motifs_qc_bias_tn5/pos_patterns_valid_logos/pos_patterns.pattern_15.cwm.rev.png\n",
      "2024-11-20 13:23:59,205 - INFO - Copied logo: pos_patterns.pattern_15.cwm.rev.png to valid directory.\n",
      "2024-11-20 13:23:59,205 - DEBUG - Copying file /scratch/groups/akundaje/eila/encode_pseudobulks/old_encode_pseudobulks_model_training/human/ENCSR004DZS/ENCFF709MRG/fold_0/step62.bpnetPipeline/evaluation/modisco_profile/trimmed_logos/pos_patterns.pattern_15.cwm.fwd.png to /scratch/groups/akundaje/eila/encode_pseudobulks/old_encode_pseudobulks_model_training/human/ENCSR004DZS/ENCFF709MRG/fold_0/step62.bpnetPipeline/qc/out_step_6_3_3_motifs_qc_bias_tn5/pos_patterns_valid_logos/pos_patterns.pattern_15.cwm.fwd.png\n",
      "2024-11-20 13:23:59,205 - INFO - Copied logo: pos_patterns.pattern_15.cwm.fwd.png to valid directory.\n",
      "2024-11-20 13:23:59,205 - DEBUG - Decoded seqlet: GTGTGTGTGTGTGTGTGTGTGTGTGTGAGT\n",
      "2024-11-20 13:23:59,205 - DEBUG - Checking seqlet: GTGTGTGTGTGTGTGTGTGTGTGTGTGAGT against all TN5 isoforms.\n",
      "2024-11-20 13:23:59,205 - DEBUG - Best similarity score: 0 at position 0 (threshold: 80)\n",
      "2024-11-20 13:23:59,205 - DEBUG - Similarity: 0% at position 0 (threshold: 80)\n",
      "2024-11-20 13:23:59,205 - DEBUG - Best similarity score: 0 at position 0 (threshold: 80)\n",
      "2024-11-20 13:23:59,205 - DEBUG - Similarity: 0% at position 0 (threshold: 80)\n",
      "2024-11-20 13:23:59,205 - DEBUG - Best similarity score: 0 at position 0 (threshold: 80)\n",
      "2024-11-20 13:23:59,205 - DEBUG - Similarity: 0% at position 0 (threshold: 80)\n",
      "2024-11-20 13:23:59,205 - DEBUG - Best similarity score: 0 at position 0 (threshold: 80)\n",
      "2024-11-20 13:23:59,205 - DEBUG - Similarity: 0% at position 0 (threshold: 80)\n",
      "2024-11-20 13:23:59,205 - DEBUG - Best similarity score: 0 at position 0 (threshold: 80)\n",
      "2024-11-20 13:23:59,205 - DEBUG - Similarity: 0% at position 0 (threshold: 80)\n",
      "2024-11-20 13:23:59,205 - DEBUG - Seqlet did not match any TN5 isoform. it is a valid seqlet\n",
      "2024-11-20 13:23:59,205 - ERROR - Error processing pattern pattern_15: Unable to synchronously copy object (destination object already exists)\n",
      "2024-11-20 13:23:59,205 - DEBUG - Processing pattern: pattern_16\n",
      "2024-11-20 13:23:59,205 - DEBUG - Seqlet one-hot encoding shape: (39, 30, 4)\n",
      "2024-11-20 13:23:59,206 - DEBUG - Decoded seqlet: GGCTGTGAGGCACTTCCTGACCGGATGGGG\n",
      "2024-11-20 13:23:59,206 - DEBUG - Checking seqlet: GGCTGTGAGGCACTTCCTGACCGGATGGGG against all TN5 isoforms.\n",
      "2024-11-20 13:23:59,206 - DEBUG - Best similarity score: 0 at position 0 (threshold: 80)\n",
      "2024-11-20 13:23:59,206 - DEBUG - Similarity: 0% at position 0 (threshold: 80)\n",
      "2024-11-20 13:23:59,206 - DEBUG - Best similarity score: 0 at position 0 (threshold: 80)\n",
      "2024-11-20 13:23:59,206 - DEBUG - Similarity: 0% at position 0 (threshold: 80)\n",
      "2024-11-20 13:23:59,206 - DEBUG - Best similarity score: 0 at position 0 (threshold: 80)\n",
      "2024-11-20 13:23:59,206 - DEBUG - Similarity: 0% at position 0 (threshold: 80)\n",
      "2024-11-20 13:23:59,206 - DEBUG - Best similarity score: 0 at position 0 (threshold: 80)\n",
      "2024-11-20 13:23:59,206 - DEBUG - Similarity: 0% at position 0 (threshold: 80)\n",
      "2024-11-20 13:23:59,206 - DEBUG - Best similarity score: 0 at position 0 (threshold: 80)\n",
      "2024-11-20 13:23:59,206 - DEBUG - Similarity: 0% at position 0 (threshold: 80)\n",
      "2024-11-20 13:23:59,206 - DEBUG - Seqlet did not match any TN5 isoform. it is a valid seqlet\n",
      "2024-11-20 13:23:59,206 - INFO - Pattern pattern_16 is valid and saved.\n",
      "2024-11-20 13:23:59,207 - DEBUG - Copying file /scratch/groups/akundaje/eila/encode_pseudobulks/old_encode_pseudobulks_model_training/human/ENCSR004DZS/ENCFF709MRG/fold_0/step62.bpnetPipeline/evaluation/modisco_profile/trimmed_logos/pos_patterns.pattern_16.cwm.fwd.png to /scratch/groups/akundaje/eila/encode_pseudobulks/old_encode_pseudobulks_model_training/human/ENCSR004DZS/ENCFF709MRG/fold_0/step62.bpnetPipeline/qc/out_step_6_3_3_motifs_qc_bias_tn5/pos_patterns_valid_logos/pos_patterns.pattern_16.cwm.fwd.png\n",
      "2024-11-20 13:23:59,207 - INFO - Copied logo: pos_patterns.pattern_16.cwm.fwd.png to valid directory.\n",
      "2024-11-20 13:23:59,207 - DEBUG - Copying file /scratch/groups/akundaje/eila/encode_pseudobulks/old_encode_pseudobulks_model_training/human/ENCSR004DZS/ENCFF709MRG/fold_0/step62.bpnetPipeline/evaluation/modisco_profile/trimmed_logos/pos_patterns.pattern_16.cwm.rev.png to /scratch/groups/akundaje/eila/encode_pseudobulks/old_encode_pseudobulks_model_training/human/ENCSR004DZS/ENCFF709MRG/fold_0/step62.bpnetPipeline/qc/out_step_6_3_3_motifs_qc_bias_tn5/pos_patterns_valid_logos/pos_patterns.pattern_16.cwm.rev.png\n",
      "2024-11-20 13:23:59,207 - INFO - Copied logo: pos_patterns.pattern_16.cwm.rev.png to valid directory.\n",
      "2024-11-20 13:23:59,207 - DEBUG - Decoded seqlet: GGAGGAGGACAATTTCCTGTCAGGAAACCC\n",
      "2024-11-20 13:23:59,207 - DEBUG - Checking seqlet: GGAGGAGGACAATTTCCTGTCAGGAAACCC against all TN5 isoforms.\n",
      "2024-11-20 13:23:59,207 - DEBUG - Best similarity score: 0 at position 0 (threshold: 80)\n",
      "2024-11-20 13:23:59,207 - DEBUG - Similarity: 0% at position 0 (threshold: 80)\n",
      "2024-11-20 13:23:59,207 - DEBUG - Best similarity score: 0 at position 0 (threshold: 80)\n",
      "2024-11-20 13:23:59,207 - DEBUG - Similarity: 0% at position 0 (threshold: 80)\n",
      "2024-11-20 13:23:59,207 - DEBUG - Best similarity score: 0 at position 0 (threshold: 80)\n",
      "2024-11-20 13:23:59,207 - DEBUG - Similarity: 0% at position 0 (threshold: 80)\n",
      "2024-11-20 13:23:59,207 - DEBUG - Best similarity score: 0 at position 0 (threshold: 80)\n",
      "2024-11-20 13:23:59,207 - DEBUG - Similarity: 0% at position 0 (threshold: 80)\n",
      "2024-11-20 13:23:59,207 - DEBUG - Best similarity score: 0 at position 0 (threshold: 80)\n",
      "2024-11-20 13:23:59,208 - DEBUG - Similarity: 0% at position 0 (threshold: 80)\n",
      "2024-11-20 13:23:59,208 - DEBUG - Seqlet did not match any TN5 isoform. it is a valid seqlet\n",
      "2024-11-20 13:23:59,208 - ERROR - Error processing pattern pattern_16: Unable to synchronously copy object (destination object already exists)\n",
      "2024-11-20 13:23:59,208 - DEBUG - Processing pattern: pattern_17\n",
      "2024-11-20 13:23:59,208 - DEBUG - Seqlet one-hot encoding shape: (27, 30, 4)\n",
      "2024-11-20 13:23:59,208 - DEBUG - Decoded seqlet: CCTTCCTGTCCATTTCCTGCTTTCCCATTA\n",
      "2024-11-20 13:23:59,208 - DEBUG - Checking seqlet: CCTTCCTGTCCATTTCCTGCTTTCCCATTA against all TN5 isoforms.\n",
      "2024-11-20 13:23:59,208 - DEBUG - Best similarity score: 0 at position 0 (threshold: 80)\n",
      "2024-11-20 13:23:59,208 - DEBUG - Similarity: 0% at position 0 (threshold: 80)\n",
      "2024-11-20 13:23:59,208 - DEBUG - Best similarity score: 0 at position 0 (threshold: 80)\n",
      "2024-11-20 13:23:59,208 - DEBUG - Similarity: 0% at position 0 (threshold: 80)\n",
      "2024-11-20 13:23:59,208 - DEBUG - Best similarity score: 0 at position 0 (threshold: 80)\n",
      "2024-11-20 13:23:59,208 - DEBUG - Similarity: 0% at position 0 (threshold: 80)\n",
      "2024-11-20 13:23:59,208 - DEBUG - Best similarity score: 0 at position 0 (threshold: 80)\n",
      "2024-11-20 13:23:59,208 - DEBUG - Similarity: 0% at position 0 (threshold: 80)\n",
      "2024-11-20 13:23:59,208 - DEBUG - Best similarity score: 0 at position 0 (threshold: 80)\n",
      "2024-11-20 13:23:59,208 - DEBUG - Similarity: 0% at position 0 (threshold: 80)\n",
      "2024-11-20 13:23:59,208 - DEBUG - Seqlet did not match any TN5 isoform. it is a valid seqlet\n",
      "2024-11-20 13:23:59,209 - INFO - Pattern pattern_17 is valid and saved.\n",
      "2024-11-20 13:23:59,209 - DEBUG - Copying file /scratch/groups/akundaje/eila/encode_pseudobulks/old_encode_pseudobulks_model_training/human/ENCSR004DZS/ENCFF709MRG/fold_0/step62.bpnetPipeline/evaluation/modisco_profile/trimmed_logos/pos_patterns.pattern_17.cwm.rev.png to /scratch/groups/akundaje/eila/encode_pseudobulks/old_encode_pseudobulks_model_training/human/ENCSR004DZS/ENCFF709MRG/fold_0/step62.bpnetPipeline/qc/out_step_6_3_3_motifs_qc_bias_tn5/pos_patterns_valid_logos/pos_patterns.pattern_17.cwm.rev.png\n",
      "2024-11-20 13:23:59,209 - INFO - Copied logo: pos_patterns.pattern_17.cwm.rev.png to valid directory.\n",
      "2024-11-20 13:23:59,209 - DEBUG - Copying file /scratch/groups/akundaje/eila/encode_pseudobulks/old_encode_pseudobulks_model_training/human/ENCSR004DZS/ENCFF709MRG/fold_0/step62.bpnetPipeline/evaluation/modisco_profile/trimmed_logos/pos_patterns.pattern_17.cwm.fwd.png to /scratch/groups/akundaje/eila/encode_pseudobulks/old_encode_pseudobulks_model_training/human/ENCSR004DZS/ENCFF709MRG/fold_0/step62.bpnetPipeline/qc/out_step_6_3_3_motifs_qc_bias_tn5/pos_patterns_valid_logos/pos_patterns.pattern_17.cwm.fwd.png\n",
      "2024-11-20 13:23:59,210 - INFO - Copied logo: pos_patterns.pattern_17.cwm.fwd.png to valid directory.\n",
      "2024-11-20 13:23:59,210 - DEBUG - Decoded seqlet: GAACCAAAGTCACTTCCCGGAATTGACCAA\n",
      "2024-11-20 13:23:59,210 - DEBUG - Checking seqlet: GAACCAAAGTCACTTCCCGGAATTGACCAA against all TN5 isoforms.\n",
      "2024-11-20 13:23:59,210 - DEBUG - Best similarity score: 0 at position 0 (threshold: 80)\n",
      "2024-11-20 13:23:59,210 - DEBUG - Similarity: 0% at position 0 (threshold: 80)\n",
      "2024-11-20 13:23:59,210 - DEBUG - Best similarity score: 0 at position 0 (threshold: 80)\n",
      "2024-11-20 13:23:59,210 - DEBUG - Similarity: 0% at position 0 (threshold: 80)\n",
      "2024-11-20 13:23:59,210 - DEBUG - Best similarity score: 0 at position 0 (threshold: 80)\n",
      "2024-11-20 13:23:59,210 - DEBUG - Similarity: 0% at position 0 (threshold: 80)\n",
      "2024-11-20 13:23:59,210 - DEBUG - Best similarity score: 0 at position 0 (threshold: 80)\n",
      "2024-11-20 13:23:59,210 - DEBUG - Similarity: 0% at position 0 (threshold: 80)\n",
      "2024-11-20 13:23:59,210 - DEBUG - Best similarity score: 0 at position 0 (threshold: 80)\n",
      "2024-11-20 13:23:59,210 - DEBUG - Similarity: 0% at position 0 (threshold: 80)\n",
      "2024-11-20 13:23:59,210 - DEBUG - Seqlet did not match any TN5 isoform. it is a valid seqlet\n",
      "2024-11-20 13:23:59,210 - ERROR - Error processing pattern pattern_17: Unable to synchronously copy object (destination object already exists)\n",
      "2024-11-20 13:23:59,210 - DEBUG - Processing pattern: pattern_18\n",
      "2024-11-20 13:23:59,210 - DEBUG - Seqlet one-hot encoding shape: (20, 30, 4)\n",
      "2024-11-20 13:23:59,210 - DEBUG - Decoded seqlet: CATCATCATCATCATCATCATCATCATTAT\n",
      "2024-11-20 13:23:59,210 - DEBUG - Checking seqlet: CATCATCATCATCATCATCATCATCATTAT against all TN5 isoforms.\n",
      "2024-11-20 13:23:59,210 - DEBUG - Best similarity score: 0 at position 0 (threshold: 80)\n",
      "2024-11-20 13:23:59,210 - DEBUG - Similarity: 0% at position 0 (threshold: 80)\n",
      "2024-11-20 13:23:59,210 - DEBUG - Best similarity score: 0 at position 0 (threshold: 80)\n",
      "2024-11-20 13:23:59,210 - DEBUG - Similarity: 0% at position 0 (threshold: 80)\n",
      "2024-11-20 13:23:59,210 - DEBUG - Best similarity score: 0 at position 0 (threshold: 80)\n",
      "2024-11-20 13:23:59,210 - DEBUG - Similarity: 0% at position 0 (threshold: 80)\n",
      "2024-11-20 13:23:59,210 - DEBUG - Best similarity score: 0 at position 0 (threshold: 80)\n",
      "2024-11-20 13:23:59,210 - DEBUG - Similarity: 0% at position 0 (threshold: 80)\n",
      "2024-11-20 13:23:59,210 - DEBUG - Best similarity score: 0 at position 0 (threshold: 80)\n",
      "2024-11-20 13:23:59,210 - DEBUG - Similarity: 0% at position 0 (threshold: 80)\n",
      "2024-11-20 13:23:59,211 - DEBUG - Seqlet did not match any TN5 isoform. it is a valid seqlet\n",
      "2024-11-20 13:23:59,211 - INFO - Pattern pattern_18 is valid and saved.\n",
      "2024-11-20 13:23:59,211 - DEBUG - Copying file /scratch/groups/akundaje/eila/encode_pseudobulks/old_encode_pseudobulks_model_training/human/ENCSR004DZS/ENCFF709MRG/fold_0/step62.bpnetPipeline/evaluation/modisco_profile/trimmed_logos/pos_patterns.pattern_18.cwm.rev.png to /scratch/groups/akundaje/eila/encode_pseudobulks/old_encode_pseudobulks_model_training/human/ENCSR004DZS/ENCFF709MRG/fold_0/step62.bpnetPipeline/qc/out_step_6_3_3_motifs_qc_bias_tn5/pos_patterns_valid_logos/pos_patterns.pattern_18.cwm.rev.png\n",
      "2024-11-20 13:23:59,212 - INFO - Copied logo: pos_patterns.pattern_18.cwm.rev.png to valid directory.\n",
      "2024-11-20 13:23:59,212 - DEBUG - Copying file /scratch/groups/akundaje/eila/encode_pseudobulks/old_encode_pseudobulks_model_training/human/ENCSR004DZS/ENCFF709MRG/fold_0/step62.bpnetPipeline/evaluation/modisco_profile/trimmed_logos/pos_patterns.pattern_18.cwm.fwd.png to /scratch/groups/akundaje/eila/encode_pseudobulks/old_encode_pseudobulks_model_training/human/ENCSR004DZS/ENCFF709MRG/fold_0/step62.bpnetPipeline/qc/out_step_6_3_3_motifs_qc_bias_tn5/pos_patterns_valid_logos/pos_patterns.pattern_18.cwm.fwd.png\n",
      "2024-11-20 13:23:59,212 - INFO - Copied logo: pos_patterns.pattern_18.cwm.fwd.png to valid directory.\n",
      "2024-11-20 13:23:59,212 - DEBUG - Decoded seqlet: GCTGGGATTACAGGTGTTCACCACAATGCC\n",
      "2024-11-20 13:23:59,212 - DEBUG - Checking seqlet: GCTGGGATTACAGGTGTTCACCACAATGCC against all TN5 isoforms.\n",
      "2024-11-20 13:23:59,212 - DEBUG - Best similarity score: 0 at position 0 (threshold: 80)\n",
      "2024-11-20 13:23:59,212 - DEBUG - Similarity: 0% at position 0 (threshold: 80)\n",
      "2024-11-20 13:23:59,212 - DEBUG - Best similarity score: 0 at position 0 (threshold: 80)\n",
      "2024-11-20 13:23:59,212 - DEBUG - Similarity: 0% at position 0 (threshold: 80)\n",
      "2024-11-20 13:23:59,212 - DEBUG - Best similarity score: 0 at position 0 (threshold: 80)\n",
      "2024-11-20 13:23:59,212 - DEBUG - Similarity: 0% at position 0 (threshold: 80)\n",
      "2024-11-20 13:23:59,212 - DEBUG - Best similarity score: 0 at position 0 (threshold: 80)\n",
      "2024-11-20 13:23:59,212 - DEBUG - Similarity: 0% at position 0 (threshold: 80)\n",
      "2024-11-20 13:23:59,212 - DEBUG - Best similarity score: 0 at position 0 (threshold: 80)\n",
      "2024-11-20 13:23:59,212 - DEBUG - Similarity: 0% at position 0 (threshold: 80)\n",
      "2024-11-20 13:23:59,212 - DEBUG - Seqlet did not match any TN5 isoform. it is a valid seqlet\n",
      "2024-11-20 13:23:59,212 - ERROR - Error processing pattern pattern_18: Unable to synchronously copy object (destination object already exists)\n",
      "2024-11-20 13:23:59,212 - DEBUG - Processing pattern: pattern_2\n",
      "2024-11-20 13:23:59,213 - DEBUG - Seqlet one-hot encoding shape: (3758, 30, 4)\n",
      "2024-11-20 13:23:59,213 - DEBUG - Decoded seqlet: AGCTTTCTGGCCTATGATTGGCTGTTATTC\n",
      "2024-11-20 13:23:59,213 - DEBUG - Checking seqlet: AGCTTTCTGGCCTATGATTGGCTGTTATTC against all TN5 isoforms.\n",
      "2024-11-20 13:23:59,213 - DEBUG - Best similarity score: 0 at position 0 (threshold: 80)\n",
      "2024-11-20 13:23:59,213 - DEBUG - Similarity: 0% at position 0 (threshold: 80)\n",
      "2024-11-20 13:23:59,213 - DEBUG - Best similarity score: 0 at position 0 (threshold: 80)\n",
      "2024-11-20 13:23:59,213 - DEBUG - Similarity: 0% at position 0 (threshold: 80)\n",
      "2024-11-20 13:23:59,213 - DEBUG - Best similarity score: 0 at position 0 (threshold: 80)\n",
      "2024-11-20 13:23:59,213 - DEBUG - Similarity: 0% at position 0 (threshold: 80)\n",
      "2024-11-20 13:23:59,214 - DEBUG - Best similarity score: 0 at position 0 (threshold: 80)\n",
      "2024-11-20 13:23:59,214 - DEBUG - Similarity: 0% at position 0 (threshold: 80)\n",
      "2024-11-20 13:23:59,214 - DEBUG - Best similarity score: 0 at position 0 (threshold: 80)\n",
      "2024-11-20 13:23:59,214 - DEBUG - Similarity: 0% at position 0 (threshold: 80)\n",
      "2024-11-20 13:23:59,214 - DEBUG - Seqlet did not match any TN5 isoform. it is a valid seqlet\n",
      "2024-11-20 13:23:59,223 - INFO - Pattern pattern_2 is valid and saved.\n",
      "2024-11-20 13:23:59,224 - DEBUG - Copying file /scratch/groups/akundaje/eila/encode_pseudobulks/old_encode_pseudobulks_model_training/human/ENCSR004DZS/ENCFF709MRG/fold_0/step62.bpnetPipeline/evaluation/modisco_profile/trimmed_logos/pos_patterns.pattern_2.cwm.rev.png to /scratch/groups/akundaje/eila/encode_pseudobulks/old_encode_pseudobulks_model_training/human/ENCSR004DZS/ENCFF709MRG/fold_0/step62.bpnetPipeline/qc/out_step_6_3_3_motifs_qc_bias_tn5/pos_patterns_valid_logos/pos_patterns.pattern_2.cwm.rev.png\n",
      "2024-11-20 13:23:59,224 - INFO - Copied logo: pos_patterns.pattern_2.cwm.rev.png to valid directory.\n",
      "2024-11-20 13:23:59,224 - DEBUG - Copying file /scratch/groups/akundaje/eila/encode_pseudobulks/old_encode_pseudobulks_model_training/human/ENCSR004DZS/ENCFF709MRG/fold_0/step62.bpnetPipeline/evaluation/modisco_profile/trimmed_logos/pos_patterns.pattern_2.cwm.fwd.png to /scratch/groups/akundaje/eila/encode_pseudobulks/old_encode_pseudobulks_model_training/human/ENCSR004DZS/ENCFF709MRG/fold_0/step62.bpnetPipeline/qc/out_step_6_3_3_motifs_qc_bias_tn5/pos_patterns_valid_logos/pos_patterns.pattern_2.cwm.fwd.png\n",
      "2024-11-20 13:23:59,224 - INFO - Copied logo: pos_patterns.pattern_2.cwm.fwd.png to valid directory.\n",
      "2024-11-20 13:23:59,224 - DEBUG - Decoded seqlet: TATGTCACCAGCAGCCAATCAGAGCTTCAG\n",
      "2024-11-20 13:23:59,225 - DEBUG - Checking seqlet: TATGTCACCAGCAGCCAATCAGAGCTTCAG against all TN5 isoforms.\n",
      "2024-11-20 13:23:59,225 - DEBUG - Best similarity score: 0 at position 0 (threshold: 80)\n",
      "2024-11-20 13:23:59,225 - DEBUG - Similarity: 0% at position 0 (threshold: 80)\n",
      "2024-11-20 13:23:59,225 - DEBUG - Best similarity score: 0 at position 0 (threshold: 80)\n",
      "2024-11-20 13:23:59,225 - DEBUG - Similarity: 0% at position 0 (threshold: 80)\n",
      "2024-11-20 13:23:59,225 - DEBUG - Best similarity score: 0 at position 0 (threshold: 80)\n",
      "2024-11-20 13:23:59,225 - DEBUG - Similarity: 0% at position 0 (threshold: 80)\n",
      "2024-11-20 13:23:59,225 - DEBUG - Best similarity score: 0 at position 0 (threshold: 80)\n",
      "2024-11-20 13:23:59,225 - DEBUG - Similarity: 0% at position 0 (threshold: 80)\n",
      "2024-11-20 13:23:59,225 - DEBUG - Best similarity score: 0 at position 0 (threshold: 80)\n",
      "2024-11-20 13:23:59,225 - DEBUG - Similarity: 0% at position 0 (threshold: 80)\n",
      "2024-11-20 13:23:59,225 - DEBUG - Seqlet did not match any TN5 isoform. it is a valid seqlet\n",
      "2024-11-20 13:23:59,225 - ERROR - Error processing pattern pattern_2: Unable to synchronously copy object (destination object already exists)\n",
      "2024-11-20 13:23:59,225 - DEBUG - Processing pattern: pattern_3\n",
      "2024-11-20 13:23:59,226 - DEBUG - Seqlet one-hot encoding shape: (3002, 30, 4)\n",
      "2024-11-20 13:23:59,226 - DEBUG - Decoded seqlet: TTCGCAGGCCAGTAGGTGGCGCTGTGGCAC\n",
      "2024-11-20 13:23:59,226 - DEBUG - Checking seqlet: TTCGCAGGCCAGTAGGTGGCGCTGTGGCAC against all TN5 isoforms.\n",
      "2024-11-20 13:23:59,226 - DEBUG - Best similarity score: 0 at position 0 (threshold: 80)\n",
      "2024-11-20 13:23:59,226 - DEBUG - Similarity: 0% at position 0 (threshold: 80)\n",
      "2024-11-20 13:23:59,226 - DEBUG - Best similarity score: 0 at position 0 (threshold: 80)\n",
      "2024-11-20 13:23:59,226 - DEBUG - Similarity: 0% at position 0 (threshold: 80)\n",
      "2024-11-20 13:23:59,226 - DEBUG - Best similarity score: 0 at position 0 (threshold: 80)\n",
      "2024-11-20 13:23:59,226 - DEBUG - Similarity: 0% at position 0 (threshold: 80)\n",
      "2024-11-20 13:23:59,226 - DEBUG - Best similarity score: 0 at position 0 (threshold: 80)\n",
      "2024-11-20 13:23:59,226 - DEBUG - Similarity: 0% at position 0 (threshold: 80)\n",
      "2024-11-20 13:23:59,226 - DEBUG - Best similarity score: 0 at position 0 (threshold: 80)\n",
      "2024-11-20 13:23:59,226 - DEBUG - Similarity: 0% at position 0 (threshold: 80)\n",
      "2024-11-20 13:23:59,226 - DEBUG - Seqlet did not match any TN5 isoform. it is a valid seqlet\n",
      "2024-11-20 13:23:59,232 - INFO - Pattern pattern_3 is valid and saved.\n",
      "2024-11-20 13:23:59,233 - DEBUG - Copying file /scratch/groups/akundaje/eila/encode_pseudobulks/old_encode_pseudobulks_model_training/human/ENCSR004DZS/ENCFF709MRG/fold_0/step62.bpnetPipeline/evaluation/modisco_profile/trimmed_logos/pos_patterns.pattern_3.cwm.fwd.png to /scratch/groups/akundaje/eila/encode_pseudobulks/old_encode_pseudobulks_model_training/human/ENCSR004DZS/ENCFF709MRG/fold_0/step62.bpnetPipeline/qc/out_step_6_3_3_motifs_qc_bias_tn5/pos_patterns_valid_logos/pos_patterns.pattern_3.cwm.fwd.png\n",
      "2024-11-20 13:23:59,233 - INFO - Copied logo: pos_patterns.pattern_3.cwm.fwd.png to valid directory.\n",
      "2024-11-20 13:23:59,233 - DEBUG - Copying file /scratch/groups/akundaje/eila/encode_pseudobulks/old_encode_pseudobulks_model_training/human/ENCSR004DZS/ENCFF709MRG/fold_0/step62.bpnetPipeline/evaluation/modisco_profile/trimmed_logos/pos_patterns.pattern_3.cwm.rev.png to /scratch/groups/akundaje/eila/encode_pseudobulks/old_encode_pseudobulks_model_training/human/ENCSR004DZS/ENCFF709MRG/fold_0/step62.bpnetPipeline/qc/out_step_6_3_3_motifs_qc_bias_tn5/pos_patterns_valid_logos/pos_patterns.pattern_3.cwm.rev.png\n",
      "2024-11-20 13:23:59,234 - INFO - Copied logo: pos_patterns.pattern_3.cwm.rev.png to valid directory.\n",
      "2024-11-20 13:23:59,234 - DEBUG - Decoded seqlet: AATGGTCACCAGCAGGTGGCGCCGCTGACC\n",
      "2024-11-20 13:23:59,234 - DEBUG - Checking seqlet: AATGGTCACCAGCAGGTGGCGCCGCTGACC against all TN5 isoforms.\n",
      "2024-11-20 13:23:59,234 - DEBUG - Best similarity score: 0 at position 0 (threshold: 80)\n",
      "2024-11-20 13:23:59,234 - DEBUG - Similarity: 0% at position 0 (threshold: 80)\n",
      "2024-11-20 13:23:59,234 - DEBUG - Best similarity score: 0 at position 0 (threshold: 80)\n",
      "2024-11-20 13:23:59,234 - DEBUG - Similarity: 0% at position 0 (threshold: 80)\n",
      "2024-11-20 13:23:59,234 - DEBUG - Best similarity score: 0 at position 0 (threshold: 80)\n",
      "2024-11-20 13:23:59,234 - DEBUG - Similarity: 0% at position 0 (threshold: 80)\n",
      "2024-11-20 13:23:59,234 - DEBUG - Best similarity score: 0 at position 0 (threshold: 80)\n",
      "2024-11-20 13:23:59,234 - DEBUG - Similarity: 0% at position 0 (threshold: 80)\n",
      "2024-11-20 13:23:59,234 - DEBUG - Best similarity score: 0 at position 0 (threshold: 80)\n",
      "2024-11-20 13:23:59,234 - DEBUG - Similarity: 0% at position 0 (threshold: 80)\n",
      "2024-11-20 13:23:59,234 - DEBUG - Seqlet did not match any TN5 isoform. it is a valid seqlet\n",
      "2024-11-20 13:23:59,234 - ERROR - Error processing pattern pattern_3: Unable to synchronously copy object (destination object already exists)\n",
      "2024-11-20 13:23:59,234 - DEBUG - Processing pattern: pattern_4\n",
      "2024-11-20 13:23:59,235 - DEBUG - Seqlet one-hot encoding shape: (2653, 30, 4)\n",
      "2024-11-20 13:23:59,235 - DEBUG - Decoded seqlet: CCGGACCGCCTCTGATGACGTCACTCTCGG\n",
      "2024-11-20 13:23:59,235 - DEBUG - Checking seqlet: CCGGACCGCCTCTGATGACGTCACTCTCGG against all TN5 isoforms.\n",
      "2024-11-20 13:23:59,235 - DEBUG - Best similarity score: 0 at position 0 (threshold: 80)\n",
      "2024-11-20 13:23:59,235 - DEBUG - Similarity: 0% at position 0 (threshold: 80)\n",
      "2024-11-20 13:23:59,235 - DEBUG - Best similarity score: 0 at position 0 (threshold: 80)\n",
      "2024-11-20 13:23:59,235 - DEBUG - Similarity: 0% at position 0 (threshold: 80)\n",
      "2024-11-20 13:23:59,235 - DEBUG - Best similarity score: 0 at position 0 (threshold: 80)\n",
      "2024-11-20 13:23:59,235 - DEBUG - Similarity: 0% at position 0 (threshold: 80)\n",
      "2024-11-20 13:23:59,235 - DEBUG - Best similarity score: 0 at position 0 (threshold: 80)\n",
      "2024-11-20 13:23:59,235 - DEBUG - Similarity: 0% at position 0 (threshold: 80)\n",
      "2024-11-20 13:23:59,235 - DEBUG - Best similarity score: 0 at position 0 (threshold: 80)\n",
      "2024-11-20 13:23:59,235 - DEBUG - Similarity: 0% at position 0 (threshold: 80)\n",
      "2024-11-20 13:23:59,235 - DEBUG - Seqlet did not match any TN5 isoform. it is a valid seqlet\n",
      "2024-11-20 13:23:59,280 - INFO - Pattern pattern_4 is valid and saved.\n",
      "2024-11-20 13:23:59,281 - DEBUG - Copying file /scratch/groups/akundaje/eila/encode_pseudobulks/old_encode_pseudobulks_model_training/human/ENCSR004DZS/ENCFF709MRG/fold_0/step62.bpnetPipeline/evaluation/modisco_profile/trimmed_logos/pos_patterns.pattern_4.cwm.fwd.png to /scratch/groups/akundaje/eila/encode_pseudobulks/old_encode_pseudobulks_model_training/human/ENCSR004DZS/ENCFF709MRG/fold_0/step62.bpnetPipeline/qc/out_step_6_3_3_motifs_qc_bias_tn5/pos_patterns_valid_logos/pos_patterns.pattern_4.cwm.fwd.png\n",
      "2024-11-20 13:23:59,281 - INFO - Copied logo: pos_patterns.pattern_4.cwm.fwd.png to valid directory.\n",
      "2024-11-20 13:23:59,281 - DEBUG - Copying file /scratch/groups/akundaje/eila/encode_pseudobulks/old_encode_pseudobulks_model_training/human/ENCSR004DZS/ENCFF709MRG/fold_0/step62.bpnetPipeline/evaluation/modisco_profile/trimmed_logos/pos_patterns.pattern_4.cwm.rev.png to /scratch/groups/akundaje/eila/encode_pseudobulks/old_encode_pseudobulks_model_training/human/ENCSR004DZS/ENCFF709MRG/fold_0/step62.bpnetPipeline/qc/out_step_6_3_3_motifs_qc_bias_tn5/pos_patterns_valid_logos/pos_patterns.pattern_4.cwm.rev.png\n",
      "2024-11-20 13:23:59,282 - INFO - Copied logo: pos_patterns.pattern_4.cwm.rev.png to valid directory.\n",
      "2024-11-20 13:23:59,282 - DEBUG - Decoded seqlet: CACAGCAACCGGAAGTTACGTCATCAACAA\n",
      "2024-11-20 13:23:59,282 - DEBUG - Checking seqlet: CACAGCAACCGGAAGTTACGTCATCAACAA against all TN5 isoforms.\n",
      "2024-11-20 13:23:59,282 - DEBUG - Best similarity score: 0 at position 0 (threshold: 80)\n",
      "2024-11-20 13:23:59,282 - DEBUG - Similarity: 0% at position 0 (threshold: 80)\n",
      "2024-11-20 13:23:59,282 - DEBUG - Best similarity score: 0 at position 0 (threshold: 80)\n",
      "2024-11-20 13:23:59,282 - DEBUG - Similarity: 0% at position 0 (threshold: 80)\n",
      "2024-11-20 13:23:59,282 - DEBUG - Best similarity score: 0 at position 0 (threshold: 80)\n",
      "2024-11-20 13:23:59,282 - DEBUG - Similarity: 0% at position 0 (threshold: 80)\n",
      "2024-11-20 13:23:59,282 - DEBUG - Best similarity score: 0 at position 0 (threshold: 80)\n",
      "2024-11-20 13:23:59,282 - DEBUG - Similarity: 0% at position 0 (threshold: 80)\n",
      "2024-11-20 13:23:59,282 - DEBUG - Best similarity score: 0 at position 0 (threshold: 80)\n",
      "2024-11-20 13:23:59,282 - DEBUG - Similarity: 0% at position 0 (threshold: 80)\n",
      "2024-11-20 13:23:59,282 - DEBUG - Seqlet did not match any TN5 isoform. it is a valid seqlet\n",
      "2024-11-20 13:23:59,282 - ERROR - Error processing pattern pattern_4: Unable to synchronously copy object (destination object already exists)\n",
      "2024-11-20 13:23:59,282 - DEBUG - Processing pattern: pattern_5\n",
      "2024-11-20 13:23:59,283 - DEBUG - Seqlet one-hot encoding shape: (2382, 30, 4)\n",
      "2024-11-20 13:23:59,283 - DEBUG - Decoded seqlet: CCAGGTCGCCAGTGCGCACGCGCAAGATTA\n",
      "2024-11-20 13:23:59,283 - DEBUG - Checking seqlet: CCAGGTCGCCAGTGCGCACGCGCAAGATTA against all TN5 isoforms.\n",
      "2024-11-20 13:23:59,283 - DEBUG - Best similarity score: 0 at position 0 (threshold: 80)\n",
      "2024-11-20 13:23:59,283 - DEBUG - Similarity: 0% at position 0 (threshold: 80)\n",
      "2024-11-20 13:23:59,283 - DEBUG - Best similarity score: 0 at position 0 (threshold: 80)\n",
      "2024-11-20 13:23:59,283 - DEBUG - Similarity: 0% at position 0 (threshold: 80)\n",
      "2024-11-20 13:23:59,283 - DEBUG - Best similarity score: 0 at position 0 (threshold: 80)\n",
      "2024-11-20 13:23:59,283 - DEBUG - Similarity: 0% at position 0 (threshold: 80)\n",
      "2024-11-20 13:23:59,283 - DEBUG - Best similarity score: 0 at position 0 (threshold: 80)\n",
      "2024-11-20 13:23:59,283 - DEBUG - Similarity: 0% at position 0 (threshold: 80)\n",
      "2024-11-20 13:23:59,283 - DEBUG - Best similarity score: 0 at position 0 (threshold: 80)\n",
      "2024-11-20 13:23:59,283 - DEBUG - Similarity: 0% at position 0 (threshold: 80)\n",
      "2024-11-20 13:23:59,283 - DEBUG - Seqlet did not match any TN5 isoform. it is a valid seqlet\n",
      "2024-11-20 13:23:59,289 - INFO - Pattern pattern_5 is valid and saved.\n",
      "2024-11-20 13:23:59,289 - DEBUG - Copying file /scratch/groups/akundaje/eila/encode_pseudobulks/old_encode_pseudobulks_model_training/human/ENCSR004DZS/ENCFF709MRG/fold_0/step62.bpnetPipeline/evaluation/modisco_profile/trimmed_logos/pos_patterns.pattern_5.cwm.rev.png to /scratch/groups/akundaje/eila/encode_pseudobulks/old_encode_pseudobulks_model_training/human/ENCSR004DZS/ENCFF709MRG/fold_0/step62.bpnetPipeline/qc/out_step_6_3_3_motifs_qc_bias_tn5/pos_patterns_valid_logos/pos_patterns.pattern_5.cwm.rev.png\n",
      "2024-11-20 13:23:59,290 - INFO - Copied logo: pos_patterns.pattern_5.cwm.rev.png to valid directory.\n",
      "2024-11-20 13:23:59,290 - DEBUG - Copying file /scratch/groups/akundaje/eila/encode_pseudobulks/old_encode_pseudobulks_model_training/human/ENCSR004DZS/ENCFF709MRG/fold_0/step62.bpnetPipeline/evaluation/modisco_profile/trimmed_logos/pos_patterns.pattern_5.cwm.fwd.png to /scratch/groups/akundaje/eila/encode_pseudobulks/old_encode_pseudobulks_model_training/human/ENCSR004DZS/ENCFF709MRG/fold_0/step62.bpnetPipeline/qc/out_step_6_3_3_motifs_qc_bias_tn5/pos_patterns_valid_logos/pos_patterns.pattern_5.cwm.fwd.png\n",
      "2024-11-20 13:23:59,290 - INFO - Copied logo: pos_patterns.pattern_5.cwm.fwd.png to valid directory.\n",
      "2024-11-20 13:23:59,290 - DEBUG - Decoded seqlet: TTCCTTGCCCTCTGCGCAGGCGCCGTCCGG\n",
      "2024-11-20 13:23:59,290 - DEBUG - Checking seqlet: TTCCTTGCCCTCTGCGCAGGCGCCGTCCGG against all TN5 isoforms.\n",
      "2024-11-20 13:23:59,290 - DEBUG - Best similarity score: 0 at position 0 (threshold: 80)\n",
      "2024-11-20 13:23:59,290 - DEBUG - Similarity: 0% at position 0 (threshold: 80)\n",
      "2024-11-20 13:23:59,290 - DEBUG - Best similarity score: 0 at position 0 (threshold: 80)\n",
      "2024-11-20 13:23:59,290 - DEBUG - Similarity: 0% at position 0 (threshold: 80)\n",
      "2024-11-20 13:23:59,290 - DEBUG - Best similarity score: 0 at position 0 (threshold: 80)\n",
      "2024-11-20 13:23:59,290 - DEBUG - Similarity: 0% at position 0 (threshold: 80)\n",
      "2024-11-20 13:23:59,290 - DEBUG - Best similarity score: 0 at position 0 (threshold: 80)\n",
      "2024-11-20 13:23:59,290 - DEBUG - Similarity: 0% at position 0 (threshold: 80)\n",
      "2024-11-20 13:23:59,290 - DEBUG - Best similarity score: 0 at position 0 (threshold: 80)\n",
      "2024-11-20 13:23:59,290 - DEBUG - Similarity: 0% at position 0 (threshold: 80)\n",
      "2024-11-20 13:23:59,290 - DEBUG - Seqlet did not match any TN5 isoform. it is a valid seqlet\n",
      "2024-11-20 13:23:59,290 - ERROR - Error processing pattern pattern_5: Unable to synchronously copy object (destination object already exists)\n",
      "2024-11-20 13:23:59,290 - DEBUG - Processing pattern: pattern_6\n",
      "2024-11-20 13:23:59,291 - DEBUG - Seqlet one-hot encoding shape: (1297, 30, 4)\n",
      "2024-11-20 13:23:59,291 - DEBUG - Decoded seqlet: GCAGTGGTGTTGGCTAGGTGCCATATGACA\n",
      "2024-11-20 13:23:59,291 - DEBUG - Checking seqlet: GCAGTGGTGTTGGCTAGGTGCCATATGACA against all TN5 isoforms.\n",
      "2024-11-20 13:23:59,291 - DEBUG - Best similarity score: 0 at position 0 (threshold: 80)\n",
      "2024-11-20 13:23:59,291 - DEBUG - Similarity: 0% at position 0 (threshold: 80)\n",
      "2024-11-20 13:23:59,291 - DEBUG - Best similarity score: 0 at position 0 (threshold: 80)\n",
      "2024-11-20 13:23:59,291 - DEBUG - Similarity: 0% at position 0 (threshold: 80)\n",
      "2024-11-20 13:23:59,291 - DEBUG - Best similarity score: 0 at position 0 (threshold: 80)\n",
      "2024-11-20 13:23:59,291 - DEBUG - Similarity: 0% at position 0 (threshold: 80)\n",
      "2024-11-20 13:23:59,291 - DEBUG - Best similarity score: 0 at position 0 (threshold: 80)\n",
      "2024-11-20 13:23:59,291 - DEBUG - Similarity: 0% at position 0 (threshold: 80)\n",
      "2024-11-20 13:23:59,291 - DEBUG - Best similarity score: 0 at position 0 (threshold: 80)\n",
      "2024-11-20 13:23:59,291 - DEBUG - Similarity: 0% at position 0 (threshold: 80)\n",
      "2024-11-20 13:23:59,291 - DEBUG - Seqlet did not match any TN5 isoform. it is a valid seqlet\n",
      "2024-11-20 13:23:59,294 - INFO - Pattern pattern_6 is valid and saved.\n",
      "2024-11-20 13:23:59,295 - DEBUG - Copying file /scratch/groups/akundaje/eila/encode_pseudobulks/old_encode_pseudobulks_model_training/human/ENCSR004DZS/ENCFF709MRG/fold_0/step62.bpnetPipeline/evaluation/modisco_profile/trimmed_logos/pos_patterns.pattern_6.cwm.fwd.png to /scratch/groups/akundaje/eila/encode_pseudobulks/old_encode_pseudobulks_model_training/human/ENCSR004DZS/ENCFF709MRG/fold_0/step62.bpnetPipeline/qc/out_step_6_3_3_motifs_qc_bias_tn5/pos_patterns_valid_logos/pos_patterns.pattern_6.cwm.fwd.png\n",
      "2024-11-20 13:23:59,295 - INFO - Copied logo: pos_patterns.pattern_6.cwm.fwd.png to valid directory.\n",
      "2024-11-20 13:23:59,295 - DEBUG - Copying file /scratch/groups/akundaje/eila/encode_pseudobulks/old_encode_pseudobulks_model_training/human/ENCSR004DZS/ENCFF709MRG/fold_0/step62.bpnetPipeline/evaluation/modisco_profile/trimmed_logos/pos_patterns.pattern_6.cwm.rev.png to /scratch/groups/akundaje/eila/encode_pseudobulks/old_encode_pseudobulks_model_training/human/ENCSR004DZS/ENCFF709MRG/fold_0/step62.bpnetPipeline/qc/out_step_6_3_3_motifs_qc_bias_tn5/pos_patterns_valid_logos/pos_patterns.pattern_6.cwm.rev.png\n",
      "2024-11-20 13:23:59,296 - INFO - Copied logo: pos_patterns.pattern_6.cwm.rev.png to valid directory.\n",
      "2024-11-20 13:23:59,296 - DEBUG - Decoded seqlet: CAGCCTCATTTGGCCAAGGGCCAGCTCTCC\n",
      "2024-11-20 13:23:59,296 - DEBUG - Checking seqlet: CAGCCTCATTTGGCCAAGGGCCAGCTCTCC against all TN5 isoforms.\n",
      "2024-11-20 13:23:59,296 - DEBUG - Best similarity score: 0 at position 0 (threshold: 80)\n",
      "2024-11-20 13:23:59,296 - DEBUG - Similarity: 0% at position 0 (threshold: 80)\n",
      "2024-11-20 13:23:59,296 - DEBUG - Best similarity score: 0 at position 0 (threshold: 80)\n",
      "2024-11-20 13:23:59,296 - DEBUG - Similarity: 0% at position 0 (threshold: 80)\n",
      "2024-11-20 13:23:59,296 - DEBUG - Best similarity score: 0 at position 0 (threshold: 80)\n",
      "2024-11-20 13:23:59,296 - DEBUG - Similarity: 0% at position 0 (threshold: 80)\n",
      "2024-11-20 13:23:59,296 - DEBUG - Best similarity score: 0 at position 0 (threshold: 80)\n",
      "2024-11-20 13:23:59,296 - DEBUG - Similarity: 0% at position 0 (threshold: 80)\n",
      "2024-11-20 13:23:59,296 - DEBUG - Best similarity score: 0 at position 0 (threshold: 80)\n",
      "2024-11-20 13:23:59,296 - DEBUG - Similarity: 0% at position 0 (threshold: 80)\n",
      "2024-11-20 13:23:59,296 - DEBUG - Seqlet did not match any TN5 isoform. it is a valid seqlet\n",
      "2024-11-20 13:23:59,296 - ERROR - Error processing pattern pattern_6: Unable to synchronously copy object (destination object already exists)\n",
      "2024-11-20 13:23:59,296 - DEBUG - Processing pattern: pattern_7\n",
      "2024-11-20 13:23:59,296 - DEBUG - Seqlet one-hot encoding shape: (830, 30, 4)\n",
      "2024-11-20 13:23:59,296 - DEBUG - Decoded seqlet: AAGAAGACTACAGTTCCCAGAAAGCACCGC\n",
      "2024-11-20 13:23:59,296 - DEBUG - Checking seqlet: AAGAAGACTACAGTTCCCAGAAAGCACCGC against all TN5 isoforms.\n",
      "2024-11-20 13:23:59,296 - DEBUG - Best similarity score: 0 at position 0 (threshold: 80)\n",
      "2024-11-20 13:23:59,296 - DEBUG - Similarity: 0% at position 0 (threshold: 80)\n",
      "2024-11-20 13:23:59,296 - DEBUG - Best similarity score: 0 at position 0 (threshold: 80)\n",
      "2024-11-20 13:23:59,296 - DEBUG - Similarity: 0% at position 0 (threshold: 80)\n",
      "2024-11-20 13:23:59,296 - DEBUG - Best similarity score: 0 at position 0 (threshold: 80)\n",
      "2024-11-20 13:23:59,296 - DEBUG - Similarity: 0% at position 0 (threshold: 80)\n",
      "2024-11-20 13:23:59,296 - DEBUG - Best similarity score: 0 at position 0 (threshold: 80)\n",
      "2024-11-20 13:23:59,297 - DEBUG - Similarity: 0% at position 0 (threshold: 80)\n",
      "2024-11-20 13:23:59,297 - DEBUG - Best similarity score: 0 at position 0 (threshold: 80)\n",
      "2024-11-20 13:23:59,297 - DEBUG - Similarity: 0% at position 0 (threshold: 80)\n",
      "2024-11-20 13:23:59,297 - DEBUG - Seqlet did not match any TN5 isoform. it is a valid seqlet\n",
      "2024-11-20 13:23:59,299 - INFO - Pattern pattern_7 is valid and saved.\n",
      "2024-11-20 13:23:59,299 - DEBUG - Copying file /scratch/groups/akundaje/eila/encode_pseudobulks/old_encode_pseudobulks_model_training/human/ENCSR004DZS/ENCFF709MRG/fold_0/step62.bpnetPipeline/evaluation/modisco_profile/trimmed_logos/pos_patterns.pattern_7.cwm.rev.png to /scratch/groups/akundaje/eila/encode_pseudobulks/old_encode_pseudobulks_model_training/human/ENCSR004DZS/ENCFF709MRG/fold_0/step62.bpnetPipeline/qc/out_step_6_3_3_motifs_qc_bias_tn5/pos_patterns_valid_logos/pos_patterns.pattern_7.cwm.rev.png\n",
      "2024-11-20 13:23:59,300 - INFO - Copied logo: pos_patterns.pattern_7.cwm.rev.png to valid directory.\n",
      "2024-11-20 13:23:59,300 - DEBUG - Copying file /scratch/groups/akundaje/eila/encode_pseudobulks/old_encode_pseudobulks_model_training/human/ENCSR004DZS/ENCFF709MRG/fold_0/step62.bpnetPipeline/evaluation/modisco_profile/trimmed_logos/pos_patterns.pattern_7.cwm.fwd.png to /scratch/groups/akundaje/eila/encode_pseudobulks/old_encode_pseudobulks_model_training/human/ENCSR004DZS/ENCFF709MRG/fold_0/step62.bpnetPipeline/qc/out_step_6_3_3_motifs_qc_bias_tn5/pos_patterns_valid_logos/pos_patterns.pattern_7.cwm.fwd.png\n",
      "2024-11-20 13:23:59,300 - INFO - Copied logo: pos_patterns.pattern_7.cwm.fwd.png to valid directory.\n",
      "2024-11-20 13:23:59,300 - DEBUG - Decoded seqlet: CCGCGGCCTACAACTCCCAGTGTGCACCGG\n",
      "2024-11-20 13:23:59,300 - DEBUG - Checking seqlet: CCGCGGCCTACAACTCCCAGTGTGCACCGG against all TN5 isoforms.\n",
      "2024-11-20 13:23:59,300 - DEBUG - Best similarity score: 0 at position 0 (threshold: 80)\n",
      "2024-11-20 13:23:59,300 - DEBUG - Similarity: 0% at position 0 (threshold: 80)\n",
      "2024-11-20 13:23:59,300 - DEBUG - Best similarity score: 0 at position 0 (threshold: 80)\n",
      "2024-11-20 13:23:59,300 - DEBUG - Similarity: 0% at position 0 (threshold: 80)\n",
      "2024-11-20 13:23:59,300 - DEBUG - Best similarity score: 0 at position 0 (threshold: 80)\n",
      "2024-11-20 13:23:59,300 - DEBUG - Similarity: 0% at position 0 (threshold: 80)\n",
      "2024-11-20 13:23:59,300 - DEBUG - Best similarity score: 0 at position 0 (threshold: 80)\n",
      "2024-11-20 13:23:59,300 - DEBUG - Similarity: 0% at position 0 (threshold: 80)\n",
      "2024-11-20 13:23:59,300 - DEBUG - Best similarity score: 0 at position 0 (threshold: 80)\n",
      "2024-11-20 13:23:59,300 - DEBUG - Similarity: 0% at position 0 (threshold: 80)\n",
      "2024-11-20 13:23:59,300 - DEBUG - Seqlet did not match any TN5 isoform. it is a valid seqlet\n",
      "2024-11-20 13:23:59,300 - ERROR - Error processing pattern pattern_7: Unable to synchronously copy object (destination object already exists)\n",
      "2024-11-20 13:23:59,300 - DEBUG - Processing pattern: pattern_8\n",
      "2024-11-20 13:23:59,300 - DEBUG - Seqlet one-hot encoding shape: (532, 30, 4)\n",
      "2024-11-20 13:23:59,301 - DEBUG - Decoded seqlet: GTCACTTGAGTCATGCGTCATTTACTTCCT\n",
      "2024-11-20 13:23:59,301 - DEBUG - Checking seqlet: GTCACTTGAGTCATGCGTCATTTACTTCCT against all TN5 isoforms.\n",
      "2024-11-20 13:23:59,301 - DEBUG - Best similarity score: 0 at position 0 (threshold: 80)\n",
      "2024-11-20 13:23:59,301 - DEBUG - Similarity: 0% at position 0 (threshold: 80)\n",
      "2024-11-20 13:23:59,301 - DEBUG - Best similarity score: 0 at position 0 (threshold: 80)\n",
      "2024-11-20 13:23:59,301 - DEBUG - Similarity: 0% at position 0 (threshold: 80)\n",
      "2024-11-20 13:23:59,301 - DEBUG - Best similarity score: 0 at position 0 (threshold: 80)\n",
      "2024-11-20 13:23:59,301 - DEBUG - Similarity: 0% at position 0 (threshold: 80)\n",
      "2024-11-20 13:23:59,301 - DEBUG - Best similarity score: 0 at position 0 (threshold: 80)\n",
      "2024-11-20 13:23:59,301 - DEBUG - Similarity: 0% at position 0 (threshold: 80)\n",
      "2024-11-20 13:23:59,301 - DEBUG - Best similarity score: 0 at position 0 (threshold: 80)\n",
      "2024-11-20 13:23:59,301 - DEBUG - Similarity: 0% at position 0 (threshold: 80)\n",
      "2024-11-20 13:23:59,301 - DEBUG - Seqlet did not match any TN5 isoform. it is a valid seqlet\n",
      "2024-11-20 13:23:59,303 - INFO - Pattern pattern_8 is valid and saved.\n",
      "2024-11-20 13:23:59,304 - DEBUG - Copying file /scratch/groups/akundaje/eila/encode_pseudobulks/old_encode_pseudobulks_model_training/human/ENCSR004DZS/ENCFF709MRG/fold_0/step62.bpnetPipeline/evaluation/modisco_profile/trimmed_logos/pos_patterns.pattern_8.cwm.rev.png to /scratch/groups/akundaje/eila/encode_pseudobulks/old_encode_pseudobulks_model_training/human/ENCSR004DZS/ENCFF709MRG/fold_0/step62.bpnetPipeline/qc/out_step_6_3_3_motifs_qc_bias_tn5/pos_patterns_valid_logos/pos_patterns.pattern_8.cwm.rev.png\n",
      "2024-11-20 13:23:59,304 - INFO - Copied logo: pos_patterns.pattern_8.cwm.rev.png to valid directory.\n",
      "2024-11-20 13:23:59,304 - DEBUG - Copying file /scratch/groups/akundaje/eila/encode_pseudobulks/old_encode_pseudobulks_model_training/human/ENCSR004DZS/ENCFF709MRG/fold_0/step62.bpnetPipeline/evaluation/modisco_profile/trimmed_logos/pos_patterns.pattern_8.cwm.fwd.png to /scratch/groups/akundaje/eila/encode_pseudobulks/old_encode_pseudobulks_model_training/human/ENCSR004DZS/ENCFF709MRG/fold_0/step62.bpnetPipeline/qc/out_step_6_3_3_motifs_qc_bias_tn5/pos_patterns_valid_logos/pos_patterns.pattern_8.cwm.fwd.png\n",
      "2024-11-20 13:23:59,305 - INFO - Copied logo: pos_patterns.pattern_8.cwm.fwd.png to valid directory.\n",
      "2024-11-20 13:23:59,305 - DEBUG - Decoded seqlet: CTATGAGTCAGCATGAGTCATCTCGTTCCA\n",
      "2024-11-20 13:23:59,305 - DEBUG - Checking seqlet: CTATGAGTCAGCATGAGTCATCTCGTTCCA against all TN5 isoforms.\n",
      "2024-11-20 13:23:59,305 - DEBUG - Best similarity score: 0 at position 0 (threshold: 80)\n",
      "2024-11-20 13:23:59,305 - DEBUG - Similarity: 0% at position 0 (threshold: 80)\n",
      "2024-11-20 13:23:59,305 - DEBUG - Best similarity score: 0 at position 0 (threshold: 80)\n",
      "2024-11-20 13:23:59,305 - DEBUG - Similarity: 0% at position 0 (threshold: 80)\n",
      "2024-11-20 13:23:59,305 - DEBUG - Best similarity score: 0 at position 0 (threshold: 80)\n",
      "2024-11-20 13:23:59,305 - DEBUG - Similarity: 0% at position 0 (threshold: 80)\n",
      "2024-11-20 13:23:59,305 - DEBUG - Best similarity score: 0 at position 0 (threshold: 80)\n",
      "2024-11-20 13:23:59,305 - DEBUG - Similarity: 0% at position 0 (threshold: 80)\n",
      "2024-11-20 13:23:59,305 - DEBUG - Best similarity score: 0 at position 0 (threshold: 80)\n",
      "2024-11-20 13:23:59,305 - DEBUG - Similarity: 0% at position 0 (threshold: 80)\n",
      "2024-11-20 13:23:59,305 - DEBUG - Seqlet did not match any TN5 isoform. it is a valid seqlet\n",
      "2024-11-20 13:23:59,305 - ERROR - Error processing pattern pattern_8: Unable to synchronously copy object (destination object already exists)\n",
      "2024-11-20 13:23:59,305 - DEBUG - Processing pattern: pattern_9\n",
      "2024-11-20 13:23:59,305 - DEBUG - Seqlet one-hot encoding shape: (244, 30, 4)\n",
      "2024-11-20 13:23:59,305 - DEBUG - Decoded seqlet: GTGAGTGAGTTCTCGCGAGATCTGGTTGTT\n",
      "2024-11-20 13:23:59,305 - DEBUG - Checking seqlet: GTGAGTGAGTTCTCGCGAGATCTGGTTGTT against all TN5 isoforms.\n",
      "2024-11-20 13:23:59,305 - DEBUG - Best similarity score: 0 at position 0 (threshold: 80)\n",
      "2024-11-20 13:23:59,305 - DEBUG - Similarity: 0% at position 0 (threshold: 80)\n",
      "2024-11-20 13:23:59,305 - DEBUG - Best similarity score: 0 at position 0 (threshold: 80)\n",
      "2024-11-20 13:23:59,305 - DEBUG - Similarity: 0% at position 0 (threshold: 80)\n",
      "2024-11-20 13:23:59,305 - DEBUG - Best similarity score: 0 at position 0 (threshold: 80)\n",
      "2024-11-20 13:23:59,305 - DEBUG - Similarity: 0% at position 0 (threshold: 80)\n",
      "2024-11-20 13:23:59,305 - DEBUG - Best similarity score: 0 at position 0 (threshold: 80)\n",
      "2024-11-20 13:23:59,305 - DEBUG - Similarity: 0% at position 0 (threshold: 80)\n",
      "2024-11-20 13:23:59,305 - DEBUG - Best similarity score: 0 at position 0 (threshold: 80)\n",
      "2024-11-20 13:23:59,305 - DEBUG - Similarity: 0% at position 0 (threshold: 80)\n",
      "2024-11-20 13:23:59,305 - DEBUG - Seqlet did not match any TN5 isoform. it is a valid seqlet\n",
      "2024-11-20 13:23:59,307 - INFO - Pattern pattern_9 is valid and saved.\n",
      "2024-11-20 13:23:59,308 - DEBUG - Copying file /scratch/groups/akundaje/eila/encode_pseudobulks/old_encode_pseudobulks_model_training/human/ENCSR004DZS/ENCFF709MRG/fold_0/step62.bpnetPipeline/evaluation/modisco_profile/trimmed_logos/pos_patterns.pattern_9.cwm.fwd.png to /scratch/groups/akundaje/eila/encode_pseudobulks/old_encode_pseudobulks_model_training/human/ENCSR004DZS/ENCFF709MRG/fold_0/step62.bpnetPipeline/qc/out_step_6_3_3_motifs_qc_bias_tn5/pos_patterns_valid_logos/pos_patterns.pattern_9.cwm.fwd.png\n",
      "2024-11-20 13:23:59,308 - INFO - Copied logo: pos_patterns.pattern_9.cwm.fwd.png to valid directory.\n",
      "2024-11-20 13:23:59,308 - DEBUG - Copying file /scratch/groups/akundaje/eila/encode_pseudobulks/old_encode_pseudobulks_model_training/human/ENCSR004DZS/ENCFF709MRG/fold_0/step62.bpnetPipeline/evaluation/modisco_profile/trimmed_logos/pos_patterns.pattern_9.cwm.rev.png to /scratch/groups/akundaje/eila/encode_pseudobulks/old_encode_pseudobulks_model_training/human/ENCSR004DZS/ENCFF709MRG/fold_0/step62.bpnetPipeline/qc/out_step_6_3_3_motifs_qc_bias_tn5/pos_patterns_valid_logos/pos_patterns.pattern_9.cwm.rev.png\n",
      "2024-11-20 13:23:59,308 - INFO - Copied logo: pos_patterns.pattern_9.cwm.rev.png to valid directory.\n",
      "2024-11-20 13:23:59,308 - DEBUG - Decoded seqlet: GGCCGCGACGTCTCGCGAGAAGACGACCGG\n",
      "2024-11-20 13:23:59,308 - DEBUG - Checking seqlet: GGCCGCGACGTCTCGCGAGAAGACGACCGG against all TN5 isoforms.\n",
      "2024-11-20 13:23:59,308 - DEBUG - Best similarity score: 0 at position 0 (threshold: 80)\n",
      "2024-11-20 13:23:59,308 - DEBUG - Similarity: 0% at position 0 (threshold: 80)\n",
      "2024-11-20 13:23:59,308 - DEBUG - Best similarity score: 0 at position 0 (threshold: 80)\n",
      "2024-11-20 13:23:59,308 - DEBUG - Similarity: 0% at position 0 (threshold: 80)\n",
      "2024-11-20 13:23:59,308 - DEBUG - Best similarity score: 0 at position 0 (threshold: 80)\n",
      "2024-11-20 13:23:59,308 - DEBUG - Similarity: 0% at position 0 (threshold: 80)\n",
      "2024-11-20 13:23:59,308 - DEBUG - Best similarity score: 0 at position 0 (threshold: 80)\n",
      "2024-11-20 13:23:59,308 - DEBUG - Similarity: 0% at position 0 (threshold: 80)\n",
      "2024-11-20 13:23:59,308 - DEBUG - Best similarity score: 0 at position 0 (threshold: 80)\n",
      "2024-11-20 13:23:59,309 - DEBUG - Similarity: 0% at position 0 (threshold: 80)\n",
      "2024-11-20 13:23:59,309 - DEBUG - Seqlet did not match any TN5 isoform. it is a valid seqlet\n",
      "2024-11-20 13:23:59,309 - ERROR - Error processing pattern pattern_9: Unable to synchronously copy object (destination object already exists)\n",
      "Motif QC bias TN5 processing completed.\n"
     ]
    }
   ],
   "source": [
    "# !chmod +x step6-3-3-qc-bias-tn5.sh\n",
    "# !chmod +x step6_3_3_filter_motifs_with_tn5_bias.py\n",
    "!./step6-3-3-qc-bias-tn5.sh /scratch/groups/akundaje/eila/encode_pseudobulks/old_encode_pseudobulks_model_training/human/ENCSR004DZS/ENCFF709MRG/fold_0/step62.bpnetPipeline/auxiliary/interpret_subsample/modisco_results_profile_scores.h5\n"
   ]
  },
  {
   "cell_type": "code",
   "execution_count": 16,
   "id": "a1d2b179-46c1-4847-85cd-73c5e57b6215",
   "metadata": {},
   "outputs": [
    {
     "ename": "FileNotFoundError",
     "evalue": "[Errno 2] No such file or directory: '/scratch/groups/akundaje/eila/encode_pseudobulks/old_encode_pseudobulks_model_training/human/ENCSR004DZS/ENCFF709MRG/fold_0/step62.bpnetPipeline/evaluation/modisco_profile/trimmed_logos/neg_patterns.pattern_0.*'",
     "output_type": "error",
     "traceback": [
      "\u001b[0;31m---------------------------------------------------------------------------\u001b[0m",
      "\u001b[0;31mFileNotFoundError\u001b[0m                         Traceback (most recent call last)",
      "Cell \u001b[0;32mIn[16], line 2\u001b[0m\n\u001b[1;32m      1\u001b[0m \u001b[38;5;28;01mimport\u001b[39;00m \u001b[38;5;21;01mos\u001b[39;00m\n\u001b[0;32m----> 2\u001b[0m os\u001b[38;5;241m.\u001b[39mlistdir(\u001b[38;5;124m\"\u001b[39m\u001b[38;5;124m/scratch/groups/akundaje/eila/encode_pseudobulks/old_encode_pseudobulks_model_training/human/ENCSR004DZS/ENCFF709MRG/fold_0/step62.bpnetPipeline/evaluation/modisco_profile/trimmed_logos/neg_patterns.pattern_0.*\u001b[39m\u001b[38;5;124m\"\u001b[39m)\n",
      "\u001b[0;31mFileNotFoundError\u001b[0m: [Errno 2] No such file or directory: '/scratch/groups/akundaje/eila/encode_pseudobulks/old_encode_pseudobulks_model_training/human/ENCSR004DZS/ENCFF709MRG/fold_0/step62.bpnetPipeline/evaluation/modisco_profile/trimmed_logos/neg_patterns.pattern_0.*'"
     ]
    }
   ],
   "source": [
    "import os\n",
    "os.listdir(\"/scratch/groups/akundaje/eila/encode_pseudobulks/old_encode_pseudobulks_model_training/human/ENCSR004DZS/ENCFF709MRG/fold_0/step62.bpnetPipeline/evaluation/modisco_profile/trimmed_logos/neg_patterns.pattern_0.*\")\n"
   ]
  },
  {
   "cell_type": "code",
   "execution_count": 20,
   "id": "323e1112-fae7-4f19-af1f-b6ccf6d9cfb4",
   "metadata": {},
   "outputs": [
    {
     "data": {
      "text/plain": [
       "8193"
      ]
     },
     "execution_count": 20,
     "metadata": {},
     "output_type": "execute_result"
    }
   ],
   "source": [
    "len(\"CTGAGCCGCTACGGCTCATTCCCAATCCAAATCGAAGTTCCTACACAGCTCCCTCTATTTCGTTCACCATCCATCCGCTGACTGACTTTTTACTTACACAGACGCTAAGACTTCTGAGCATTAGTCCCCCAGAGTTCCTGCCTAATCAAGATCTAGTAATAGTGTGACTGAGAGGCTTCTCGGCACCCTGTATCGGTGTGCGCTACGTGCATCTACATCAGACTCAATGTGGACCCGTTCCGAGGACCTTGGCCACTAGGTGAGAGCTACATAGATCTATTCGGCATACAAGGAGCGTCACATGACCACATTTACATATTAAGGCGACTATATAGGACCTTAAGACAACCTAGGGCTGCAATTGCTCTCTGATGGGCCCCACACTATCACCAAATTTTGGTTTGGGATCCAGCTCGCCGACGTCACAGTCGGTGCTCGCCCATATAAATCTCGGGACAGCGTTATCATTTTGTTAGTAAATCGCGACCACCGAGGAAGACAGCCATGTACCTAGGTGTCCGAAAGCCAAAGTAGACCTAGCGCCTACTTAGGAATGCTGGCGCGCCCTTGGCGGAATATTGTTTAGACAGAAATAACACTGAGACATTTTGGTCCGATGCATCAAACTATATAGAAGCATCCGCAGTCACGTTCTGATAAATCACCGTTTATTTGGAGTTTGAGTGCTCCTACCTCCATTACATGTGCATCTCCCTCAATTCTAACACAAATAGATAATTCGGTGTTAGTACAGACCAGGCTTGGTCGCGAGACCAAGTTGGGGCAGTCATACAATTCCTACCGATGAAAAGCTCAAGATCCTATCTACAAAGCGGAGGAGAGTACTCGGTGTCTTTCCCTATTTAAAGCCATCACCTGCGGTTGGGAAGGCTTAACAATACTCGTGCTGACGTCGGGTGGAGCTCAATGCTGTTGTTATGCGCAAATGTTTGGGCGGATTTTCCAGGACGTACTAGGATCAATCTTACGAAAAGCCCGAAAGCACGACACTTTAATCCAAAAGCTATACCTAACCACTACCGTAAAGCTGTACCCTTACTTCGGGCGGCCTTTGCCACTTTTCCCTCCTAATCTATAGGTCTTACCTCATAGCTAAGCTGTTCGATCTCTTCCAGAAGAAAAATGCTTAAGACTAGGAGCGAGATATCTCCCGCTGGAAATTAAACCACGGAAGCCGTTAACGATACCGTTAGCCCGGTATCCCGACAAGTTTGGCAAGTAAGCTCTTTGTTGGAGATAGATCGTGCACAGGGCCGCAACGAGAAAACCTCGTGCACGCGTGGTGAACGGACTCGTAGCCAGCCTGACGACTCCCCTGCTGATTGATACACCCGGCCGAGTCCCGCGCGAGAATGCCCCTAGAAGCCTAGATGCGGCCGGACCATTCCCTTTGGCCCCGTTGCCTTATGAGACAGTGGGGCGGTCGGGGCATTTTGTATTGTACGATCGCTGTGACACAGACGCATGGGCTTACACAAGATCACCGACATCTCGTTCCTCGCCGCCCTACCTGGTACTGTGAGCAGGGTCTGGAAGTCGTCGACCAGTCCGACGTGACCTGTCAATCCCCGGAGCGCGACGCGCCCCCGGCGGGGCGCCCGCATAGGTCTACTAACGCGCTTACGCACCCATTTACGCAGAAAACGCGAGGGCTAGGGGGCGATCACACCGAGAAAAGCACGGGACCTCTAAAGCCAAGGAGAAGGCCTTTCTGCCCAAGCCGGTCTGGAAGGTTCACCTCGGGAGGCGCCTCGAACGTCCAAGGATACACCTTGAACGTACCCCCCCCGCCGCGCCGCTACCCACGCTGCCGCCGAAACCGCCGTAGCGGCAAGATGTGGCCTAGCTCGCGTGACGCGCGAGCACTTCTTACCGCGTGCAATATGAGCTCCGAGAGTCCTACGGCATCGGGCGCCGGTGCGGGCTTACGAAAGAGCGCTATTCCACTACGCGGGCCCTTGTCATACCCCGCGCCAACGAAAACCGTGGAACACCCGTCGGACGGTGCGTTGCTGGACTAGCCTGCCGTGGTTCGCGTCCACTCGAGCGGTTCTCATCCACGGCAGTACGCACCGCGGCCTTATGAGGTGCAGGGGCCAACGCGGGGGAGATGCCGGGGCCGCCTCTGCGCACAGGATGCCGCTGCTGGCGCACGTCGACCGTAGTACACGAAATGTTGATCTTACGTCTGGTCCTGGTGTGCGGCGCGTACTAGCGCCGGTCCGTCACTGCGGGCGTCCCTTGGCTAGTGTGGGTGCAGATGTTCCTGATTGGGTGGCCAGACCGCCCCAGATGCGTGTCTGGCAGTGCCCTGCCCTCGTTGACACGGCCTGAGGCCGGGAGGGAGTGTCATGTCCGCGATGGCGCGTCAGTTGTGCCGTCGTCGATTTGACACGCGATCACACAGTAGCCCCCTTCAACGAGGATGGCAGCTCCACCTGTCGCCCATGAACTTTCTGCCGCGCATTGCTCGAGCAACACGGCACTGTTTCTCGTATACTAATATCACCGACGTAAAAAGTGCGACTGTTAAGAAATATCACCTAGCAGCTGAGCCGTCGAACTGAACCAGCCCGGCATCTGGCAATCTTTGTTCCAATTCACCGGTAGTTGACTCCGGGCAACCGAACCCGTCTTCTATGGGTACCGGTCTTTTCGCGCACTTTCCGACCCCCTAGCATTTTCAATTTCACAACTTTCATTGAGCAATTCTCATCAAAACTGCACTGCCCGCGACTCTAATCCTTACCACCAGGAGCGGAAGGGTGCATACTCCTCTTTCACTTCGGTAAGAAATAAATCTCAATTCATTCATTCGGGCTCTCTAGCGAAAAGAATACACACGTGATCCCAGTAGTTATAGCCAGCGTATTTTAGACAGGTGGTAACGATCCCGAATTTAAACTAGTAGGTAAATCGAACAACCTGGTTCCTACGCTTGTCTGCACATTCCCCACCTGTAGTCTTGACTGCTTGGGGAAAACGTTCCGACAAGGAACATAGCAACATCGTTGCGATGGGCTGGGATCGGGCTATTTAACGGAGCCTAATGGCTCTATCTGTTATCGGCTCTATGCTGAGATGCCCGTTCTCAATTACGAACGTCCGAACCCGAAAAGGTGGGTTCCAGAGAGTACGTTATAGAGCACGAGCTGCGTAACTGCTCCCAGCACTTCTTCTTTAGTCGGTTTGGATTTCTCCGAAGCTCCCGAGAGCAATTTACGTTTGAGTTCGCACCGGACACTAAGCTGGTCCAGGGCGATACCACCGCCGCTTAGGCAGTCCCTCGGTAGATCCACCACGTGGGTGGTTAAAGGCACCCGAACTCCGGCCAAGCGGTCTTGATCTCTCTTGCGAATATATTAATGGCTTATACGGCGGTGCGACCTCATTCGTTTCCAATATAACCGTAGCAGGCGTTTCCTACCGGTGTGAACGCGTGGGGCGGTAGTCGACCAGTACTCTCGGGAGAATAGCGGTGAGCAGGGCCTGCTCACAACCAGTTTGTCGTACGTCAGGGTCTCACTAGGCTGCCCAGAAATTAAGAATGGACTTGACGCCTGACGCCTTTGTTGCGTATCCTCCTGCCCGGTGAAGGTGCGATCCGGCCAGATAAGATCAAACATACATTACGACAACGTACAAGCGACCCAGGCCCTGCTACGAAGGGGATTTGCCCATCCGAACAGATTAAACATCCTTGCAACCAGCTCACACAGCCCGGGGGCAAAAACGGCAGCCCGCGGTGGTGGATACGCGGCCGGGGACTCAGACGGCTGCCGAATCCGATGCCCCAACGGCCCCTGTTACCGTACCGAGAGCCATTATCGCCAGGCGTTCCCGTACCATGCCCACTCAGGTACCCCCCCTTTCCTCTCGCACCCCGTCTGCGTACGCTTGAATGGGACCACCCGGGAGCACTTACGCCCCTTACGCCTCGGCGCTTCAGCCTCGAGGGGTAACGCGCAGGGCGTTGCACCTAGTACGCCAGTCAGAATCCCCACACGTCCGGACGCCGAAGAAAGTAGCGTACCAGGGGGCGATATGGGACTTGAGTCCTGCCGGCCCGCCGACTCAGAGGCGTCTACAATCTGGGGAATCGTAGGGACCGTAGTTCAGTAAGGGGACAGTCAAACCTCGTTGTGGTGGCCTCCAGACCCTCAGGCGTCGGTATGACGGGCGTGAGGCAAGACTGGTGGGATTCGTCGCAAGCTGCCTGCCCGCAGCCCGGCAGCAACGAGGCCGCTAACGAGGGTTGCCACTAAGATCTGTTTGATTGGGACTGCGCAGCTTTTCGACCTTACCAGTCACCGACCAAGGGGAAGTATACGCCTCCCCGCGAGGGGCACGACGAGAGTTTGCTGAGCGTTGCACCCAGTATTCAGACCATATGTAGCGTCACCCTCGGGCGGTGTTGTTCCTGCAACTCGGCTGGTTCGCATCCTAGCTTGGCTACCAGACTTTAGCAACGAAGTGAGCGCGAGGGCAAAGGGACATTGCGGACAGAAGCGTCGCCGAGAGGCCAAACGCCGCTGGTCGGGCGCGGCGTCGGATGAAACGAGTTTCCGTTCTCAAACCCGATGCCGAGCCCACGGGCCTCGCGTCTGTTTCGCGGAGCATCGGCTACTAGAGAGGTCCCCGATACTATGAGCTCAGACTGGCACGGAATCGTTGTTGGGGGTACCGCCTATTGTCCCCGCATTGTGGGTGGCACAAGTCCCTCAGTGTGCCGCTCAGCTACCTGCACCGTTGATGTGGTGGACCCACCAAAGCTCCCTAGGAGGGCACCCGTGGCCGGCGGAGCGGGAGGCCGAGGCAGGAAGCGGGCCGGTGGGTGGTAAAGGGGGGGGCTGGCCAGACATCCAGCCTACAGAATTGCCGTATCACGGTTTGTCGCTAGAGCATGCGTGGAGCTCGGAGCAGTCCCCCAAAGGGACTTCCAGCATATGTTCGCTTGCCAGGCACGCGCCTCGGCTCGAGATGGGCCCCGCGGGTGTTGAGACTCGGTGACGCAGCCTATGGCAGAGCAGTACTTAGGTCTTGGGGGGGCCACGCTCTATTACCAGGCATCCCCGACTTAGGCAGTCTCCTCTGCGGGACCCCTCACGTCCTATCGTTGATCGACGCAATCTACGGTGCCGGCGCCGGCGGTGACGCGGCACTTGCCCGGGGGATACAAGGAGGGTGGCTCTCAGAGCGCCAGGGGCTGTGGTGCCCACTCCGCGATGGCGGTGCTGGGCGCCACGGCCAGGGTGTGCACCCACATCGGCCGCGGAAACCGGGGGGCCCCACATGCGCGTCACCACCCGGACGGGGACACTATACCACGTCGCGAAACTCCGGACCGCTGCGCCTGCACAGCGCCGAGTCTGAGACGCAGATGCGTCGTCGGGCCCTCTTACGACCGAACGTAGCGGCCTGCATCCTTATCCGGTGCCCCCGGCCGGGCCAACCCTTATTGATCTACGTGCGCCCTACGATTGCGAACTATGGCCTCCGCCTCTGCGCCGTGTACCGCCCCAACCGGGCTGCCTTCTCCACCCCTGGGCGCGCTCGCCATGGGCGAGTACGGAAGGTCTCGCTCATGCGCGGCCCACCGCACCTGTCTCCGGAGCGATGCGAGACGGGTGATAGACCGCTGGCGGCGATGTGCCGCTCCGATGCGGTTCGTCGGGGCCGCAGGTGCTGACTGGGGCACTGGAGCCACCCCACCCCCATCCGCGCCCTTTCCGGCGGCAGCGCCCCGAAGGAGTTGGGGAGGGGCCAGACGACCGTTGCCCGCCTTTGGCGCGCGACAATAATGACGAGCCGCGTCCGGTGTCACTACGGCCTGTCTGCGTGCCAATGATTTTGGTAAGCCTAAGCATCGTCGGGCTAGGTCTCCCACGAAACTGAATTACGCCAGAACTTGTGGGCACCGCTGGCCCTGGTCGCGAAACTGCGCAGCCGGCGTGGACTGGCGGACCCAAGACGCCCCTCCGGCTGTGATGCCTAGATGATATTATACGGTGCCCCACCGTAATTGGGCCTAAGGGACTCCTAGACCTGGAGCATACCTATACCGCGTATCGCCGCTAGTAGTCCCGGACCTCTAGCTTCACCGGGGCGGCCGCAGCCTGTGCTGCCGTACCTCCCCGGTTCCTAACTGAGCGCCCAGCCTTTGAGGAGAACGCTTCCTCAAGTCTTGACTGAGGTAGCCTCCCAGTCGCGGAGTCCAAGTCAGGCGAACTGAAACCGTATGACCGCGTAATTGTCGACCCAGTGGCTACTATGATTCGTTAGTTTTACCCACCTACTAAGGACCGGCCGTATAATGTTTGGGTTACGAGGGAACACGAGCCCACGAGGTTCTACCACTACTCATTGCAGCCAGTCTCTAAGACATGGTTAATGCTCTGCTGGCGTGCTCAGGTTAAACTGACAGGTTAGTCGTACGTAGGAGTATATAATGGCCTATGTTACACGCAAGTGGAATTCGACTAACCCTAGGTGGTCATGATAGTCATGAGATTTTGCTAACGCTAGTTGCCGGTGATCCTCAACTTTCTCTAACAAGTTCCACCACGGGAAGTTACGTTGATTACGATCCTCGGGTTCACTCTCCCGGGGGCCGGCTAGGTTTGTAAATAAACGCATCCTCCGTTTCGCGCAGGCACCATTAGCAAATATTCTATGCACTGTACCCGCAGGGCGCGCTTTTACTGGCAGTGCCGAGTCGGTCCTCTAAGTAGAGGTGGTCAGATTATACTCAGCGATTCGTCGTGTGACTGCGGGCTGTACCAATGAAACAGCCTATACTATACACTACGCCTTACTTGCTGGAGGTTACGGGTGGCTAACTATATAATTAGCAAGCTCCGTCACCCGTCGAGGCCCTTCCCCAACGCACGGTCCAGGCGAATGAGGAAATCCTCCTGACCCACGTTCCTCCAGTCTGTGCAGCTACACACTTACGCAGTTGGGGTCCATCTCTAGCGACACGTTGGGGCCCAGTGTAACAAAAGTGAAGCAGGTAAGTACGGAGGAACAACCACGTATCTCGATTGTGCTGTAGGCCTAATCTAGGACCCGACATCCCACCCTCACGAAGCAAATTATAAGACAATGAGCGCCGCGCCTGGGCACCAAGCAGGGAGTACGCGTACACGCAGTAGGCCAAATTTAGACTATAGGTTGTCTGCTCGGCTGAGCGGCCGCTCGAGCCCGTGGCAGCAACCTACGCTCATATCGCTTCGAGCCGGCGGTGGGCGTGCCGTTCCGTCGTCAGCTGGGCGATACGGTGCACGAGGCGAGGGCGCAAGTATCACTCCGGCGACCTGCCCTCGAGCCTAGTCGGCGACGGGCCCCAACCAGTCCCACTGCTGGGGGCAACAGATCCCTTACTATCACCCCTCAACCCTGTACTGTCCGTCAACAGACCGCTTGTAAGTCTGGTCCTTTCACGGGGTGGGCCTAGGCGGTTTTACGCACAGCGTCATTGGTGCTGTGGCGCCCGATGTTCGTTCAGCGGTGCGTCGCAGGGTTTCCCGTGGGCGCATTGCAAAGGTCTCATCCGACGAGTCCTTGCCGCGCCGCGGGGGCCACGGTAGCGGGCCGGGGTCAGATGCCAATTCTGCCGGGCAGGGGCTAGGCTGAGGACCGGGACTGGAGCCATGCCGCAATGCCGACCCCGCCTCTGCGTCTTTACGAAACAGGACCTCTATGAAGCCCGACGTCCTTCCTCGTAGGTGGTGCCCAAGTTGGCCCACGCGACAGCCCCCGGCGGCCCCTGCCCGGTGCCGAACCGCCGGTCAGGAGCGACTGAGCCTCGGCTGTGCTTAGGGGGTGGCATTAGCCCCGCCGTGTCCGGCAGCGGGCACGCCGGAAGGCCTCTGACAAGACCACCTCTGGCTCTAGAGGCAAACTGGCGCCCACTGCTCCGATCCGGGGTGATCCCTCCTCCGATATGGCTCCTATCCAGCGGTCCTCTCGGCTGTTGAAGTACCGACCTTGAGCCACCGTGGGACCCACACGCTCATGCTGGTGGGGCAACCCACCACGCGGCTTACTTGTGTAGCGCGCGGATAGTCCGAGCGAACAATGGCTGGAGACGACTACCAGCTGGAGCCGCTACCGGCGCACGCCCTCGCCATGCGCCCTCATTTCTTTCCTCTCCCGCTCGCCCAGGCCGCC\")"
   ]
  },
  {
   "cell_type": "markdown",
   "id": "27f0c3c2-25ae-4a70-a00d-66e4a821b481",
   "metadata": {},
   "source": [
    "<!-- 6.3.2 -check the results - qval -->"
   ]
  },
  {
   "cell_type": "code",
   "execution_count": 6,
   "id": "3671fc84-64e5-4c21-af5e-45b81600e6e3",
   "metadata": {},
   "outputs": [
    {
     "name": "stdout",
     "output_type": "stream",
     "text": [
      "step6-1-create_input_for_all_folds.sh\n",
      "step6-2-chrombpnet-pipelline.sh\n",
      "step6-3-1-qc-nseqlet.sh\n",
      "step6_3_1_remove_motifs_with_low_numseqs.py\n",
      "step6_3_2_filter_motifs_by_qval.py\n",
      "step6-3-2-qc-qval.sh\n",
      "step6_3_3_filter_motifs_with_tn5_bias.py\n",
      "step6-3-3-qc-bias-tn5.sh\n",
      "step6-3-review-pipeline-report.sh\n"
     ]
    }
   ],
   "source": [
    "# !ls step6*"
   ]
  },
  {
   "cell_type": "code",
   "execution_count": 7,
   "id": "da56512b-1cbc-4ce9-90f0-7bbfac26c9a3",
   "metadata": {},
   "outputs": [
    {
     "name": "stdout",
     "output_type": "stream",
     "text": [
      "step6-3-2-qc-qval.sh\n"
     ]
    }
   ],
   "source": [
    "# !ls step6-3-2*"
   ]
  },
  {
   "cell_type": "code",
   "execution_count": 5,
   "id": "afffe5db-1e23-46d9-9270-313dd0d6b549",
   "metadata": {},
   "outputs": [],
   "source": [
    "# !chmod +x step6-3-2-qc-qval.sh\n",
    "# !chmod +x step6_3_2_filter_motifs_by_qval.py\n",
    "# !./step6-3-2-qc-qval.sh /scratch/groups/akundaje/eila/encode_pseudobulks/old_encode_pseudobulks_model_training/human/ENCSR877WNS/ENCFF270AAM/fold_0/step62.bpnetPipeline/auxiliary/interpret_subsample/modisco_results_profile_scores.h5\n",
    "\n"
   ]
  },
  {
   "cell_type": "code",
   "execution_count": 7,
   "id": "c29c8289-9398-4d78-8a8d-7c4d15a06dc8",
   "metadata": {},
   "outputs": [],
   "source": [
    "# execute step 6-3-2-high-match-motifs-no-tn5.sh\n",
    "# !./step 6-3-2-high-match-motifs.sh /scratch/groups/akundaje/eila/encode_pseudobulks/old_encode_pseudobulks_model_training/human/ENCSR877WNS/ENCFF270AAM/fold_0/step62.bpnetPipeline/auxiliary/interpret_subsample/modisco_results_profile_scores.h5 out_step_6_3_1\n"
   ]
  },
  {
   "cell_type": "code",
   "execution_count": null,
   "id": "3a8cff94-f3ad-4e16-b291-29f018fd276c",
   "metadata": {},
   "outputs": [],
   "source": []
  },
  {
   "cell_type": "markdown",
   "id": "a1a493b7-74ae-4a48-863b-ce9583d10cde",
   "metadata": {},
   "source": [
    "### Jobs running"
   ]
  },
  {
   "cell_type": "code",
   "execution_count": 2,
   "id": "2ec7e1e0-b411-4587-bbc5-ce3200134382",
   "metadata": {},
   "outputs": [
    {
     "name": "stdout",
     "output_type": "stream",
     "text": [
      "48\n"
     ]
    }
   ],
   "source": [
    "!squeue --user=$USER | wc -l\n",
    "# 48\n"
   ]
  },
  {
   "cell_type": "code",
   "execution_count": 2,
   "id": "804b2bb7-617b-4e52-9ebd-f96ba8e430b4",
   "metadata": {},
   "outputs": [],
   "source": [
    "# !squeue --user=$USER\n",
    "# 54958965"
   ]
  },
  {
   "cell_type": "code",
   "execution_count": 11,
   "id": "41914edf-9726-441c-a5ae-55a74191c767",
   "metadata": {},
   "outputs": [],
   "source": [
    "# !scancel 54084823"
   ]
  },
  {
   "cell_type": "code",
   "execution_count": 51,
   "id": "66ce8732-61d7-458c-a6fa-de4c26c5b678",
   "metadata": {},
   "outputs": [],
   "source": [
    "# !squeue -u $USER -o \"%i %j\" | grep step5Neg\n"
   ]
  },
  {
   "cell_type": "code",
   "execution_count": 24,
   "id": "47127e74-4e1c-4557-a387-ad5126e64c6c",
   "metadata": {},
   "outputs": [
    {
     "name": "stdout",
     "output_type": "stream",
     "text": [
      "total 15940\n",
      "-rw-r--r-- 1 eila akundaje 16317648 Oct  7 17:10 ENCSR945OSX_ENCFF142CJI_mouse_nonpeaks_negatives.bed\n",
      "drwxr-sr-x 2 eila akundaje     4096 Oct  7 17:10 ENCSR945OSX_ENCFF142CJI_mouse_nonpeaks_auxiliary\n"
     ]
    }
   ],
   "source": [
    "# !squeue -u $USER -o \"%i\" | grep step5Neg | xargs scancel\n",
    "!ls -lt /scratch/groups/akundaje/eila/encode_pseudobulks/encode_pseudobulks_negative/mouse/ENCSR945OSX/ENCFF142CJI/fold_3"
   ]
  },
  {
   "cell_type": "code",
   "execution_count": 26,
   "id": "7e8f6b16-a4e1-47dc-8a42-953be2107f3a",
   "metadata": {},
   "outputs": [
    {
     "name": "stdout",
     "output_type": "stream",
     "text": [
      "total 5924\n",
      "-rw-r--r-- 1 eila akundaje 6061850 Oct  7 16:53 ENCSR619QCA_ENCFF499UFR_mouse_nonpeaks_negatives.bed\n",
      "drwxr-sr-x 2 eila akundaje    4096 Oct  7 16:53 ENCSR619QCA_ENCFF499UFR_mouse_nonpeaks_auxiliary\n"
     ]
    }
   ],
   "source": [
    "!ls -lt /scratch/groups/akundaje/eila/encode_pseudobulks/encode_pseudobulks_negative/mouse/ENCSR619QCA/ENCFF499UFR/fold_4/"
   ]
  },
  {
   "cell_type": "code",
   "execution_count": 5,
   "id": "9bea715c-6947-492d-844b-a59f34015a92",
   "metadata": {},
   "outputs": [],
   "source": [
    "# Next: \n",
    "# array_job_interpret_example.sh - with 1000 peaks. counts and profile - two heads (one after the other)\n",
    "# seperate the profile from the counts - so we will not have timeput\n",
    "# note: can also run profile and counts steps separately (will have more jobs, each will take less time)\n",
    "# This need to be updated. https://github.com/kundajelab/chrombpnet/wiki/Generate-contribution-score-bigwigs\n",
    "# -pc for counts. -pc for profile. can be as paraemterts with the value of the -pc and one script.\n",
    "# chrombpnet contribs_bw \\\n",
    "#  -m ${MODEL_PATH} \\\n",
    "#  -r ${REGIONS_PATH} \\\n",
    "#  -g /oak/stanford/groups/akundaje/ziwei75/atac_seq_pipeline/hg38/GRCh38_no_alt_analysis_set_GCA_000001405.15.fasta \\ # update this for mouse\n",
    "#  -c /oak/stanford/groups/akundaje/ziwei75/atac_seq_pipeline/hg38/GRCh38_EBV.chrom.sizes.tsv \\ # update this for mouse\n",
    "#  -op ${output_dir}/${ENCSR_ID} | tee -a $log\n",
    "# comment the counts\n",
    "# change to $SCRATCH_GOUP\n",
    "# copy to $SCRATCH_GOUP whatever is remaining.\n",
    "#  "
   ]
  },
  {
   "cell_type": "code",
   "execution_count": 6,
   "id": "5821672b-ff92-4a26-ab41-f9d2cd59c48e",
   "metadata": {},
   "outputs": [],
   "source": [
    "# !sstat -j 52658719 --format=JobID,MaxRSS,MaxVMSize\n"
   ]
  },
  {
   "cell_type": "code",
   "execution_count": 7,
   "id": "1d19f5fc-9521-41f8-bd21-d3e51d023468",
   "metadata": {},
   "outputs": [],
   "source": [
    "# !scontrol show job 52659563\n"
   ]
  },
  {
   "cell_type": "code",
   "execution_count": 33,
   "id": "2b4a5a21-b4e5-4a0e-b2e6-5bd37b3222f4",
   "metadata": {},
   "outputs": [
    {
     "name": "stdout",
     "output_type": "stream",
     "text": [
      "             JOBID PARTITION     NAME     USER ST       TIME  NODES NODELIST(REASON)\n",
      "54150538_[45-1000% owners,ak step5Neg     eila PD       0:00      1 (Resources)\n",
      "54150540_[1001-135 owners,ak step5Neg     eila PD       0:00      1 (Resources)\n"
     ]
    }
   ],
   "source": [
    "!squeue --user=$USER"
   ]
  },
  {
   "cell_type": "code",
   "execution_count": 121,
   "id": "c3963704-cc94-4c58-b481-106aa5628e4b",
   "metadata": {},
   "outputs": [],
   "source": [
    "# !scancel -u eila"
   ]
  },
  {
   "cell_type": "code",
   "execution_count": 122,
   "id": "3924921e-6fd3-43d5-bff5-8918553ba88a",
   "metadata": {},
   "outputs": [],
   "source": [
    "# !scancel 53562999_1"
   ]
  },
  {
   "cell_type": "code",
   "execution_count": 39,
   "id": "79b4720d-2e0b-4601-91ec-7f7c11930f3b",
   "metadata": {},
   "outputs": [],
   "source": [
    "# !sacct -j 53978234 --format=JobID,State,ExitCode\n"
   ]
  },
  {
   "cell_type": "code",
   "execution_count": 84,
   "id": "309ec7d2-ef76-4962-8a6c-77638f5af29d",
   "metadata": {},
   "outputs": [],
   "source": [
    "# #step 5 - train chrombpnet - human\n",
    "\n",
    "# !./execute_sbatch_arrays_on_sherlock.sh ./steps_inputs/step5/human/eila_peaks_matched_to_experiments-debug.txt step4-compute-negatives-non-peak-background.sh 2 2\n",
    "\n",
    "\n"
   ]
  },
  {
   "cell_type": "code",
   "execution_count": 21,
   "id": "4f349b2a-9876-4b6a-b233-42728185b20b",
   "metadata": {},
   "outputs": [],
   "source": [
    "# !ls /scratch/users/eila/encode_pseudobulks/chrombpnet_model"
   ]
  },
  {
   "cell_type": "code",
   "execution_count": 22,
   "id": "df692af2-5582-4f35-a382-e211820e4f0c",
   "metadata": {},
   "outputs": [],
   "source": [
    "# !ls /scratch/users/eila/encode_pseudobulks/chrombpnet_model/ENCSR396HHA\n"
   ]
  },
  {
   "cell_type": "code",
   "execution_count": 22,
   "id": "88878e8f-f9a1-4fc0-9a35-ba6509d34afd",
   "metadata": {},
   "outputs": [],
   "source": [
    "# !ls /scratch/users/eila/encode_pseudobulks/chrombpnet_model/ENCSR396HHA/negatives/fold_0\n",
    "# !squeue --user=$USER"
   ]
  },
  {
   "cell_type": "code",
   "execution_count": 11,
   "id": "28bbe918-c9d4-4acf-8ae3-30656b2757bf",
   "metadata": {},
   "outputs": [
    {
     "name": "stdout",
     "output_type": "stream",
     "text": [
      "3\n"
     ]
    }
   ],
   "source": [
    "# !scontrol show job 52237837\n",
    "!squeue --user=$USER --state=PENDING | wc -l"
   ]
  },
  {
   "cell_type": "code",
   "execution_count": 20,
   "id": "aa705a94-3b91-4185-84e9-4dc2c0ec124d",
   "metadata": {},
   "outputs": [
    {
     "name": "stdout",
     "output_type": "stream",
     "text": [
      "             JOBID PARTITION     NAME     USER ST       TIME  NODES NODELIST(REASON)\n"
     ]
    }
   ],
   "source": [
    "!squeue --user=$USER --state=RUNNING"
   ]
  },
  {
   "cell_type": "code",
   "execution_count": 14,
   "id": "8744c13e-7c7a-4451-bd05-354f853ab1bf",
   "metadata": {},
   "outputs": [
    {
     "name": "stdout",
     "output_type": "stream",
     "text": [
      "             JOBID PARTITION     NAME     USER ST       TIME  NODES NODELIST(REASON)\n",
      "54150540_[1001-135 owners,ak step5Neg     eila PD       0:00      1 (None)\n",
      "54150538_[1-1000%1 owners,ak step5Neg     eila PD       0:00      1 (None)\n"
     ]
    }
   ],
   "source": [
    "!squeue --user=$USER --state=PENDING"
   ]
  },
  {
   "cell_type": "code",
   "execution_count": 15,
   "id": "b66fe21a-a572-45c3-84be-ac0cd575ba75",
   "metadata": {},
   "outputs": [
    {
     "name": "stdout",
     "output_type": "stream",
     "text": [
      "1\n"
     ]
    }
   ],
   "source": [
    "!squeue --user=$USER --state=COMPLETED | wc -l"
   ]
  },
  {
   "cell_type": "code",
   "execution_count": 19,
   "id": "89f4c495-59c3-483d-bd4a-5255595af6fd",
   "metadata": {},
   "outputs": [
    {
     "name": "stdout",
     "output_type": "stream",
     "text": [
      "1\n"
     ]
    }
   ],
   "source": [
    "!squeue --user=$USER --state=RUNNING | wc -l"
   ]
  },
  {
   "cell_type": "code",
   "execution_count": 18,
   "id": "16662045-05db-45d5-b261-c686a54e9c15",
   "metadata": {},
   "outputs": [
    {
     "name": "stdout",
     "output_type": "stream",
     "text": [
      "eila\n"
     ]
    }
   ],
   "source": [
    "!echo $USER"
   ]
  },
  {
   "cell_type": "code",
   "execution_count": 22,
   "id": "067ee76b-968d-4ee2-88ca-3513ad26f0ee",
   "metadata": {},
   "outputs": [],
   "source": [
    "# !scontrol show job 52275013\n"
   ]
  },
  {
   "cell_type": "code",
   "execution_count": 23,
   "id": "6d03ac10-3c0b-431e-a223-fe6e187349c6",
   "metadata": {},
   "outputs": [],
   "source": [
    "# !squeue -u eila\n"
   ]
  },
  {
   "cell_type": "code",
   "execution_count": 24,
   "id": "434a92ae-78f4-41c3-ba51-339a8e5f67e9",
   "metadata": {},
   "outputs": [],
   "source": [
    "# !squeue --user=$USER --state=PENDING\n"
   ]
  },
  {
   "cell_type": "code",
   "execution_count": 25,
   "id": "dc61c75d-b775-4223-af6f-defd7f983e37",
   "metadata": {},
   "outputs": [],
   "source": [
    "# !squeue --user=$USER --state=RUNNING\n"
   ]
  },
  {
   "cell_type": "code",
   "execution_count": 26,
   "id": "baa40ad4-0838-4827-a1f1-3cc444586f44",
   "metadata": {},
   "outputs": [
    {
     "name": "stdout",
     "output_type": "stream",
     "text": [
      "             JOBID PARTITION     NAME     USER ST       TIME  NODES NODELIST(REASON)\n"
     ]
    }
   ],
   "source": [
    "# !scontrol show job | grep $USER\n",
    "!squeue -u eila --state=FAILED,PREEMPTED,TIMEOUT,PREEMPTED,NODE_FAIL,CANCELLED"
   ]
  },
  {
   "cell_type": "code",
   "execution_count": 27,
   "id": "242b570b-3b46-430e-ad7e-78a6525eb288",
   "metadata": {},
   "outputs": [],
   "source": [
    "# !squeue -u eila -o \"%.18i %.9P %.12j %.8u %.2t %.10M %.10l %.10Q %.19V %.19S\"\n"
   ]
  },
  {
   "cell_type": "code",
   "execution_count": 28,
   "id": "e80ccc0e-c081-467c-aabc-42bf30a60b0c",
   "metadata": {},
   "outputs": [
    {
     "name": "stdout",
     "output_type": "stream",
     "text": [
      "/oak/stanford/groups/akundaje/eila/git_tf_chromatin_atlas\n"
     ]
    }
   ],
   "source": [
    "!pwd"
   ]
  },
  {
   "cell_type": "code",
   "execution_count": 29,
   "id": "3b4a2914-5d5b-4ed4-ac74-04a6e1bf1e90",
   "metadata": {},
   "outputs": [],
   "source": [
    "# !squeue -u eila"
   ]
  },
  {
   "cell_type": "code",
   "execution_count": 30,
   "id": "14f8fd3b-ca0b-40e3-a809-406a511143c9",
   "metadata": {},
   "outputs": [],
   "source": [
    "# Remove logs\n",
    "# !find ./local_logs/ -name '*slurm*' -type f -mmin +600 -exec rm {} \\;\n"
   ]
  },
  {
   "cell_type": "code",
   "execution_count": 31,
   "id": "98ca2ef4-31fc-4394-b416-6f792c0593f2",
   "metadata": {},
   "outputs": [],
   "source": [
    "# !ls /scratch/users/eila/encode_pseudobulks_data/bam/ENCSR925AYP/ENCSR925AYP_sorted.bam "
   ]
  },
  {
   "cell_type": "code",
   "execution_count": 32,
   "id": "db55b4af-268a-4c93-88e7-fa4499dfa763",
   "metadata": {},
   "outputs": [],
   "source": [
    "# !ls /scratch/users/eila/encode_pseudobulks_data/ENCSR000NVR/peaks/ENCFF585MYS/ENCSR000NVR_ENCFF585MYS.bed.gz\n"
   ]
  },
  {
   "cell_type": "code",
   "execution_count": 33,
   "id": "87d6a660-5650-4575-afdc-cc2dd9b7a576",
   "metadata": {},
   "outputs": [],
   "source": [
    "# !ls /scratch/users/eila/encode_pseudobulks_data/bam/*/*_sorted.bam | wc -l"
   ]
  },
  {
   "cell_type": "code",
   "execution_count": 34,
   "id": "827fb4a3-a92f-446b-b8d8-440aa4c1e5be",
   "metadata": {},
   "outputs": [],
   "source": [
    "# !ls /scratch/users/eila/encode_pseudobulks_data/peaks/*/*/*.bed.gz | wc -l\n"
   ]
  },
  {
   "cell_type": "code",
   "execution_count": 35,
   "id": "66b50acb-ba88-459d-b774-c9519e3f8181",
   "metadata": {},
   "outputs": [],
   "source": [
    "# !ls /scratch/users/eila/encode_pseudobulks_data/bam/*/*_unsorted.bam | wc -l"
   ]
  },
  {
   "cell_type": "code",
   "execution_count": 36,
   "id": "71560da8-095b-41b8-8195-ead3aa01d217",
   "metadata": {},
   "outputs": [],
   "source": [
    "# !rm ./local_logs/slurm_step1_download_bams_err.combined.err"
   ]
  },
  {
   "cell_type": "code",
   "execution_count": 37,
   "id": "22921f00-13e6-4ed1-9a1d-3ca2e2974ab3",
   "metadata": {},
   "outputs": [],
   "source": [
    "# !rm ./local_logs/slurm_step4*"
   ]
  },
  {
   "cell_type": "code",
   "execution_count": 38,
   "id": "30f0c0fb-8d4b-486b-8d25-3499b3aaf70b",
   "metadata": {},
   "outputs": [],
   "source": [
    "# !ls"
   ]
  },
  {
   "cell_type": "code",
   "execution_count": 39,
   "id": "1b9a985c-602e-48b3-943a-84729883d656",
   "metadata": {},
   "outputs": [
    {
     "name": "stdout",
     "output_type": "stream",
     "text": [
      "/oak/stanford/groups/akundaje/eila/git_tf_chromatin_atlas\n"
     ]
    }
   ],
   "source": [
    "!pwd"
   ]
  },
  {
   "cell_type": "code",
   "execution_count": 40,
   "id": "0a76c129-168a-4cf0-9b61-4c149ca0cbd2",
   "metadata": {},
   "outputs": [],
   "source": [
    "# !ls -l ./local_logs/slurm_step5*"
   ]
  },
  {
   "cell_type": "code",
   "execution_count": 41,
   "id": "e2b06aed-ebe2-4e79-b4f8-ef2925e082d8",
   "metadata": {},
   "outputs": [],
   "source": [
    "# bias - given for the train\n",
    "# train - on one file. provides correlation metrics. we need to look at the motifs that modisco populates\n",
    "#         model. modisco on subset of the peaks- subset is random. evaludation folder - modisco and interpret on 30K areas\n",
    "# QC\n",
    "# interpret on subset of the peaks.\n"
   ]
  },
  {
   "cell_type": "code",
   "execution_count": 42,
   "id": "b7aaa213-c515-4c83-9baa-9e8919d4a164",
   "metadata": {},
   "outputs": [
    {
     "name": "stdout",
     "output_type": "stream",
     "text": [
      "/home/users/eila\n"
     ]
    }
   ],
   "source": [
    "!echo $HOME"
   ]
  },
  {
   "cell_type": "code",
   "execution_count": 43,
   "id": "cd4ba86a-4125-4fac-a6ef-d743ba4f362a",
   "metadata": {},
   "outputs": [],
   "source": [
    "# %%bash\n",
    "\n",
    "# # Define the base directories\n",
    "# SRC_BASE=\"/scratch/users/eila/encode_pseudobulks_data\"\n",
    "# DEST_BASE=\"/scratch/users/eila/encode_pseudobulks_data/bam\"\n",
    "\n",
    "# # Loop through all directories matching ENCSR* and move files\n",
    "# for DIR in ${SRC_BASE}/ENCSR*/bam; do\n",
    "#     # Extract the directory name after /ENCSR\n",
    "#     DIR_NAME=$(basename $(dirname \"$DIR\"))\n",
    "    \n",
    "#     # Define source and destination directories\n",
    "#     SRC_DIR=\"${SRC_BASE}/${DIR_NAME}/bam\"\n",
    "#     DEST_DIR=\"${DEST_BASE}/${DIR_NAME}\"\n",
    "    \n",
    "#     # Create destination directory if it doesn't exist\n",
    "#     mkdir -p \"$DEST_DIR\"\n",
    "    \n",
    "#     # Move files from source to destination\n",
    "#     mv \"$SRC_DIR\"/* \"$DEST_DIR\"/\n",
    "    \n",
    "#     echo \"Moved files from $SRC_DIR to $DEST_DIR\"\n",
    "# done\n"
   ]
  },
  {
   "cell_type": "code",
   "execution_count": 44,
   "id": "224f0409-6634-4be7-bba2-1303834e7842",
   "metadata": {},
   "outputs": [],
   "source": [
    " # scp -r eila@login.sherlock.stanford.edu:scratch/users/eila/encode_pseudobulks_model_training/human/ENCSR037JDN/ENCFF933KCP/fold_1_30000_20240912_182023/evaluation . \n",
    "\n",
    "\n",
    "# !rm ./local_logs/slurm_samools_err.combined.err\n",
    "# !rm ./local_logs/slurm_samools_out.combined.out"
   ]
  },
  {
   "cell_type": "code",
   "execution_count": 45,
   "id": "48b3b009-58c0-4109-adda-547b1e2e757c",
   "metadata": {},
   "outputs": [],
   "source": [
    "# !chmod +x samtools_merge.sh\n",
    "# !sbatch --verbose samtools_merge.sh\n",
    "# !ls"
   ]
  },
  {
   "cell_type": "code",
   "execution_count": 8,
   "id": "749b634f-79b7-4bf0-ab17-4578f07e2ea6",
   "metadata": {},
   "outputs": [
    {
     "name": "stdout",
     "output_type": "stream",
     "text": [
      "             JOBID PARTITION     NAME     USER ST       TIME  NODES NODELIST(REASON)\n"
     ]
    }
   ],
   "source": [
    "!squeue --user=$USER"
   ]
  },
  {
   "cell_type": "code",
   "execution_count": 13,
   "id": "fc3613e0-e969-497b-af5c-1c9db1f396fd",
   "metadata": {},
   "outputs": [],
   "source": [
    "# !chmod +x samtools_sort.sh\n",
    "# !sbatch --verbose samtools_sort.sh\n",
    "# !ls"
   ]
  },
  {
   "cell_type": "code",
   "execution_count": 21,
   "id": "0e4fb689-2f5a-4755-b656-85324decc427",
   "metadata": {},
   "outputs": [],
   "source": [
    "# !squeue --user=$USER"
   ]
  },
  {
   "cell_type": "code",
   "execution_count": 44,
   "id": "92c96cdd-db77-4776-bc11-9875c58d1d91",
   "metadata": {},
   "outputs": [],
   "source": [
    "# while true; do ls -lt; sleep 10; done"
   ]
  },
  {
   "cell_type": "code",
   "execution_count": 45,
   "id": "8bf6f633-3771-4b3b-898b-7764d367ebc1",
   "metadata": {},
   "outputs": [],
   "source": [
    "# !chmod +x 03_samtools_index.sh\n",
    "# !sbatch --verbose 03_samtools_index.sh\n"
   ]
  },
  {
   "cell_type": "code",
   "execution_count": 46,
   "id": "01ad4e7f-ccfe-45a7-a116-171cf39472ed",
   "metadata": {},
   "outputs": [],
   "source": [
    "# !ls\n",
    "# !chmod +x 04_chrombpnet_pipeline.sh\n",
    "# !chmod +x 04_chrombpnet_pipeline-inputs.sh\n",
    "# !chmod +x Step5-2_Debug_chrombpnet_pipeline.sh\n",
    "# !sbatch --verbose 04_chrombpnet_pipeline.sh"
   ]
  },
  {
   "cell_type": "code",
   "execution_count": 144,
   "id": "1e237257-c908-464f-beda-c9d3e4518d26",
   "metadata": {},
   "outputs": [],
   "source": [
    "# %%bash\n",
    "# GPUS=1\n",
    "\n",
    "# AVAILABLE_GPUS=$(sinfo -p akundaje,owners --format=\"%G\" | grep -o '[0-9]*' | head -n 1)\n",
    "# echo $AVAILABLE_GPUS\n",
    "# # Check if GPUs are available on Sherlock\n",
    "# if [ \"$AVAILABLE_GPUS\" -ge \"$GPUS\" ]; then\n",
    "#     echo \"Submitting with GPU resources\"\n",
    "#     # sbatch --gres=gpu:${GPUS} 04_chrombpnet_pipeline.sh\n",
    "#     # sbatch --gres=gpu:${GPUS} 04_chrombpnet_pipeline-inputs.sh\n",
    "#     # sbatch --gres=gpu:${GPUS} Step5-2_Debug_chrombpnet_pipeline.sh\n",
    "#     # sbath --gres=gpu:${GPUS} step6-2-chrombpnet-pipelline.sh \n",
    "# else\n",
    "#     echo \"No GPU available, submitting with 64 CPUs\"\n",
    "#     # sbatch --cpus-per-task=64 04_chrombpnet_pipeline.sh\n",
    "#     # sbatch --cpus-per-task=64 04_chrombpnet_pipeline-inputs.sh\n",
    "#     # sbatch --cpus-per-task=64 Step5-2_Debug_chrombpnet_pipeline.sh\n",
    "#     # sbath --cpus-per-task=64 step6-2-chrombpnet-pipelline.sh \n",
    "# fi"
   ]
  },
  {
   "cell_type": "code",
   "execution_count": 48,
   "id": "63e910d3-15d3-49a1-be52-526fd4b6b8a2",
   "metadata": {},
   "outputs": [],
   "source": [
    " # CPU exeuction\n",
    "\n",
    "# !sbatch --cpus-per-task=64 04_chrombpnet_pipeline.sh\n",
    "# !sbatch 01_utils_rsync.sh\n"
   ]
  },
  {
   "cell_type": "code",
   "execution_count": 49,
   "id": "fcc7cef1-b0cd-4ef6-9e38-8305ae67c0ec",
   "metadata": {},
   "outputs": [],
   "source": [
    "# !sinfo -p akundaje,owners --format=\"%G\""
   ]
  },
  {
   "cell_type": "code",
   "execution_count": 50,
   "id": "2eae6f71-7327-4511-8193-08a2dd9a03ea",
   "metadata": {},
   "outputs": [
    {
     "name": "stdout",
     "output_type": "stream",
     "text": [
      "3\n"
     ]
    }
   ],
   "source": [
    "!sinfo -p akundaje,owners --format=\"%G\" | grep -o '[0-9]*' | head -n 1"
   ]
  },
  {
   "cell_type": "code",
   "execution_count": 51,
   "id": "573a25c2-bc18-4cab-9943-bacdd4a57402",
   "metadata": {},
   "outputs": [],
   "source": [
    "# !scontrol update jobid=53289110 nice=0\n"
   ]
  },
  {
   "cell_type": "code",
   "execution_count": 52,
   "id": "6e39c2d2-056a-441b-8669-1403466e4775",
   "metadata": {},
   "outputs": [
    {
     "name": "stdout",
     "output_type": "stream",
     "text": [
      "             JOBID      USER ST TIME_LIMIT PRIORI                 NAME REASON\n",
      "        53497421_1      eila  R 2-00:00:00 0.0002 step6-2-train-chromb   None\n",
      "    53502124_[1%1]      eila PD      20:00 0.0000 step4-2-filter-peaks Priori\n"
     ]
    }
   ],
   "source": [
    "!squeue -u $USER -o \"%.18i %.9u %.2t %.10l %.6p %.20j %.6r\"\n"
   ]
  },
  {
   "cell_type": "code",
   "execution_count": 53,
   "id": "c5a6a917-7fae-4d36-b036-29b8fa2dd0a6",
   "metadata": {},
   "outputs": [
    {
     "name": "stdout",
     "output_type": "stream",
     "text": [
      "             JOBID      USER ST TIME_LIMIT PRIORI                 NAME REASON\n",
      "        53497421_1      eila  R 2-00:00:00 0.0002 step6-2-train-chromb   None\n",
      "    53502124_[1%1]      eila PD      20:00 0.0000 step4-2-filter-peaks Priori\n"
     ]
    }
   ],
   "source": [
    "!squeue -o \"%.18i %.9u %.2t %.10l %.6p %.20j %.6r\" -u $USER\n"
   ]
  },
  {
   "cell_type": "code",
   "execution_count": 54,
   "id": "a710fd9b-e79a-4e20-815d-61022695446f",
   "metadata": {},
   "outputs": [
    {
     "name": "stdout",
     "output_type": "stream",
     "text": [
      "             JOBID PARTITION     NAME     USER ST       TIME  NODES NODELIST(REASON)\n",
      "        53497421_1  akundaje step6-2-     eila  R    1:53:18      1 sh02-12n11\n",
      "    53502124_[1%1] owners,ak step4-2-     eila PD       0:00      1 (Priority)\n"
     ]
    }
   ],
   "source": [
    "!squeue --user=$USER "
   ]
  },
  {
   "cell_type": "code",
   "execution_count": 55,
   "id": "0297edda-61c5-4b6a-a13e-7a9a76c54602",
   "metadata": {},
   "outputs": [
    {
     "name": "stdout",
     "output_type": "stream",
     "text": [
      "             JOBID PARTITION     NAME     USER ST       TIME  NODES NODELIST(REASON)\n",
      "        53497421_1  akundaje step6-2-     eila  R    1:53:18      1 sh02-12n11\n",
      "    53502124_[1%1] owners,ak step4-2-     eila PD       0:00      1 (Priority)\n"
     ]
    }
   ],
   "source": [
    "!squeue --user=$USER"
   ]
  },
  {
   "cell_type": "code",
   "execution_count": 56,
   "id": "c3d474e9-7c68-4760-a30f-e71513482870",
   "metadata": {},
   "outputs": [
    {
     "name": "stdout",
     "output_type": "stream",
     "text": [
      "     JOBID       NAME    STATE MIN_MEMOR       CPUS NODELIST(REASON)   NODELIST  TIME_LEFT\n",
      "53497421_1 step6-2-tr  RUNNING       64G          1 sh02-12n11 sh02-12n11 1-22:06:26\n",
      "53502124_[ step4-2-fi  PENDING        2G          2 (Priority)                 20:00\n"
     ]
    }
   ],
   "source": [
    "!squeue --user=$USER --format=\"%.10i %.10j %.8T %.9m %.10C %.10R %.10N %.10L\""
   ]
  },
  {
   "cell_type": "code",
   "execution_count": 57,
   "id": "d47175d9-469f-4b2f-a2a6-81b02135beb5",
   "metadata": {},
   "outputs": [
    {
     "name": "stdout",
     "output_type": "stream",
     "text": [
      "             JOBID                                               NAME    STATE       TIME PARTI NODELIST(REASON)\n",
      "        53497421_1                           step6-2-train-chrombpnet  RUNNING    1:53:34 akund       sh02-12n11\n",
      "    53502124_[1%1]               step4-2-filter-peaks-by-blacklist.sh  PENDING       0:00 owner       (Priority)\n"
     ]
    }
   ],
   "source": [
    "!squeue --user=$USER --format=\"%.18i %.50j %.8T %.10M %.5P %.16R\"\n"
   ]
  },
  {
   "cell_type": "code",
   "execution_count": 58,
   "id": "b3e66e38-9bed-4358-bc7a-ffb7bdce57fa",
   "metadata": {},
   "outputs": [],
   "source": [
    "# !scancel 53305606"
   ]
  },
  {
   "cell_type": "code",
   "execution_count": 2,
   "id": "61994866-7f84-4ba7-8ed8-3dd3ca5b0e75",
   "metadata": {},
   "outputs": [
    {
     "name": "stdout",
     "output_type": "stream",
     "text": [
      "Fri Sep 27 13:00:37 2024\n",
      "             JOBID PARTITION     NAME     USER    STATE       TIME TIME_LIMI  NODES NODELIST(REASON)\n",
      "        53508298_1  akundaje 52allval     eila  RUNNING 1-18:32:35 2-00:00:00      1 sh02-02n32\n",
      "        53529465_1  akundaje  62epoch     eila  RUNNING 1-03:46:20 2-00:00:00      1 sh03-16n24\n"
     ]
    }
   ],
   "source": [
    "!squeue --user=$USER --long\n",
    "\n"
   ]
  },
  {
   "cell_type": "code",
   "execution_count": 6,
   "id": "7d576901-eda8-474f-8f99-01adb257a39d",
   "metadata": {},
   "outputs": [
    {
     "name": "stdout",
     "output_type": "stream",
     "text": [
      "     JOBID       NAME    STATE MIN_MEMOR       CPUS\n",
      "53973427_[ step62.bpn  PENDING       64G          1\n"
     ]
    }
   ],
   "source": [
    "!squeue --user=$USER --format=\"%.10i %.10j %.8T %.9m %.10C\"\n",
    "\n",
    "\n"
   ]
  },
  {
   "cell_type": "code",
   "execution_count": 1,
   "id": "15c7a3a7-69b7-4be4-836d-2aadfd519395",
   "metadata": {},
   "outputs": [
    {
     "name": "stdout",
     "output_type": "stream",
     "text": [
      "     JOBID       NAME    STATE    NODES NODELIST(REASON)\n"
     ]
    }
   ],
   "source": [
    "!squeue --user=$USER --format=\"%.10i %.10j %.8T %.8D %.16R\"\n",
    "\n",
    "\n"
   ]
  },
  {
   "cell_type": "code",
   "execution_count": 57,
   "id": "300fa490-a509-4c6a-bdd6-5c2d54c68d27",
   "metadata": {},
   "outputs": [],
   "source": [
    "# !ls ./chrombpnet_tutorial/data/splits"
   ]
  },
  {
   "cell_type": "code",
   "execution_count": 58,
   "id": "7cf34f55-92e3-496f-bceb-fead7c5b6f9f",
   "metadata": {},
   "outputs": [],
   "source": [
    "# !ls ./chrombpnet_tutorial/data/downloads"
   ]
  },
  {
   "cell_type": "code",
   "execution_count": 59,
   "id": "d73aa1f7-d281-4cda-b548-cb195d7fc941",
   "metadata": {},
   "outputs": [],
   "source": [
    "# !ls ./chrombpnet_tutorial/bias_model"
   ]
  },
  {
   "cell_type": "code",
   "execution_count": 60,
   "id": "7477a740-ffb5-4c13-9286-071f68c33dc3",
   "metadata": {},
   "outputs": [],
   "source": [
    "# !ls ./chrombpnet_tutorial/data"
   ]
  },
  {
   "cell_type": "code",
   "execution_count": 143,
   "id": "6aad875d-acdb-47dc-8050-c24b3af7adbe",
   "metadata": {},
   "outputs": [],
   "source": [
    "!rm ./local_logs/slurm.52allval.combined*"
   ]
  },
  {
   "cell_type": "code",
   "execution_count": null,
   "id": "c5b0ca0c-106b-4e02-9282-2d02006e0d56",
   "metadata": {},
   "outputs": [],
   "source": []
  },
  {
   "cell_type": "code",
   "execution_count": 283,
   "id": "43baaa45-fb03-4ef7-a749-ebbefd235d62",
   "metadata": {},
   "outputs": [],
   "source": [
    "# !rm ./local_logs/slurm_tr_epoch.combined*"
   ]
  },
  {
   "cell_type": "code",
   "execution_count": 25,
   "id": "03594938-0df9-419b-a492-e34e94737de7",
   "metadata": {},
   "outputs": [],
   "source": [
    "# !rm ./local_logs/slurm.gpu_ENCSR037JDN.*"
   ]
  },
  {
   "cell_type": "code",
   "execution_count": 2,
   "id": "76fdc4bc-96f2-4a8e-b81f-879929b397d1",
   "metadata": {},
   "outputs": [
    {
     "name": "stdout",
     "output_type": "stream",
     "text": [
      "/oak/stanford/groups/akundaje/eila/git_tf_chromatin_atlas\n"
     ]
    }
   ],
   "source": [
    "!pwd"
   ]
  },
  {
   "cell_type": "code",
   "execution_count": 49,
   "id": "6797a41b-5a82-4086-a9f5-076246f2315e",
   "metadata": {},
   "outputs": [
    {
     "name": "stdout",
     "output_type": "stream",
     "text": [
      "ID1: ENCSR449JMK\n",
      "ID2: ENCFF672JNY\n"
     ]
    }
   ],
   "source": [
    "\n",
    "# %%bash\n",
    "\n",
    "# path=\"/scratch/groups/akundaje/eila/encode_pseudobulks/encode_pseudobulks_data/peaks/ENCSR449JMK/ENCFF672JNY/ENCSR449JMK_ENCFF672JNY.bed.gz\"\n",
    "\n",
    "# ID1=$(echo \"$path\" | awk -F'/' '{print $(NF-2)}')  # Extracts the second last directory name\n",
    "# ID2=$(echo \"$path\" | awk -F'/' '{print $(NF-1)}')  # Extracts the last directory name\n",
    "\n",
    "# echo \"ID1: $ID1\"\n",
    "# echo \"ID2: $ID2\"\n"
   ]
  },
  {
   "cell_type": "code",
   "execution_count": 4,
   "id": "4b64ed53-9141-4669-b296-6f18469d75f8",
   "metadata": {},
   "outputs": [],
   "source": [
    "# pip show biopython\n"
   ]
  },
  {
   "cell_type": "code",
   "execution_count": 68,
   "id": "c0ef2702-bbbe-4a7c-9a97-af561fa0f5f9",
   "metadata": {},
   "outputs": [
    {
     "name": "stdout",
     "output_type": "stream",
     "text": [
      "copy_logs_from_local_machine.txt  copy_sorted_bams.sh\n"
     ]
    }
   ],
   "source": [
    "!ls copy*"
   ]
  },
  {
   "cell_type": "code",
   "execution_count": 73,
   "id": "91b9d441-4a12-4362-b401-9ac9c959dd44",
   "metadata": {},
   "outputs": [],
   "source": [
    "# !chmod +x copy_sorted_bams.sh"
   ]
  },
  {
   "cell_type": "code",
   "execution_count": 72,
   "id": "4be539ff-39f4-4443-a7f5-e6d4fe901ae5",
   "metadata": {},
   "outputs": [],
   "source": [
    "# !./copy_sorted_bams.sh"
   ]
  },
  {
   "cell_type": "code",
   "execution_count": 53,
   "id": "6eba613f-0c06-4671-a0cb-a13b6191ec8f",
   "metadata": {},
   "outputs": [
    {
     "name": "stdout",
     "output_type": "stream",
     "text": [
      "ls: cannot access /scratch/groups/akundaje/eila/encode_pseudobulks/encode_pseudobulks_negative/*/*/*/fold_0/*_nonpeaks.bed: No such file or directory\n"
     ]
    }
   ],
   "source": [
    "!ls /scratch/groups/akundaje/eila/encode_pseudobulks/encode_pseudobulks_negative/*/*/*/fold_0/*_nonpeaks.bed\n",
    "\n",
    "\n"
   ]
  },
  {
   "cell_type": "code",
   "execution_count": 49,
   "id": "df293963-85d2-4f7e-a96a-044796bb374f",
   "metadata": {},
   "outputs": [],
   "source": [
    "\n",
    "\n",
    "# !rm ./local_logs/slurm.step5NegativesNoPeaksBackground.combined.err\n",
    "# \"Debug: Nonpeaks negatives file"
   ]
  },
  {
   "cell_type": "code",
   "execution_count": 25,
   "id": "a46ffaee-a578-439a-92ee-8985e75aed0a",
   "metadata": {},
   "outputs": [],
   "source": [
    "# !rm ./output_example/evaluation/modisco_profile/trimmed_logos/out*"
   ]
  },
  {
   "cell_type": "code",
   "execution_count": null,
   "id": "7224d98e-a3ef-4ea3-b356-a0dd93503bce",
   "metadata": {},
   "outputs": [],
   "source": []
  }
 ],
 "metadata": {
  "kernelspec": {
   "display_name": "Python 3 (ipykernel)",
   "language": "python",
   "name": "python3"
  },
  "language_info": {
   "codemirror_mode": {
    "name": "ipython",
    "version": 3
   },
   "file_extension": ".py",
   "mimetype": "text/x-python",
   "name": "python",
   "nbconvert_exporter": "python",
   "pygments_lexer": "ipython3",
   "version": "3.12.4"
  }
 },
 "nbformat": 4,
 "nbformat_minor": 5
}
