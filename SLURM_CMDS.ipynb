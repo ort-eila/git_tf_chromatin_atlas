{
 "cells": [
  {
   "cell_type": "code",
   "execution_count": 1,
   "id": "de058c7e-57db-4c6a-814b-8b4f324a61d1",
   "metadata": {},
   "outputs": [],
   "source": [
    "# for all execution\n",
    "!mkdir -p local_logs"
   ]
  },
  {
   "cell_type": "code",
   "execution_count": 16,
   "id": "03f0a817-de06-4932-8013-9071f3131da6",
   "metadata": {},
   "outputs": [],
   "source": [
    "from dotenv import load_dotenv\n",
    "import os\n",
    "\n",
    "# Load environment variables from the .env file\n",
    "load_dotenv()\n",
    "\n",
    "# Access the variables\n",
    "ACCESS_KEY = os.getenv('ACCESS_KEY')\n",
    "SECRET_KEY = os.getenv('SECRET_KEY')\n"
   ]
  },
  {
   "cell_type": "code",
   "execution_count": 17,
   "id": "90fae31a-71f4-4179-8a39-ac8d80d85b5f",
   "metadata": {},
   "outputs": [
    {
     "name": "stdout",
     "output_type": "stream",
     "text": [
      "      User   Def Acct     Admin    Cluster    Account  Partition     Share   Priority MaxJobs MaxNodes  MaxCPUs MaxSubmit     MaxWall  MaxCPUMins                  QOS   Def QOS \n",
      "---------- ---------- --------- ---------- ---------- ---------- --------- ---------- ------- -------- -------- --------- ----------- ----------- -------------------- --------- \n",
      "      eila   akundaje      None   sherlock   akundaje                  100                                                                               high_p,normal    normal \n"
     ]
    }
   ],
   "source": [
    "!sacctmgr show user $USER withassoc\n",
    "\n"
   ]
  },
  {
   "cell_type": "code",
   "execution_count": 6,
   "id": "805ee7a0-db82-4cdb-9819-f9ea1793a9b6",
   "metadata": {},
   "outputs": [],
   "source": [
    "# !echo $ACCESS_KEY\n",
    "# !echo $SECRET_KEY"
   ]
  },
  {
   "cell_type": "code",
   "execution_count": 7,
   "id": "62f6a470-3cb6-4e08-9b9d-0e04039aef6f",
   "metadata": {},
   "outputs": [],
   "source": [
    "# check the jobs:"
   ]
  },
  {
   "cell_type": "code",
   "execution_count": 1,
   "id": "09e462e4-3727-496d-ad12-07ab54ce6bf5",
   "metadata": {},
   "outputs": [
    {
     "name": "stdout",
     "output_type": "stream",
     "text": [
      "             JOBID PARTITION     NAME     USER ST       TIME  NODES NODELIST(REASON)\n"
     ]
    }
   ],
   "source": [
    "!squeue -u eila\n"
   ]
  },
  {
   "cell_type": "code",
   "execution_count": 9,
   "id": "45cd79d9-e485-4ae9-ae12-b2ba1165d2a1",
   "metadata": {},
   "outputs": [],
   "source": [
    "# !squeue -u eila"
   ]
  },
  {
   "cell_type": "code",
   "execution_count": 10,
   "id": "cded3088-39ff-433a-8cda-af7081899c67",
   "metadata": {},
   "outputs": [],
   "source": [
    "# !squeue -u eila"
   ]
  },
  {
   "cell_type": "code",
   "execution_count": 11,
   "id": "cac6e64b-8398-4599-afa0-4874943fc96e",
   "metadata": {},
   "outputs": [],
   "source": [
    "# !scancel -u eila"
   ]
  },
  {
   "cell_type": "code",
   "execution_count": 12,
   "id": "8740142d-272c-4b01-a6af-f76562da4d50",
   "metadata": {},
   "outputs": [],
   "source": [
    "# !squeue -u eila --name=step1-do\n"
   ]
  },
  {
   "cell_type": "code",
   "execution_count": 13,
   "id": "ec5506ee-1145-47a3-a9ac-7f12ecf41da1",
   "metadata": {},
   "outputs": [],
   "source": [
    "# !chmod +x execute_sbatch_arrays_on_sherlock.py \n",
    "\n",
    "# eila_in_download_bams.txt: The input file name.\n",
    "# step1-download-bams.sh: The SLURM script name.\n",
    "# 1: entries_per_job (number of entries per job). - how much is each job needs\n",
    "# 1: max_concurrent_tasks (maximum number of concurrent tasks). - 500 for stanford\n",
    "\n",
    "\n",
    "# example for input of 1300 lines:\n",
    "# ./execute_sbatch_arrays_on_sherlock.sh eila_in_download_bams.txt step1-download-bams.sh 500 500\n",
    "# Breakdown:\n",
    "# eila_in_download_bams.txt: The input file with 1200 lines.\n",
    "# step1-download-bams.sh: The SLURM script to run.\n",
    "# 500: Number of lines per job array (tasks per array).\n",
    "# 500: Maximum number of concurrent tasks per array."
   ]
  },
  {
   "cell_type": "code",
   "execution_count": 3,
   "id": "af8a9b54-759d-4bac-931b-850fca1c5a12",
   "metadata": {},
   "outputs": [],
   "source": [
    "# !ls\n",
    "# !pwd"
   ]
  },
  {
   "cell_type": "code",
   "execution_count": 4,
   "id": "a7e03c65-a985-47f7-9788-7107fffd9270",
   "metadata": {},
   "outputs": [],
   "source": [
    "# !ls /oak/stanford/groups/akundaje/eila/git_tf_chromatin_atlas/steps_inputs/step1/eila_encids_with_bam_urls-ENCSR164EBP.txt"
   ]
  },
  {
   "cell_type": "code",
   "execution_count": 28,
   "id": "01be7f93-162d-4528-9a47-872d8ad33da7",
   "metadata": {},
   "outputs": [
    {
     "name": "stdout",
     "output_type": "stream",
     "text": [
      "./execute_sbatch_arrays_on_sherlock.sh: line 22: /oak/stanford/groups/akundaje/eila/git_tf_chromatin_atlas/steps_inputs/step1/eila_encids_with_bam_urls-ENCSR164EBP.txt: No such file or directory\n",
      "Total entries in input file: \n",
      "Total number of job arrays to be submitted: 0\n"
     ]
    }
   ],
   "source": [
    "# step 1\n",
    "from dotenv import load_dotenv\n",
    "import os\n",
    "\n",
    "# Load environment variables from the .env file\n",
    "load_dotenv()\n",
    "\n",
    "# Access the variables\n",
    "ACCESS_KEY = os.getenv('ACCESS_KEY')\n",
    "SECRET_KEY = os.getenv('SECRET_KEY')\n",
    "\n",
    "# !echo $ACCESS_KEY\n",
    "# !echo $SECRET_KEY\n",
    "\n",
    "# !rm ./local_logs/slurm_step1_download_bams*\n",
    "# !scancel -u eila\n",
    "# !./execute_sbatch_arrays_on_sherlock.sh /oak/stanford/groups/akundaje/eila/git_tf_chromatin_atlas/steps_inputs/step1/eila_encids_with_bam_urls.txt step1-download-bams.sh 1000 1000\n",
    "# !./execute_sbatch_arrays_on_sherlock.sh /oak/stanford/groups/akundaje/eila/git_tf_chromatin_atlas/steps_inputs/step1/eila_encids_with_bam_urls-debug.txt step1-download-bams.sh 2 2\n",
    "\n",
    "\n",
    "!./execute_sbatch_arrays_on_sherlock.sh /oak/stanford/groups/akundaje/eila/git_tf_chromatin_atlas/steps_inputs/step1/eila_encids_with_bam_urls-ENCSR164EBP.txt step1-download-bams.sh 2 2\n",
    "\n",
    "\n"
   ]
  },
  {
   "cell_type": "code",
   "execution_count": 86,
   "id": "851e4601-ac39-432d-b371-039e6a9e7e0a",
   "metadata": {},
   "outputs": [],
   "source": [
    "# !ls $GROUP_SCRATCH/$USER/encode_pseudobulks/encode_pseudobulks_data/bams/ENCSR*/*_sorted.bam | head "
   ]
  },
  {
   "cell_type": "code",
   "execution_count": 87,
   "id": "b6729ae4-bc32-49c1-bc80-18d5fd34ffb9",
   "metadata": {},
   "outputs": [],
   "source": [
    "# !ls /scratch/users/eila/encode_pseudobulks_data/bam/ENCSR*/*unsorted.bam > /oak/stanford/groups/akundaje/eila/git_tf_chromatin_atlas/steps_inputs/step2/bam_files_list.txt\n",
    "\n"
   ]
  },
  {
   "cell_type": "code",
   "execution_count": 2,
   "id": "894b8758-904b-4395-a3b3-93ca4de41238",
   "metadata": {},
   "outputs": [],
   "source": [
    "# #step 2 - samtools sort and index\n",
    "# !ls /scratch/users/eila/encode_pseudobulks_data/bam/ENCSR*/*unsorted.bam > /oak/stanford/groups/akundaje/eila/git_tf_chromatin_atlas/steps_inputs/step2/bam_files_list.txt\n",
    "\n",
    "# !./execute_sbatch_arrays_on_sherlock.sh /oak/stanford/groups/akundaje/eila/git_tf_chromatin_atlas/steps_inputs/step2/bam_files_list.txt step2-samtool-sort-index.sh 1000 1000\n",
    "\n"
   ]
  },
  {
   "cell_type": "code",
   "execution_count": 20,
   "id": "05858e98-39db-411c-b80e-90c48e053da9",
   "metadata": {},
   "outputs": [],
   "source": [
    "# !ls ./steps_inputs/"
   ]
  },
  {
   "cell_type": "code",
   "execution_count": 44,
   "id": "2944e9df-0825-4d7a-b3d7-68384db3afe4",
   "metadata": {},
   "outputs": [
    {
     "name": "stdout",
     "output_type": "stream",
     "text": [
      "Total entries in input file: 1354\n",
      "Total number of job arrays to be submitted: 2\n",
      "Submitting job array from 1 to 1000 with a maximum of 1000 concurrent tasks.\n",
      "sbatch: defined options\n",
      "sbatch: -------------------- --------------------\n",
      "sbatch: array               : 1-1000%1000\n",
      "sbatch: cpus-per-task       : 2\n",
      "sbatch: error               : /oak/stanford/groups/akundaje/eila/git_tf_chromatin_atlas/local_logs/slurm_step3_peaks.err.combined.err\n",
      "sbatch: mail-type           : INVALID_DEPEND,BEGIN,END,FAIL,REQUEUE,STAGE_OUT\n",
      "sbatch: mail-user           : eila@stanford.edu\n",
      "sbatch: mem                 : 2G\n",
      "sbatch: ntasks              : 1\n",
      "sbatch: output              : /oak/stanford/groups/akundaje/eila/git_tf_chromatin_atlas/local_logs/slurm_step3_peaks.out.combined.out\n",
      "sbatch: partition           : akundaje,owners\n",
      "sbatch: time                : 00:20:00\n",
      "sbatch: verbose             : 1\n",
      "sbatch: -------------------- --------------------\n",
      "sbatch: end of defined options\n",
      "Submitted batch job 53981926\n",
      "Submitting job array from 1001 to 1354 with a maximum of 1000 concurrent tasks.\n",
      "sbatch: defined options\n",
      "sbatch: -------------------- --------------------\n",
      "sbatch: array               : 1001-1354%1000\n",
      "sbatch: cpus-per-task       : 2\n",
      "sbatch: error               : /oak/stanford/groups/akundaje/eila/git_tf_chromatin_atlas/local_logs/slurm_step3_peaks.err.combined.err\n",
      "sbatch: mail-type           : INVALID_DEPEND,BEGIN,END,FAIL,REQUEUE,STAGE_OUT\n",
      "sbatch: mail-user           : eila@stanford.edu\n",
      "sbatch: mem                 : 2G\n",
      "sbatch: ntasks              : 1\n",
      "sbatch: output              : /oak/stanford/groups/akundaje/eila/git_tf_chromatin_atlas/local_logs/slurm_step3_peaks.out.combined.out\n",
      "sbatch: partition           : akundaje,owners\n",
      "sbatch: time                : 00:20:00\n",
      "sbatch: verbose             : 1\n",
      "sbatch: -------------------- --------------------\n",
      "sbatch: end of defined options\n",
      "Submitted batch job 53981927\n"
     ]
    }
   ],
   "source": [
    "#step 3 - peaks - independant of BAMS:\n",
    "from dotenv import load_dotenv\n",
    "import os\n",
    "\n",
    "# Load environment variables from the .env file\n",
    "load_dotenv()\n",
    "\n",
    "# Access the variables\n",
    "ACCESS_KEY = os.getenv('ACCESS_KEY')\n",
    "SECRET_KEY = os.getenv('SECRET_KEY')\n",
    "\n",
    "!rm ./local_logs/slurm_step3_peaks*\n",
    "!ACCESS_KEY={ACCESS_KEY} SECRET_KEY={SECRET_KEY} ./execute_sbatch_arrays_on_sherlock.sh ./steps_inputs/step3/eila_peaks_matched_to_experiments.txt step3-download-peaks.sh 1000 1000\n",
    "\n",
    "# !./execute_sbatch_arrays_on_sherlock.sh ./steps_inputs/step3/eila_peaks_matched_to_experiments.txt step3-download-peaks.sh 1000 1000\n",
    "\n",
    "# debug\n",
    "# !./execute_sbatch_arrays_on_sherlock.sh /oak/stanford/groups/akundaje/eila/git_tf_chromatin_atlas/steps_inputs/step3/eila_peaks_matched_to_experiments-debug.txt step3-download-peaks.sh 2 2\n"
   ]
  },
  {
   "cell_type": "code",
   "execution_count": 55,
   "id": "5655d171-defb-4847-82dc-c6315d84b9fd",
   "metadata": {},
   "outputs": [
    {
     "name": "stdout",
     "output_type": "stream",
     "text": [
      "             JOBID PARTITION     NAME     USER ST       TIME  NODES NODELIST(REASON)\n"
     ]
    }
   ],
   "source": [
    "!squeue --user=$USER"
   ]
  },
  {
   "cell_type": "code",
   "execution_count": 101,
   "id": "cc37c42e-ae0d-4a4b-85a2-c033b268d279",
   "metadata": {},
   "outputs": [
    {
     "name": "stdout",
     "output_type": "stream",
     "text": [
      "1354\n"
     ]
    }
   ],
   "source": [
    "ls /scratch/groups/akundaje/eila/encode_pseudobulks/encode_pseudobulks_data/peaks/ | wc -l"
   ]
  },
  {
   "cell_type": "code",
   "execution_count": 59,
   "id": "03a62b23-2eb9-4f09-891c-76b2443c7bbb",
   "metadata": {},
   "outputs": [],
   "source": [
    "# execute step 4-1 to create the input\n",
    "# !chmod +x step4-1-input-for-peaks-by-blacklist.py\n",
    "# !python step4-1-input-for-peaks-by-blacklist.py"
   ]
  },
  {
   "cell_type": "code",
   "execution_count": 60,
   "id": "fff95f84-af23-498b-8fa1-540eb48c121f",
   "metadata": {},
   "outputs": [
    {
     "name": "stdout",
     "output_type": "stream",
     "text": [
      "/scratch/groups/akundaje/eila/encode_pseudobulks/encode_pseudobulks_data/peaks/ENCSR449JMK/ENCFF672JNY/ENCSR449JMK_ENCFF672JNY.bed.gz human\n",
      "/scratch/groups/akundaje/eila/encode_pseudobulks/encode_pseudobulks_data/peaks/ENCSR926GYX/ENCFF650UCO/ENCSR926GYX_ENCFF650UCO.bed.gz human\n",
      "/scratch/groups/akundaje/eila/encode_pseudobulks/encode_pseudobulks_data/peaks/ENCSR863KXH/ENCFF200NJZ/ENCSR863KXH_ENCFF200NJZ.bed.gz human\n",
      "/scratch/groups/akundaje/eila/encode_pseudobulks/encode_pseudobulks_data/peaks/ENCSR458RWW/ENCFF680GAC/ENCSR458RWW_ENCFF680GAC.bed.gz mouse\n",
      "/scratch/groups/akundaje/eila/encode_pseudobulks/encode_pseudobulks_data/peaks/ENCSR552IFM/ENCFF207BWB/ENCSR552IFM_ENCFF207BWB.bed.gz mouse\n"
     ]
    }
   ],
   "source": [
    "# ! rm ./local_logs/slurm.al*\n",
    "# !cat ./steps_inputs/step4/peaks_with_species-debug.txt\n",
    "!head -5 ./steps_inputs/step4/peaks_with_species.txt"
   ]
  },
  {
   "cell_type": "code",
   "execution_count": 80,
   "id": "a19489f9-429d-4136-a278-6fe1353f8212",
   "metadata": {},
   "outputs": [
    {
     "name": "stdout",
     "output_type": "stream",
     "text": [
      "Total entries in input file: 1354\n",
      "Total number of job arrays to be submitted: 2\n",
      "Submitting job array from 1 to 1000 with a maximum of 1000 concurrent tasks.\n",
      "sbatch: defined options\n",
      "sbatch: -------------------- --------------------\n",
      "sbatch: array               : 1-1000%1000\n",
      "sbatch: cpus-per-task       : 2\n",
      "sbatch: error               : /oak/stanford/groups/akundaje/eila/git_tf_chromatin_atlas/local_logs/slurm.step42.filterBackground.err.filter.log\n",
      "sbatch: mail-type           : INVALID_DEPEND,BEGIN,END,FAIL,REQUEUE,STAGE_OUT\n",
      "sbatch: mail-user           : eila@stanford.edu\n",
      "sbatch: mem                 : 2G\n",
      "sbatch: ntasks              : 1\n",
      "sbatch: output              : /oak/stanford/groups/akundaje/eila/git_tf_chromatin_atlas/local_logs/slurm.step42.filterBackground.out.filter.log\n",
      "sbatch: partition           : akundaje,owners\n",
      "sbatch: time                : 00:20:00\n",
      "sbatch: verbose             : 1\n",
      "sbatch: -------------------- --------------------\n",
      "sbatch: end of defined options\n",
      "Submitted batch job 53991058\n",
      "Submitting job array from 1001 to 1354 with a maximum of 1000 concurrent tasks.\n",
      "sbatch: defined options\n",
      "sbatch: -------------------- --------------------\n",
      "sbatch: array               : 1001-1354%1000\n",
      "sbatch: cpus-per-task       : 2\n",
      "sbatch: error               : /oak/stanford/groups/akundaje/eila/git_tf_chromatin_atlas/local_logs/slurm.step42.filterBackground.err.filter.log\n",
      "sbatch: mail-type           : INVALID_DEPEND,BEGIN,END,FAIL,REQUEUE,STAGE_OUT\n",
      "sbatch: mail-user           : eila@stanford.edu\n",
      "sbatch: mem                 : 2G\n",
      "sbatch: ntasks              : 1\n",
      "sbatch: output              : /oak/stanford/groups/akundaje/eila/git_tf_chromatin_atlas/local_logs/slurm.step42.filterBackground.out.filter.log\n",
      "sbatch: partition           : akundaje,owners\n",
      "sbatch: time                : 00:20:00\n",
      "sbatch: verbose             : 1\n",
      "sbatch: -------------------- --------------------\n",
      "sbatch: end of defined options\n",
      "Submitted batch job 53991059\n"
     ]
    }
   ],
   "source": [
    "# execute step 4-2\n",
    "# !chmod +x step4-2-filter-peaks-by-blacklist.sh\n",
    "!rm ./local_logs/slurm.step42*\n",
    "\n",
    "!./execute_sbatch_arrays_on_sherlock.sh ./steps_inputs/step4/peaks_with_species.txt step4-2-filter-peaks-by-blacklist.sh 1000 1000\n",
    "\n",
    "# debug\n",
    "# !./execute_sbatch_arrays_on_sherlock.sh ./steps_inputs/step4/peaks_with_species-debug.txt step4-2-filter-peaks-by-blacklist.sh 2 2\n"
   ]
  },
  {
   "cell_type": "code",
   "execution_count": 102,
   "id": "4d956aed-7afb-4f56-ab49-7de6b977788b",
   "metadata": {},
   "outputs": [
    {
     "name": "stdout",
     "output_type": "stream",
     "text": [
      "1354\n"
     ]
    }
   ],
   "source": [
    "ls /scratch/groups/akundaje/eila/encode_pseudobulks/encode_pseudobulks_data/peaks_blacklist_filter/  | wc -l "
   ]
  },
  {
   "cell_type": "code",
   "execution_count": 104,
   "id": "6f458808-a05e-4ee6-b036-398f45667f72",
   "metadata": {},
   "outputs": [],
   "source": [
    "# !squeue --user=$USER "
   ]
  },
  {
   "cell_type": "code",
   "execution_count": 74,
   "id": "88b7d062-f001-41e7-8918-8b600d1f128c",
   "metadata": {},
   "outputs": [
    {
     "name": "stdout",
     "output_type": "stream",
     "text": [
      "base_path is /scratch/groups/akundaje/eila/encode_pseudobulks/encode_pseudobulks_data/peaks_blacklist_filter\n",
      "Output saved to ./steps_inputs/step5/peaks_filtered_by_blacklist_merged_with_species_output.txt\n"
     ]
    }
   ],
   "source": [
    "#preperation for step 5\n",
    "import os\n",
    "import pandas as pd\n",
    "import glob\n",
    "\n",
    "# Define the path based on your environment\n",
    "group_scratch = os.getenv('GROUP_SCRATCH')\n",
    "user = os.getenv('USER')\n",
    "base_path = os.path.join(group_scratch, user, 'encode_pseudobulks', 'encode_pseudobulks_data', 'peaks_blacklist_filter')\n",
    "print(f\"base_path is {base_path}\")\n",
    "\n",
    "# Read the file with sample data\n",
    "data_file = './steps_inputs/encids_matched_to_species.txt'  # Ensure this path is correct\n",
    "df = pd.read_csv(data_file, sep='\\t', header=None, names=['folder_name', 'species'])\n",
    "\n",
    "# Create a list to hold output rows\n",
    "output_rows = []\n",
    "\n",
    "# Iterate through each folder name in the DataFrame\n",
    "for _, row in df.iterrows():\n",
    "    folder = row['folder_name']\n",
    "    species = row['species']\n",
    "    \n",
    "    # Use glob to find all relevant .bed.gz files in the specified path\n",
    "    search_pattern = os.path.join(base_path, folder, '*', '*_peaks_no_blacklist.bed.gz')\n",
    "    files = glob.glob(search_pattern)\n",
    "    \n",
    "    # Add an entry for each found file\n",
    "    for file in files:\n",
    "        output_rows.append([folder, species, file])\n",
    "\n",
    "# Convert the output list to a DataFrame\n",
    "output_df = pd.DataFrame(output_rows, columns=['folder_name', 'species', 'file_path'])\n",
    "\n",
    "# Ensure output directory exists\n",
    "output_dir = './steps_inputs/step5/'\n",
    "os.makedirs(output_dir, exist_ok=True)\n",
    "\n",
    "# Define the output file path\n",
    "output_file = os.path.join(output_dir, 'peaks_filtered_by_blacklist_merged_with_species_output.txt')\n",
    "\n",
    "# Save the output DataFrame to a space-delimited file, overwriting if it exists\n",
    "output_df.to_csv(output_file, sep=' ', header=False, index=False)\n",
    "\n",
    "print(f'Output saved to {output_file}')\n"
   ]
  },
  {
   "cell_type": "code",
   "execution_count": 106,
   "id": "16c8ffb6-e788-43a1-a584-7137edf69f7e",
   "metadata": {},
   "outputs": [
    {
     "name": "stdout",
     "output_type": "stream",
     "text": [
      "1354 ./steps_inputs/step5/peaks_filtered_by_blacklist_merged_with_species_output.txt\n"
     ]
    }
   ],
   "source": [
    "!wc -l ./steps_inputs/step5/peaks_filtered_by_blacklist_merged_with_species_output.txt\n"
   ]
  },
  {
   "cell_type": "code",
   "execution_count": 7,
   "id": "1643e458-73d9-41dc-ae37-a1475ea29c11",
   "metadata": {},
   "outputs": [
    {
     "name": "stdout",
     "output_type": "stream",
     "text": [
      "Total entries in input file: 1354\n",
      "Total number of job arrays to be submitted: 2\n",
      "Submitting job array from 1 to 1000 with a maximum of 1000 concurrent tasks.\n",
      "sbatch: defined options\n",
      "sbatch: -------------------- --------------------\n",
      "sbatch: array               : 1-1000%1000\n",
      "sbatch: error               : /oak/stanford/groups/akundaje/eila/git_tf_chromatin_atlas/local_logs/slurm.step5NegativesNoPeaksBackground.combined.err\n",
      "sbatch: job-name            : step5NegativesNoPeaksBackground\n",
      "sbatch: mem                 : 64G\n",
      "sbatch: ntasks              : 1\n",
      "sbatch: output              : /oak/stanford/groups/akundaje/eila/git_tf_chromatin_atlas/local_logs/slurm.step5NegativesNoPeaksBackground.combined.out\n",
      "sbatch: partition           : akundaje,owners\n",
      "sbatch: time                : 00:30:00\n",
      "sbatch: verbose             : 1\n",
      "sbatch: -------------------- --------------------\n",
      "sbatch: end of defined options\n",
      "Submitted batch job 54036752\n",
      "Submitting job array from 1001 to 1354 with a maximum of 1000 concurrent tasks.\n",
      "sbatch: defined options\n",
      "sbatch: -------------------- --------------------\n",
      "sbatch: array               : 1001-1354%1000\n",
      "sbatch: error               : /oak/stanford/groups/akundaje/eila/git_tf_chromatin_atlas/local_logs/slurm.step5NegativesNoPeaksBackground.combined.err\n",
      "sbatch: job-name            : step5NegativesNoPeaksBackground\n",
      "sbatch: mem                 : 64G\n",
      "sbatch: ntasks              : 1\n",
      "sbatch: output              : /oak/stanford/groups/akundaje/eila/git_tf_chromatin_atlas/local_logs/slurm.step5NegativesNoPeaksBackground.combined.out\n",
      "sbatch: partition           : akundaje,owners\n",
      "sbatch: time                : 00:30:00\n",
      "sbatch: verbose             : 1\n",
      "sbatch: -------------------- --------------------\n",
      "sbatch: end of defined options\n",
      "Submitted batch job 54036753\n"
     ]
    }
   ],
   "source": [
    "# #step 5 - non-peaks / background / negative - human:\n",
    "\n",
    "# Generate negative for all folds\n",
    "!rm ./local_logs/slurm.step5NegativesNoPeaksBackground*\n",
    "!./execute_sbatch_arrays_on_sherlock.sh ./steps_inputs/step5/peaks_filtered_by_blacklist_merged_with_species_output.txt step5-compute-peak-without-blacklist.sh 1000 1000\n",
    "\n",
    "# ## all samples\n",
    "# ## !./execute_sbatch_arrays_on_sherlock.sh ./steps_inputs/step5/peaks_matched_to_experiments_species.txt step5-compute-negatives-non-peak-background.sh 1000 1000\n"
   ]
  },
  {
   "cell_type": "code",
   "execution_count": 51,
   "id": "3fbbe199-509a-4f8a-8b79-5fe5e199733d",
   "metadata": {},
   "outputs": [
    {
     "name": "stdout",
     "output_type": "stream",
     "text": [
      "270\n"
     ]
    }
   ],
   "source": [
    "!ls -lt $GROUP_SCRATCH/eila/encode_pseudobulks/encode_pseudobulks_negative/*/*/*/fold_0/*_human_nonpeaks_auxiliary/negatives_compared_with_foreground.png | wc -l\n",
    "\n",
    "#270\n"
   ]
  },
  {
   "cell_type": "code",
   "execution_count": 52,
   "id": "a7043188-2e35-4fcc-b4e3-c76a25cc8ce0",
   "metadata": {},
   "outputs": [
    {
     "name": "stdout",
     "output_type": "stream",
     "text": [
      "371\n"
     ]
    }
   ],
   "source": [
    "!ls -lt $GROUP_SCRATCH/eila/encode_pseudobulks/encode_pseudobulks_negative/*/*/*/fold_1/*_human_nonpeaks_auxiliary/negatives_compared_with_foreground.png | wc -l\n",
    "#371\n"
   ]
  },
  {
   "cell_type": "code",
   "execution_count": 53,
   "id": "ce206665-cbca-4cae-8a1e-b98514ffc177",
   "metadata": {},
   "outputs": [
    {
     "name": "stdout",
     "output_type": "stream",
     "text": [
      "339\n"
     ]
    }
   ],
   "source": [
    "!ls -lt $GROUP_SCRATCH/eila/encode_pseudobulks/encode_pseudobulks_negative/*/*/*/fold_2/*_human_nonpeaks_auxiliary/negatives_compared_with_foreground.png | wc -l\n",
    "#339\n"
   ]
  },
  {
   "cell_type": "code",
   "execution_count": 54,
   "id": "3d067478-368f-4c45-ba89-9a9400a4cbfb",
   "metadata": {},
   "outputs": [
    {
     "name": "stdout",
     "output_type": "stream",
     "text": [
      "315\n"
     ]
    }
   ],
   "source": [
    "!ls -lt $GROUP_SCRATCH/eila/encode_pseudobulks/encode_pseudobulks_negative/*/*/*/fold_3/*_human_nonpeaks_auxiliary/negatives_compared_with_foreground.png | wc -l\n",
    "# 315\n"
   ]
  },
  {
   "cell_type": "code",
   "execution_count": 55,
   "id": "0587dc0d-9a4d-4a0f-9b43-3d72e7472bbd",
   "metadata": {},
   "outputs": [
    {
     "name": "stdout",
     "output_type": "stream",
     "text": [
      "295\n"
     ]
    }
   ],
   "source": [
    "!ls -lt $GROUP_SCRATCH/eila/encode_pseudobulks/encode_pseudobulks_negative/*/*/*/fold_4/*_human_nonpeaks_auxiliary/negatives_compared_with_foreground.png | wc -l\n",
    "# 295\n"
   ]
  },
  {
   "cell_type": "code",
   "execution_count": 24,
   "id": "58898ea8-bd27-42ea-b3b3-bbdc71abb9ae",
   "metadata": {},
   "outputs": [
    {
     "name": "stdout",
     "output_type": "stream",
     "text": [
      "      54006336_163 owners,ak step62.b     eila PD       0:00      1 (Resources)\n",
      "      54006336_147 owners,ak step62.b     eila PD       0:00      1 (Resources)\n",
      "      54006336_146 owners,ak step62.b     eila PD       0:00      1 (Resources)\n",
      "      54006336_145 owners,ak step62.b     eila PD       0:00      1 (Resources)\n",
      "      54006336_144 owners,ak step62.b     eila PD       0:00      1 (Resources)\n",
      "      54006336_143 owners,ak step62.b     eila PD       0:00      1 (Resources)\n",
      "      54006336_142 owners,ak step62.b     eila PD       0:00      1 (Resources)\n",
      "       54006336_77 owners,ak step62.b     eila PD       0:00      1 (Resources)\n",
      "54036753_[1040-135 owners,ak step5Neg     eila PD       0:00      1 (Priority)\n",
      "54036752_[154-1000 owners,ak step5Neg     eila PD       0:00      1 (Priority)\n"
     ]
    }
   ],
   "source": [
    "!squeue --user=$USER | tail"
   ]
  },
  {
   "cell_type": "code",
   "execution_count": null,
   "id": "6c1fb68f-48c2-4483-b8f3-7b927e9a5436",
   "metadata": {},
   "outputs": [],
   "source": [
    "# prep for step 6\n",
    "# !chmod +x ./step6-1-create_input.sh\n",
    "# !./step6-1-create_input.sh \n",
    "# quiet mode\n",
    "# Generate input for fold_0 and all folds. we will start from fold_0 to see what was done correctly. while developing the QC, we will run all the others\n",
    "# The code knows not to repeat models that already available \n",
    "!./step6-1-create_input.sh > /dev/null 2>&1\n",
    "! wc -l ./steps_inputs/step6/chrombpnet_pipeline_extracted_paths_fold_0.txt"
   ]
  },
  {
   "cell_type": "code",
   "execution_count": 133,
   "id": "cb43a4bc-765f-4dd2-afc8-65206ea0fcb3",
   "metadata": {},
   "outputs": [
    {
     "data": {
      "text/plain": [
       "283"
      ]
     },
     "execution_count": 133,
     "metadata": {},
     "output_type": "execute_result"
    }
   ],
   "source": [
    "283"
   ]
  },
  {
   "cell_type": "code",
   "execution_count": 118,
   "id": "ec8bbe1c-e4d5-4be9-93e4-e73222de149e",
   "metadata": {},
   "outputs": [
    {
     "name": "stdout",
     "output_type": "stream",
     "text": [
      "Total entries in input file: 250\n",
      "Total number of job arrays to be submitted: 1\n",
      "Submitting job array from 1 to 250 with a maximum of 1000 concurrent tasks.\n",
      "sbatch: defined options\n",
      "sbatch: -------------------- --------------------\n",
      "sbatch: array               : 1-250%1000\n",
      "sbatch: error               : /oak/stanford/groups/akundaje/eila/git_tf_chromatin_atlas/local_logs/slurm.step62.bpnetPipeline.combined.err\n",
      "sbatch: gpus                : 1\n",
      "sbatch: job-name            : step62.bpnetPipeline\n",
      "sbatch: mem                 : 64G\n",
      "sbatch: ntasks              : 1\n",
      "sbatch: output              : /oak/stanford/groups/akundaje/eila/git_tf_chromatin_atlas/local_logs/slurm.step62.bpnetPipeline.combined.out\n",
      "sbatch: partition           : akundaje,owners\n",
      "sbatch: time                : 2-00:00:00\n",
      "sbatch: verbose             : 1\n",
      "sbatch: -------------------- --------------------\n",
      "sbatch: end of defined options\n",
      "Submitted batch job 54006336\n"
     ]
    }
   ],
   "source": [
    "# !chmod +x step6-2-train.sh\n",
    "# !rm ./local_logs/slurm.step62.bpnetPipeline*\n",
    "# !./execute_sbatch_arrays_on_sherlock.sh ./steps_inputs/step6/chrombpnet_pipeline_extracted_paths.txt step6-2-chrombpnet-pipelline.sh 13 13\n",
    "\n",
    "!./execute_sbatch_arrays_on_sherlock.sh ./steps_inputs/step6/chrombpnet_pipeline_extracted_paths_fold_0.txt step6-2-chrombpnet-pipelline.sh 1000 1000 \n",
    "\n"
   ]
  },
  {
   "cell_type": "code",
   "execution_count": 46,
   "id": "4a80fc2f-91ed-4716-b31e-2ddca8cdd593",
   "metadata": {},
   "outputs": [
    {
     "name": "stdout",
     "output_type": "stream",
     "text": [
      "59\n"
     ]
    }
   ],
   "source": [
    "!ls /scratch/groups/akundaje/eila/encode_pseudobulks/encode_pseudobulks_model_training/human/*/*/fold_0/step62.bpnetPipeline/evaluation/overall_report.html | wc -l \n",
    "\n"
   ]
  },
  {
   "cell_type": "code",
   "execution_count": 47,
   "id": "2ec7e1e0-b411-4587-bbc5-ce3200134382",
   "metadata": {},
   "outputs": [
    {
     "name": "stdout",
     "output_type": "stream",
     "text": [
      "632\n"
     ]
    }
   ],
   "source": [
    "!squeue --user=$USER | wc -l\n",
    "#632"
   ]
  },
  {
   "cell_type": "code",
   "execution_count": 48,
   "id": "804b2bb7-617b-4e52-9ebd-f96ba8e430b4",
   "metadata": {},
   "outputs": [
    {
     "name": "stdout",
     "output_type": "stream",
     "text": [
      "             JOBID PARTITION     NAME     USER ST       TIME  NODES NODELIST(REASON)\n",
      "       54006336_89  akundaje step62.b     eila  R   13:47:56      1 sh02-12n06\n",
      "       54006336_28  akundaje step62.b     eila  R   15:17:21      1 sh02-12n11\n",
      "      54006336_153  akundaje step62.b     eila  R    7:55:45      1 sh02-12n09\n",
      "      54006336_152  akundaje step62.b     eila  R    8:32:36      1 sh02-12n06\n",
      "      54006336_151  akundaje step62.b     eila  R    8:45:16      1 sh02-12n10\n",
      "      54006336_189  akundaje step62.b     eila  R    3:18:32      1 sh02-12n09\n",
      "      54006336_176  akundaje step62.b     eila  R    3:39:36      1 sh02-12n11\n",
      "      54006336_177  akundaje step62.b     eila  R    3:39:36      1 sh02-12n09\n",
      "      54006336_172  akundaje step62.b     eila  R    4:23:23      1 sh02-12n11\n",
      "      54006336_171  akundaje step62.b     eila  R    4:52:28      1 sh02-12n11\n",
      "      54006336_170  akundaje step62.b     eila  R    5:07:48      1 sh02-12n10\n",
      "      54006336_161  akundaje step62.b     eila  R    6:04:20      1 sh02-12n06\n",
      "      54006336_155  akundaje step62.b     eila  R    6:17:30      1 sh02-12n07\n",
      "      54006336_156  akundaje step62.b     eila  R    6:17:30      1 sh02-12n07\n",
      "      54006336_157  akundaje step62.b     eila  R    6:17:30      1 sh02-12n07\n",
      "      54006336_158  akundaje step62.b     eila  R    6:17:30      1 sh02-12n07\n",
      "      54006336_232  akundaje step62.b     eila  R    1:11:25      1 sh02-12n10\n",
      "      54036752_194  akundaje step5Neg     eila  R      10:52      1 sh02-02n32\n",
      "      54036752_195  akundaje step5Neg     eila  R      10:52      1 sh03-16n09\n",
      "      54036752_193  akundaje step5Neg     eila  R      11:23      1 sh03-16n09\n",
      "      54036752_184  akundaje step5Neg     eila  R      12:48      1 sh02-02n32\n",
      "      54036752_185  akundaje step5Neg     eila  R      12:48      1 sh02-02n32\n",
      "      54036752_186  akundaje step5Neg     eila  R      12:48      1 sh02-02n31\n",
      "      54036752_187  akundaje step5Neg     eila  R      12:48      1 sh02-02n31\n",
      "      54036752_188  akundaje step5Neg     eila  R      12:48      1 sh02-02n31\n",
      "      54036752_189  akundaje step5Neg     eila  R      12:48      1 sh02-02n29\n",
      "      54036752_190  akundaje step5Neg     eila  R      12:48      1 sh02-02n29\n",
      "      54036752_191  akundaje step5Neg     eila  R      12:48      1 sh03-16n24\n",
      "      54036752_192  akundaje step5Neg     eila  R      12:48      1 sh03-16n09\n",
      "      54036752_166  akundaje step5Neg     eila  R      16:42      1 sh02-02n30\n",
      "      54036752_167  akundaje step5Neg     eila  R      16:42      1 sh03-16n24\n",
      "      54036752_168  akundaje step5Neg     eila  R      16:42      1 sh03-16n24\n",
      "      54036752_169  akundaje step5Neg     eila  R      16:42      1 sh03-16n24\n",
      "      54036752_170  akundaje step5Neg     eila  R      16:42      1 sh03-16n24\n",
      "      54036752_171  akundaje step5Neg     eila  R      16:42      1 sh03-16n24\n",
      "      54036752_172  akundaje step5Neg     eila  R      16:42      1 sh03-16n24\n",
      "      54036752_173  akundaje step5Neg     eila  R      16:42      1 sh03-16n24\n",
      "      54036752_174  akundaje step5Neg     eila  R      16:42      1 sh03-16n24\n",
      "      54036752_175  akundaje step5Neg     eila  R      16:42      1 sh03-16n24\n",
      "      54036752_176  akundaje step5Neg     eila  R      16:42      1 sh03-16n24\n",
      "      54036752_177  akundaje step5Neg     eila  R      16:42      1 sh03-16n24\n",
      "      54036752_178  akundaje step5Neg     eila  R      16:42      1 sh03-16n24\n",
      "      54036752_179  akundaje step5Neg     eila  R      16:42      1 sh02-12n11\n",
      "      54036752_180  akundaje step5Neg     eila  R      16:42      1 sh02-12n10\n",
      "      54036752_181  akundaje step5Neg     eila  R      16:42      1 sh02-12n09\n",
      "      54036752_182  akundaje step5Neg     eila  R      16:42      1 sh02-12n09\n",
      "      54036752_183  akundaje step5Neg     eila  R      16:42      1 sh02-12n07\n",
      "      54036752_156  akundaje step5Neg     eila  R      20:05      1 sh02-12n11\n",
      "      54036752_157  akundaje step5Neg     eila  R      20:05      1 sh02-12n11\n",
      "      54036752_158  akundaje step5Neg     eila  R      20:05      1 sh02-12n10\n",
      "      54036752_159  akundaje step5Neg     eila  R      20:05      1 sh02-12n10\n",
      "      54036752_160  akundaje step5Neg     eila  R      20:05      1 sh02-12n09\n",
      "      54036752_161  akundaje step5Neg     eila  R      20:05      1 sh02-12n07\n",
      "      54036752_162  akundaje step5Neg     eila  R      20:05      1 sh02-12n06\n",
      "      54036752_163  akundaje step5Neg     eila  R      20:05      1 sh02-12n06\n",
      "      54036752_144  akundaje step5Neg     eila  R      23:39      1 sh03-16n24\n",
      "      54036752_147  akundaje step5Neg     eila  R      23:39      1 sh03-16n24\n",
      "      54036752_151  akundaje step5Neg     eila  R      23:39      1 sh02-12n09\n",
      "      54036752_136  akundaje step5Neg     eila  R      27:26      1 sh02-02n29\n",
      "      54036752_140  akundaje step5Neg     eila  R      27:26      1 sh02-12n06\n",
      "     54036753_1223    owners step5Neg     eila  R      18:03      1 sh03-18n18\n",
      "     54036753_1224    owners step5Neg     eila  R      18:03      1 sh03-18n18\n",
      "     54036753_1225    owners step5Neg     eila  R      18:03      1 sh03-18n18\n",
      "     54036753_1226    owners step5Neg     eila  R      18:03      1 sh03-18n18\n",
      "     54036753_1227    owners step5Neg     eila  R      18:03      1 sh03-18n18\n",
      "     54036753_1228    owners step5Neg     eila  R      18:03      1 sh03-18n18\n",
      "     54036753_1229    owners step5Neg     eila  R      18:03      1 sh03-18n18\n",
      "     54036753_1230    owners step5Neg     eila  R      18:03      1 sh03-18n18\n",
      "     54036753_1231    owners step5Neg     eila  R      18:03      1 sh03-18n18\n",
      "     54036753_1232    owners step5Neg     eila  R      18:03      1 sh03-17n24\n",
      "     54036753_1233    owners step5Neg     eila  R      18:03      1 sh03-17n24\n",
      "     54036753_1234    owners step5Neg     eila  R      18:03      1 sh03-17n24\n",
      "     54036753_1235    owners step5Neg     eila  R      18:03      1 sh03-17n24\n",
      "     54036753_1236    owners step5Neg     eila  R      18:03      1 sh03-17n24\n",
      "     54036753_1237    owners step5Neg     eila  R      18:03      1 sh03-17n24\n",
      "     54036753_1238    owners step5Neg     eila  R      18:03      1 sh03-17n24\n",
      "     54036753_1239    owners step5Neg     eila  R      18:03      1 sh03-17n24\n",
      "     54036753_1220    owners step5Neg     eila  R      18:04      1 sh03-18n18\n",
      "     54036753_1221    owners step5Neg     eila  R      18:04      1 sh03-18n18\n",
      "     54036753_1222    owners step5Neg     eila  R      18:04      1 sh03-18n18\n",
      "     54036753_1174    owners step5Neg     eila  R      18:05      1 sh03-13n23\n",
      "     54036753_1175    owners step5Neg     eila  R      18:05      1 sh03-13n23\n",
      "     54036753_1176    owners step5Neg     eila  R      18:05      1 sh03-13n23\n",
      "     54036753_1177    owners step5Neg     eila  R      18:05      1 sh03-13n23\n",
      "     54036753_1178    owners step5Neg     eila  R      18:05      1 sh03-13n23\n",
      "     54036753_1179    owners step5Neg     eila  R      18:05      1 sh03-12n24\n",
      "     54036753_1180    owners step5Neg     eila  R      18:05      1 sh03-12n24\n",
      "     54036753_1181    owners step5Neg     eila  R      18:05      1 sh03-12n24\n",
      "     54036753_1182    owners step5Neg     eila  R      18:05      1 sh03-12n24\n",
      "     54036753_1183    owners step5Neg     eila  R      18:05      1 sh03-12n24\n",
      "     54036753_1184    owners step5Neg     eila  R      18:05      1 sh03-12n24\n",
      "     54036753_1185    owners step5Neg     eila  R      18:05      1 sh03-12n24\n",
      "     54036753_1186    owners step5Neg     eila  R      18:05      1 sh03-12n24\n",
      "     54036753_1187    owners step5Neg     eila  R      18:05      1 sh03-12n23\n",
      "     54036753_1188    owners step5Neg     eila  R      18:05      1 sh03-12n23\n",
      "     54036753_1189    owners step5Neg     eila  R      18:05      1 sh03-12n23\n",
      "     54036753_1190    owners step5Neg     eila  R      18:05      1 sh03-12n23\n",
      "     54036753_1191    owners step5Neg     eila  R      18:05      1 sh03-12n23\n",
      "     54036753_1192    owners step5Neg     eila  R      18:05      1 sh03-12n23\n",
      "     54036753_1193    owners step5Neg     eila  R      18:05      1 sh03-12n23\n",
      "     54036753_1194    owners step5Neg     eila  R      18:05      1 sh03-12n23\n",
      "     54036753_1195    owners step5Neg     eila  R      18:05      1 sh03-12n23\n",
      "     54036753_1196    owners step5Neg     eila  R      18:05      1 sh03-12n21\n",
      "     54036753_1197    owners step5Neg     eila  R      18:05      1 sh03-12n21\n",
      "     54036753_1198    owners step5Neg     eila  R      18:05      1 sh03-12n21\n",
      "     54036753_1199    owners step5Neg     eila  R      18:05      1 sh03-12n21\n",
      "     54036753_1200    owners step5Neg     eila  R      18:05      1 sh03-12n21\n",
      "     54036753_1201    owners step5Neg     eila  R      18:05      1 sh03-12n21\n",
      "     54036753_1202    owners step5Neg     eila  R      18:05      1 sh03-12n21\n",
      "     54036753_1203    owners step5Neg     eila  R      18:05      1 sh03-12n21\n",
      "     54036753_1204    owners step5Neg     eila  R      18:05      1 sh03-12n21\n",
      "     54036753_1205    owners step5Neg     eila  R      18:05      1 sh03-12n21\n",
      "     54036753_1206    owners step5Neg     eila  R      18:05      1 sh03-12n20\n",
      "     54036753_1207    owners step5Neg     eila  R      18:05      1 sh03-12n20\n",
      "     54036753_1208    owners step5Neg     eila  R      18:05      1 sh03-12n20\n",
      "     54036753_1209    owners step5Neg     eila  R      18:05      1 sh03-12n20\n",
      "     54036753_1210    owners step5Neg     eila  R      18:05      1 sh03-12n20\n",
      "     54036753_1211    owners step5Neg     eila  R      18:05      1 sh03-12n20\n",
      "     54036753_1212    owners step5Neg     eila  R      18:05      1 sh03-12n20\n",
      "     54036753_1213    owners step5Neg     eila  R      18:05      1 sh03-12n20\n",
      "     54036753_1214    owners step5Neg     eila  R      18:05      1 sh03-12n20\n",
      "     54036753_1215    owners step5Neg     eila  R      18:05      1 sh03-12n20\n",
      "     54036753_1216    owners step5Neg     eila  R      18:05      1 sh03-12n20\n",
      "     54036753_1217    owners step5Neg     eila  R      18:05      1 sh03-18n18\n",
      "     54036753_1218    owners step5Neg     eila  R      18:05      1 sh03-18n18\n",
      "     54036753_1219    owners step5Neg     eila  R      18:05      1 sh03-18n18\n",
      "     54036753_1167    owners step5Neg     eila  R      18:06      1 sh03-14n22\n",
      "     54036753_1169    owners step5Neg     eila  R      18:06      1 sh03-14n20\n",
      "     54036753_1170    owners step5Neg     eila  R      18:06      1 sh03-14n19\n",
      "     54036753_1171    owners step5Neg     eila  R      18:06      1 sh03-13n23\n",
      "     54036753_1172    owners step5Neg     eila  R      18:06      1 sh03-13n23\n",
      "     54036753_1173    owners step5Neg     eila  R      18:06      1 sh03-13n23\n",
      "       54006336_99    owners step62.b     eila  R   13:06:14      1 sh02-13n08\n",
      "       54006336_95    owners step62.b     eila  R   13:15:28      1 sh02-14n09\n",
      "       54006336_96    owners step62.b     eila  R   13:15:28      1 sh02-13n10\n",
      "       54006336_97    owners step62.b     eila  R   13:15:28      1 sh02-13n01\n",
      "       54006336_93    owners step62.b     eila  R   13:15:29      1 sh02-16n08\n",
      "       54006336_90    owners step62.b     eila  R   13:25:51      1 sh02-16n02\n",
      "       54006336_83    owners step62.b     eila  R   13:52:44      1 sh02-15n05\n",
      "       54006336_84    owners step62.b     eila  R   13:52:44      1 sh02-15n05\n",
      "       54006336_85    owners step62.b     eila  R   13:52:44      1 sh03-15n15\n",
      "       54006336_79    owners step62.b     eila  R   14:05:22      1 sh02-12n15\n",
      "       54006336_81    owners step62.b     eila  R   14:05:22      1 sh02-12n14\n",
      "       54006336_52    owners step62.b     eila  R   14:54:35      1 sh03-13n09\n",
      "       54006336_53    owners step62.b     eila  R   14:54:35      1 sh02-15n04\n",
      "       54006336_54    owners step62.b     eila  R   14:54:35      1 sh02-13n11\n",
      "       54006336_58    owners step62.b     eila  R   14:54:35      1 sh02-13n04\n",
      "       54006336_43    owners step62.b     eila  R   14:54:36      1 sh03-14n01\n",
      "       54006336_20    owners step62.b     eila  R   15:58:14      1 sh02-14n05\n",
      "        54006336_4    owners step62.b     eila  R   16:04:23      1 sh02-16n02\n",
      "        54006336_5    owners step62.b     eila  R   16:04:23      1 sh02-16n02\n",
      "       54006336_11    owners step62.b     eila  R   16:04:23      1 sh03-13n15\n",
      "       54006336_12    owners step62.b     eila  R   16:04:23      1 sh03-13n15\n",
      "       54006336_17    owners step62.b     eila  R   16:04:23      1 sh02-13n03\n",
      "       54006336_18    owners step62.b     eila  R   16:04:23      1 sh02-13n03\n",
      "      54006336_102    owners step62.b     eila  R   12:41:15      1 sh03-14n02\n",
      "      54006336_150    owners step62.b     eila  R    8:51:26      1 sh03-13n03\n",
      "      54006336_149    owners step62.b     eila  R    9:11:53      1 sh02-15n07\n",
      "      54006336_148    owners step62.b     eila  R    9:24:21      1 sh02-13n07\n",
      "      54006336_140    owners step62.b     eila  R    9:32:35      1 sh03-15n15\n",
      "      54006336_136    owners step62.b     eila  R    9:55:47      1 sh02-13n10\n",
      "      54006336_137    owners step62.b     eila  R    9:55:47      1 sh02-15n03\n",
      "      54006336_133    owners step62.b     eila  R   10:07:29      1 sh03-15n03\n",
      "      54006336_132    owners step62.b     eila  R   10:19:19      1 sh02-14n06\n",
      "      54006336_131    owners step62.b     eila  R   10:25:53      1 sh02-14n10\n",
      "      54006336_128    owners step62.b     eila  R   10:33:15      1 sh02-15n04\n",
      "      54006336_129    owners step62.b     eila  R   10:33:15      1 sh02-15n04\n",
      "      54006336_130    owners step62.b     eila  R   10:33:15      1 sh02-15n04\n",
      "      54006336_124    owners step62.b     eila  R   10:40:18      1 sh02-14n15\n",
      "      54006336_125    owners step62.b     eila  R   10:40:18      1 sh02-14n15\n",
      "      54006336_127    owners step62.b     eila  R   10:40:18      1 sh02-14n15\n",
      "      54006336_123    owners step62.b     eila  R   10:46:00      1 sh02-13n11\n",
      "      54006336_119    owners step62.b     eila  R   10:51:29      1 sh02-14n14\n",
      "      54006336_120    owners step62.b     eila  R   10:51:29      1 sh02-14n09\n",
      "      54006336_121    owners step62.b     eila  R   10:51:29      1 sh02-14n09\n",
      "      54006336_122    owners step62.b     eila  R   10:51:29      1 sh02-14n09\n",
      "      54006336_118    owners step62.b     eila  R   11:06:27      1 sh03-13n04\n",
      "      54006336_116    owners step62.b     eila  R   11:28:41      1 sh03-13n03\n",
      "      54006336_115    owners step62.b     eila  R   11:33:00      1 sh02-14n14\n",
      "      54006336_111    owners step62.b     eila  R   11:48:11      1 sh03-13n03\n",
      "      54006336_112    owners step62.b     eila  R   11:48:11      1 sh03-15n01\n",
      "      54006336_109    owners step62.b     eila  R   12:02:58      1 sh03-16n01\n",
      "      54006336_110    owners step62.b     eila  R   12:02:58      1 sh03-13n05\n",
      "      54006336_107    owners step62.b     eila  R   12:18:30      1 sh02-14n14\n",
      "      54006336_190    owners step62.b     eila  R    3:09:04      1 sh02-13n04\n",
      "      54006336_178    owners step62.b     eila  R    3:20:02      1 sh03-17n10\n",
      "      54006336_179    owners step62.b     eila  R    3:20:02      1 sh03-17n10\n",
      "      54006336_180    owners step62.b     eila  R    3:20:02      1 sh03-17n09\n",
      "      54006336_181    owners step62.b     eila  R    3:20:02      1 sh03-16n16\n",
      "      54006336_184    owners step62.b     eila  R    3:20:02      1 sh03-13n16\n",
      "      54006336_185    owners step62.b     eila  R    3:20:02      1 sh03-13n16\n",
      "      54006336_186    owners step62.b     eila  R    3:20:02      1 sh03-13n11\n",
      "      54006336_187    owners step62.b     eila  R    3:20:02      1 sh03-11n03\n",
      "      54006336_188    owners step62.b     eila  R    3:20:02      1 sh03-16n02\n",
      "      54006336_175    owners step62.b     eila  R    3:57:38      1 sh03-18n14\n",
      "      54006336_173    owners step62.b     eila  R    4:10:48      1 sh02-14n13\n",
      "      54006336_169    owners step62.b     eila  R    5:39:16      1 sh03-14n03\n",
      "      54006336_167    owners step62.b     eila  R    5:49:30      1 sh02-15n01\n",
      "      54006336_162    owners step62.b     eila  R    5:57:35      1 sh02-16n08\n",
      "      54006336_160    owners step62.b     eila  R    6:05:34      1 sh02-13n06\n",
      "      54006336_159    owners step62.b     eila  R    6:10:06      1 sh03-14n11\n",
      "      54006336_154    owners step62.b     eila  R    6:31:29      1 sh02-14n08\n",
      "      54006336_250    owners step62.b     eila  R      21:52      1 sh03-16n13\n",
      "      54006336_246    owners step62.b     eila  R      28:48      1 sh03-11n12\n",
      "      54006336_247    owners step62.b     eila  R      28:48      1 sh02-12n14\n",
      "      54006336_248    owners step62.b     eila  R      28:48      1 sh03-16n07\n",
      "      54006336_249    owners step62.b     eila  R      28:48      1 sh03-16n07\n",
      "      54006336_244    owners step62.b     eila  R      35:31      1 sh02-13n11\n",
      "      54006336_245    owners step62.b     eila  R      35:31      1 sh02-13n04\n",
      "      54006336_242    owners step62.b     eila  R      39:10      1 sh03-15n02\n",
      "      54006336_243    owners step62.b     eila  R      39:10      1 sh03-13n16\n",
      "      54006336_239    owners step62.b     eila  R      57:23      1 sh03-17n12\n",
      "      54006336_240    owners step62.b     eila  R      57:23      1 sh03-16n07\n",
      "      54006336_235    owners step62.b     eila  R    1:04:09      1 sh03-14n09\n",
      "      54006336_233    owners step62.b     eila  R    1:07:32      1 sh03-18n14\n",
      "      54006336_234    owners step62.b     eila  R    1:07:32      1 sh02-13n10\n",
      "      54006336_231    owners step62.b     eila  R    1:14:04      1 sh03-15n06\n",
      "      54006336_228    owners step62.b     eila  R    1:21:04      1 sh03-17n12\n",
      "      54006336_230    owners step62.b     eila  R    1:21:04      1 sh03-14n07\n",
      "      54006336_224    owners step62.b     eila  R    1:32:22      1 sh02-15n05\n",
      "      54006336_226    owners step62.b     eila  R    1:32:22      1 sh03-15n06\n",
      "      54006336_227    owners step62.b     eila  R    1:32:22      1 sh03-14n07\n",
      "      54006336_222    owners step62.b     eila  R    1:35:57      1 sh02-14n13\n",
      "      54006336_223    owners step62.b     eila  R    1:35:57      1 sh02-14n13\n",
      "      54006336_218    owners step62.b     eila  R    1:40:07      1 sh02-15n11\n",
      "      54006336_219    owners step62.b     eila  R    1:40:07      1 sh03-16n02\n",
      "      54006336_220    owners step62.b     eila  R    1:40:07      1 sh03-16n02\n",
      "      54006336_221    owners step62.b     eila  R    1:40:07      1 sh03-16n02\n",
      "      54006336_216    owners step62.b     eila  R    1:43:48      1 sh02-15n01\n",
      "      54006336_217    owners step62.b     eila  R    1:43:48      1 sh03-11n15\n",
      "      54006336_211    owners step62.b     eila  R    1:51:01      1 sh03-15n15\n",
      "      54006336_209    owners step62.b     eila  R    1:58:42      1 sh03-11n14\n",
      "      54006336_210    owners step62.b     eila  R    1:58:42      1 sh03-11n05\n",
      "      54006336_207    owners step62.b     eila  R    2:08:58      1 sh03-16n15\n",
      "      54006336_205    owners step62.b     eila  R    2:11:55      1 sh03-17n11\n",
      "      54006336_206    owners step62.b     eila  R    2:11:55      1 sh03-17n11\n",
      "      54006336_202    owners step62.b     eila  R    2:29:35      1 sh03-16n13\n",
      "      54006336_201    owners step62.b     eila  R    2:32:20      1 sh03-17n11\n",
      "      54006336_200    owners step62.b     eila  R    2:35:04      1 sh03-11n02\n",
      "      54006336_196    owners step62.b     eila  R    2:41:17      1 sh03-11n02\n",
      "      54006336_197    owners step62.b     eila  R    2:41:17      1 sh03-16n03\n",
      "      54006336_198    owners step62.b     eila  R    2:41:17      1 sh03-16n01\n",
      "      54006336_199    owners step62.b     eila  R    2:41:17      1 sh03-14n01\n",
      "      54006336_195    owners step62.b     eila  R    2:45:01      1 sh03-14n05\n",
      "      54006336_192    owners step62.b     eila  R    2:50:13      1 sh02-15n02\n",
      "      54006336_193    owners step62.b     eila  R    2:50:13      1 sh02-15n02\n",
      "      54006336_194    owners step62.b     eila  R    2:50:13      1 sh02-15n02\n",
      "      54036752_282    owners step5Neg     eila  R       3:15      1 sh03-14n15\n",
      "      54036752_283    owners step5Neg     eila  R       3:15      1 sh03-14n15\n",
      "      54036752_284    owners step5Neg     eila  R       3:15      1 sh03-14n15\n",
      "      54036752_285    owners step5Neg     eila  R       3:15      1 sh03-14n13\n",
      "      54036752_286    owners step5Neg     eila  R       3:15      1 sh03-14n13\n",
      "      54036752_287    owners step5Neg     eila  R       3:15      1 sh03-14n13\n",
      "      54036752_288    owners step5Neg     eila  R       3:15      1 sh03-14n13\n",
      "      54036752_289    owners step5Neg     eila  R       3:15      1 sh03-14n13\n",
      "      54036752_290    owners step5Neg     eila  R       3:15      1 sh03-14n13\n",
      "      54036752_291    owners step5Neg     eila  R       3:15      1 sh03-14n13\n",
      "      54036752_292    owners step5Neg     eila  R       3:15      1 sh03-14n11\n",
      "      54036752_293    owners step5Neg     eila  R       3:15      1 sh03-14n11\n",
      "      54036752_294    owners step5Neg     eila  R       3:15      1 sh03-14n11\n",
      "      54036752_295    owners step5Neg     eila  R       3:15      1 sh03-14n11\n",
      "      54036752_296    owners step5Neg     eila  R       3:15      1 sh03-14n07\n",
      "      54036752_297    owners step5Neg     eila  R       3:15      1 sh03-14n03\n",
      "      54036752_298    owners step5Neg     eila  R       3:15      1 sh03-14n03\n",
      "      54036752_299    owners step5Neg     eila  R       3:15      1 sh03-14n03\n",
      "      54036752_300    owners step5Neg     eila  R       3:15      1 sh03-14n03\n",
      "      54036752_301    owners step5Neg     eila  R       3:15      1 sh03-14n03\n",
      "      54036752_302    owners step5Neg     eila  R       3:15      1 sh03-14n03\n",
      "      54036752_264    owners step5Neg     eila  R       3:16      1 sh02-10n31\n",
      "      54036752_265    owners step5Neg     eila  R       3:16      1 sh02-10n31\n",
      "      54036752_266    owners step5Neg     eila  R       3:16      1 sh02-10n20\n",
      "      54036752_267    owners step5Neg     eila  R       3:16      1 sh02-07n44\n",
      "      54036752_268    owners step5Neg     eila  R       3:16      1 sh03-06n53\n",
      "      54036752_269    owners step5Neg     eila  R       3:16      1 sh03-06n53\n",
      "      54036752_270    owners step5Neg     eila  R       3:16      1 sh03-02n35\n",
      "      54036752_271    owners step5Neg     eila  R       3:16      1 sh03-02n35\n",
      "      54036752_272    owners step5Neg     eila  R       3:16      1 sh03-02n35\n",
      "      54036752_273    owners step5Neg     eila  R       3:16      1 sh02-08n19\n",
      "      54036752_274    owners step5Neg     eila  R       3:16      1 sh02-08n17\n",
      "      54036752_275    owners step5Neg     eila  R       3:16      1 sh03-14n15\n",
      "      54036752_276    owners step5Neg     eila  R       3:16      1 sh03-14n15\n",
      "      54036752_277    owners step5Neg     eila  R       3:16      1 sh03-14n15\n",
      "      54036752_278    owners step5Neg     eila  R       3:16      1 sh03-14n15\n",
      "      54036752_279    owners step5Neg     eila  R       3:16      1 sh03-14n15\n",
      "      54036752_280    owners step5Neg     eila  R       3:16      1 sh03-14n15\n",
      "      54036752_281    owners step5Neg     eila  R       3:16      1 sh03-14n15\n",
      "      54036752_234    owners step5Neg     eila  R       7:15      1 sh03-18n07\n",
      "      54036752_235    owners step5Neg     eila  R       7:15      1 sh03-18n07\n",
      "      54036752_236    owners step5Neg     eila  R       7:15      1 sh03-18n07\n",
      "      54036752_237    owners step5Neg     eila  R       7:15      1 sh03-18n07\n",
      "      54036752_238    owners step5Neg     eila  R       7:15      1 sh03-18n07\n",
      "      54036752_239    owners step5Neg     eila  R       7:15      1 sh03-18n07\n",
      "      54036752_240    owners step5Neg     eila  R       7:15      1 sh03-18n07\n",
      "      54036752_241    owners step5Neg     eila  R       7:15      1 sh03-18n07\n",
      "      54036752_242    owners step5Neg     eila  R       7:15      1 sh03-18n05\n",
      "      54036752_243    owners step5Neg     eila  R       7:15      1 sh03-18n05\n",
      "      54036752_244    owners step5Neg     eila  R       7:15      1 sh03-18n03\n",
      "      54036752_245    owners step5Neg     eila  R       7:15      1 sh03-18n03\n",
      "      54036752_246    owners step5Neg     eila  R       7:15      1 sh03-18n03\n",
      "      54036752_247    owners step5Neg     eila  R       7:15      1 sh03-18n03\n",
      "      54036752_248    owners step5Neg     eila  R       7:15      1 sh03-18n03\n",
      "      54036752_249    owners step5Neg     eila  R       7:15      1 sh03-18n03\n",
      "      54036752_250    owners step5Neg     eila  R       7:15      1 sh03-17n05\n",
      "      54036752_251    owners step5Neg     eila  R       7:15      1 sh03-17n05\n",
      "      54036752_252    owners step5Neg     eila  R       7:15      1 sh03-17n05\n",
      "      54036752_253    owners step5Neg     eila  R       7:15      1 sh03-17n05\n",
      "      54036752_254    owners step5Neg     eila  R       7:15      1 sh03-17n05\n",
      "      54036752_255    owners step5Neg     eila  R       7:15      1 sh03-17n05\n",
      "      54036752_256    owners step5Neg     eila  R       7:15      1 sh03-17n05\n",
      "      54036752_257    owners step5Neg     eila  R       7:15      1 sh03-17n05\n",
      "      54036752_258    owners step5Neg     eila  R       7:15      1 sh03-17n03\n",
      "      54036752_259    owners step5Neg     eila  R       7:15      1 sh03-17n01\n",
      "      54036752_260    owners step5Neg     eila  R       7:15      1 sh03-14n15\n",
      "      54036752_261    owners step5Neg     eila  R       7:15      1 sh03-14n15\n",
      "      54036752_262    owners step5Neg     eila  R       7:15      1 sh03-14n15\n",
      "      54036752_263    owners step5Neg     eila  R       7:15      1 sh03-14n15\n",
      "      54036752_212    owners step5Neg     eila  R       7:16      1 sh02-16n10\n",
      "      54036752_213    owners step5Neg     eila  R       7:16      1 sh02-16n10\n",
      "      54036752_214    owners step5Neg     eila  R       7:16      1 sh02-15n06\n",
      "      54036752_215    owners step5Neg     eila  R       7:16      1 sh02-15n06\n",
      "      54036752_216    owners step5Neg     eila  R       7:16      1 sh03-18n16\n",
      "      54036752_217    owners step5Neg     eila  R       7:16      1 sh03-15n16\n",
      "      54036752_218    owners step5Neg     eila  R       7:16      1 sh03-15n16\n",
      "      54036752_219    owners step5Neg     eila  R       7:16      1 sh03-15n16\n",
      "      54036752_220    owners step5Neg     eila  R       7:16      1 sh03-15n16\n",
      "      54036752_221    owners step5Neg     eila  R       7:16      1 sh03-15n16\n",
      "      54036752_222    owners step5Neg     eila  R       7:16      1 sh03-18n09\n",
      "      54036752_223    owners step5Neg     eila  R       7:16      1 sh03-18n09\n",
      "      54036752_224    owners step5Neg     eila  R       7:16      1 sh03-18n09\n",
      "      54036752_225    owners step5Neg     eila  R       7:16      1 sh03-18n09\n",
      "      54036752_226    owners step5Neg     eila  R       7:16      1 sh03-18n09\n",
      "      54036752_227    owners step5Neg     eila  R       7:16      1 sh03-18n09\n",
      "      54036752_228    owners step5Neg     eila  R       7:16      1 sh03-18n09\n",
      "      54036752_229    owners step5Neg     eila  R       7:16      1 sh03-18n09\n",
      "      54036752_230    owners step5Neg     eila  R       7:16      1 sh03-18n09\n",
      "      54036752_231    owners step5Neg     eila  R       7:16      1 sh03-18n09\n",
      "      54036752_232    owners step5Neg     eila  R       7:16      1 sh03-18n07\n",
      "      54036752_233    owners step5Neg     eila  R       7:16      1 sh03-18n07\n",
      "      54036752_196    owners step5Neg     eila  R       7:17      1 sh02-02n59\n",
      "      54036752_197    owners step5Neg     eila  R       7:17      1 sh02-02n21\n",
      "      54036752_198    owners step5Neg     eila  R       7:17      1 sh02-09n12\n",
      "      54036752_199    owners step5Neg     eila  R       7:17      1 sh02-08n28\n",
      "      54036752_200    owners step5Neg     eila  R       7:17      1 sh02-05n60\n",
      "      54036752_201    owners step5Neg     eila  R       7:17      1 sh02-05n52\n",
      "      54036752_202    owners step5Neg     eila  R       7:17      1 sh02-05n52\n",
      "      54036752_203    owners step5Neg     eila  R       7:17      1 sh02-05n52\n",
      "      54036752_204    owners step5Neg     eila  R       7:17      1 sh02-05n50\n",
      "      54036752_205    owners step5Neg     eila  R       7:17      1 sh02-05n49\n",
      "      54036752_206    owners step5Neg     eila  R       7:17      1 sh02-05n44\n",
      "      54036752_207    owners step5Neg     eila  R       7:17      1 sh02-05n34\n",
      "      54036752_208    owners step5Neg     eila  R       7:17      1 sh02-05n34\n",
      "      54036752_209    owners step5Neg     eila  R       7:17      1 sh02-05n33\n",
      "      54036752_210    owners step5Neg     eila  R       7:17      1 sh03-06n39\n",
      "      54036752_211    owners step5Neg     eila  R       7:17      1 sh02-09n24\n",
      "     54036753_1055    owners step5Neg     eila  R      10:36      1 sh03-15n16\n",
      "     54036753_1347    owners step5Neg     eila  R      10:36      1 sh03-17n16\n",
      "     54036753_1348    owners step5Neg     eila  R      10:36      1 sh03-17n13\n",
      "     54036753_1349    owners step5Neg     eila  R      10:36      1 sh03-17n13\n",
      "     54036753_1350    owners step5Neg     eila  R      10:36      1 sh03-17n13\n",
      "     54036753_1351    owners step5Neg     eila  R      10:36      1 sh03-17n13\n",
      "     54036753_1352    owners step5Neg     eila  R      10:36      1 sh03-17n12\n",
      "     54036753_1353    owners step5Neg     eila  R      10:36      1 sh03-17n12\n",
      "     54036753_1326    owners step5Neg     eila  R      10:37      1 sh03-16n17\n",
      "     54036753_1327    owners step5Neg     eila  R      10:37      1 sh03-16n17\n",
      "     54036753_1328    owners step5Neg     eila  R      10:37      1 sh03-16n17\n",
      "     54036753_1329    owners step5Neg     eila  R      10:37      1 sh03-14n21\n",
      "     54036753_1330    owners step5Neg     eila  R      10:37      1 sh03-17n24\n",
      "     54036753_1331    owners step5Neg     eila  R      10:37      1 sh03-17n24\n",
      "     54036753_1332    owners step5Neg     eila  R      10:37      1 sh03-17n24\n",
      "     54036753_1333    owners step5Neg     eila  R      10:37      1 sh03-17n23\n",
      "     54036753_1334    owners step5Neg     eila  R      10:37      1 sh03-17n23\n",
      "     54036753_1335    owners step5Neg     eila  R      10:37      1 sh03-17n23\n",
      "     54036753_1336    owners step5Neg     eila  R      10:37      1 sh03-17n23\n",
      "     54036753_1337    owners step5Neg     eila  R      10:37      1 sh03-17n23\n",
      "     54036753_1338    owners step5Neg     eila  R      10:37      1 sh03-17n23\n",
      "     54036753_1339    owners step5Neg     eila  R      10:37      1 sh03-11n24\n",
      "     54036753_1340    owners step5Neg     eila  R      10:37      1 sh03-11n24\n",
      "     54036753_1341    owners step5Neg     eila  R      10:37      1 sh03-13n17\n",
      "     54036753_1342    owners step5Neg     eila  R      10:37      1 sh02-15n11\n",
      "     54036753_1343    owners step5Neg     eila  R      10:37      1 sh03-13n04\n",
      "     54036753_1346    owners step5Neg     eila  R      10:37      1 sh03-17n16\n",
      "     54036753_1300    owners step5Neg     eila  R      10:38      1 sh03-05n60\n",
      "     54036753_1304    owners step5Neg     eila  R      10:38      1 sh03-05n56\n",
      "     54036753_1305    owners step5Neg     eila  R      10:38      1 sh03-05n56\n",
      "     54036753_1309    owners step5Neg     eila  R      10:38      1 sh03-05n46\n",
      "     54036753_1310    owners step5Neg     eila  R      10:38      1 sh03-05n46\n",
      "     54036753_1311    owners step5Neg     eila  R      10:38      1 sh03-05n46\n",
      "     54036753_1312    owners step5Neg     eila  R      10:38      1 sh03-04n71\n",
      "     54036753_1313    owners step5Neg     eila  R      10:38      1 sh03-04n71\n",
      "     54036753_1314    owners step5Neg     eila  R      10:38      1 sh03-04n63\n",
      "     54036753_1315    owners step5Neg     eila  R      10:38      1 sh03-04n63\n",
      "     54036753_1316    owners step5Neg     eila  R      10:38      1 sh03-04n63\n",
      "     54036753_1317    owners step5Neg     eila  R      10:38      1 sh03-04n55\n",
      "     54036753_1318    owners step5Neg     eila  R      10:38      1 sh03-04n55\n",
      "     54036753_1319    owners step5Neg     eila  R      10:38      1 sh03-04n52\n",
      "     54036753_1320    owners step5Neg     eila  R      10:38      1 sh03-04n52\n",
      "     54036753_1321    owners step5Neg     eila  R      10:38      1 sh03-04n52\n",
      "     54036753_1324    owners step5Neg     eila  R      10:38      1 sh02-08n20\n",
      "     54036753_1277    owners step5Neg     eila  R      10:39      1 sh02-05n39\n",
      "     54036753_1278    owners step5Neg     eila  R      10:39      1 sh03-10n41\n",
      "     54036753_1279    owners step5Neg     eila  R      10:39      1 sh03-10n38\n",
      "     54036753_1280    owners step5Neg     eila  R      10:39      1 sh03-10n23\n",
      "     54036753_1281    owners step5Neg     eila  R      10:39      1 sh03-08n54\n",
      "     54036753_1282    owners step5Neg     eila  R      10:39      1 sh03-08n19\n",
      "     54036753_1283    owners step5Neg     eila  R      10:39      1 sh03-08n19\n",
      "     54036753_1284    owners step5Neg     eila  R      10:39      1 sh03-08n18\n",
      "     54036753_1285    owners step5Neg     eila  R      10:39      1 sh03-08n18\n",
      "     54036753_1286    owners step5Neg     eila  R      10:39      1 sh03-06n72\n",
      "     54036753_1287    owners step5Neg     eila  R      10:39      1 sh03-06n72\n",
      "     54036753_1288    owners step5Neg     eila  R      10:39      1 sh03-06n50\n",
      "     54036753_1289    owners step5Neg     eila  R      10:39      1 sh03-05n68\n",
      "     54036753_1290    owners step5Neg     eila  R      10:39      1 sh03-05n66\n",
      "     54036753_1291    owners step5Neg     eila  R      10:39      1 sh03-05n64\n",
      "     54036753_1292    owners step5Neg     eila  R      10:39      1 sh03-05n64\n",
      "     54036753_1293    owners step5Neg     eila  R      10:39      1 sh03-05n64\n",
      "     54036753_1294    owners step5Neg     eila  R      10:39      1 sh03-05n63\n",
      "     54036753_1295    owners step5Neg     eila  R      10:39      1 sh03-05n63\n",
      "     54036753_1296    owners step5Neg     eila  R      10:39      1 sh03-05n63\n",
      "     54036753_1297    owners step5Neg     eila  R      10:39      1 sh03-05n62\n",
      "     54036753_1298    owners step5Neg     eila  R      10:39      1 sh03-05n60\n",
      "     54036753_1299    owners step5Neg     eila  R      10:39      1 sh03-05n60\n",
      "     54036753_1267    owners step5Neg     eila  R      10:40      1 sh02-10n49\n",
      "     54036753_1268    owners step5Neg     eila  R      10:40      1 sh02-10n49\n",
      "     54036753_1269    owners step5Neg     eila  R      10:40      1 sh02-10n26\n",
      "     54036753_1270    owners step5Neg     eila  R      10:40      1 sh02-10n26\n",
      "     54036753_1271    owners step5Neg     eila  R      10:40      1 sh02-08n26\n",
      "     54036753_1272    owners step5Neg     eila  R      10:40      1 sh02-08n25\n",
      "     54036753_1273    owners step5Neg     eila  R      10:40      1 sh02-06n01\n",
      "     54036753_1274    owners step5Neg     eila  R      10:40      1 sh02-06n01\n",
      "     54036753_1275    owners step5Neg     eila  R      10:40      1 sh02-05n46\n",
      "     54036753_1276    owners step5Neg     eila  R      10:40      1 sh02-05n43\n",
      "     54036753_1246    owners step5Neg     eila  R      14:04      1 sh02-05n62\n",
      "     54036753_1247    owners step5Neg     eila  R      14:04      1 sh02-05n61\n",
      "     54036753_1248    owners step5Neg     eila  R      14:04      1 sh02-05n58\n",
      "     54036753_1249    owners step5Neg     eila  R      14:04      1 sh02-05n58\n",
      "     54036753_1250    owners step5Neg     eila  R      14:04      1 sh02-05n57\n",
      "     54036753_1251    owners step5Neg     eila  R      14:04      1 sh02-05n57\n",
      "     54036753_1252    owners step5Neg     eila  R      14:04      1 sh02-05n55\n",
      "     54036753_1253    owners step5Neg     eila  R      14:04      1 sh02-05n55\n",
      "     54036753_1254    owners step5Neg     eila  R      14:04      1 sh02-05n50\n",
      "     54036753_1255    owners step5Neg     eila  R      14:04      1 sh02-05n32\n",
      "     54036753_1256    owners step5Neg     eila  R      14:04      1 sh02-05n30\n",
      "     54036753_1257    owners step5Neg     eila  R      14:04      1 sh02-05n30\n",
      "     54036753_1258    owners step5Neg     eila  R      14:04      1 sh03-06n54\n",
      "     54036753_1259    owners step5Neg     eila  R      14:04      1 sh03-06n54\n",
      "     54036753_1260    owners step5Neg     eila  R      14:04      1 sh03-05n61\n",
      "     54036753_1261    owners step5Neg     eila  R      14:04      1 sh02-10n71\n",
      "     54036753_1262    owners step5Neg     eila  R      14:04      1 sh02-10n69\n",
      "     54036753_1263    owners step5Neg     eila  R      14:04      1 sh02-10n69\n",
      "     54036753_1264    owners step5Neg     eila  R      14:04      1 sh02-10n69\n",
      "     54036753_1265    owners step5Neg     eila  R      14:04      1 sh02-10n69\n",
      "     54036753_1266    owners step5Neg     eila  R      14:04      1 sh02-10n69\n",
      "     54036753_1240    owners step5Neg     eila  R      14:05      1 sh02-05n15\n",
      "     54036753_1241    owners step5Neg     eila  R      14:05      1 sh02-10n54\n",
      "     54036753_1242    owners step5Neg     eila  R      14:05      1 sh02-10n40\n",
      "     54036753_1243    owners step5Neg     eila  R      14:05      1 sh02-08n63\n",
      "     54036753_1244    owners step5Neg     eila  R      14:05      1 sh02-07n31\n",
      "     54036753_1245    owners step5Neg     eila  R      14:05      1 sh02-07n31\n",
      "     54036753_1152    owners step5Neg     eila  R      18:09      1 sh03-15n18\n",
      "     54036753_1153    owners step5Neg     eila  R      18:09      1 sh03-15n18\n",
      "     54036753_1154    owners step5Neg     eila  R      18:09      1 sh03-15n18\n",
      "     54036753_1155    owners step5Neg     eila  R      18:09      1 sh03-15n18\n",
      "     54036753_1156    owners step5Neg     eila  R      18:09      1 sh03-15n18\n",
      "     54036753_1157    owners step5Neg     eila  R      18:09      1 sh03-15n18\n",
      "     54036753_1158    owners step5Neg     eila  R      18:09      1 sh03-15n18\n",
      "     54036753_1159    owners step5Neg     eila  R      18:09      1 sh03-15n18\n",
      "     54036753_1160    owners step5Neg     eila  R      18:09      1 sh03-15n18\n",
      "     54036753_1161    owners step5Neg     eila  R      18:09      1 sh03-15n18\n",
      "     54036753_1162    owners step5Neg     eila  R      18:09      1 sh03-14n24\n",
      "     54036753_1163    owners step5Neg     eila  R      18:09      1 sh03-14n23\n",
      "     54036753_1164    owners step5Neg     eila  R      18:09      1 sh03-14n23\n",
      "     54036753_1165    owners step5Neg     eila  R      18:09      1 sh03-14n23\n",
      "     54036753_1166    owners step5Neg     eila  R      18:09      1 sh03-14n22\n",
      "     54036753_1116    owners step5Neg     eila  R      18:10      1 sh03-16n23\n",
      "     54036753_1117    owners step5Neg     eila  R      18:10      1 sh03-16n23\n",
      "     54036753_1118    owners step5Neg     eila  R      18:10      1 sh03-16n23\n",
      "     54036753_1119    owners step5Neg     eila  R      18:10      1 sh03-16n23\n",
      "     54036753_1120    owners step5Neg     eila  R      18:10      1 sh03-16n23\n",
      "     54036753_1121    owners step5Neg     eila  R      18:10      1 sh03-16n23\n",
      "     54036753_1122    owners step5Neg     eila  R      18:10      1 sh03-16n23\n",
      "     54036753_1123    owners step5Neg     eila  R      18:10      1 sh03-16n23\n",
      "     54036753_1124    owners step5Neg     eila  R      18:10      1 sh03-16n23\n",
      "     54036753_1125    owners step5Neg     eila  R      18:10      1 sh03-16n22\n",
      "     54036753_1126    owners step5Neg     eila  R      18:10      1 sh03-16n22\n",
      "     54036753_1127    owners step5Neg     eila  R      18:10      1 sh03-16n22\n",
      "     54036753_1128    owners step5Neg     eila  R      18:10      1 sh03-16n22\n",
      "     54036753_1129    owners step5Neg     eila  R      18:10      1 sh03-16n22\n",
      "     54036753_1130    owners step5Neg     eila  R      18:10      1 sh03-16n22\n",
      "     54036753_1131    owners step5Neg     eila  R      18:10      1 sh03-16n22\n",
      "     54036753_1132    owners step5Neg     eila  R      18:10      1 sh03-16n22\n",
      "     54036753_1133    owners step5Neg     eila  R      18:10      1 sh03-16n22\n",
      "     54036753_1134    owners step5Neg     eila  R      18:10      1 sh03-15n20\n",
      "     54036753_1135    owners step5Neg     eila  R      18:10      1 sh03-15n20\n",
      "     54036753_1136    owners step5Neg     eila  R      18:10      1 sh03-15n20\n",
      "     54036753_1137    owners step5Neg     eila  R      18:10      1 sh03-15n20\n",
      "     54036753_1138    owners step5Neg     eila  R      18:10      1 sh03-15n20\n",
      "     54036753_1139    owners step5Neg     eila  R      18:10      1 sh03-15n20\n",
      "     54036753_1140    owners step5Neg     eila  R      18:10      1 sh03-15n20\n",
      "     54036753_1141    owners step5Neg     eila  R      18:10      1 sh03-15n20\n",
      "     54036753_1142    owners step5Neg     eila  R      18:10      1 sh03-15n20\n",
      "     54036753_1143    owners step5Neg     eila  R      18:10      1 sh03-15n19\n",
      "     54036753_1144    owners step5Neg     eila  R      18:10      1 sh03-15n19\n",
      "     54036753_1145    owners step5Neg     eila  R      18:10      1 sh03-15n19\n",
      "     54036753_1146    owners step5Neg     eila  R      18:10      1 sh03-15n19\n",
      "     54036753_1147    owners step5Neg     eila  R      18:10      1 sh03-15n19\n",
      "     54036753_1148    owners step5Neg     eila  R      18:10      1 sh03-15n19\n",
      "     54036753_1149    owners step5Neg     eila  R      18:10      1 sh03-15n19\n",
      "     54036753_1150    owners step5Neg     eila  R      18:10      1 sh03-15n19\n",
      "     54036753_1151    owners step5Neg     eila  R      18:10      1 sh03-15n19\n",
      "     54036753_1103    owners step5Neg     eila  R      18:11      1 sh03-17n19\n",
      "     54036753_1104    owners step5Neg     eila  R      18:11      1 sh03-11n18\n",
      "     54036753_1105    owners step5Neg     eila  R      18:11      1 sh03-11n18\n",
      "     54036753_1106    owners step5Neg     eila  R      18:11      1 sh03-11n18\n",
      "     54036753_1107    owners step5Neg     eila  R      18:11      1 sh03-11n18\n",
      "     54036753_1108    owners step5Neg     eila  R      18:11      1 sh03-11n18\n",
      "     54036753_1109    owners step5Neg     eila  R      18:11      1 sh03-11n18\n",
      "     54036753_1110    owners step5Neg     eila  R      18:11      1 sh03-11n17\n",
      "     54036753_1111    owners step5Neg     eila  R      18:11      1 sh03-11n17\n",
      "     54036753_1112    owners step5Neg     eila  R      18:11      1 sh03-11n17\n",
      "     54036753_1113    owners step5Neg     eila  R      18:11      1 sh03-16n23\n",
      "     54036753_1114    owners step5Neg     eila  R      18:11      1 sh03-16n23\n",
      "     54036753_1115    owners step5Neg     eila  R      18:11      1 sh03-16n23\n",
      "     54036753_1068    owners step5Neg     eila  R      18:12      1 sh03-18n23\n",
      "     54036753_1069    owners step5Neg     eila  R      18:12      1 sh03-18n23\n",
      "     54036753_1070    owners step5Neg     eila  R      18:12      1 sh03-18n23\n",
      "     54036753_1071    owners step5Neg     eila  R      18:12      1 sh03-18n23\n",
      "     54036753_1072    owners step5Neg     eila  R      18:12      1 sh03-18n23\n",
      "     54036753_1073    owners step5Neg     eila  R      18:12      1 sh03-18n23\n",
      "     54036753_1074    owners step5Neg     eila  R      18:12      1 sh03-18n23\n",
      "     54036753_1075    owners step5Neg     eila  R      18:12      1 sh03-18n22\n",
      "     54036753_1076    owners step5Neg     eila  R      18:12      1 sh03-18n22\n",
      "     54036753_1077    owners step5Neg     eila  R      18:12      1 sh03-18n22\n",
      "     54036753_1078    owners step5Neg     eila  R      18:12      1 sh03-18n22\n",
      "     54036753_1079    owners step5Neg     eila  R      18:12      1 sh03-18n22\n",
      "     54036753_1080    owners step5Neg     eila  R      18:12      1 sh03-18n22\n",
      "     54036753_1081    owners step5Neg     eila  R      18:12      1 sh03-18n22\n",
      "     54036753_1082    owners step5Neg     eila  R      18:12      1 sh03-18n22\n",
      "     54036753_1083    owners step5Neg     eila  R      18:12      1 sh03-18n22\n",
      "     54036753_1084    owners step5Neg     eila  R      18:12      1 sh03-18n21\n",
      "     54036753_1085    owners step5Neg     eila  R      18:12      1 sh03-18n21\n",
      "     54036753_1086    owners step5Neg     eila  R      18:12      1 sh03-18n21\n",
      "     54036753_1087    owners step5Neg     eila  R      18:12      1 sh03-18n21\n",
      "     54036753_1088    owners step5Neg     eila  R      18:12      1 sh03-18n21\n",
      "     54036753_1089    owners step5Neg     eila  R      18:12      1 sh03-18n21\n",
      "     54036753_1090    owners step5Neg     eila  R      18:12      1 sh03-18n21\n",
      "     54036753_1091    owners step5Neg     eila  R      18:12      1 sh03-18n17\n",
      "     54036753_1092    owners step5Neg     eila  R      18:12      1 sh03-18n17\n",
      "     54036753_1093    owners step5Neg     eila  R      18:12      1 sh03-18n17\n",
      "     54036753_1094    owners step5Neg     eila  R      18:12      1 sh03-18n17\n",
      "     54036753_1095    owners step5Neg     eila  R      18:12      1 sh03-18n17\n",
      "     54036753_1096    owners step5Neg     eila  R      18:12      1 sh03-18n17\n",
      "     54036753_1097    owners step5Neg     eila  R      18:12      1 sh03-18n17\n",
      "     54036753_1098    owners step5Neg     eila  R      18:12      1 sh03-18n17\n",
      "     54036753_1099    owners step5Neg     eila  R      18:12      1 sh03-18n17\n",
      "     54036753_1100    owners step5Neg     eila  R      18:12      1 sh03-17n22\n",
      "     54036753_1101    owners step5Neg     eila  R      18:12      1 sh03-17n22\n",
      "     54036753_1102    owners step5Neg     eila  R      18:12      1 sh03-17n20\n",
      "     54036753_1056    owners step5Neg     eila  R      18:13      1 sh02-16n07\n",
      "     54036753_1057    owners step5Neg     eila  R      18:13      1 sh03-18n24\n",
      "     54036753_1058    owners step5Neg     eila  R      18:13      1 sh03-18n24\n",
      "     54036753_1059    owners step5Neg     eila  R      18:13      1 sh03-18n24\n",
      "     54036753_1060    owners step5Neg     eila  R      18:13      1 sh03-18n24\n",
      "     54036753_1061    owners step5Neg     eila  R      18:13      1 sh03-18n24\n",
      "     54036753_1062    owners step5Neg     eila  R      18:13      1 sh03-18n24\n",
      "     54036753_1063    owners step5Neg     eila  R      18:13      1 sh03-18n24\n",
      "     54036753_1064    owners step5Neg     eila  R      18:13      1 sh03-18n24\n",
      "     54036753_1065    owners step5Neg     eila  R      18:13      1 sh03-18n24\n",
      "     54036753_1066    owners step5Neg     eila  R      18:13      1 sh03-18n23\n",
      "     54036753_1067    owners step5Neg     eila  R      18:13      1 sh03-18n23\n",
      "     54036753_1042    owners step5Neg     eila  R      18:14      1 sh02-17n43\n",
      "     54036753_1043    owners step5Neg     eila  R      18:14      1 sh02-09n31\n",
      "     54036753_1044    owners step5Neg     eila  R      18:14      1 sh02-08n72\n",
      "     54036753_1045    owners step5Neg     eila  R      18:14      1 sh02-07n33\n",
      "     54036753_1046    owners step5Neg     eila  R      18:14      1 sh02-05n59\n",
      "     54036753_1047    owners step5Neg     eila  R      18:14      1 sh02-05n48\n",
      "     54036753_1048    owners step5Neg     eila  R      18:14      1 sh02-05n40\n",
      "     54036753_1049    owners step5Neg     eila  R      18:14      1 sh02-05n40\n",
      "     54036753_1050    owners step5Neg     eila  R      18:14      1 sh02-05n37\n",
      "     54036753_1051    owners step5Neg     eila  R      18:14      1 sh02-05n35\n",
      "     54036753_1052    owners step5Neg     eila  R      18:14      1 sh02-05n35\n",
      "     54036753_1053    owners step5Neg     eila  R      18:14      1 sh02-05n68\n",
      "     54036753_1054    owners step5Neg     eila  R      18:14      1 sh02-05n68\n",
      "     54036753_1040    owners step5Neg     eila  R      21:52      1 sh02-03n36\n",
      "     54036753_1041    owners step5Neg     eila  R      21:52      1 sh02-03n36\n",
      "     54036753_1038    owners step5Neg     eila  R      24:55      1 sh02-03n41\n",
      "     54036753_1039    owners step5Neg     eila  R      24:55      1 sh02-03n35\n",
      "     54036753_1031    owners step5Neg     eila  R      24:56      1 sh02-05n10\n",
      "     54036753_1033    owners step5Neg     eila  R      24:56      1 sh02-10n54\n",
      "     54036753_1025    owners step5Neg     eila  R      28:48      1 sh02-10n17\n",
      "       54006336_77 owners,ak step62.b     eila PD       0:00      1 (Resources)\n",
      "      54006336_229 owners,ak step62.b     eila PD       0:00      1 (Resources)\n",
      "      54006336_215 owners,ak step62.b     eila PD       0:00      1 (Resources)\n",
      "      54006336_241 owners,ak step62.b     eila PD       0:00      1 (Resources)\n",
      "      54006336_238 owners,ak step62.b     eila PD       0:00      1 (Resources)\n",
      "      54006336_237 owners,ak step62.b     eila PD       0:00      1 (Resources)\n",
      "      54006336_236 owners,ak step62.b     eila PD       0:00      1 (Resources)\n",
      "      54006336_225 owners,ak step62.b     eila PD       0:00      1 (Resources)\n",
      "      54006336_214 owners,ak step62.b     eila PD       0:00      1 (Resources)\n",
      "      54006336_213 owners,ak step62.b     eila PD       0:00      1 (Resources)\n",
      "      54006336_212 owners,ak step62.b     eila PD       0:00      1 (Resources)\n",
      "      54006336_208 owners,ak step62.b     eila PD       0:00      1 (Resources)\n",
      "      54006336_204 owners,ak step62.b     eila PD       0:00      1 (Resources)\n",
      "      54006336_203 owners,ak step62.b     eila PD       0:00      1 (Resources)\n",
      "      54006336_183 owners,ak step62.b     eila PD       0:00      1 (Resources)\n",
      "      54006336_182 owners,ak step62.b     eila PD       0:00      1 (Resources)\n",
      "      54006336_174 owners,ak step62.b     eila PD       0:00      1 (Resources)\n",
      "      54006336_166 owners,ak step62.b     eila PD       0:00      1 (Resources)\n",
      "      54006336_165 owners,ak step62.b     eila PD       0:00      1 (Resources)\n",
      "      54006336_163 owners,ak step62.b     eila PD       0:00      1 (Resources)\n",
      "      54006336_147 owners,ak step62.b     eila PD       0:00      1 (Resources)\n",
      "      54006336_146 owners,ak step62.b     eila PD       0:00      1 (Resources)\n",
      "      54006336_145 owners,ak step62.b     eila PD       0:00      1 (Resources)\n",
      "      54006336_144 owners,ak step62.b     eila PD       0:00      1 (Resources)\n",
      "      54006336_143 owners,ak step62.b     eila PD       0:00      1 (Resources)\n",
      "      54006336_142 owners,ak step62.b     eila PD       0:00      1 (Resources)\n",
      "      54006336_106 owners,ak step62.b     eila PD       0:00      1 (Resources)\n",
      "       54006336_46 owners,ak step62.b     eila PD       0:00      1 (Resources)\n",
      "54036752_[303-1000 owners,ak step5Neg     eila PD       0:00      1 (Priority)\n",
      "     54036753_1345 owners,ak step5Neg     eila PD       0:00      1 (Priority)\n",
      "     54036753_1344 owners,ak step5Neg     eila PD       0:00      1 (Priority)\n",
      "     54036753_1325 owners,ak step5Neg     eila PD       0:00      1 (Priority)\n",
      "     54036753_1323 owners,ak step5Neg     eila PD       0:00      1 (Priority)\n",
      "     54036753_1322 owners,ak step5Neg     eila PD       0:00      1 (Priority)\n",
      "     54036753_1308 owners,ak step5Neg     eila PD       0:00      1 (Priority)\n",
      "     54036753_1307 owners,ak step5Neg     eila PD       0:00      1 (Priority)\n",
      "     54036753_1306 owners,ak step5Neg     eila PD       0:00      1 (Priority)\n",
      "     54036753_1303 owners,ak step5Neg     eila PD       0:00      1 (Priority)\n",
      "     54036753_1302 owners,ak step5Neg     eila PD       0:00      1 (Priority)\n",
      "     54036753_1301 owners,ak step5Neg     eila PD       0:00      1 (Priority)\n",
      "     54036753_1168 owners,ak step5Neg     eila PD       0:00      1 (Priority)\n",
      "     54036753_1354 owners,ak step5Neg     eila PD       0:00      1 (None)\n"
     ]
    }
   ],
   "source": [
    "!squeue --user=$USER"
   ]
  },
  {
   "cell_type": "code",
   "execution_count": 5,
   "id": "9bea715c-6947-492d-844b-a59f34015a92",
   "metadata": {},
   "outputs": [],
   "source": [
    "# Next: \n",
    "# array_job_interpret_example.sh - with 1000 peaks. counts and profile - two heads (one after the other)\n",
    "# seperate the profile from the counts - so we will not have timeput\n",
    "# note: can also run profile and counts steps separately (will have more jobs, each will take less time)\n",
    "# This need to be updated. https://github.com/kundajelab/chrombpnet/wiki/Generate-contribution-score-bigwigs\n",
    "# -pc for counts. -pc for profile. can be as paraemterts with the value of the -pc and one script.\n",
    "# chrombpnet contribs_bw \\\n",
    "#  -m ${MODEL_PATH} \\\n",
    "#  -r ${REGIONS_PATH} \\\n",
    "#  -g /oak/stanford/groups/akundaje/ziwei75/atac_seq_pipeline/hg38/GRCh38_no_alt_analysis_set_GCA_000001405.15.fasta \\ # update this for mouse\n",
    "#  -c /oak/stanford/groups/akundaje/ziwei75/atac_seq_pipeline/hg38/GRCh38_EBV.chrom.sizes.tsv \\ # update this for mouse\n",
    "#  -op ${output_dir}/${ENCSR_ID} | tee -a $log\n",
    "# comment the counts\n",
    "# change to $SCRATCH_GOUP\n",
    "# copy to $SCRATCH_GOUP whatever is remaining.\n",
    "# "
   ]
  },
  {
   "cell_type": "code",
   "execution_count": 6,
   "id": "5821672b-ff92-4a26-ab41-f9d2cd59c48e",
   "metadata": {},
   "outputs": [],
   "source": [
    "# !sstat -j 52658719 --format=JobID,MaxRSS,MaxVMSize\n"
   ]
  },
  {
   "cell_type": "code",
   "execution_count": 7,
   "id": "1d19f5fc-9521-41f8-bd21-d3e51d023468",
   "metadata": {},
   "outputs": [],
   "source": [
    "# !scontrol show job 52659563\n"
   ]
  },
  {
   "cell_type": "code",
   "execution_count": 23,
   "id": "2b4a5a21-b4e5-4a0e-b2e6-5bd37b3222f4",
   "metadata": {},
   "outputs": [],
   "source": [
    "# !squeue --user=$USER"
   ]
  },
  {
   "cell_type": "code",
   "execution_count": 121,
   "id": "c3963704-cc94-4c58-b481-106aa5628e4b",
   "metadata": {},
   "outputs": [],
   "source": [
    "# !scancel -u eila"
   ]
  },
  {
   "cell_type": "code",
   "execution_count": 122,
   "id": "3924921e-6fd3-43d5-bff5-8918553ba88a",
   "metadata": {},
   "outputs": [],
   "source": [
    "# !scancel 53562999_1"
   ]
  },
  {
   "cell_type": "code",
   "execution_count": 39,
   "id": "79b4720d-2e0b-4601-91ec-7f7c11930f3b",
   "metadata": {},
   "outputs": [],
   "source": [
    "# !sacct -j 53978234 --format=JobID,State,ExitCode\n"
   ]
  },
  {
   "cell_type": "code",
   "execution_count": 84,
   "id": "309ec7d2-ef76-4962-8a6c-77638f5af29d",
   "metadata": {},
   "outputs": [],
   "source": [
    "# #step 5 - train chrombpnet - human\n",
    "\n",
    "# !./execute_sbatch_arrays_on_sherlock.sh ./steps_inputs/step5/human/eila_peaks_matched_to_experiments-debug.txt step4-compute-negatives-non-peak-background.sh 2 2\n",
    "\n",
    "\n"
   ]
  },
  {
   "cell_type": "code",
   "execution_count": 21,
   "id": "4f349b2a-9876-4b6a-b233-42728185b20b",
   "metadata": {},
   "outputs": [],
   "source": [
    "# !ls /scratch/users/eila/encode_pseudobulks/chrombpnet_model"
   ]
  },
  {
   "cell_type": "code",
   "execution_count": 22,
   "id": "df692af2-5582-4f35-a382-e211820e4f0c",
   "metadata": {},
   "outputs": [],
   "source": [
    "# !ls /scratch/users/eila/encode_pseudobulks/chrombpnet_model/ENCSR396HHA\n"
   ]
  },
  {
   "cell_type": "code",
   "execution_count": 23,
   "id": "88878e8f-f9a1-4fc0-9a35-ba6509d34afd",
   "metadata": {},
   "outputs": [],
   "source": [
    "# !ls /scratch/users/eila/encode_pseudobulks/chrombpnet_model/ENCSR396HHA/negatives/fold_0\n"
   ]
  },
  {
   "cell_type": "code",
   "execution_count": 143,
   "id": "28bbe918-c9d4-4acf-8ae3-30656b2757bf",
   "metadata": {},
   "outputs": [
    {
     "name": "stdout",
     "output_type": "stream",
     "text": [
      "4\n"
     ]
    }
   ],
   "source": [
    "# !scontrol show job 52237837\n",
    "!squeue --user=$USER --state=PENDING | wc -l"
   ]
  },
  {
   "cell_type": "code",
   "execution_count": 144,
   "id": "b66fe21a-a572-45c3-84be-ac0cd575ba75",
   "metadata": {},
   "outputs": [
    {
     "name": "stdout",
     "output_type": "stream",
     "text": [
      "2\n"
     ]
    }
   ],
   "source": [
    "!squeue --user=$USER --state=COMPLETED | wc -l"
   ]
  },
  {
   "cell_type": "code",
   "execution_count": 147,
   "id": "89f4c495-59c3-483d-bd4a-5255595af6fd",
   "metadata": {},
   "outputs": [
    {
     "name": "stdout",
     "output_type": "stream",
     "text": [
      "70\n"
     ]
    }
   ],
   "source": [
    "!squeue --user=$USER --state=RUNNING | wc -l"
   ]
  },
  {
   "cell_type": "code",
   "execution_count": 146,
   "id": "4a3a2f9b-601d-4e86-9fb7-ba7a3dd79edc",
   "metadata": {},
   "outputs": [
    {
     "name": "stdout",
     "output_type": "stream",
     "text": [
      "             JOBID PARTITION     NAME     USER ST       TIME  NODES NODELIST(REASON)\n",
      "54006336_[21-22,40 owners,ak step62.b     eila PD       0:00      1 (Priority,BeginTime)\n",
      "54017075_[1210-135 owners,ak step5Neg     eila PD       0:00      1 (Priority)\n",
      "54017074_[50-1000% owners,ak step5Neg     eila PD       0:00      1 (Priority)\n"
     ]
    }
   ],
   "source": [
    "!squeue --user=$USER --state=PENDING\n"
   ]
  },
  {
   "cell_type": "code",
   "execution_count": 21,
   "id": "16662045-05db-45d5-b261-c686a54e9c15",
   "metadata": {},
   "outputs": [
    {
     "name": "stdout",
     "output_type": "stream",
     "text": [
      "eila\n"
     ]
    }
   ],
   "source": [
    "!echo $USER"
   ]
  },
  {
   "cell_type": "code",
   "execution_count": 22,
   "id": "067ee76b-968d-4ee2-88ca-3513ad26f0ee",
   "metadata": {},
   "outputs": [],
   "source": [
    "# !scontrol show job 52275013\n"
   ]
  },
  {
   "cell_type": "code",
   "execution_count": 23,
   "id": "6d03ac10-3c0b-431e-a223-fe6e187349c6",
   "metadata": {},
   "outputs": [],
   "source": [
    "# !squeue -u eila\n"
   ]
  },
  {
   "cell_type": "code",
   "execution_count": 24,
   "id": "434a92ae-78f4-41c3-ba51-339a8e5f67e9",
   "metadata": {},
   "outputs": [],
   "source": [
    "# !squeue --user=$USER --state=PENDING\n"
   ]
  },
  {
   "cell_type": "code",
   "execution_count": 25,
   "id": "dc61c75d-b775-4223-af6f-defd7f983e37",
   "metadata": {},
   "outputs": [],
   "source": [
    "# !squeue --user=$USER --state=RUNNING\n"
   ]
  },
  {
   "cell_type": "code",
   "execution_count": 26,
   "id": "baa40ad4-0838-4827-a1f1-3cc444586f44",
   "metadata": {},
   "outputs": [
    {
     "name": "stdout",
     "output_type": "stream",
     "text": [
      "             JOBID PARTITION     NAME     USER ST       TIME  NODES NODELIST(REASON)\n"
     ]
    }
   ],
   "source": [
    "# !scontrol show job | grep $USER\n",
    "!squeue -u eila --state=FAILED,PREEMPTED,TIMEOUT,PREEMPTED,NODE_FAIL,CANCELLED"
   ]
  },
  {
   "cell_type": "code",
   "execution_count": 27,
   "id": "242b570b-3b46-430e-ad7e-78a6525eb288",
   "metadata": {},
   "outputs": [],
   "source": [
    "# !squeue -u eila -o \"%.18i %.9P %.12j %.8u %.2t %.10M %.10l %.10Q %.19V %.19S\"\n"
   ]
  },
  {
   "cell_type": "code",
   "execution_count": 28,
   "id": "e80ccc0e-c081-467c-aabc-42bf30a60b0c",
   "metadata": {},
   "outputs": [
    {
     "name": "stdout",
     "output_type": "stream",
     "text": [
      "/oak/stanford/groups/akundaje/eila/git_tf_chromatin_atlas\n"
     ]
    }
   ],
   "source": [
    "!pwd"
   ]
  },
  {
   "cell_type": "code",
   "execution_count": 29,
   "id": "3b4a2914-5d5b-4ed4-ac74-04a6e1bf1e90",
   "metadata": {},
   "outputs": [],
   "source": [
    "# !squeue -u eila"
   ]
  },
  {
   "cell_type": "code",
   "execution_count": 30,
   "id": "14f8fd3b-ca0b-40e3-a809-406a511143c9",
   "metadata": {},
   "outputs": [],
   "source": [
    "# Remove logs\n",
    "# !find ./local_logs/ -name '*slurm*' -type f -mmin +600 -exec rm {} \\;\n"
   ]
  },
  {
   "cell_type": "code",
   "execution_count": 31,
   "id": "98ca2ef4-31fc-4394-b416-6f792c0593f2",
   "metadata": {},
   "outputs": [],
   "source": [
    "# !ls /scratch/users/eila/encode_pseudobulks_data/bam/ENCSR925AYP/ENCSR925AYP_sorted.bam "
   ]
  },
  {
   "cell_type": "code",
   "execution_count": 32,
   "id": "db55b4af-268a-4c93-88e7-fa4499dfa763",
   "metadata": {},
   "outputs": [],
   "source": [
    "# !ls /scratch/users/eila/encode_pseudobulks_data/ENCSR000NVR/peaks/ENCFF585MYS/ENCSR000NVR_ENCFF585MYS.bed.gz\n"
   ]
  },
  {
   "cell_type": "code",
   "execution_count": 33,
   "id": "87d6a660-5650-4575-afdc-cc2dd9b7a576",
   "metadata": {},
   "outputs": [],
   "source": [
    "# !ls /scratch/users/eila/encode_pseudobulks_data/bam/*/*_sorted.bam | wc -l"
   ]
  },
  {
   "cell_type": "code",
   "execution_count": 34,
   "id": "827fb4a3-a92f-446b-b8d8-440aa4c1e5be",
   "metadata": {},
   "outputs": [],
   "source": [
    "# !ls /scratch/users/eila/encode_pseudobulks_data/peaks/*/*/*.bed.gz | wc -l\n"
   ]
  },
  {
   "cell_type": "code",
   "execution_count": 35,
   "id": "66b50acb-ba88-459d-b774-c9519e3f8181",
   "metadata": {},
   "outputs": [],
   "source": [
    "# !ls /scratch/users/eila/encode_pseudobulks_data/bam/*/*_unsorted.bam | wc -l"
   ]
  },
  {
   "cell_type": "code",
   "execution_count": 36,
   "id": "71560da8-095b-41b8-8195-ead3aa01d217",
   "metadata": {},
   "outputs": [],
   "source": [
    "# !rm ./local_logs/slurm_step1_download_bams_err.combined.err"
   ]
  },
  {
   "cell_type": "code",
   "execution_count": 37,
   "id": "22921f00-13e6-4ed1-9a1d-3ca2e2974ab3",
   "metadata": {},
   "outputs": [],
   "source": [
    "# !rm ./local_logs/slurm_step4*"
   ]
  },
  {
   "cell_type": "code",
   "execution_count": 38,
   "id": "30f0c0fb-8d4b-486b-8d25-3499b3aaf70b",
   "metadata": {},
   "outputs": [],
   "source": [
    "# !ls"
   ]
  },
  {
   "cell_type": "code",
   "execution_count": 39,
   "id": "1b9a985c-602e-48b3-943a-84729883d656",
   "metadata": {},
   "outputs": [
    {
     "name": "stdout",
     "output_type": "stream",
     "text": [
      "/oak/stanford/groups/akundaje/eila/git_tf_chromatin_atlas\n"
     ]
    }
   ],
   "source": [
    "!pwd"
   ]
  },
  {
   "cell_type": "code",
   "execution_count": 40,
   "id": "0a76c129-168a-4cf0-9b61-4c149ca0cbd2",
   "metadata": {},
   "outputs": [],
   "source": [
    "# !ls -l ./local_logs/slurm_step5*"
   ]
  },
  {
   "cell_type": "code",
   "execution_count": 41,
   "id": "e2b06aed-ebe2-4e79-b4f8-ef2925e082d8",
   "metadata": {},
   "outputs": [],
   "source": [
    "# bias - given for the train\n",
    "# train - on one file. provides correlation metrics. we need to look at the motifs that modisco populates\n",
    "#         model. modisco on subset of the peaks- subset is random. evaludation folder - modisco and interpret on 30K areas\n",
    "# QC\n",
    "# interpret on subset of the peaks.\n"
   ]
  },
  {
   "cell_type": "code",
   "execution_count": 42,
   "id": "b7aaa213-c515-4c83-9baa-9e8919d4a164",
   "metadata": {},
   "outputs": [
    {
     "name": "stdout",
     "output_type": "stream",
     "text": [
      "/home/users/eila\n"
     ]
    }
   ],
   "source": [
    "!echo $HOME"
   ]
  },
  {
   "cell_type": "code",
   "execution_count": 43,
   "id": "cd4ba86a-4125-4fac-a6ef-d743ba4f362a",
   "metadata": {},
   "outputs": [],
   "source": [
    "# %%bash\n",
    "\n",
    "# # Define the base directories\n",
    "# SRC_BASE=\"/scratch/users/eila/encode_pseudobulks_data\"\n",
    "# DEST_BASE=\"/scratch/users/eila/encode_pseudobulks_data/bam\"\n",
    "\n",
    "# # Loop through all directories matching ENCSR* and move files\n",
    "# for DIR in ${SRC_BASE}/ENCSR*/bam; do\n",
    "#     # Extract the directory name after /ENCSR\n",
    "#     DIR_NAME=$(basename $(dirname \"$DIR\"))\n",
    "    \n",
    "#     # Define source and destination directories\n",
    "#     SRC_DIR=\"${SRC_BASE}/${DIR_NAME}/bam\"\n",
    "#     DEST_DIR=\"${DEST_BASE}/${DIR_NAME}\"\n",
    "    \n",
    "#     # Create destination directory if it doesn't exist\n",
    "#     mkdir -p \"$DEST_DIR\"\n",
    "    \n",
    "#     # Move files from source to destination\n",
    "#     mv \"$SRC_DIR\"/* \"$DEST_DIR\"/\n",
    "    \n",
    "#     echo \"Moved files from $SRC_DIR to $DEST_DIR\"\n",
    "# done\n"
   ]
  },
  {
   "cell_type": "code",
   "execution_count": 44,
   "id": "224f0409-6634-4be7-bba2-1303834e7842",
   "metadata": {},
   "outputs": [],
   "source": [
    " # scp -r eila@login.sherlock.stanford.edu:scratch/users/eila/encode_pseudobulks_model_training/human/ENCSR037JDN/ENCFF933KCP/fold_1_30000_20240912_182023/evaluation . \n",
    "\n",
    "\n",
    "# !rm ./local_logs/slurm_samools_err.combined.err\n",
    "# !rm ./local_logs/slurm_samools_out.combined.out"
   ]
  },
  {
   "cell_type": "code",
   "execution_count": 45,
   "id": "48b3b009-58c0-4109-adda-547b1e2e757c",
   "metadata": {},
   "outputs": [],
   "source": [
    "# !chmod +x samtools_merge.sh\n",
    "# !sbatch --verbose samtools_merge.sh\n",
    "# !ls"
   ]
  },
  {
   "cell_type": "code",
   "execution_count": 8,
   "id": "749b634f-79b7-4bf0-ab17-4578f07e2ea6",
   "metadata": {},
   "outputs": [
    {
     "name": "stdout",
     "output_type": "stream",
     "text": [
      "             JOBID PARTITION     NAME     USER ST       TIME  NODES NODELIST(REASON)\n"
     ]
    }
   ],
   "source": [
    "!squeue --user=$USER"
   ]
  },
  {
   "cell_type": "code",
   "execution_count": 13,
   "id": "fc3613e0-e969-497b-af5c-1c9db1f396fd",
   "metadata": {},
   "outputs": [],
   "source": [
    "# !chmod +x samtools_sort.sh\n",
    "# !sbatch --verbose samtools_sort.sh\n",
    "# !ls"
   ]
  },
  {
   "cell_type": "code",
   "execution_count": 14,
   "id": "0e4fb689-2f5a-4755-b656-85324decc427",
   "metadata": {},
   "outputs": [
    {
     "name": "stdout",
     "output_type": "stream",
     "text": [
      "             JOBID PARTITION     NAME     USER ST       TIME  NODES NODELIST(REASON)\n",
      "        53508298_1  akundaje 52allval     eila  R 1-20:03:27      1 sh02-02n32\n",
      "        53529465_1  akundaje  62epoch     eila  R 1-05:17:12      1 sh03-16n24\n"
     ]
    }
   ],
   "source": [
    "!squeue --user=$USER"
   ]
  },
  {
   "cell_type": "code",
   "execution_count": 44,
   "id": "92c96cdd-db77-4776-bc11-9875c58d1d91",
   "metadata": {},
   "outputs": [],
   "source": [
    "# while true; do ls -lt; sleep 10; done"
   ]
  },
  {
   "cell_type": "code",
   "execution_count": 45,
   "id": "8bf6f633-3771-4b3b-898b-7764d367ebc1",
   "metadata": {},
   "outputs": [],
   "source": [
    "# !chmod +x 03_samtools_index.sh\n",
    "# !sbatch --verbose 03_samtools_index.sh\n"
   ]
  },
  {
   "cell_type": "code",
   "execution_count": 46,
   "id": "01ad4e7f-ccfe-45a7-a116-171cf39472ed",
   "metadata": {},
   "outputs": [],
   "source": [
    "# !ls\n",
    "# !chmod +x 04_chrombpnet_pipeline.sh\n",
    "# !chmod +x 04_chrombpnet_pipeline-inputs.sh\n",
    "# !chmod +x Step5-2_Debug_chrombpnet_pipeline.sh\n",
    "# !sbatch --verbose 04_chrombpnet_pipeline.sh"
   ]
  },
  {
   "cell_type": "code",
   "execution_count": 50,
   "id": "1e237257-c908-464f-beda-c9d3e4518d26",
   "metadata": {},
   "outputs": [
    {
     "name": "stdout",
     "output_type": "stream",
     "text": [
      "3\n",
      "Submitting with GPU resources\n"
     ]
    }
   ],
   "source": [
    "# %%bash\n",
    "# GPUS=1\n",
    "\n",
    "# AVAILABLE_GPUS=$(sinfo -p akundaje,owners --format=\"%G\" | grep -o '[0-9]*' | head -n 1)\n",
    "# echo $AVAILABLE_GPUS\n",
    "# # Check if GPUs are available on Sherlock\n",
    "# if [ \"$AVAILABLE_GPUS\" -ge \"$GPUS\" ]; then\n",
    "#     echo \"Submitting with GPU resources\"\n",
    "#     # sbatch --gres=gpu:${GPUS} 04_chrombpnet_pipeline.sh\n",
    "#     # sbatch --gres=gpu:${GPUS} 04_chrombpnet_pipeline-inputs.sh\n",
    "#     # sbatch --gres=gpu:${GPUS} Step5-2_Debug_chrombpnet_pipeline.sh\n",
    "#     # sbath --gres=gpu:${GPUS} step6-2-chrombpnet-pipelline.sh \n",
    "# else\n",
    "#     echo \"No GPU available, submitting with 64 CPUs\"\n",
    "#     # sbatch --cpus-per-task=64 04_chrombpnet_pipeline.sh\n",
    "#     # sbatch --cpus-per-task=64 04_chrombpnet_pipeline-inputs.sh\n",
    "#     # sbatch --cpus-per-task=64 Step5-2_Debug_chrombpnet_pipeline.sh\n",
    "#     # sbath --cpus-per-task=64 step6-2-chrombpnet-pipelline.sh \n",
    "# fi"
   ]
  },
  {
   "cell_type": "code",
   "execution_count": 48,
   "id": "63e910d3-15d3-49a1-be52-526fd4b6b8a2",
   "metadata": {},
   "outputs": [],
   "source": [
    " # CPU exeuction\n",
    "\n",
    "# !sbatch --cpus-per-task=64 04_chrombpnet_pipeline.sh\n",
    "# !sbatch 01_utils_rsync.sh\n"
   ]
  },
  {
   "cell_type": "code",
   "execution_count": 49,
   "id": "fcc7cef1-b0cd-4ef6-9e38-8305ae67c0ec",
   "metadata": {},
   "outputs": [],
   "source": [
    "# !sinfo -p akundaje,owners --format=\"%G\""
   ]
  },
  {
   "cell_type": "code",
   "execution_count": 50,
   "id": "2eae6f71-7327-4511-8193-08a2dd9a03ea",
   "metadata": {},
   "outputs": [
    {
     "name": "stdout",
     "output_type": "stream",
     "text": [
      "3\n"
     ]
    }
   ],
   "source": [
    "!sinfo -p akundaje,owners --format=\"%G\" | grep -o '[0-9]*' | head -n 1"
   ]
  },
  {
   "cell_type": "code",
   "execution_count": 51,
   "id": "573a25c2-bc18-4cab-9943-bacdd4a57402",
   "metadata": {},
   "outputs": [],
   "source": [
    "# !scontrol update jobid=53289110 nice=0\n"
   ]
  },
  {
   "cell_type": "code",
   "execution_count": 52,
   "id": "6e39c2d2-056a-441b-8669-1403466e4775",
   "metadata": {},
   "outputs": [
    {
     "name": "stdout",
     "output_type": "stream",
     "text": [
      "             JOBID      USER ST TIME_LIMIT PRIORI                 NAME REASON\n",
      "        53497421_1      eila  R 2-00:00:00 0.0002 step6-2-train-chromb   None\n",
      "    53502124_[1%1]      eila PD      20:00 0.0000 step4-2-filter-peaks Priori\n"
     ]
    }
   ],
   "source": [
    "!squeue -u $USER -o \"%.18i %.9u %.2t %.10l %.6p %.20j %.6r\"\n"
   ]
  },
  {
   "cell_type": "code",
   "execution_count": 53,
   "id": "c5a6a917-7fae-4d36-b036-29b8fa2dd0a6",
   "metadata": {},
   "outputs": [
    {
     "name": "stdout",
     "output_type": "stream",
     "text": [
      "             JOBID      USER ST TIME_LIMIT PRIORI                 NAME REASON\n",
      "        53497421_1      eila  R 2-00:00:00 0.0002 step6-2-train-chromb   None\n",
      "    53502124_[1%1]      eila PD      20:00 0.0000 step4-2-filter-peaks Priori\n"
     ]
    }
   ],
   "source": [
    "!squeue -o \"%.18i %.9u %.2t %.10l %.6p %.20j %.6r\" -u $USER\n"
   ]
  },
  {
   "cell_type": "code",
   "execution_count": 54,
   "id": "a710fd9b-e79a-4e20-815d-61022695446f",
   "metadata": {},
   "outputs": [
    {
     "name": "stdout",
     "output_type": "stream",
     "text": [
      "             JOBID PARTITION     NAME     USER ST       TIME  NODES NODELIST(REASON)\n",
      "        53497421_1  akundaje step6-2-     eila  R    1:53:18      1 sh02-12n11\n",
      "    53502124_[1%1] owners,ak step4-2-     eila PD       0:00      1 (Priority)\n"
     ]
    }
   ],
   "source": [
    "!squeue --user=$USER "
   ]
  },
  {
   "cell_type": "code",
   "execution_count": 55,
   "id": "0297edda-61c5-4b6a-a13e-7a9a76c54602",
   "metadata": {},
   "outputs": [
    {
     "name": "stdout",
     "output_type": "stream",
     "text": [
      "             JOBID PARTITION     NAME     USER ST       TIME  NODES NODELIST(REASON)\n",
      "        53497421_1  akundaje step6-2-     eila  R    1:53:18      1 sh02-12n11\n",
      "    53502124_[1%1] owners,ak step4-2-     eila PD       0:00      1 (Priority)\n"
     ]
    }
   ],
   "source": [
    "!squeue --user=$USER"
   ]
  },
  {
   "cell_type": "code",
   "execution_count": 56,
   "id": "c3d474e9-7c68-4760-a30f-e71513482870",
   "metadata": {},
   "outputs": [
    {
     "name": "stdout",
     "output_type": "stream",
     "text": [
      "     JOBID       NAME    STATE MIN_MEMOR       CPUS NODELIST(REASON)   NODELIST  TIME_LEFT\n",
      "53497421_1 step6-2-tr  RUNNING       64G          1 sh02-12n11 sh02-12n11 1-22:06:26\n",
      "53502124_[ step4-2-fi  PENDING        2G          2 (Priority)                 20:00\n"
     ]
    }
   ],
   "source": [
    "!squeue --user=$USER --format=\"%.10i %.10j %.8T %.9m %.10C %.10R %.10N %.10L\""
   ]
  },
  {
   "cell_type": "code",
   "execution_count": 57,
   "id": "d47175d9-469f-4b2f-a2a6-81b02135beb5",
   "metadata": {},
   "outputs": [
    {
     "name": "stdout",
     "output_type": "stream",
     "text": [
      "             JOBID                                               NAME    STATE       TIME PARTI NODELIST(REASON)\n",
      "        53497421_1                           step6-2-train-chrombpnet  RUNNING    1:53:34 akund       sh02-12n11\n",
      "    53502124_[1%1]               step4-2-filter-peaks-by-blacklist.sh  PENDING       0:00 owner       (Priority)\n"
     ]
    }
   ],
   "source": [
    "!squeue --user=$USER --format=\"%.18i %.50j %.8T %.10M %.5P %.16R\"\n"
   ]
  },
  {
   "cell_type": "code",
   "execution_count": 58,
   "id": "b3e66e38-9bed-4358-bc7a-ffb7bdce57fa",
   "metadata": {},
   "outputs": [],
   "source": [
    "# !scancel 53305606"
   ]
  },
  {
   "cell_type": "code",
   "execution_count": 2,
   "id": "61994866-7f84-4ba7-8ed8-3dd3ca5b0e75",
   "metadata": {},
   "outputs": [
    {
     "name": "stdout",
     "output_type": "stream",
     "text": [
      "Fri Sep 27 13:00:37 2024\n",
      "             JOBID PARTITION     NAME     USER    STATE       TIME TIME_LIMI  NODES NODELIST(REASON)\n",
      "        53508298_1  akundaje 52allval     eila  RUNNING 1-18:32:35 2-00:00:00      1 sh02-02n32\n",
      "        53529465_1  akundaje  62epoch     eila  RUNNING 1-03:46:20 2-00:00:00      1 sh03-16n24\n"
     ]
    }
   ],
   "source": [
    "!squeue --user=$USER --long\n",
    "\n"
   ]
  },
  {
   "cell_type": "code",
   "execution_count": 6,
   "id": "7d576901-eda8-474f-8f99-01adb257a39d",
   "metadata": {},
   "outputs": [
    {
     "name": "stdout",
     "output_type": "stream",
     "text": [
      "     JOBID       NAME    STATE MIN_MEMOR       CPUS\n",
      "53973427_[ step62.bpn  PENDING       64G          1\n"
     ]
    }
   ],
   "source": [
    "!squeue --user=$USER --format=\"%.10i %.10j %.8T %.9m %.10C\"\n",
    "\n",
    "\n"
   ]
  },
  {
   "cell_type": "code",
   "execution_count": 5,
   "id": "15c7a3a7-69b7-4be4-836d-2aadfd519395",
   "metadata": {},
   "outputs": [
    {
     "name": "stdout",
     "output_type": "stream",
     "text": [
      "     JOBID       NAME    STATE    NODES NODELIST(REASON)\n",
      "53973427_[ step62.bpn  PENDING        1           (None)\n"
     ]
    }
   ],
   "source": [
    "!squeue --user=$USER --format=\"%.10i %.10j %.8T %.8D %.16R\"\n",
    "\n",
    "\n"
   ]
  },
  {
   "cell_type": "code",
   "execution_count": 57,
   "id": "300fa490-a509-4c6a-bdd6-5c2d54c68d27",
   "metadata": {},
   "outputs": [],
   "source": [
    "# !ls ./chrombpnet_tutorial/data/splits"
   ]
  },
  {
   "cell_type": "code",
   "execution_count": 58,
   "id": "7cf34f55-92e3-496f-bceb-fead7c5b6f9f",
   "metadata": {},
   "outputs": [],
   "source": [
    "# !ls ./chrombpnet_tutorial/data/downloads"
   ]
  },
  {
   "cell_type": "code",
   "execution_count": 59,
   "id": "d73aa1f7-d281-4cda-b548-cb195d7fc941",
   "metadata": {},
   "outputs": [],
   "source": [
    "# !ls ./chrombpnet_tutorial/bias_model"
   ]
  },
  {
   "cell_type": "code",
   "execution_count": 60,
   "id": "7477a740-ffb5-4c13-9286-071f68c33dc3",
   "metadata": {},
   "outputs": [],
   "source": [
    "# !ls ./chrombpnet_tutorial/data"
   ]
  },
  {
   "cell_type": "code",
   "execution_count": 47,
   "id": "6aad875d-acdb-47dc-8050-c24b3af7adbe",
   "metadata": {},
   "outputs": [],
   "source": [
    "# !rm ./local_logs/slurm_or_*"
   ]
  },
  {
   "cell_type": "code",
   "execution_count": null,
   "id": "c5b0ca0c-106b-4e02-9282-2d02006e0d56",
   "metadata": {},
   "outputs": [],
   "source": []
  },
  {
   "cell_type": "code",
   "execution_count": 283,
   "id": "43baaa45-fb03-4ef7-a749-ebbefd235d62",
   "metadata": {},
   "outputs": [],
   "source": [
    "# !rm ./local_logs/slurm_tr_epoch.combined*"
   ]
  },
  {
   "cell_type": "code",
   "execution_count": 25,
   "id": "03594938-0df9-419b-a492-e34e94737de7",
   "metadata": {},
   "outputs": [],
   "source": [
    "# !rm ./local_logs/slurm.gpu_ENCSR037JDN.*"
   ]
  },
  {
   "cell_type": "code",
   "execution_count": 2,
   "id": "76fdc4bc-96f2-4a8e-b81f-879929b397d1",
   "metadata": {},
   "outputs": [
    {
     "name": "stdout",
     "output_type": "stream",
     "text": [
      "/oak/stanford/groups/akundaje/eila/git_tf_chromatin_atlas\n"
     ]
    }
   ],
   "source": [
    "!pwd"
   ]
  },
  {
   "cell_type": "code",
   "execution_count": 49,
   "id": "6797a41b-5a82-4086-a9f5-076246f2315e",
   "metadata": {},
   "outputs": [
    {
     "name": "stdout",
     "output_type": "stream",
     "text": [
      "ID1: ENCSR449JMK\n",
      "ID2: ENCFF672JNY\n"
     ]
    }
   ],
   "source": [
    "\n",
    "# %%bash\n",
    "\n",
    "# path=\"/scratch/groups/akundaje/eila/encode_pseudobulks/encode_pseudobulks_data/peaks/ENCSR449JMK/ENCFF672JNY/ENCSR449JMK_ENCFF672JNY.bed.gz\"\n",
    "\n",
    "# ID1=$(echo \"$path\" | awk -F'/' '{print $(NF-2)}')  # Extracts the second last directory name\n",
    "# ID2=$(echo \"$path\" | awk -F'/' '{print $(NF-1)}')  # Extracts the last directory name\n",
    "\n",
    "# echo \"ID1: $ID1\"\n",
    "# echo \"ID2: $ID2\"\n"
   ]
  },
  {
   "cell_type": "code",
   "execution_count": 4,
   "id": "4b64ed53-9141-4669-b296-6f18469d75f8",
   "metadata": {},
   "outputs": [],
   "source": [
    "# pip show biopython\n"
   ]
  },
  {
   "cell_type": "code",
   "execution_count": null,
   "id": "c0ef2702-bbbe-4a7c-9a97-af561fa0f5f9",
   "metadata": {},
   "outputs": [],
   "source": []
  }
 ],
 "metadata": {
  "kernelspec": {
   "display_name": "Python 3 (ipykernel)",
   "language": "python",
   "name": "python3"
  },
  "language_info": {
   "codemirror_mode": {
    "name": "ipython",
    "version": 3
   },
   "file_extension": ".py",
   "mimetype": "text/x-python",
   "name": "python",
   "nbconvert_exporter": "python",
   "pygments_lexer": "ipython3",
   "version": "3.12.4"
  }
 },
 "nbformat": 4,
 "nbformat_minor": 5
}
