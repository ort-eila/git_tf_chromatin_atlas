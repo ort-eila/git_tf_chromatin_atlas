{
 "cells": [
  {
   "cell_type": "code",
   "execution_count": null,
   "id": "c460f443-e8a4-41f8-b220-f277636a8fd4",
   "metadata": {},
   "outputs": [],
   "source": [
    "\n",
    "## for all execution\n",
    "!mkdir -p local_logs\n",
    "# create a .env file with the ACCESS_KEY and SECRET_KEY\n",
    "# .env\n",
    "# ACCESS_KEY=your_api_key\n",
    "# SECRET_KEY=localhost\n"
   ]
  },
  {
   "cell_type": "code",
   "execution_count": 1,
   "id": "03f0a817-de06-4932-8013-9071f3131da6",
   "metadata": {},
   "outputs": [],
   "source": [
    "from dotenv import load_dotenv\n",
    "import os\n",
    "\n",
    "# Load environment variables from the .env file\n",
    "load_dotenv()\n",
    "\n",
    "# Access the variables\n",
    "ACCESS_KEY = os.getenv('ACCESS_KEY')\n",
    "SECRET_KEY = os.getenv('SECRET_KEY')\n"
   ]
  },
  {
   "cell_type": "code",
   "execution_count": 2,
   "id": "b04aaa21-dbdd-4926-ade7-208609808f85",
   "metadata": {},
   "outputs": [],
   "source": [
    "# ACCESS_KEY"
   ]
  },
  {
   "cell_type": "code",
   "execution_count": 3,
   "id": "404ee348-63ce-47c2-8631-3b6fe4ae5936",
   "metadata": {},
   "outputs": [],
   "source": [
    "# SECRET_KEY"
   ]
  },
  {
   "cell_type": "code",
   "execution_count": 4,
   "id": "90fae31a-71f4-4179-8a39-ac8d80d85b5f",
   "metadata": {},
   "outputs": [],
   "source": [
    "# !sacctmgr show user $USER withassoc\n",
    "\n"
   ]
  },
  {
   "cell_type": "code",
   "execution_count": 5,
   "id": "805ee7a0-db82-4cdb-9819-f9ea1793a9b6",
   "metadata": {},
   "outputs": [],
   "source": [
    "# !echo $ACCESS_KEY\n",
    "# !echo $SECRET_KEY"
   ]
  },
  {
   "cell_type": "code",
   "execution_count": 23,
   "id": "fff3eddf-9a57-48e7-a2f5-cee1973c1554",
   "metadata": {},
   "outputs": [],
   "source": [
    "#preperation for step 1:\n",
    "\n",
    "import os\n",
    "import csv\n",
    "import glob\n",
    "\n",
    "# Define file paths\n",
    "# input_file = \"./steps_inputs/step1/atac_pseudobulk_new_peaks_files_mapping.txt\"\n",
    "input_file = \"./steps_inputs/step1/missing_atac_pseudobulk_new_peaks_files_mapping.txt\"\n",
    "output_file = \"./steps_inputs/step1/missing_atac_pseudobulk_new_bams_files_mapping.txt\"\n",
    "extra_ids_file = \"./steps_inputs/step1/extra_bams_ids_not_in_input_file.txt\"\n",
    "bams_dir = \"/scratch/groups/akundaje/eila/encode_pseudobulks/encode_pseudobulks_data/bams\"\n",
    "\n",
    "# Ensure the input file exists\n",
    "if not os.path.exists(input_file):\n",
    "    print(f\"Input file {input_file} does not exist. Exiting.\")\n",
    "    exit(1)\n",
    "\n",
    "# Collect ENCSR_IDs from the input file\n",
    "input_ids = set()\n",
    "with open(input_file, \"r\") as infile:\n",
    "    reader = csv.DictReader(infile)\n",
    "    for row in reader:\n",
    "        encsr_id = os.path.basename(row['ID'].strip('/'))\n",
    "        input_ids.add(encsr_id)\n",
    "\n",
    "# Collect ENCSR_IDs from the bams_dir\n",
    "bams_ids = set(next(os.walk(bams_dir))[1])\n",
    "\n",
    "# Identify extra IDs in bams_dir not present in input file\n",
    "extra_ids = bams_ids - input_ids\n",
    "\n",
    "# Write extra IDs to a separate file\n",
    "with open(extra_ids_file, \"w\") as extra_file:\n",
    "    extra_file.write(\"ENCSR_ID\\n\")\n",
    "    for encsr_id in sorted(extra_ids):\n",
    "        extra_file.write(f\"{encsr_id}\\n\")\n",
    "\n",
    "# Open the input file and output file for missing rows\n",
    "with open(input_file, \"r\") as infile, open(output_file, \"w\", newline=\"\") as outfile:\n",
    "    reader = csv.DictReader(infile)\n",
    "    writer = csv.DictWriter(outfile, fieldnames=reader.fieldnames)\n",
    "\n",
    "    # Write the header to the output file\n",
    "    writer.writeheader()\n",
    "\n",
    "    # Iterate through each row in the input file\n",
    "    for row in reader:\n",
    "        # Extract ENCSR_ID from the ID column\n",
    "        encsr_id = os.path.basename(row['ID'].strip('/'))\n",
    "\n",
    "        # Construct the search pattern for .bam files\n",
    "        search_pattern = os.path.join(bams_dir, encsr_id, \"*.bam\")\n",
    "\n",
    "        # Check if any matching files exist\n",
    "        if not glob.glob(search_pattern):\n",
    "            # Write the missing row to the output file\n",
    "            writer.writerow(row)\n",
    "\n",
    "print(f\"Missing ENCSR_ID rows have been saved to {output_file}.\")\n",
    "print(f\"Extra ENCSR_IDs in {bams_dir} not found in the input file have been saved to {extra_ids_file}.\")\n",
    "\n"
   ]
  },
  {
   "cell_type": "code",
   "execution_count": 33,
   "id": "271ea2f3-267e-4a53-95f6-d698e72c8242",
   "metadata": {},
   "outputs": [],
   "source": [
    "# # preperation for step 1:\n",
    "# import os\n",
    "# import csv\n",
    "# import glob\n",
    "\n",
    "# # File paths\n",
    "# input_file = \"./steps_inputs/step1/7_missing_atac_pseudobulk_new_peaks_files_mapping.txt\"\n",
    "# output_file = \"./steps_inputs/step1/missing_atac_pseudobulk_new_bams_files_download_info.txt\"\n",
    "# extra_ids_file = \"./steps_inputs/step1/extra_bams_ids_not_in_input_file.txt\"\n",
    "# bams_dir = \"/scratch/groups/akundaje/eila/encode_pseudobulks/encode_pseudobulks_data/bams\"\n",
    "\n",
    "# # Ensure the input file exists\n",
    "# if not os.path.exists(input_file):\n",
    "#     print(f\"Input file {input_file} does not exist. Exiting.\")\n",
    "#     exit(1)\n",
    "\n",
    "# # Collect ENCSR_IDs from the input file\n",
    "# input_ids = set()\n",
    "# with open(input_file, \"r\") as infile:\n",
    "#     reader = csv.DictReader(infile)\n",
    "#     for row in reader:\n",
    "#         encsr_id = os.path.basename(row['ID'].strip('/'))\n",
    "#         input_ids.add(encsr_id)\n",
    "\n",
    "# # Collect ENCSR_IDs from bams_dir\n",
    "# bams_ids = set(next(os.walk(bams_dir))[1])\n",
    "\n",
    "# # Identify extra IDs in bams_dir not present in input file\n",
    "# extra_ids = bams_ids - input_ids\n",
    "\n",
    "# # Write extra IDs to a separate file\n",
    "# with open(extra_ids_file, \"w\") as extra_file:\n",
    "#     extra_file.write(\"ENCSR_ID\\n\")\n",
    "#     for encsr_id in sorted(extra_ids):\n",
    "#         extra_file.write(f\"{encsr_id}\\n\")\n",
    "\n",
    "# # Prepare output for missing BAMs with download info\n",
    "# with open(input_file, \"r\") as infile, open(output_file, \"w\", newline=\"\") as outfile:\n",
    "#     reader = csv.DictReader(infile)\n",
    "#     writer = csv.writer(outfile, delimiter=\"\\t\")\n",
    "\n",
    "#     # Write header\n",
    "#     # writer.writerow([\"ENCSR_ID\", \"download_url\", \"EXPECTED_MD5\"])\n",
    "\n",
    "#     for row in reader:\n",
    "#         encsr_id = os.path.basename(row['ID'].strip('/'))\n",
    "#         search_pattern = os.path.join(bams_dir, encsr_id, \"*.bam\")\n",
    "\n",
    "#         if not glob.glob(search_pattern):\n",
    "#             download_url = \"https://www.encodeproject.org\" + row['new_download_url']\n",
    "#             expected_md5 = row['new_md5']\n",
    "#             writer.writerow([encsr_id, download_url, expected_md5])\n",
    "\n",
    "# print(f\"Download info for missing BAMs written to {output_file}.\")\n",
    "# print(f\"Extra ENCSR_IDs in {bams_dir} not found in input file written to {extra_ids_file}.\")\n"
   ]
  },
  {
   "cell_type": "code",
   "execution_count": 34,
   "id": "ec5506ee-1145-47a3-a9ac-7f12ecf41da1",
   "metadata": {},
   "outputs": [],
   "source": [
    "# !chmod +x execute_sbatch_arrays_on_sherlock.py \n",
    "\n",
    "# eila_in_download_bams.txt: The input file name.\n",
    "# step1-download-bams.sh: The SLURM script name.\n",
    "# 1: entries_per_job (number of entries per job). - how much is each job needs\n",
    "# 1: max_concurrent_tasks (maximum number of concurrent tasks). - 500 for stanford\n",
    "\n",
    "\n",
    "# example for input of 1300 lines:\n",
    "# ./execute_sbatch_arrays_on_sherlock.sh eila_in_download_bams.txt step1-download-bams.sh 500 500\n",
    "# Breakdown:\n",
    "# eila_in_download_bams.txt: The input file with 1200 lines.\n",
    "# step1-download-bams.sh: The SLURM script to run.\n",
    "# 500: Number of lines per job array (tasks per array).\n",
    "# 500: Maximum number of concurrent tasks per array."
   ]
  },
  {
   "cell_type": "code",
   "execution_count": 15,
   "id": "21c358e0-1427-4c24-badd-1e3b70c8fd73",
   "metadata": {},
   "outputs": [
    {
     "name": "stdout",
     "output_type": "stream",
     "text": [
      "7_missing_atac_pseudobulk_new_peaks_files_mapping.txt\n",
      "atac_pseudobulk_new_peaks_files_mapping.txt\n",
      "ENCODE_snatac_pseudobulk_replacements_v2_experiemnt_id_bam_url.txt\n",
      "ENCODE_snatac_pseudobulk_replacements_v2_with_BAM_ENCFF_with_accessions.txt\n",
      "extra_bams_ids_not_in_input_file.txt\n",
      "missing_atac_pseudobulk_new_bams_files_download_info.txt.txt\n",
      "missing_atac_pseudobulk_new_bams_files_mapping.txt\n",
      "NA_ALL_missing_atac_pseudobulk_new_bams_files_download_info.txt\n",
      "NA_ENCODE_snatac_pseudobulk_replacements_v2_experiemnt_id_bam_url-debug.txt\n",
      "NA_ENCODE_snatac_pseudobulk_replacements_v2_with_BAM_ENCFF.txt\n",
      "NA_missing_bam_files.txt\n",
      "removed_folders\n"
     ]
    }
   ],
   "source": [
    "!ls ./steps_inputs/step1/"
   ]
  },
  {
   "cell_type": "code",
   "execution_count": 16,
   "id": "3e2234fe-ffbc-4a12-991b-3969a259c87c",
   "metadata": {},
   "outputs": [
    {
     "name": "stdout",
     "output_type": "stream",
     "text": [
      "7 ./steps_inputs/step1/missing_atac_pseudobulk_new_bams_files_download_info.txt\n",
      "ENCSR296YTU\thttps://www.encodeproject.org/files/ENCFF203BUH/@@download/ENCFF203BUH.bam\t5686c1272a6bbead5e25f968ebfb555f\n",
      "ENCSR979LAC\thttps://www.encodeproject.org/files/ENCFF915GGV/@@download/ENCFF915GGV.bam\t5da42702b3bb4823370b98a67eda2bfd\n"
     ]
    }
   ],
   "source": [
    "!wc -l ./steps_inputs/step1/missing_atac_pseudobulk_new_bams_files_download_info.txt\n",
    "!head -2 ./steps_inputs/step1/missing_atac_pseudobulk_new_bams_files_download_info.txt"
   ]
  },
  {
   "cell_type": "code",
   "execution_count": 17,
   "id": "01be7f93-162d-4528-9a47-872d8ad33da7",
   "metadata": {},
   "outputs": [
    {
     "name": "stdout",
     "output_type": "stream",
     "text": [
      "Submitting job array for range 1-7%7\n",
      "Jobs 63635603 are running...\n"
     ]
    }
   ],
   "source": [
    "# step 1\n",
    "from dotenv import load_dotenv\n",
    "import os\n",
    "\n",
    "# Load environment variables from the .env file\n",
    "load_dotenv()\n",
    "\n",
    "# Access the variables\n",
    "ACCESS_KEY = os.getenv('ACCESS_KEY')\n",
    "SECRET_KEY = os.getenv('SECRET_KEY')\n",
    "\n",
    "# !echo $ACCESS_KEY\n",
    "# !echo $SECRET_KEY\n",
    "\n",
    "# !rm ./local_logs/step1.download.*\n",
    "# '--ntasks=1' in the step1-download-bams.sh script means each job in the job array runs a single task.\n",
    "# Each task processes a specified **range of rows** from the input file, with the range determined by the 'entries_per_job' value.\n",
    "# The range of rows assigned to each job is calculated based on its SLURM_ARRAY_TASK_ID, starting from a specific \"relative row\" based on its job number.\n",
    "# For example, if 'entries_per_job' is set to 1000:\n",
    "#   - Job 1 (SLURM_ARRAY_TASK_ID=1) will process rows 1-1000.\n",
    "#   - Job 2 (SLURM_ARRAY_TASK_ID=2) will process rows 1001-2000.\n",
    "#   - Job 3 (SLURM_ARRAY_TASK_ID=3) will process rows 2001-3000.\n",
    "#   - Job 4 (SLURM_ARRAY_TASK_ID=4) will process rows 3001-4000.\n",
    "#   - Job 5 (SLURM_ARRAY_TASK_ID=5) will process rows 4001-5000.\n",
    "#\n",
    "# The concurrency limit '%1000' ensures that no more than 1000 jobs run simultaneously, but it does not affect how many rows each individual job processes.\n",
    "# Each job processes its own chunk of rows, defined by the entries_per_job setting.\n",
    "# Stanford limit is around 1000\n",
    "\n",
    "!./execute_sbatch_arrays_on_sherlock.sh ./steps_inputs/step1/missing_atac_pseudobulk_new_bams_files_download_info.txt step1-download-bams.sh 7 7\n",
    "\n",
    "\n"
   ]
  },
  {
   "cell_type": "code",
   "execution_count": 18,
   "id": "66b22641-cd1c-45c8-8449-3019010c64a6",
   "metadata": {},
   "outputs": [
    {
     "name": "stdout",
     "output_type": "stream",
     "text": [
      "ENCFF915GGV_unsorted.bam\n"
     ]
    }
   ],
   "source": [
    "!ls /scratch/groups/akundaje/eila/encode_pseudobulks/encode_pseudobulks_data/bams/ENCSR979LAC/"
   ]
  },
  {
   "cell_type": "code",
   "execution_count": 19,
   "id": "ce03c3d3-7ae1-4ea2-b48c-ea8f7b20e84d",
   "metadata": {},
   "outputs": [
    {
     "name": "stdout",
     "output_type": "stream",
     "text": [
      "7 /oak/stanford/groups/akundaje/eila/git_tf_chromatin_atlas/steps_inputs/step2/unsorted_bam_files_list.txt\n"
     ]
    }
   ],
   "source": [
    "# # step 2 - prepare for step 2 - check how many BAM files are available\n",
    "\n",
    "# # FIRST:check that we have all the relevant BAMs\n",
    "# !ls $GROUP_SCRATCH/$USER/encode_pseudobulks/encode_pseudobulks_data/bams/ENCSR*/*unsorted.bam > /oak/stanford/groups/akundaje/eila/git_tf_chromatin_atlas/steps_inputs/step2/unsorted_bam_files_list.txt\n",
    "\n",
    "# !wc -l /oak/stanford/groups/akundaje/eila/git_tf_chromatin_atlas/steps_inputs/step2/unsorted_bam_files_list.txt\n"
   ]
  },
  {
   "cell_type": "code",
   "execution_count": 55,
   "id": "2b8fa51c-306d-4ebc-a77d-51f7ddfa1652",
   "metadata": {},
   "outputs": [
    {
     "name": "stdout",
     "output_type": "stream",
     "text": [
      "1490 /oak/stanford/groups/akundaje/eila/git_tf_chromatin_atlas/steps_inputs/step2/unsorted_bam_files_list.txt\n"
     ]
    }
   ],
   "source": [
    "# vhecht:\n",
    "\n",
    "# step 2 - prepare for step 2 - check how many BAM files are available\n",
    "\n",
    "# FIRST:check that we have all the relevant BAMs\n",
    "!ls $GROUP_SCRATCH/vhecht/encode_pseudobulks/encode_pseudobulks_data/bams/ENCSR*/*unsorted.bam > /oak/stanford/groups/akundaje/eila/git_tf_chromatin_atlas/steps_inputs/step2/unsorted_bam_files_list.txt\n",
    "\n",
    "!wc -l /oak/stanford/groups/akundaje/eila/git_tf_chromatin_atlas/steps_inputs/step2/unsorted_bam_files_list.txt\n"
   ]
  },
  {
   "cell_type": "code",
   "execution_count": 56,
   "id": "2ba843d8-5d5a-4d89-9164-4e4b99c0189b",
   "metadata": {},
   "outputs": [
    {
     "name": "stdout",
     "output_type": "stream",
     "text": [
      "1490 ./steps_inputs/step2/unsorted_bam_files_list.txt\n"
     ]
    }
   ],
   "source": [
    "# !./execute_sbatch_arrays_on_sherlock.sh\n",
    "!wc -l ./steps_inputs/step2/unsorted_bam_files_list.txt"
   ]
  },
  {
   "cell_type": "code",
   "execution_count": 58,
   "id": "ff967436-3827-4db8-bcea-d26415a96fa0",
   "metadata": {},
   "outputs": [
    {
     "name": "stdout",
     "output_type": "stream",
     "text": [
      "/scratch/groups/akundaje/vhecht/encode_pseudobulks/encode_pseudobulks_data/bams/ENCSR000RPM/ENCFF902TLW_unsorted.bam\n",
      "/scratch/groups/akundaje/vhecht/encode_pseudobulks/encode_pseudobulks_data/bams/ENCSR001RCY/ENCFF529ECG_unsorted.bam\n",
      "/scratch/groups/akundaje/vhecht/encode_pseudobulks/encode_pseudobulks_data/bams/ENCSR001WAB/ENCFF283ZVP_unsorted.bam\n",
      "/scratch/groups/akundaje/vhecht/encode_pseudobulks/encode_pseudobulks_data/bams/ENCSR002IHA/ENCFF002TJM_unsorted.bam\n",
      "/scratch/groups/akundaje/vhecht/encode_pseudobulks/encode_pseudobulks_data/bams/ENCSR005MIW/ENCFF971GXP_unsorted.bam\n",
      "/scratch/groups/akundaje/vhecht/encode_pseudobulks/encode_pseudobulks_data/bams/ENCSR005OQJ/ENCFF663DIE_unsorted.bam\n"
     ]
    }
   ],
   "source": [
    "!head -6 ./steps_inputs/step2/unsorted_bam_files_list.txt"
   ]
  },
  {
   "cell_type": "code",
   "execution_count": 23,
   "id": "894b8758-904b-4395-a3b3-93ca4de41238",
   "metadata": {},
   "outputs": [
    {
     "name": "stdout",
     "output_type": "stream",
     "text": [
      "Submitting job array for range 1-7%7\n",
      "Jobs 63636090 are running...\n"
     ]
    }
   ],
   "source": [
    "# #step 2 - samtools sort and index\n",
    "# !rm ./local_logs/step2.samtools.combined.*\n",
    "# !rm ./local_logs/step2.ENCSR865OGT.combined*\n",
    "# !chmod +x execute_sbatch_arrays_on_sherlock.sh\n",
    "!./execute_sbatch_arrays_on_sherlock.sh ./steps_inputs/step2/unsorted_bam_files_list.txt step2-samtool-sort-index.sh 7 7 \n",
    "\n"
   ]
  },
  {
   "cell_type": "code",
   "execution_count": 24,
   "id": "f7f79a06-97d1-40d1-9654-c77147099b26",
   "metadata": {},
   "outputs": [],
   "source": [
    "# %%bash\n",
    "# BAM_FILE=\"/scratch/groups/akundaje/eila/encode_pseudobulks/encode_pseudobulks_data/bams/ENCSR865OGT/ENCFF899ENE_unsorted.bam\"\n",
    "# echo $BAM_FILE\n",
    "# ENCFF_ID=$(basename $(dirname \"$BAM_FILE\"))\n",
    "# echo $ENCSR_ID\n",
    "# ENCFF_ID=$(basename \"$BAM_FILE\" | cut -d'_' -f1)\n",
    "# echo $ENCFF_ID\n"
   ]
  },
  {
   "cell_type": "code",
   "execution_count": 25,
   "id": "b79ffa8c-91cb-47fb-967a-5636ec1d8a62",
   "metadata": {},
   "outputs": [],
   "source": [
    "# !scontrol show config | grep MaxArraySize\n",
    "# MaxArraySize            = 1000000"
   ]
  },
  {
   "cell_type": "code",
   "execution_count": 26,
   "id": "05858e98-39db-411c-b80e-90c48e053da9",
   "metadata": {},
   "outputs": [
    {
     "name": "stdout",
     "output_type": "stream",
     "text": [
      "atac_pseudobulk_new_peaks_files_mapping-Copy1.txt\n",
      "atac_pseudobulk_new_peaks_files_mapping.txt\n",
      "extra_peaks_ids_not_in_input_file.txt\n",
      "missing_atac_pseudobulk_new_peaks_files_mapping.txt\n",
      "NA_eila_peaks_matched_to_experiments-debug.txt\n",
      "NA_eila_peaks_matched_to_experiments.txt\n",
      "NA_ENCODE_snatac_pseudobulk_replacements_v2_experiment_id_peaks-debug.txt\n",
      "NA_ENCODE_snatac_pseudobulk_replacements_v2_experiment_id_peaks.txt\n",
      "NA_ENCODE_snatac_pseudobulk_replacements_v2_with_peaks.csv\n",
      "NA_missing_peak_files.txt\n"
     ]
    }
   ],
   "source": [
    "!ls ./steps_inputs/step3"
   ]
  },
  {
   "cell_type": "code",
   "execution_count": 28,
   "id": "3fcc5ea5-5be3-411a-9956-eea69851e690",
   "metadata": {},
   "outputs": [],
   "source": [
    "# ACCESS_KEY"
   ]
  },
  {
   "cell_type": "code",
   "execution_count": 29,
   "id": "cc032c1b-1eaf-4baf-bdba-335f869079b5",
   "metadata": {},
   "outputs": [],
   "source": [
    "# !ls ./steps_inputs/step3"
   ]
  },
  {
   "cell_type": "code",
   "execution_count": 30,
   "id": "849bc88c-724c-4a5b-b0a6-2175aecdff48",
   "metadata": {},
   "outputs": [],
   "source": [
    "# !cat ./steps_inputs/step3/atac_pseudobulk_new_peaks_files_mapping-Copy1.txt"
   ]
  },
  {
   "cell_type": "code",
   "execution_count": 59,
   "id": "80c8fa96-563f-4671-a87d-bfc1dccfff3a",
   "metadata": {},
   "outputs": [
    {
     "name": "stdout",
     "output_type": "stream",
     "text": [
      "  1491  15982 561344 ./steps_inputs/step3/atac_pseudobulk_new_peaks_files_mapping.txt\n"
     ]
    }
   ],
   "source": [
    "!wc ./steps_inputs/step3/atac_pseudobulk_new_peaks_files_mapping.txt"
   ]
  },
  {
   "cell_type": "code",
   "execution_count": 60,
   "id": "17ec32e0-9358-4934-8dd4-09666213a855",
   "metadata": {},
   "outputs": [
    {
     "name": "stdout",
     "output_type": "stream",
     "text": [
      "ID,Description,Status,Organism,Aliases,old_annotation,new_bed,old_bed,new_download_url,new_md5,old_md5\n",
      "/annotations/ENCSR429XJF/,snATAC pseudobulk for ENCSR000XQD endothelial cell,in progress,Homo sapiens,anshul-kundaje:single-cell_snATACpseudobulk_level1-ENCSR000XQD-endothelial_cell,/annotations/ENCSR679XHE/,ENCFF599SDP,ENCFF249VQL,/files/ENCFF599SDP/@@download/ENCFF599SDP.bed.gz,2fc818397e13e670057c4a531030c30b,2fc818397e13e670057c4a531030c30b\n",
      "/annotations/ENCSR720LUF/,snATAC pseudobulk for ENCSR000XQD fibroadipogenic progenitor cell,in progress,Homo sapiens,anshul-kundaje:single-cell_snATACpseudobulk_level1-ENCSR000XQD-fibroadipogenic_progenitor_cell,/annotations/ENCSR391WZC/,ENCFF547IAH,ENCFF170FBL,/files/ENCFF547IAH/@@download/ENCFF547IAH.bed.gz,1e7576dfb1d32ed678c32892499f375d,1e7576dfb1d32ed678c32892499f375d\n"
     ]
    }
   ],
   "source": [
    "!head -3 ./steps_inputs/step3/atac_pseudobulk_new_peaks_files_mapping.txt"
   ]
  },
  {
   "cell_type": "code",
   "execution_count": 59,
   "id": "8be5ef5b-9298-49d0-a731-aa221c642ace",
   "metadata": {},
   "outputs": [],
   "source": [
    "# !wc ./steps_inputs/step3/missing_peak_files.txt"
   ]
  },
  {
   "cell_type": "code",
   "execution_count": 49,
   "id": "c15cabab-ee0b-41d2-bd53-bc55c0ba02b4",
   "metadata": {},
   "outputs": [],
   "source": [
    "# !chmod +x execute_sbatch_arrays_on_sherlock.sh"
   ]
  },
  {
   "cell_type": "code",
   "execution_count": 61,
   "id": "4bf97933-5a4e-4ac6-aec7-3dec044ad4ce",
   "metadata": {},
   "outputs": [
    {
     "name": "stdout",
     "output_type": "stream",
     "text": [
      "Missing ENCSR_ID rows have been saved to ./steps_inputs/step3/missing_atac_pseudobulk_new_peaks_files_mapping.txt.\n",
      "Extra ENCSR_IDs in /scratch/groups/akundaje/vhecht/encode_pseudobulks/encode_pseudobulks_data/peaks not found in the input file have been saved to ./steps_inputs/step3/extra_peaks_ids_not_in_input_file.txt.\n"
     ]
    }
   ],
   "source": [
    "#preperation for step 3:\n",
    "import os\n",
    "import csv\n",
    "import glob\n",
    "\n",
    "# Define file paths\n",
    "input_file = \"./steps_inputs/step3/atac_pseudobulk_new_peaks_files_mapping.txt\"\n",
    "output_file = \"./steps_inputs/step3/missing_atac_pseudobulk_new_peaks_files_mapping.txt\"\n",
    "extra_ids_file = \"./steps_inputs/step3/extra_peaks_ids_not_in_input_file.txt\"\n",
    "# peaks_dir = \"/scratch/groups/akundaje/eila/encode_pseudobulks/encode_pseudobulks_data/peaks\"\n",
    "peaks_dir = \"/scratch/groups/akundaje/vhecht/encode_pseudobulks/encode_pseudobulks_data/peaks\"\n",
    "\n",
    "# Ensure the input file exists\n",
    "if not os.path.exists(input_file):\n",
    "    print(f\"Input file {input_file} does not exist. Exiting.\")\n",
    "    exit(1)\n",
    "\n",
    "# Collect ENCSR_IDs from the input file\n",
    "input_ids = set()\n",
    "with open(input_file, \"r\") as infile:\n",
    "    reader = csv.DictReader(infile)\n",
    "    for row in reader:\n",
    "        encsr_id = os.path.basename(row['ID'].strip('/'))\n",
    "        input_ids.add(encsr_id)\n",
    "\n",
    "# Collect ENCSR_IDs from the peaks_dir\n",
    "peaks_ids = set(next(os.walk(peaks_dir))[1])\n",
    "\n",
    "# Identify extra IDs in peaks_dir not present in input file\n",
    "extra_ids = peaks_ids - input_ids\n",
    "\n",
    "# Write extra IDs to a separate file\n",
    "with open(extra_ids_file, \"w\") as extra_file:\n",
    "    extra_file.write(\"ENCSR_ID\\n\")\n",
    "    for encsr_id in sorted(extra_ids):\n",
    "        extra_file.write(f\"{encsr_id}\\n\")\n",
    "\n",
    "# Open the input file and output file for missing rows\n",
    "with open(input_file, \"r\") as infile, open(output_file, \"w\", newline=\"\") as outfile:\n",
    "    reader = csv.DictReader(infile)\n",
    "    writer = csv.DictWriter(outfile, fieldnames=reader.fieldnames)\n",
    "\n",
    "    # Write the header to the output file\n",
    "    writer.writeheader()\n",
    "\n",
    "    # Iterate through each row in the input file\n",
    "    for row in reader:\n",
    "        # Extract ENCSR_ID from the ID column\n",
    "        encsr_id = os.path.basename(row['ID'].strip('/'))\n",
    "\n",
    "        # Construct the search pattern for .bed.gz files\n",
    "        search_pattern = os.path.join(peaks_dir, encsr_id, \"*\", \"*.bed.gz\")\n",
    "\n",
    "        # Check if any matching files exist\n",
    "        if not glob.glob(search_pattern):\n",
    "            # Write the missing row to the output file\n",
    "            writer.writerow(row)\n",
    "\n",
    "print(f\"Missing ENCSR_ID rows have been saved to {output_file}.\")\n",
    "print(f\"Extra ENCSR_IDs in {peaks_dir} not found in the input file have been saved to {extra_ids_file}.\")\n",
    "\n"
   ]
  },
  {
   "cell_type": "code",
   "execution_count": 2,
   "id": "16b0cbd5-51e4-487e-aa0a-4edd68ce594d",
   "metadata": {},
   "outputs": [
    {
     "name": "stdout",
     "output_type": "stream",
     "text": [
      "1 ./steps_inputs/step3/missing_atac_pseudobulk_new_peaks_files_mapping.txt\n"
     ]
    }
   ],
   "source": [
    "!wc -l ./steps_inputs/step3/missing_atac_pseudobulk_new_peaks_files_mapping.txt"
   ]
  },
  {
   "cell_type": "code",
   "execution_count": 6,
   "id": "eba89907-4e17-49a7-aeb4-6ad1ebc7b71e",
   "metadata": {},
   "outputs": [
    {
     "name": "stdout",
     "output_type": "stream",
     "text": [
      "ID,Description,Status,Organism,Aliases,old_annotation,new_bed,old_bed,new_download_url,new_md5,old_md5\n"
     ]
    }
   ],
   "source": [
    "cat ./steps_inputs/step3/missing_atac_pseudobulk_new_peaks_files_mapping.txt"
   ]
  },
  {
   "cell_type": "code",
   "execution_count": 3,
   "id": "5fbb5257-a9bb-427c-9e56-4dc074947527",
   "metadata": {},
   "outputs": [
    {
     "name": "stdout",
     "output_type": "stream",
     "text": [
      "2 ./steps_inputs/step3/extra_peaks_ids_not_in_input_file.txt\n"
     ]
    }
   ],
   "source": [
    "!wc -l ./steps_inputs/step3/extra_peaks_ids_not_in_input_file.txt"
   ]
  },
  {
   "cell_type": "code",
   "execution_count": 5,
   "id": "e2c0b8a6-9f8a-451f-ae2a-e23301d184e2",
   "metadata": {},
   "outputs": [
    {
     "name": "stdout",
     "output_type": "stream",
     "text": [
      "ENCSR_ID\n",
      "\n"
     ]
    }
   ],
   "source": [
    "cat ./steps_inputs/step3/extra_peaks_ids_not_in_input_file.txt"
   ]
  },
  {
   "cell_type": "code",
   "execution_count": 1,
   "id": "2944e9df-0825-4d7a-b3d7-68384db3afe4",
   "metadata": {},
   "outputs": [],
   "source": [
    "#step 3 - peaks - independant of BAMS:\n",
    "from dotenv import load_dotenv\n",
    "import os\n",
    "\n",
    "# Load environment variables from the .env file\n",
    "load_dotenv()\n",
    "\n",
    "# Access the variables\n",
    "ACCESS_KEY = os.getenv('ACCESS_KEY')\n",
    "SECRET_KEY = os.getenv('SECRET_KEY')\n",
    "\n",
    "!rm ./local_logs/step3.peaks*\n",
    "\n",
    "# !./execute_sbatch_arrays_on_sherlock.sh ./steps_inputs/step3/missing_peak_files.txt step3-download-peaks.sh 495 495\n",
    "\n",
    "# the 500 doesnt need to be the number of lines\n",
    "# !./execute_sbatch_arrays_on_sherlock_try.sh ./steps_inputs/step3/atac_pseudobulk_new_peaks_files_mapping.txt step3-download-peaks.sh 500 500\n",
    "\n",
    "\n",
    "# !./execute_sbatch_arrays_on_sherlock.sh ./steps_inputs/step3/atac_pseudobulk_new_peaks_files_mapping.txt step3-download-peaks.sh 1491\n",
    "\n",
    "\n",
    "\n",
    "# without chromnbpnet environemnt\n",
    "# !ACCESS_KEY={ACCESS_KEY} SECRET_KEY={SECRET_KEY} ./execute_sbatch_arrays_on_sherlock.sh ./steps_inputs/step3/ENCODE_snatac_pseudobulk_replacements_v2_experiment_id_peaks-debug.txt step3-download-peaks.sh 1 1\n",
    "# atac_pseudobulk_new_peaks_files_mapping-Copy1.csv\n",
    "!./execute_sbatch_arrays_on_sherlock.sh ./steps_inputs/step3/eila_peaks_matched_to_experiments.txt step3-download-peaks.sh 1490 500\n",
    "\n",
    "# debug\n",
    "# !./execute_sbatch_arrays_on_sherlock.sh /oak/stanford/groups/akundaje/eila/git_tf_chromatin_atlas/steps_inputs/step3/eila_peaks_matched_to_experiments-debug.txt step3-download-peaks.sh 2 2\n"
   ]
  },
  {
   "cell_type": "code",
   "execution_count": 25,
   "id": "5655d171-defb-4847-82dc-c6315d84b9fd",
   "metadata": {},
   "outputs": [],
   "source": [
    "# !squeue --user=$USER"
   ]
  },
  {
   "cell_type": "code",
   "execution_count": 2,
   "id": "cc37c42e-ae0d-4a4b-85a2-c033b268d279",
   "metadata": {},
   "outputs": [
    {
     "name": "stdout",
     "output_type": "stream",
     "text": [
      "1492\n"
     ]
    }
   ],
   "source": [
    "ls /scratch/groups/akundaje/eila/encode_pseudobulks/encode_pseudobulks_data/peaks/ | wc -l"
   ]
  },
  {
   "cell_type": "code",
   "execution_count": 53,
   "id": "adb903b4-7fa7-4917-a236-b07ca3d724f8",
   "metadata": {},
   "outputs": [
    {
     "name": "stdout",
     "output_type": "stream",
     "text": [
      "1492\n"
     ]
    }
   ],
   "source": [
    "# vhecht\n",
    "!ls /scratch/groups/akundaje/vhecht/encode_pseudobulks/encode_pseudobulks_data/peaks/ | wc -l"
   ]
  },
  {
   "cell_type": "code",
   "execution_count": 4,
   "id": "03a62b23-2eb9-4f09-891c-76b2443c7bbb",
   "metadata": {},
   "outputs": [],
   "source": [
    "# # execute step 4-1 to create the input\n",
    "# !chmod +x step4-1-input-for-peaks-by-blacklist.py\n",
    "!python step4-1-input-for-peaks-by-blacklist.py"
   ]
  },
  {
   "cell_type": "code",
   "execution_count": 5,
   "id": "fff95f84-af23-498b-8fa1-540eb48c121f",
   "metadata": {},
   "outputs": [
    {
     "name": "stdout",
     "output_type": "stream",
     "text": [
      "1490 ./steps_inputs/step4/peaks_with_organism.txt\n"
     ]
    }
   ],
   "source": [
    "\n",
    "!wc -l ./steps_inputs/step4/peaks_with_organism.txt"
   ]
  },
  {
   "cell_type": "code",
   "execution_count": 18,
   "id": "a19489f9-429d-4136-a278-6fe1353f8212",
   "metadata": {},
   "outputs": [
    {
     "name": "stdout",
     "output_type": "stream",
     "text": [
      "rm: cannot remove ‘./local_logs/step42*’: No such file or directory\n",
      "Submitting job array for range 1-500%500\n",
      "Submitting job array for range 501-1000%500\n",
      "Submitting job array for range 1001-1490%500\n",
      "Jobs 58282849,58282851,58282853 are running...\n"
     ]
    }
   ],
   "source": [
    "# execute step 4-2\n",
    "# !chmod +x step4-2-filter-peaks-by-blacklist.sh\n",
    "!rm ./local_logs/step42*\n",
    "!./execute_sbatch_arrays_on_sherlock.sh ./steps_inputs/step4/peaks_with_organism.txt step4-2-filter-peaks-by-blacklist.sh 500 500\n",
    "\n",
    "# debug\n",
    "# !./execute_sbatch_arrays_on_sherlock.sh ./steps_inputs/step4/peaks_with_species-debug.txt step4-2-filter-peaks-by-blacklist.sh 2 2\n"
   ]
  },
  {
   "cell_type": "code",
   "execution_count": 1,
   "id": "69e531ab-a706-4cf1-914a-235deb148f23",
   "metadata": {},
   "outputs": [],
   "source": [
    "# !squeue --user=$USER"
   ]
  },
  {
   "cell_type": "code",
   "execution_count": 2,
   "id": "4d956aed-7afb-4f56-ab49-7de6b977788b",
   "metadata": {},
   "outputs": [
    {
     "name": "stdout",
     "output_type": "stream",
     "text": [
      "1490\n"
     ]
    }
   ],
   "source": [
    "ls /scratch/groups/akundaje/eila/encode_pseudobulks/encode_pseudobulks_data/peaks_blacklist_filter/  | wc -l "
   ]
  },
  {
   "cell_type": "markdown",
   "id": "8111a0fa-aa09-41e4-b181-1fe010604ac7",
   "metadata": {},
   "source": [
    "STEP 5:\n",
    "- preperation one (5-1): read the input file and create peaks_filtered_by_blacklist_merged_with_organism_output.txt with all the ID, organism and peak files.\n",
    "- preperation two (5-2): read the input file and create missing_nonpeaks_negatives_bed_files_output.txt with all the ID, organims and peak files for missing negative files only (in one of the folds)"
   ]
  },
  {
   "cell_type": "code",
   "execution_count": 4,
   "id": "88b7d062-f001-41e7-8918-8b600d1f128c",
   "metadata": {},
   "outputs": [],
   "source": [
    "# # prepare for step 5-1\n",
    "\n",
    "# import os\n",
    "# import pandas as pd\n",
    "# import glob\n",
    "\n",
    "# # Define the path based on your environment\n",
    "# group_scratch = os.getenv('GROUP_SCRATCH')\n",
    "# user = os.getenv('USER')\n",
    "# base_path = os.path.join(group_scratch, user, 'encode_pseudobulks', 'encode_pseudobulks_data', 'peaks_blacklist_filter')\n",
    "# print(f\"base_path is {base_path}\")\n",
    "\n",
    "# # Read the file with sample data\n",
    "# data_file =  './steps_inputs/step5/atac_pseudobulk_new_peaks_files_mapping.txt'\n",
    "\n",
    "# # Skip the header row by setting header=0\n",
    "# df = pd.read_csv(data_file, sep=',', header=0, names=['ID','Description','Status','Organism','Aliases','old_annotation','new_bed','old_bed','new_download_url','new_md5','old_md5'])\n",
    "\n",
    "# # Create a list to hold output rows\n",
    "# output_rows = []\n",
    "\n",
    "# # Iterate through each folder name in the DataFrame\n",
    "# for _, row in df.iterrows():\n",
    "#     # print(f\"Processing ID value: {row['ID']}\")\n",
    "    \n",
    "#     # Check if the ID can be split into at least 2 parts\n",
    "#     if len(row['ID'].split(\"/\")) < 2:\n",
    "#         print(f\"Skipping malformed ID: {row['ID']}\")\n",
    "#         continue  # Skip this row if ID is malformed\n",
    "\n",
    "#     folder = row['ID'].split(\"/\")[-2]\n",
    "#     organism = row['Organism'].replace(\" \",\"_\")\n",
    "    \n",
    "#     # print(f\"Processing folder: {folder}\")  # Folder name print\n",
    "\n",
    "#     # Use glob to find all relevant .bed.gz files in the specified path\n",
    "#     search_pattern = os.path.join(base_path, folder, '*', '*_peaks_no_blacklist.bed.gz')\n",
    "#     files = glob.glob(search_pattern)\n",
    "    \n",
    "#     if not files:\n",
    "#         print(f\"No .bed.gz files found for folder {folder}\")\n",
    "    \n",
    "#     # Add an entry for each found file\n",
    "#     for file in files:\n",
    "#         output_rows.append([folder, organism, file])\n",
    "\n",
    "# # Convert the output list to a DataFrame\n",
    "# output_df = pd.DataFrame(output_rows, columns=['folder_name', 'organism', 'file_path'])\n",
    "\n",
    "# # Ensure output directory exists\n",
    "# output_dir = './steps_inputs/step5/'\n",
    "# os.makedirs(output_dir, exist_ok=True)\n",
    "\n",
    "# # Define the output file path\n",
    "# output_file = os.path.join(output_dir, 'peaks_filtered_by_blacklist_merged_with_organism_output.txt')\n",
    "\n",
    "# # Save the output DataFrame to a space-delimited file, overwriting if it exists\n",
    "# output_df.to_csv(output_file, sep=' ', header=False, index=False)\n",
    "\n",
    "# print(f'Output saved to {output_file}')\n"
   ]
  },
  {
   "cell_type": "code",
   "execution_count": 6,
   "id": "64054f97-aa58-445e-878b-c7df805729f7",
   "metadata": {},
   "outputs": [],
   "source": [
    "# !wc -l ./steps_inputs/step5/peaks_filtered_by_blacklist_merged_with_organism_output.txt\n"
   ]
  },
  {
   "cell_type": "code",
   "execution_count": 5,
   "id": "bb9998f0-dda7-4cd6-924e-302c005c6399",
   "metadata": {},
   "outputs": [],
   "source": [
    "# !head -2 ./steps_inputs/step5/peaks_filtered_by_blacklist_merged_with_organism_output.txt"
   ]
  },
  {
   "cell_type": "code",
   "execution_count": 7,
   "id": "16c8ffb6-e788-43a1-a584-7137edf69f7e",
   "metadata": {},
   "outputs": [],
   "source": [
    "# !wc -l ./steps_inputs/step5/peaks_filtered_by_blacklist_merged_with_organism_output.txt\n"
   ]
  },
  {
   "cell_type": "code",
   "execution_count": 13,
   "id": "4c0a7007-6bf6-4e4d-8bc1-8764e0267d4c",
   "metadata": {},
   "outputs": [],
   "source": [
    "# %%bash\n",
    "\n",
    "# LINE=\"ENCSR429XJF Homo_sapiens /scratch/groups/akundaje/eila/encode_pseudobulks/encode_pseudobulks_data/peaks_blacklist_filter/ENCSR429XJF/ENCFF599SDP/ENCSR429XJF_ENCFF599SDP_peaks_no_blacklist.bed.gz fold_0,fold_1,fold_2,fold_3,fold_4\"\n",
    "\n",
    "# id_1=$(echo \"${LINE}\" | awk '{print $1}')  # Extract first field\n",
    "# organism=$(echo \"${LINE}\" | awk '{print $2}')  # Extract second field\n",
    "# id_2=$(echo \"${LINE}\" | awk -F '/' '{print $(NF-1)}')  # Extract second-to-last field\n",
    "# PEAKS=$(echo \"${LINE}\" | awk '{print $3}')  # Extract full path\n",
    "\n",
    "# echo \"Debug: Extracted id_1: ${id_1}, id_2: ${id_2}, organism: ${organism}\"\n",
    "# echo \"Debug: Extracted PEAKS: ${PEAKS}\"\n",
    "\n",
    "# # Convert organism to lowercase\n",
    "# organism=$(echo \"$organism\" | tr '[:upper:]' '[:lower:]')\n",
    "# echo \"Debug: Converted organism to lowercase: ${organism}\"\n"
   ]
  },
  {
   "cell_type": "code",
   "execution_count": 10,
   "id": "4d2d092f-345a-419a-a597-51d47ed2b81e",
   "metadata": {},
   "outputs": [
    {
     "data": {
      "text/plain": [
       "[0, 1, 2, 3, 4]"
      ]
     },
     "execution_count": 10,
     "metadata": {},
     "output_type": "execute_result"
    }
   ],
   "source": [
    "[i for i in range(5)]"
   ]
  },
  {
   "cell_type": "code",
   "execution_count": 3,
   "id": "d112f99e-5b90-4a00-bd3b-b11ffd62fff4",
   "metadata": {},
   "outputs": [
    {
     "name": "stdout",
     "output_type": "stream",
     "text": [
      "base_negative_path is /scratch/groups/akundaje/eila/encode_pseudobulks/encode_pseudobulks_negative\n",
      "base_peaks_path is /scratch/groups/akundaje/eila/encode_pseudobulks/encode_pseudobulks_data/peaks_blacklist_filter\n",
      "Output file saved to ./steps_inputs/step5/missing_peaks_filtered_by_blacklist_merged_with_organism_output.txt\n"
     ]
    }
   ],
   "source": [
    "# preperation 5-2. prepare the list of negative ids that are still missing\n",
    "import os\n",
    "import pandas as pd\n",
    "import glob\n",
    "\n",
    "# Define the paths based on your environment\n",
    "group_scratch = os.getenv('GROUP_SCRATCH')\n",
    "user = os.getenv('USER')\n",
    "\n",
    "# Define base paths for negative and peaks file locations\n",
    "base_negative_path = os.path.join(group_scratch, user, 'encode_pseudobulks', 'encode_pseudobulks_negative')\n",
    "base_peaks_path = os.path.join(group_scratch, user, 'encode_pseudobulks', 'encode_pseudobulks_data', 'peaks_blacklist_filter')\n",
    "\n",
    "print(f\"base_negative_path is {base_negative_path}\")\n",
    "print(f\"base_peaks_path is {base_peaks_path}\")\n",
    "\n",
    "# Read the file with sample data (input file)\n",
    "data_file = './steps_inputs/step5/atac_pseudobulk_new_peaks_files_mapping.txt'\n",
    "# data_file = './steps_inputs/step5/debug_atac_pseudobulk_new_peaks_files_mapping.txt'\n",
    "df = pd.read_csv(data_file, sep=',', header=0, names=['ID', 'Description', 'Status', 'Organism', 'Aliases', 'old_annotation', 'new_bed', 'old_bed', 'new_download_url', 'new_md5', 'old_md5'])\n",
    "\n",
    "# Create a list to hold the output rows\n",
    "output_rows = []\n",
    "\n",
    "# Iterate through each folder in the DataFrame\n",
    "for _, row in df.iterrows():\n",
    "    folder = row['ID'].split(\"/\")[-2]  # Extract folder from 'ID' column\n",
    "    organism = row['Organism'].replace(\" \", \"_\").lower()  # Replace spaces with underscores and lower case\n",
    "    \n",
    "    # print(f\"Processing folder: {folder}, Organism: {organism}\")\n",
    "\n",
    "    # Check for the number of fold files found\n",
    "    # !ls /scratch/groups/akundaje/eila/encode_pseudobulks/encode_pseudobulks_negative/*/*/*/fold_*/*nonpeaks_negatives.bed | wc -l\n",
    "    search_pattern = os.path.join(base_negative_path, organism, folder,'*','fold_*', '*nonpeaks_negatives.bed')\n",
    "    # print(f\"search_pattern is {search_pattern}, Organism {organism}\")\n",
    "    found_files = glob.glob(search_pattern)\n",
    "    # print(f\"found_files are {found_files} \\n\\n\")\n",
    "    fold_count = len(found_files)\n",
    "    # print(f\"fold_count is {fold_count}, Organism {organism}\")\n",
    "\n",
    "    missing_folds=[]\n",
    "    if fold_count < 5:\n",
    "        missing_folds = [f\"fold_{i}\" for i in range(5) if not any(f\"fold_{i}\" in f for f in found_files)]\n",
    "        print(f\"Missing folds for folder {folder}, Organism {organism}: {missing_folds}\")\n",
    "        # output_rows.append([folder, organism, ','.join(missing_folds)])\n",
    "    else:\n",
    "        # print(f\"All fold files found for folder {folder}, Organism {organism}\")\n",
    "        continue\n",
    "\n",
    "    # Now search for the matching peaks file in the peaks_blacklist_filter directory\n",
    "    search_pattern_peaks = os.path.join(base_peaks_path, folder,'*' , '*_peaks_no_blacklist.bed.gz')\n",
    "    # print(f\"search_pattern_peaks is {search_pattern_peaks}\")\n",
    "    matching_peaks = glob.glob(search_pattern_peaks)\n",
    "\n",
    "    # if matching_peaks:\n",
    "    #     print(f\"Found peaks files for {folder}, Organism {organism}. matching_peaks is {matching_peaks}\")\n",
    "    # else:\n",
    "    #     print(f\"No matching peaks file found for {folder}, Organism {organism}\")\n",
    "\n",
    "    output_rows.append([folder, organism, matching_peaks[0] ,','.join(missing_folds)])\n",
    "    \n",
    "# Convert the output list to a DataFrame\n",
    "output_df = pd.DataFrame(output_rows, columns=['folder_name', 'organism','peaks_no_blacklist' ,'missing_folds'])\n",
    "\n",
    "# Ensure the output directory exists\n",
    "output_dir = './steps_inputs/step5/'\n",
    "os.makedirs(output_dir, exist_ok=True)\n",
    "\n",
    "# Define the output file path\n",
    "output_file = os.path.join(output_dir, 'missing_peaks_filtered_by_blacklist_merged_with_organism_output.txt')\n",
    "\n",
    "# Save the output DataFrame to a space-delimited file, overwriting if it exists\n",
    "output_df.to_csv(output_file, sep=' ', header=False, index=False)\n",
    "\n",
    "print(f'Output file saved to {output_file}')\n",
    "\n",
    "\n"
   ]
  },
  {
   "cell_type": "code",
   "execution_count": 4,
   "id": "fa6f0950-4319-47e9-9adc-b8d8283485df",
   "metadata": {},
   "outputs": [
    {
     "name": "stdout",
     "output_type": "stream",
     "text": [
      "0 ./steps_inputs/step5/missing_peaks_filtered_by_blacklist_merged_with_organism_output.txt\n"
     ]
    }
   ],
   "source": [
    "!wc -l ./steps_inputs/step5/missing_peaks_filtered_by_blacklist_merged_with_organism_output.txt"
   ]
  },
  {
   "cell_type": "code",
   "execution_count": 5,
   "id": "e4ce3a6e-897c-48be-a8bd-03c9feb7de9e",
   "metadata": {},
   "outputs": [],
   "source": [
    "!head -5 ./steps_inputs/step5/missing_peaks_filtered_by_blacklist_merged_with_organism_output.txt \n",
    "\n",
    "# !wc -l ./steps_inputs/step5/0_100_missing_peaks_filtered_by_blacklist_merged_with_organism_output.txt"
   ]
  },
  {
   "cell_type": "code",
   "execution_count": 6,
   "id": "47542dcb-e006-4ecf-918b-9cc1a165945d",
   "metadata": {},
   "outputs": [],
   "source": [
    "# !sed -n '101,200p' ./steps_inputs/step5/missing_peaks_filtered_by_blacklist_merged_with_organism_output.txt > ./steps_inputs/step5/100_200_missing_peaks_filtered_by_blacklist_merged_with_organism_output.txt\n",
    "# !wc -l ./steps_inputs/step5/100_200_missing_peaks_filtered_by_blacklist_merged_with_organism_output.txt\n",
    "\n"
   ]
  },
  {
   "cell_type": "code",
   "execution_count": 7,
   "id": "52ef3ec7-64c9-4df4-9d1c-99f43f00bb87",
   "metadata": {},
   "outputs": [],
   "source": [
    "# !sed -n '201,300p' ./steps_inputs/step5/missing_peaks_filtered_by_blacklist_merged_with_organism_output.txt > ./steps_inputs/step5/200_300_missing_peaks_filtered_by_blacklist_merged_with_organism_output.txt\n",
    "# !wc -l ./steps_inputs/step5/200_300_missing_peaks_filtered_by_blacklist_merged_with_organism_output.txt\n",
    "\n"
   ]
  },
  {
   "cell_type": "code",
   "execution_count": 8,
   "id": "c114aa26-46ea-4bc8-a082-a8c62866bf09",
   "metadata": {},
   "outputs": [],
   "source": [
    "# !sed -n '301,400p' ./steps_inputs/step5/missing_peaks_filtered_by_blacklist_merged_with_organism_output.txt > ./steps_inputs/step5/300_400_missing_peaks_filtered_by_blacklist_merged_with_organism_output.txt\n",
    "# !wc -l ./steps_inputs/step5/300_400_missing_peaks_filtered_by_blacklist_merged_with_organism_output.txt\n",
    "\n"
   ]
  },
  {
   "cell_type": "code",
   "execution_count": 9,
   "id": "8f6f688e-cb26-4930-8a58-3cc09c1be79c",
   "metadata": {},
   "outputs": [],
   "source": [
    "# !sed -n '401,500p' ./steps_inputs/step5/missing_peaks_filtered_by_blacklist_merged_with_organism_output.txt > ./steps_inputs/step5/400_500_missing_peaks_filtered_by_blacklist_merged_with_organism_output.txt\n",
    "# !wc -l ./steps_inputs/step5/400_500_missing_peaks_filtered_by_blacklist_merged_with_organism_output.txt\n",
    "\n"
   ]
  },
  {
   "cell_type": "code",
   "execution_count": 10,
   "id": "0fda8ec7-f65c-4c93-8d00-35865d4de59d",
   "metadata": {},
   "outputs": [],
   "source": [
    "# !sed -n '501,600p' ./steps_inputs/step5/missing_peaks_filtered_by_blacklist_merged_with_organism_output.txt > ./steps_inputs/step5/500_600_missing_peaks_filtered_by_blacklist_merged_with_organism_output.txt\n",
    "# !wc -l ./steps_inputs/step5/500_600_missing_peaks_filtered_by_blacklist_merged_with_organism_output.txt\n",
    "\n"
   ]
  },
  {
   "cell_type": "code",
   "execution_count": 11,
   "id": "c37a7624-242c-4656-b665-6b6d37356c3d",
   "metadata": {},
   "outputs": [],
   "source": [
    "# !sed -n '601,700p' ./steps_inputs/step5/missing_peaks_filtered_by_blacklist_merged_with_organism_output.txt > ./steps_inputs/step5/600_700_missing_peaks_filtered_by_blacklist_merged_with_organism_output.txt\n",
    "# !wc -l ./steps_inputs/step5/600_700_missing_peaks_filtered_by_blacklist_merged_with_organism_output.txt\n",
    "\n"
   ]
  },
  {
   "cell_type": "code",
   "execution_count": 12,
   "id": "6245ce30-d58f-41c7-a9c5-23778577d5be",
   "metadata": {},
   "outputs": [],
   "source": [
    "# !sed -n '801,900p' ./steps_inputs/step5/missing_peaks_filtered_by_blacklist_merged_with_organism_output.txt > ./steps_inputs/step5/800_missing_peaks_filtered_by_blacklist_merged_with_organism_output.txt\n",
    "# !wc -l ./steps_inputs/step5/800_missing_peaks_filtered_by_blacklist_merged_with_organism_output.txt\n",
    "\n"
   ]
  },
  {
   "cell_type": "code",
   "execution_count": null,
   "id": "784105c1-4825-43ee-a8de-dc64e0a57a69",
   "metadata": {},
   "outputs": [],
   "source": []
  },
  {
   "cell_type": "code",
   "execution_count": 20,
   "id": "d729fe9a-f7e3-4c08-8740-0bc68c64c805",
   "metadata": {},
   "outputs": [],
   "source": [
    "# !head ./steps_inputs/step5/0_200_missing_peaks_filtered_by_blacklist_merged_with_organism_output.txt"
   ]
  },
  {
   "cell_type": "code",
   "execution_count": 11,
   "id": "1643e458-73d9-41dc-ae37-a1475ea29c11",
   "metadata": {},
   "outputs": [
    {
     "name": "stdout",
     "output_type": "stream",
     "text": [
      "Submitting job array for range 1-80%80\n",
      "Jobs 60766386 are running...\n"
     ]
    }
   ],
   "source": [
    "# #step 5 - non-peaks / background / negative - human:\n",
    "\n",
    "# Generate negative for all folds\n",
    "# !rm ./local_logs/step5.NegativesNoPeaksBackground.*\n",
    "!./execute_sbatch_arrays_on_sherlock.sh ./steps_inputs/step5/missing_peaks_filtered_by_blacklist_merged_with_organism_output.txt step5-compute-peak-without-blacklist.sh 80 80\n"
   ]
  },
  {
   "cell_type": "code",
   "execution_count": 13,
   "id": "e075cf9d-709e-4504-9174-0a7a960dc22b",
   "metadata": {},
   "outputs": [
    {
     "name": "stdout",
     "output_type": "stream",
     "text": [
      "7450\n"
     ]
    }
   ],
   "source": [
    "# total:\n",
    "!ls /scratch/groups/akundaje/eila/encode_pseudobulks/encode_pseudobulks_negative/*/*/*/fold_*/*nonpeaks_negatives.bed | wc -l\n",
    "\n",
    "# 7224\n",
    "# target: 1490 per fold"
   ]
  },
  {
   "cell_type": "code",
   "execution_count": 14,
   "id": "0d57988f-9d36-45f0-8527-2bc11c484f1d",
   "metadata": {},
   "outputs": [
    {
     "data": {
      "text/plain": [
       "7450"
      ]
     },
     "execution_count": 14,
     "metadata": {},
     "output_type": "execute_result"
    }
   ],
   "source": [
    "1490*5"
   ]
  },
  {
   "cell_type": "code",
   "execution_count": 16,
   "id": "ef56959d-11a0-45a8-a540-aeaf4ab187cf",
   "metadata": {},
   "outputs": [],
   "source": [
    "# 7202+80"
   ]
  },
  {
   "cell_type": "code",
   "execution_count": 17,
   "id": "99d37c98-61d7-42a1-964a-247b0d94362c",
   "metadata": {},
   "outputs": [
    {
     "name": "stdout",
     "output_type": "stream",
     "text": [
      "1490\n",
      "1490\n",
      "1490\n",
      "1490\n",
      "1490\n",
      "7450\n"
     ]
    }
   ],
   "source": [
    "!ls -lt $GROUP_SCRATCH/eila/encode_pseudobulks/encode_pseudobulks_negative/*/*/*/fold_0/*nonpeaks_negatives.bed | wc -l\n",
    "# 1490\n",
    "!ls -lt $GROUP_SCRATCH/eila/encode_pseudobulks/encode_pseudobulks_negative/*/*/*/fold_1/*nonpeaks_negatives.bed | wc -l\n",
    "# 1490\n",
    "!ls -lt $GROUP_SCRATCH/eila/encode_pseudobulks/encode_pseudobulks_negative/*/*/*/fold_2/*nonpeaks_negatives.bed | wc -l\n",
    "# 1490\n",
    "!ls -lt $GROUP_SCRATCH/eila/encode_pseudobulks/encode_pseudobulks_negative/*/*/*/fold_3/*nonpeaks_negatives.bed | wc -l\n",
    "# 1490\n",
    "!ls -lt $GROUP_SCRATCH/eila/encode_pseudobulks/encode_pseudobulks_negative/*/*/*/fold_4/*nonpeaks_negatives.bed | wc -l\n",
    "# 1490\n",
    "\n",
    "!ls -lt $GROUP_SCRATCH/eila/encode_pseudobulks/encode_pseudobulks_negative/*/*/*/*/*nonpeaks_negatives.bed | wc -l\n",
    "# 7450"
   ]
  },
  {
   "cell_type": "code",
   "execution_count": 48,
   "id": "4979bc8e-2aa0-48a0-8d9e-03f6f39838dc",
   "metadata": {},
   "outputs": [
    {
     "name": "stdout",
     "output_type": "stream",
     "text": [
      "1490\n",
      "1490\n",
      "1490\n",
      "1490\n",
      "1490\n",
      "7450\n"
     ]
    }
   ],
   "source": [
    "!ls -lt $GROUP_SCRATCH/vhecht/encode_pseudobulks/encode_pseudobulks_negative/*/*/*/fold_0/*nonpeaks_negatives.bed | wc -l\n",
    "# 1490\n",
    "!ls -lt $GROUP_SCRATCH/vhecht/encode_pseudobulks/encode_pseudobulks_negative/*/*/*/fold_1/*nonpeaks_negatives.bed | wc -l\n",
    "# 1490\n",
    "!ls -lt $GROUP_SCRATCH/vhecht/encode_pseudobulks/encode_pseudobulks_negative/*/*/*/fold_2/*nonpeaks_negatives.bed | wc -l\n",
    "# 1490\n",
    "!ls -lt $GROUP_SCRATCH/vhecht/encode_pseudobulks/encode_pseudobulks_negative/*/*/*/fold_3/*nonpeaks_negatives.bed | wc -l\n",
    "# 1490\n",
    "!ls -lt $GROUP_SCRATCH/vhecht/encode_pseudobulks/encode_pseudobulks_negative/*/*/*/fold_4/*nonpeaks_negatives.bed | wc -l\n",
    "# 1490\n",
    "\n",
    "!ls -lt $GROUP_SCRATCH/vhecht/encode_pseudobulks/encode_pseudobulks_negative/*/*/*/*/*nonpeaks_negatives.bed | wc -l\n",
    "# 7450"
   ]
  },
  {
   "cell_type": "code",
   "execution_count": 18,
   "id": "b2bff544-b66b-4694-a405-620b54d7b52e",
   "metadata": {},
   "outputs": [
    {
     "data": {
      "text/plain": [
       "7450"
      ]
     },
     "execution_count": 18,
     "metadata": {},
     "output_type": "execute_result"
    }
   ],
   "source": [
    "1490*5"
   ]
  },
  {
   "cell_type": "code",
   "execution_count": 19,
   "id": "671c867c-b593-4d2a-b7f0-1ffacfb3b020",
   "metadata": {},
   "outputs": [
    {
     "name": "stdout",
     "output_type": "stream",
     "text": [
      "2025_03_26_encodDDe_pseudobulks  encode_pseudobulks\n",
      "2025_03_26_encode_pseudobulks\n"
     ]
    }
   ],
   "source": [
    "!ls /scratch/groups/akundaje/eila/"
   ]
  },
  {
   "cell_type": "markdown",
   "id": "43b91dc2-9dec-4a3d-89c2-1f459d11e46b",
   "metadata": {},
   "source": [
    "STEP 6\n",
    "\n",
    "***************** 6.1: preperation for step 6-2 ********************\n",
    "- preperation: write a file with the inputs for all fold chrombpnet pipeline training"
   ]
  },
  {
   "cell_type": "code",
   "execution_count": 1,
   "id": "b162657c-adc5-4c0d-9737-3f162a3ccdcf",
   "metadata": {},
   "outputs": [
    {
     "name": "stdout",
     "output_type": "stream",
     "text": [
      "6801\n",
      "1294\n",
      "1371\n",
      "1353\n",
      "1371\n",
      "1412\n"
     ]
    }
   ],
   "source": [
    "# 62\n",
    "# Total number of currently available for  all folds:\n",
    "!ls /scratch/groups/akundaje/eila/encode_pseudobulks/encode_pseudobulks_model_training/*/*/*/fold_*/step62.chrombpnet/auxiliary/interpret_subsample/modisco_results_profile_scores.h5  | wc -l\n",
    "# 6895 - down\n",
    "!ls /scratch/groups/akundaje/eila/encode_pseudobulks/encode_pseudobulks_model_training/*/*/*/fold_0/step62.chrombpnet/auxiliary/interpret_subsample/modisco_results_profile_scores.h5  | wc -l\n",
    "# 1490 => 1353  DONE!\n",
    "!ls /scratch/groups/akundaje/eila/encode_pseudobulks/encode_pseudobulks_model_training/*/*/*/fold_1/step62.chrombpnet/auxiliary/interpret_subsample/modisco_results_profile_scores.h5  | wc -l\n",
    "# 1406- 1434\n",
    "!ls /scratch/groups/akundaje/eila/encode_pseudobulks/encode_pseudobulks_model_training/*/*/*/fold_2/step62.chrombpnet/auxiliary/interpret_subsample/modisco_results_profile_scores.h5  | wc -l\n",
    "# 1490 -> 1444 changed\n",
    "!ls /scratch/groups/akundaje/eila/encode_pseudobulks/encode_pseudobulks_model_training/*/*/*/fold_3/step62.chrombpnet/auxiliary/interpret_subsample/modisco_results_profile_scores.h5  | wc -l\n",
    "# 1396 => 1373- changed\n",
    "!ls /scratch/groups/akundaje/eila/encode_pseudobulks/encode_pseudobulks_model_training/*/*/*/fold_4/step62.chrombpnet/auxiliary/interpret_subsample/modisco_results_profile_scores.h5  | wc -l\n",
    "# 1419 => 1413 - change "
   ]
  },
  {
   "cell_type": "code",
   "execution_count": 2,
   "id": "25c2aed6-4761-4dc0-8d4c-dc4767c459be",
   "metadata": {},
   "outputs": [],
   "source": [
    "# rsync -avz --progress --inplace --no-whole-file --partial --timeout=600 /scratch/groups/akundaje/vhecht/encode_pseudobulks/encode_pseudobulks_model_training/ /scratch/groups/akundaje/eila/encode_pseudobulks/vhecht_encode_pseudobulks_model_training/\n"
   ]
  },
  {
   "cell_type": "code",
   "execution_count": 3,
   "id": "a858eeb7-85cf-4b04-956f-38a07bfc2292",
   "metadata": {},
   "outputs": [
    {
     "name": "stdout",
     "output_type": "stream",
     "text": [
      "7450\n",
      "1490\n",
      "1490\n",
      "1490\n",
      "1490\n",
      "1490\n"
     ]
    }
   ],
   "source": [
    "# vhecht - 62\n",
    "# Total number of currently available for  all folds:\n",
    "!ls /scratch/groups/akundaje/vhecht/encode_pseudobulks/encode_pseudobulks_model_training/*/*/*/fold_*/step62.chrombpnet/auxiliary/interpret_subsample/modisco_results_profile_scores.h5  | wc -l\n",
    "# 7424\n",
    "!ls /scratch/groups/akundaje/vhecht/encode_pseudobulks/encode_pseudobulks_model_training/*/*/*/fold_0/step62.chrombpnet/auxiliary/interpret_subsample/modisco_results_profile_scores.h5  | wc -l\n",
    "# 1490\n",
    "!ls /scratch/groups/akundaje/vhecht/encode_pseudobulks/encode_pseudobulks_model_training/*/*/*/fold_1/step62.chrombpnet/auxiliary/interpret_subsample/modisco_results_profile_scores.h5  | wc -l\n",
    "# 1484\n",
    "!ls /scratch/groups/akundaje/vhecht/encode_pseudobulks/encode_pseudobulks_model_training/*/*/*/fold_2/step62.chrombpnet/auxiliary/interpret_subsample/modisco_results_profile_scores.h5  | wc -l\n",
    "# 1490\n",
    "!ls /scratch/groups/akundaje/vhecht/encode_pseudobulks/encode_pseudobulks_model_training/*/*/*/fold_3/step62.chrombpnet/auxiliary/interpret_subsample/modisco_results_profile_scores.h5  | wc -l\n",
    "# 1488\n",
    "!ls /scratch/groups/akundaje/vhecht/encode_pseudobulks/encode_pseudobulks_model_training/*/*/*/fold_4/step62.chrombpnet/auxiliary/interpret_subsample/modisco_results_profile_scores.h5  | wc -l\n",
    "# 1472"
   ]
  },
  {
   "cell_type": "code",
   "execution_count": 10,
   "id": "decee7e8-763f-4c60-9da3-912e3c3bb318",
   "metadata": {},
   "outputs": [
    {
     "data": {
      "text/plain": [
       "7350"
      ]
     },
     "execution_count": 10,
     "metadata": {},
     "output_type": "execute_result"
    }
   ],
   "source": [
    "1470*5"
   ]
  },
  {
   "cell_type": "markdown",
   "id": "2d19c96a-4bab-4e68-9628-3bfca6cea278",
   "metadata": {},
   "source": [
    "***************** prep for the 6-2: processing the inputs for training ********************\n",
    "\n",
    "- step1: finds all the BAM_IDs that are missing a model\n",
    "- step 2: cut into subsets of folds"
   ]
  },
  {
   "cell_type": "code",
   "execution_count": 17,
   "id": "8ba726c6-b59b-4d3f-bb1b-047492466562",
   "metadata": {},
   "outputs": [],
   "source": [
    "# /scratch/groups/akundaje/eila/encode_pseudobulks/encode_pseudobulks_data/peaks_blacklist_filter/ENCSR816VHI/ENCFF215RMA/ENCSR816VHI_ENCFF215RMA_peaks_no_blacklist.bed.gz /scratch/groups/akundaje/eila/encode_pseudobulks/encode_pseudobulks_data/bams/ENCSR816VHI/ENCFF548UMP_sorted.bam /scratch/groups/akundaje/eila/encode_pseudobulks/encode_pseudobulks_negative/homo_sapiens/ENCSR816VHI/ENCFF215RMA/fold_0/ENCSR816VHI_ENCFF215RMA_homo_sapiens_nonpeaks_negatives.bed\n",
    "# !ls /scratch/groups/akundaje/eila/encode_pseudobulks/encode_pseudobulks_model_training/homo_sapiens/ENCSR809UUL/ENCFF682DGS/fold_0/step62.chrombpnet/auxiliary\n",
    "\n",
    "# /ENCFF215RMA/fold_0/step62.chrombpnet/auxiliary\n",
    "\n",
    "\n"
   ]
  },
  {
   "cell_type": "code",
   "execution_count": 34,
   "id": "add7c07f-b9f6-4d7b-b94e-327ee497d343",
   "metadata": {},
   "outputs": [
    {
     "name": "stdout",
     "output_type": "stream",
     "text": [
      "Removing 1 existing output files...\n",
      "Removed: ./steps_inputs/step6/final_output_fold_fold_1.txt\n"
     ]
    }
   ],
   "source": [
    "import os\n",
    "import csv\n",
    "import glob\n",
    "\n",
    "# Define the output file pattern\n",
    "output_file_pattern = \"./steps_inputs/step6/final_output_fold_*.txt\"\n",
    "\n",
    "# Remove existing output files if they exist\n",
    "existing_files = glob.glob(output_file_pattern)\n",
    "\n",
    "if existing_files:\n",
    "    print(f\"Removing {len(existing_files)} existing output files...\")  # Debugging line\n",
    "    for file in existing_files:\n",
    "        try:\n",
    "            os.remove(file)\n",
    "            print(f\"Removed: {file}\")\n",
    "        except Exception as e:\n",
    "            print(f\"Error removing {file}: {e}\")\n",
    "else:\n",
    "    print(\"No existing output files found. Skipping removal.\")\n",
    "\n",
    "\n",
    "# Define the path to the input file\n",
    "input_file = './steps_inputs/step6/ENCODE_snatac_pseudobulk_replacements_v2_with_BAM_ENCFF_with_accessions.txt'\n",
    "\n",
    "# Function to validate and collect file paths\n",
    "def get_file_paths(species, accession_id, processed_entries):\n",
    "    base_dir = \"/scratch/groups/akundaje/eila/encode_pseudobulks\"\n",
    "    vhecht_base_bam_dir = \"/scratch/groups/akundaje/vhecht/encode_pseudobulks\"\n",
    "\n",
    "    # Peaks no blacklist file (using glob)\n",
    "    peaks_pattern = os.path.join(f\"{vhecht_base_bam_dir}/encode_pseudobulks_data/peaks_blacklist_filter/{accession_id}\",\"*\",f\"{accession_id}_*_peaks_no_blacklist.bed.gz\")\n",
    "    # print(f\"peaks_pattern is {peaks_pattern}\")\n",
    "    \n",
    "    peaks_files = glob.glob(peaks_pattern)\n",
    "    # print(f\"peaks_files is {peaks_files}\")\n",
    "    \n",
    "    if len(peaks_files)==0:\n",
    "        print(f\"peak file for {accession_id} is missing. skip\")\n",
    "        return  # Skip if peaks file is missing. there are cases like that. for empty accession\n",
    "    peaks_path = peaks_files[0]\n",
    "\n",
    "    # Sorted BAM file (using glob)\n",
    "    # /scratch/groups/akundaje/vhecht/encode_pseudobulks/encode_pseudobulks_data/bams/*/*_sorted.bam\n",
    "    bam_pattern = f\"{vhecht_base_bam_dir}/encode_pseudobulks_data/bams/{accession_id}/*_sorted.bam\"\n",
    "    bam_files = glob.glob(bam_pattern)\n",
    "    if not bam_files:\n",
    "        print(f\"Bam file for {bam_pattern} is missing. skip\")\n",
    "        return  # Skip if BAM file is missing\n",
    "    sorted_bam_path = bam_files[0]\n",
    "\n",
    "    # Iterate over folds\n",
    "    folds =  ['fold_0', 'fold_1', 'fold_2', 'fold_3', 'fold_4']\n",
    "    for fold in folds:\n",
    "        # Check if already processed\n",
    "        key = (species, accession_id, fold)\n",
    "        # print(f\"key is {key}\")\n",
    "        # print(f\"accession_id is {accession_id}\")\n",
    "        \n",
    "        if key in processed_entries:\n",
    "            continue  # Skip duplicate processing\n",
    "        \n",
    "        # Model file (using glob)\n",
    "        # model_pattern = f\"{base_dir}/encode_pseudobulks_model_training/{species}/{accession_id}/*/{fold}/step62.chrombpnet/auxiliary/interpret_subsample/modisco_results_profile_scores.h5\"\n",
    "        # model_pattern = f\"{base_dir}/encode_pseudobulks_model_training/{species}/{accession_id}/*/{fold}/step62.chrombpnet/auxiliary/interpret_subsample/modisco_results_profile_scores.h5\"\n",
    "        model_pattern = f\"{vhecht_base_bam_dir}/encode_pseudobulks_model_training/{species}/{accession_id}/*/{fold}/step62.chrombpnet/auxiliary/interpret_subsample/modisco_results_profile_scores.h5\"\n",
    "\n",
    "        \n",
    "        model_files = glob.glob(model_pattern)\n",
    "        if model_files:\n",
    "            # print(f\"model_files exists. {model_files}. skip\")\n",
    "            continue  # Skip fold if model already exists\n",
    "\n",
    "        # Negative file (using glob)\n",
    "        negative_pattern = f\"{vhecht_base_bam_dir}/encode_pseudobulks_negative/{species}/{accession_id}/*/{fold}/{accession_id}_*_nonpeaks_negatives.bed\"\n",
    "        # print(f\"negative_pattern is {negative_pattern}\")\n",
    "        \n",
    "        negative_files = glob.glob(negative_pattern)\n",
    "        if not negative_files:\n",
    "            print(f\"negative does not exists {negative_files}. skip\")\n",
    "            continue  # Skip fold if negative file is missing\n",
    "        negative_path = negative_files[0]\n",
    "\n",
    "        # Extract encff_id from negative_path\n",
    "        encff_id = negative_path.split(\"/\")[-3]  # Extract the ENCFF ID from the third last directory in the path\n",
    "        # print(f\"encff_id is {encff_id}\")\n",
    "        \n",
    "        # If all necessary files are present, write to output\n",
    "        output_line = f\"{species} {accession_id} {encff_id} {fold} {peaks_path} {sorted_bam_path} {negative_path}\"\n",
    "\n",
    "        # Write to output file\n",
    "        output_file_path = f\"./steps_inputs/step6/final_output_fold_{fold}.txt\"\n",
    "        with open(output_file_path, 'a') as output_file:\n",
    "            # print(f\"additing to file: {output_file_path}. {output_line} \")\n",
    "            output_file.write(output_line + \"\\n\")\n",
    "\n",
    "        # Mark as processed\n",
    "        processed_entries.add(key)\n",
    "\n",
    "# Read the input CSV file and process each row\n",
    "processed_entries = set()  # Track processed entries to prevent duplication\n",
    "with open(input_file, 'r') as f:\n",
    "    reader = csv.DictReader(f, delimiter='\\t')\n",
    "    for row in reader:\n",
    "        species = row['Organism'].lower().replace(' ', '_')\n",
    "        if species=='':\n",
    "            continue\n",
    "        # print(f\"species is {species}\")\n",
    "        accession_id = row['new_accession_id']\n",
    "        # print(f\"accession_id is {accession_id}\")\n",
    "\n",
    "        # Call the function to process file paths for the current species and accession ID\n",
    "        get_file_paths(species, accession_id, processed_entries)\n"
   ]
  },
  {
   "cell_type": "code",
   "execution_count": 35,
   "id": "87a06b15-5f03-4f68-b809-7472f0f3e314",
   "metadata": {},
   "outputs": [],
   "source": [
    "# !ls /scratch/groups/akundaje/eila/encode_pseudobulks/encode_pseudobulks_model_training/homo_sapiens/ENCSR001WAB/ENCFF737NQK/fold_0/step62.chrombpnet/auxiliary/interpret_subsample/modisco_results_profile_scores.h5\n"
   ]
  },
  {
   "cell_type": "code",
   "execution_count": 36,
   "id": "02e320e9-42e9-450b-a9b6-73414cd00582",
   "metadata": {},
   "outputs": [],
   "source": [
    "# file_path = \"/scratch/groups/akundaje/vhecht/encode_pseudobulks/encode_pseudobulks_negative/homo_sapiens/ENCSR429XJF/ENCFF599SDP/fold_0/ENCSR429XJF_ENCFF599SDP_homo_sapiens_nonpeaks_negatives.bed\"\n",
    "\n",
    "# try:\n",
    "#     with open(file_path, 'r') as file:\n",
    "#         print(f\"File '{file_path}' is accessible and opened successfully!\")\n",
    "#         file_content = file.read(100)  # Read the first 100 characters to verify content\n",
    "#         print(f\"First 100 characters of the file: {file_content}\")\n",
    "# except PermissionError:\n",
    "#     print(f\"Permission error: Cannot access the file {file_path}.\")\n",
    "# except FileNotFoundError:\n",
    "#     print(f\"File not found: {file_path}.\")\n",
    "# except Exception as e:\n",
    "#     print(f\"An error occurred: {e}\")\n"
   ]
  },
  {
   "cell_type": "code",
   "execution_count": 37,
   "id": "bf98cbb2-7470-4c96-bd3e-e810afa14119",
   "metadata": {},
   "outputs": [
    {
     "name": "stdout",
     "output_type": "stream",
     "text": [
      "1294\n",
      "1369\n",
      "1353\n",
      "1371\n",
      "1412\n"
     ]
    }
   ],
   "source": [
    "!ls /scratch/groups/akundaje/eila/encode_pseudobulks/encode_pseudobulks_model_training/*/*/*/fold_0/step62.chrombpnet/auxiliary/interpret_subsample/modisco_results_profile_scores.h5 | wc -l\n",
    "!ls /scratch/groups/akundaje/eila/encode_pseudobulks/encode_pseudobulks_model_training/*/*/*/fold_1/step62.chrombpnet/auxiliary/interpret_subsample/modisco_results_profile_scores.h5 | wc -l\n",
    "!ls /scratch/groups/akundaje/eila/encode_pseudobulks/encode_pseudobulks_model_training/*/*/*/fold_2/step62.chrombpnet/auxiliary/interpret_subsample/modisco_results_profile_scores.h5 | wc -l\n",
    "!ls /scratch/groups/akundaje/eila/encode_pseudobulks/encode_pseudobulks_model_training/*/*/*/fold_3/step62.chrombpnet/auxiliary/interpret_subsample/modisco_results_profile_scores.h5 | wc -l\n",
    "!ls /scratch/groups/akundaje/eila/encode_pseudobulks/encode_pseudobulks_model_training/*/*/*/fold_4/step62.chrombpnet/auxiliary/interpret_subsample/modisco_results_profile_scores.h5 | wc -l"
   ]
  },
  {
   "cell_type": "code",
   "execution_count": 38,
   "id": "d5a74c75-227c-4399-bdca-aaf9440f3a63",
   "metadata": {},
   "outputs": [
    {
     "name": "stderr",
     "output_type": "stream",
     "text": [
      "wc: ./steps_inputs/step6/final_output_fold_fold_0.txt: No such file or directory\n"
     ]
    },
    {
     "name": "stdout",
     "output_type": "stream",
     "text": [
      "2 ./steps_inputs/step6/final_output_fold_fold_1.txt\n"
     ]
    },
    {
     "name": "stderr",
     "output_type": "stream",
     "text": [
      "wc: ./steps_inputs/step6/final_output_fold_fold_2.txt: No such file or directory\n",
      "wc: ./steps_inputs/step6/final_output_fold_fold_3.txt: No such file or directory\n",
      "wc: ./steps_inputs/step6/final_output_fold_fold_4.txt: No such file or directory\n"
     ]
    },
    {
     "ename": "CalledProcessError",
     "evalue": "Command 'b'wc -l ./steps_inputs/step6/final_output_fold_fold_0.txt\\nwc -l ./steps_inputs/step6/final_output_fold_fold_1.txt\\nwc -l ./steps_inputs/step6/final_output_fold_fold_2.txt\\nwc -l ./steps_inputs/step6/final_output_fold_fold_3.txt\\nwc -l ./steps_inputs/step6/final_output_fold_fold_4.txt\\n'' returned non-zero exit status 1.",
     "output_type": "error",
     "traceback": [
      "\u001b[0;31m---------------------------------------------------------------------------\u001b[0m",
      "\u001b[0;31mCalledProcessError\u001b[0m                        Traceback (most recent call last)",
      "Cell \u001b[0;32mIn[38], line 1\u001b[0m\n\u001b[0;32m----> 1\u001b[0m \u001b[43mget_ipython\u001b[49m\u001b[43m(\u001b[49m\u001b[43m)\u001b[49m\u001b[38;5;241;43m.\u001b[39;49m\u001b[43mrun_cell_magic\u001b[49m\u001b[43m(\u001b[49m\u001b[38;5;124;43m'\u001b[39;49m\u001b[38;5;124;43mbash\u001b[39;49m\u001b[38;5;124;43m'\u001b[39;49m\u001b[43m,\u001b[49m\u001b[43m \u001b[49m\u001b[38;5;124;43m'\u001b[39;49m\u001b[38;5;124;43m'\u001b[39;49m\u001b[43m,\u001b[49m\u001b[43m \u001b[49m\u001b[38;5;124;43m'\u001b[39;49m\u001b[38;5;124;43mwc -l ./steps_inputs/step6/final_output_fold_fold_0.txt\u001b[39;49m\u001b[38;5;130;43;01m\\n\u001b[39;49;00m\u001b[38;5;124;43mwc -l ./steps_inputs/step6/final_output_fold_fold_1.txt\u001b[39;49m\u001b[38;5;130;43;01m\\n\u001b[39;49;00m\u001b[38;5;124;43mwc -l ./steps_inputs/step6/final_output_fold_fold_2.txt\u001b[39;49m\u001b[38;5;130;43;01m\\n\u001b[39;49;00m\u001b[38;5;124;43mwc -l ./steps_inputs/step6/final_output_fold_fold_3.txt\u001b[39;49m\u001b[38;5;130;43;01m\\n\u001b[39;49;00m\u001b[38;5;124;43mwc -l ./steps_inputs/step6/final_output_fold_fold_4.txt\u001b[39;49m\u001b[38;5;130;43;01m\\n\u001b[39;49;00m\u001b[38;5;124;43m'\u001b[39;49m\u001b[43m)\u001b[49m\n",
      "File \u001b[0;32m~/miniconda3/envs/chrombpnet/lib/python3.8/site-packages/IPython/core/interactiveshell.py:2478\u001b[0m, in \u001b[0;36mInteractiveShell.run_cell_magic\u001b[0;34m(self, magic_name, line, cell)\u001b[0m\n\u001b[1;32m   2476\u001b[0m \u001b[38;5;28;01mwith\u001b[39;00m \u001b[38;5;28mself\u001b[39m\u001b[38;5;241m.\u001b[39mbuiltin_trap:\n\u001b[1;32m   2477\u001b[0m     args \u001b[38;5;241m=\u001b[39m (magic_arg_s, cell)\n\u001b[0;32m-> 2478\u001b[0m     result \u001b[38;5;241m=\u001b[39m \u001b[43mfn\u001b[49m\u001b[43m(\u001b[49m\u001b[38;5;241;43m*\u001b[39;49m\u001b[43margs\u001b[49m\u001b[43m,\u001b[49m\u001b[43m \u001b[49m\u001b[38;5;241;43m*\u001b[39;49m\u001b[38;5;241;43m*\u001b[39;49m\u001b[43mkwargs\u001b[49m\u001b[43m)\u001b[49m\n\u001b[1;32m   2480\u001b[0m \u001b[38;5;66;03m# The code below prevents the output from being displayed\u001b[39;00m\n\u001b[1;32m   2481\u001b[0m \u001b[38;5;66;03m# when using magics with decodator @output_can_be_silenced\u001b[39;00m\n\u001b[1;32m   2482\u001b[0m \u001b[38;5;66;03m# when the last Python token in the expression is a ';'.\u001b[39;00m\n\u001b[1;32m   2483\u001b[0m \u001b[38;5;28;01mif\u001b[39;00m \u001b[38;5;28mgetattr\u001b[39m(fn, magic\u001b[38;5;241m.\u001b[39mMAGIC_OUTPUT_CAN_BE_SILENCED, \u001b[38;5;28;01mFalse\u001b[39;00m):\n",
      "File \u001b[0;32m~/miniconda3/envs/chrombpnet/lib/python3.8/site-packages/IPython/core/magics/script.py:153\u001b[0m, in \u001b[0;36mScriptMagics._make_script_magic.<locals>.named_script_magic\u001b[0;34m(line, cell)\u001b[0m\n\u001b[1;32m    151\u001b[0m \u001b[38;5;28;01melse\u001b[39;00m:\n\u001b[1;32m    152\u001b[0m     line \u001b[38;5;241m=\u001b[39m script\n\u001b[0;32m--> 153\u001b[0m \u001b[38;5;28;01mreturn\u001b[39;00m \u001b[38;5;28;43mself\u001b[39;49m\u001b[38;5;241;43m.\u001b[39;49m\u001b[43mshebang\u001b[49m\u001b[43m(\u001b[49m\u001b[43mline\u001b[49m\u001b[43m,\u001b[49m\u001b[43m \u001b[49m\u001b[43mcell\u001b[49m\u001b[43m)\u001b[49m\n",
      "File \u001b[0;32m~/miniconda3/envs/chrombpnet/lib/python3.8/site-packages/IPython/core/magics/script.py:305\u001b[0m, in \u001b[0;36mScriptMagics.shebang\u001b[0;34m(self, line, cell)\u001b[0m\n\u001b[1;32m    300\u001b[0m \u001b[38;5;28;01mif\u001b[39;00m args\u001b[38;5;241m.\u001b[39mraise_error \u001b[38;5;129;01mand\u001b[39;00m p\u001b[38;5;241m.\u001b[39mreturncode \u001b[38;5;241m!=\u001b[39m \u001b[38;5;241m0\u001b[39m:\n\u001b[1;32m    301\u001b[0m     \u001b[38;5;66;03m# If we get here and p.returncode is still None, we must have\u001b[39;00m\n\u001b[1;32m    302\u001b[0m     \u001b[38;5;66;03m# killed it but not yet seen its return code. We don't wait for it,\u001b[39;00m\n\u001b[1;32m    303\u001b[0m     \u001b[38;5;66;03m# in case it's stuck in uninterruptible sleep. -9 = SIGKILL\u001b[39;00m\n\u001b[1;32m    304\u001b[0m     rc \u001b[38;5;241m=\u001b[39m p\u001b[38;5;241m.\u001b[39mreturncode \u001b[38;5;129;01mor\u001b[39;00m \u001b[38;5;241m-\u001b[39m\u001b[38;5;241m9\u001b[39m\n\u001b[0;32m--> 305\u001b[0m     \u001b[38;5;28;01mraise\u001b[39;00m CalledProcessError(rc, cell)\n",
      "\u001b[0;31mCalledProcessError\u001b[0m: Command 'b'wc -l ./steps_inputs/step6/final_output_fold_fold_0.txt\\nwc -l ./steps_inputs/step6/final_output_fold_fold_1.txt\\nwc -l ./steps_inputs/step6/final_output_fold_fold_2.txt\\nwc -l ./steps_inputs/step6/final_output_fold_fold_3.txt\\nwc -l ./steps_inputs/step6/final_output_fold_fold_4.txt\\n'' returned non-zero exit status 1."
     ]
    }
   ],
   "source": [
    "%%bash\n",
    "wc -l ./steps_inputs/step6/final_output_fold_fold_0.txt\n",
    "wc -l ./steps_inputs/step6/final_output_fold_fold_1.txt\n",
    "wc -l ./steps_inputs/step6/final_output_fold_fold_2.txt\n",
    "wc -l ./steps_inputs/step6/final_output_fold_fold_3.txt\n",
    "wc -l ./steps_inputs/step6/final_output_fold_fold_4.txt"
   ]
  },
  {
   "cell_type": "markdown",
   "id": "6f369691-26e4-4127-ad4b-114b5b436dcb",
   "metadata": {},
   "source": [
    "***************** step 6-2 execution by folds ********************"
   ]
  },
  {
   "cell_type": "markdown",
   "id": "92904694-c04e-4d84-b92c-79a50805ee66",
   "metadata": {},
   "source": [
    "***************** fold 0 ********************"
   ]
  },
  {
   "cell_type": "code",
   "execution_count": 23,
   "id": "01e253cf-acaa-4a56-a2d1-3dfd389d45f8",
   "metadata": {},
   "outputs": [
    {
     "name": "stdout",
     "output_type": "stream",
     "text": [
      "443\n",
      "wc: ./steps_inputs/step6/final_output_fold_fold_0.txt: No such file or directory\n",
      "1490\n"
     ]
    }
   ],
   "source": [
    "# total number of negative avaialble from step 5 for fold 0\n",
    "!ls -lt $GROUP_SCRATCH/eila/encode_pseudobulks/encode_pseudobulks_negative/*/*/*/fold_0/*nonpeaks_negatives.bed | wc -l\n",
    "# 1490\n",
    "!wc -l ./steps_inputs/step6/final_output_fold_fold_0.txt\n",
    "# 48\n",
    "# Total number of currently available for fold 0:\n",
    "# !ls /scratch/groups/akundaje/eila/encode_pseudobulks/encode_pseudobulks_model_training/*/*/*/fold_0/step62.chrombpnet/auxiliary/interpret_subsample/modisco_results_profile_scores.h5  | wc -l\n",
    "!ls /scratch/groups/akundaje/vhecht/encode_pseudobulks/encode_pseudobulks_model_training/*/*/*/fold_0/step62.chrombpnet/auxiliary/interpret_subsample/modisco_results_profile_scores.h5  | wc -l\n"
   ]
  },
  {
   "cell_type": "code",
   "execution_count": 20,
   "id": "ec8bbe1c-e4d5-4be9-93e4-e73222de149e",
   "metadata": {},
   "outputs": [
    {
     "name": "stdout",
     "output_type": "stream",
     "text": [
      "Submitting job array for range 1-38%38\n",
      "Jobs 64589547 are running...\n"
     ]
    }
   ],
   "source": [
    "# # !chmod +x step6-2-train.sh\n",
    "# !rm ./local_logs/step62.chrombpnet.*\n",
    "# # fold_0 - only missing\n",
    "!./execute_sbatch_arrays_on_sherlock.sh ./steps_inputs/step6/final_output_fold_fold_0.txt step6-2-chrombpnet-pipelline.sh 38 38\n"
   ]
  },
  {
   "cell_type": "markdown",
   "id": "b544e39a-c733-49c4-82ba-3c1e33e5e925",
   "metadata": {},
   "source": [
    "***************** fold 1 ********************"
   ]
  },
  {
   "cell_type": "code",
   "execution_count": 39,
   "id": "24a54cdd-effb-4b51-a8ac-25aab92c7d64",
   "metadata": {},
   "outputs": [
    {
     "name": "stdout",
     "output_type": "stream",
     "text": [
      "1369\n",
      "634\n",
      "2 ./steps_inputs/step6/final_output_fold_fold_1.txt\n"
     ]
    }
   ],
   "source": [
    "\n",
    "# Total number of currently available for fold 1:\n",
    "!ls /scratch/groups/akundaje/eila/encode_pseudobulks/encode_pseudobulks_model_training/*/*/*/fold_1/step62.chrombpnet/auxiliary/interpret_subsample/modisco_results_profile_scores.h5  | wc -l\n",
    "# 862\n",
    "\n",
    "# total number of negative avaialble from step 5 for fold 1\n",
    "!ls -lt $GROUP_SCRATCH/eila/encode_pseudobulks/encode_pseudobulks_negative/*/*/*/fold_1/*nonpeaks_negatives.bed | wc -l\n",
    "# 1490\n",
    "\n",
    "# fold 1 negatibe available from step 5\n",
    "!wc -l ./steps_inputs/step6/final_output_fold_fold_1.txt\n",
    "# 269\n",
    "\n",
    "# !head ./steps_inputs/step6/final_output_fold_fold_1.txt"
   ]
  },
  {
   "cell_type": "code",
   "execution_count": 40,
   "id": "ce9e3b9b-f8a5-44b4-970d-2ceb43283ca2",
   "metadata": {},
   "outputs": [
    {
     "name": "stdout",
     "output_type": "stream",
     "text": [
      "homo_sapiens ENCSR161BCB ENCFF016ISZ fold_1 /scratch/groups/akundaje/vhecht/encode_pseudobulks/encode_pseudobulks_data/peaks_blacklist_filter/ENCSR161BCB/ENCFF016ISZ/ENCSR161BCB_ENCFF016ISZ_peaks_no_blacklist.bed.gz /scratch/groups/akundaje/vhecht/encode_pseudobulks/encode_pseudobulks_data/bams/ENCSR161BCB/ENCFF403OSG_sorted.bam /scratch/groups/akundaje/vhecht/encode_pseudobulks/encode_pseudobulks_negative/homo_sapiens/ENCSR161BCB/ENCFF016ISZ/fold_1/ENCSR161BCB_ENCFF016ISZ_homo_sapiens_nonpeaks_negatives.bed\n",
      "homo_sapiens ENCSR573VRP ENCFF215KOH fold_1 /scratch/groups/akundaje/vhecht/encode_pseudobulks/encode_pseudobulks_data/peaks_blacklist_filter/ENCSR573VRP/ENCFF215KOH/ENCSR573VRP_ENCFF215KOH_peaks_no_blacklist.bed.gz /scratch/groups/akundaje/vhecht/encode_pseudobulks/encode_pseudobulks_data/bams/ENCSR573VRP/ENCFF338DSA_sorted.bam /scratch/groups/akundaje/vhecht/encode_pseudobulks/encode_pseudobulks_negative/homo_sapiens/ENCSR573VRP/ENCFF215KOH/fold_1/ENCSR573VRP_ENCFF215KOH_homo_sapiens_nonpeaks_negatives.bed\n"
     ]
    }
   ],
   "source": [
    "!cat ./steps_inputs/step6/final_output_fold_fold_1.txt\n"
   ]
  },
  {
   "cell_type": "code",
   "execution_count": 44,
   "id": "344e1dec-c7e2-44dc-94d3-2f91e8905f9b",
   "metadata": {},
   "outputs": [
    {
     "name": "stdout",
     "output_type": "stream",
     "text": [
      "/scratch/groups/akundaje/eila/encode_pseudobulks/encode_pseudobulks_model_training/homo_sapiens/ENCSR161BCB/ENCFF016ISZ/fold_1/step62.chrombpnet/auxiliary/interpret_subsample/modisco_results_profile_scores.h5\n"
     ]
    }
   ],
   "source": [
    "# !ls /scratch/groups/akundaje/eila/encode_pseudobulks/encode_pseudobulks_model_training/*/*/*/fold_0/step62.chrombpnet/auxiliary/interpret_subsample/modisco_results_profile_scores.h5  | wc -l\n",
    "!ls /scratch/groups/akundaje/eila/encode_pseudobulks/encode_pseudobulks_model_training/*/ENCSR161BCB/ENCFF016ISZ/fold_1/step62.chrombpnet/auxiliary/interpret_subsample/modisco_results_profile_scores.h5\n"
   ]
  },
  {
   "cell_type": "code",
   "execution_count": 41,
   "id": "309156d8-8857-462e-b970-956c2b23a660",
   "metadata": {},
   "outputs": [
    {
     "name": "stdout",
     "output_type": "stream",
     "text": [
      "Submitting job array for range 1-2%2\n",
      "Jobs 65078126 are running...\n"
     ]
    }
   ],
   "source": [
    "# chrombpnet_pipeline_extracted_paths_fold_1\n",
    "!./execute_sbatch_arrays_on_sherlock.sh ./steps_inputs/step6/final_output_fold_fold_1.txt step6-2-chrombpnet-pipelline.sh 2 2 \n",
    "\n"
   ]
  },
  {
   "cell_type": "markdown",
   "id": "ef1d7d4c-cbcc-4e3b-a0a4-6fc36329aa1a",
   "metadata": {},
   "source": [
    "***************** fold 2 ********************"
   ]
  },
  {
   "cell_type": "code",
   "execution_count": 14,
   "id": "023215e9-e01c-4f92-af89-2b8f60d0c1e8",
   "metadata": {},
   "outputs": [
    {
     "name": "stdout",
     "output_type": "stream",
     "text": [
      "1353\n",
      "829\n",
      "wc: ./steps_inputs/step6/final_output_fold_fold_2.txt: No such file or directory\n"
     ]
    }
   ],
   "source": [
    "\n",
    "# Total number of currently available for fold 2:\n",
    "!ls /scratch/groups/akundaje/eila/encode_pseudobulks/encode_pseudobulks_model_training/*/*/*/fold_2/step62.chrombpnet/auxiliary/interpret_subsample/modisco_results_profile_scores.h5  | wc -l\n",
    "# 1456\n",
    "\n",
    "# total number of negative avaialble from step 5 for fold 2\n",
    "!ls -lt $GROUP_SCRATCH/eila/encode_pseudobulks/encode_pseudobulks_negative/*/*/*/fold_2/*nonpeaks_negatives.bed | wc -l\n",
    "# 1490\n",
    "\n",
    "!wc -l ./steps_inputs/step6/final_output_fold_fold_2.txt\n",
    "# 34"
   ]
  },
  {
   "cell_type": "code",
   "execution_count": 24,
   "id": "ed3dd771-6a43-4f3a-b5f6-f3fcaf29de0b",
   "metadata": {},
   "outputs": [
    {
     "name": "stdout",
     "output_type": "stream",
     "text": [
      "Submitting job array for range 1-24%24\n",
      "Jobs 64589782 are running...\n"
     ]
    }
   ],
   "source": [
    "# chrombpnet_pipeline_extracted_paths_fold_2\n",
    "\n",
    "!./execute_sbatch_arrays_on_sherlock.sh ./steps_inputs/step6/final_output_fold_fold_2.txt step6-2-chrombpnet-pipelline.sh 24 24\n",
    "\n"
   ]
  },
  {
   "cell_type": "markdown",
   "id": "bb962176-1be8-42d9-b1aa-a10e19e7047d",
   "metadata": {},
   "source": [
    "***************** fold 3 ********************"
   ]
  },
  {
   "cell_type": "code",
   "execution_count": 15,
   "id": "be70f406-f440-433b-afa1-f26a84a9206b",
   "metadata": {},
   "outputs": [
    {
     "name": "stdout",
     "output_type": "stream",
     "text": [
      "1371\n",
      "904\n",
      "wc: ./steps_inputs/step6/final_output_fold_fold_3.txt: No such file or directory\n"
     ]
    }
   ],
   "source": [
    "\n",
    "# Total number of currently available for fold 3:\n",
    "!ls /scratch/groups/akundaje/eila/encode_pseudobulks/encode_pseudobulks_model_training/*/*/*/fold_3/step62.chrombpnet/auxiliary/interpret_subsample/modisco_results_profile_scores.h5  | wc -l\n",
    "# 475\n",
    "\n",
    "# total number of negative avaialble from step 5 for fold 3\n",
    "!ls -lt $GROUP_SCRATCH/eila/encode_pseudobulks/encode_pseudobulks_negative/*/*/*/fold_3/*nonpeaks_negatives.bed | wc -l\n",
    "# 1490\n",
    "\n",
    "\n",
    "!wc -l ./steps_inputs/step6/final_output_fold_fold_3.txt\n",
    "# 829"
   ]
  },
  {
   "cell_type": "code",
   "execution_count": 26,
   "id": "7b9dbcf2-00ee-4ddf-b360-1e3b8be8e571",
   "metadata": {},
   "outputs": [
    {
     "name": "stdout",
     "output_type": "stream",
     "text": [
      "Submitting job array for range 1-141%141\n",
      "Jobs 64589784 are running...\n"
     ]
    }
   ],
   "source": [
    "# chrombpnet_pipeline_extracted_paths_fold_3\n",
    "!./execute_sbatch_arrays_on_sherlock.sh ./steps_inputs/step6/final_output_fold_fold_3.txt step6-2-chrombpnet-pipelline.sh 141 141\n",
    "\n"
   ]
  },
  {
   "cell_type": "markdown",
   "id": "1bde4925-0aa6-4ac8-aad0-081c9824228d",
   "metadata": {},
   "source": [
    "***************** fold 4 ********************"
   ]
  },
  {
   "cell_type": "code",
   "execution_count": 27,
   "id": "dd914a24-1a2b-4e75-a42f-87d71cb7bea4",
   "metadata": {},
   "outputs": [
    {
     "name": "stdout",
     "output_type": "stream",
     "text": [
      "1412\n",
      "1066\n",
      "63 ./steps_inputs/step6/final_output_fold_fold_4.txt\n"
     ]
    }
   ],
   "source": [
    "\n",
    "# Total number of currently available for fold 4:\n",
    "!ls /scratch/groups/akundaje/eila/encode_pseudobulks/encode_pseudobulks_model_training/*/*/*/fold_4/step62.chrombpnet/auxiliary/interpret_subsample/modisco_results_profile_scores.h5  | wc -l\n",
    "# 1008\n",
    "# total number of negative avaialble from step 5 for fold 4\n",
    "!ls -lt $GROUP_SCRATCH/eila/encode_pseudobulks/encode_pseudobulks_negative/*/*/*/fold_4/*nonpeaks_negatives.bed | wc -l\n",
    "# 1490\n",
    "!wc -l ./steps_inputs/step6/final_output_fold_fold_4.txt\n",
    "# 51\n"
   ]
  },
  {
   "cell_type": "code",
   "execution_count": 28,
   "id": "6bb7d76c-e1d3-42c4-8b58-eab14bfcbfd4",
   "metadata": {},
   "outputs": [
    {
     "name": "stdout",
     "output_type": "stream",
     "text": [
      "Submitting job array for range 1-63%63\n",
      "Jobs 64589795 are running...\n"
     ]
    }
   ],
   "source": [
    "# chrombpnet_pipeline_extracted_paths_fold_4\n",
    "!./execute_sbatch_arrays_on_sherlock.sh ./steps_inputs/step6/final_output_fold_fold_4.txt step6-2-chrombpnet-pipelline.sh 63 63\n"
   ]
  },
  {
   "cell_type": "markdown",
   "id": "d1bf50a2-5752-4097-9b44-dfec32683932",
   "metadata": {},
   "source": [
    "6.3.1-check the results - nseqspec"
   ]
  },
  {
   "cell_type": "code",
   "execution_count": 2,
   "id": "eac06b24-46d6-4bca-993a-b491333c8e2f",
   "metadata": {},
   "outputs": [],
   "source": [
    "# !ls"
   ]
  },
  {
   "cell_type": "code",
   "execution_count": 3,
   "id": "a1ffeb04-8dc7-4642-8082-964e8eb430a3",
   "metadata": {},
   "outputs": [
    {
     "data": {
      "image/png": "[encoded data removed]",
      "text/plain": [
       "<IPython.core.display.Image object>"
      ]
     },
     "metadata": {},
     "output_type": "display_data"
    }
   ],
   "source": [
    "from IPython.display import Image, display\n",
    "\n",
    "# Display a PNG image\n",
    "image_path = \"/scratch/groups/akundaje/eila/encode_pseudobulks/old_encode_pseudobulks_model_training/human/ENCSR004DZS/ENCFF709MRG/fold_0/step62.bpnetPipeline/qc/out_step_6_3_1_motifs_qc/invalid_images/neg_patterns.pattern_0.cwm.fwd.png\"\n",
    "\n",
    "display(Image(filename=image_path))"
   ]
  },
  {
   "cell_type": "code",
   "execution_count": 5,
   "id": "00f9453b-2e7e-4822-9b0f-c5f7299a918e",
   "metadata": {},
   "outputs": [],
   "source": [
    "# !chmod +x step6-3-1-qc-nseqlet.sh\n",
    "# !chmod +x step6_3_1_remove_motifs_with_low_numseqs.py\n",
    "# /scratch/groups/akundaje/eila/encode_pseudobulks/old_encode_pseudobulks_model_training/human/ENCSR004DZS/ENCFF709MRG/fold_0/step62.bpnetPipeline/evaluation/modisco_profile/trimmed_logos\n",
    "# !./step6-3-1-qc-nseqlet.sh /scratch/groups/akundaje/eila/encode_pseudobulks/old_encode_pseudobulks_model_training/human/ENCSR004DZS/ENCFF709MRG/fold_0/step62.bpnetPipeline/auxiliary/interpret_subsample/modisco_results_profile_scores.h5\n",
    "\n"
   ]
  },
  {
   "cell_type": "markdown",
   "id": "339828dc-c6f8-49e9-b096-ed5a34cbf07d",
   "metadata": {},
   "source": [
    "6.3.2 -check the results - tomtom bias"
   ]
  },
  {
   "cell_type": "code",
   "execution_count": 2,
   "id": "4a1cef7c-bf4c-40be-b3ab-e3b4c391263a",
   "metadata": {},
   "outputs": [
    {
     "name": "stdout",
     "output_type": "stream",
     "text": [
      "Waiting for jobs 57435004 to complete... Sleeping for 20 minutes.\n",
      "Waiting for jobs 57435004 to complete... Sleeping for 20 minutes.\n",
      "All tasks for jobs 57435004 have completed.\n",
      "Resubmitting job after completion of jobs: 57435004\n",
      "sbatch: error: =============================================================================\n",
      "sbatch: error:  ERROR: sleeper job detected\n",
      "sbatch: error: =============================================================================\n",
      "sbatch: error:  Sleep jobs are not allowed as they artificially prevent other users from\n",
      "sbatch: error:  using available resources.\n",
      "sbatch: error: -----------------------------------------------------------------------------\n",
      "sbatch: error: Batch job submission failed: Requested operation is presently disabled\n"
     ]
    }
   ],
   "source": [
    "# !chmod +x step6-3-2-qc-qval.sh\n",
    "# !chmod +x step6_3_2_filter_motifs_by_qval.py\n",
    "# !./step6-3-2-qc-qval.sh /scratch/groups/akundaje/eila/encode_pseudobulks/old_encode_pseudobulks_model_training/human/ENCSR877WNS/ENCFF270AAM/fold_0/step62.bpnetPipeline/auxiliary/interpret_subsample/modisco_results_profile_scores.h5\n",
    "\n",
    "# !chmod +x step6-3-2-qc-tomtom-bias-tn5.sh\n",
    "# !chmod +x step6_3_2_filter_motifs_with_TOMTOM_tn5_bias.py\n",
    "!./execute_sbatch_arrays_on_sherlock.sh ./steps_inputs/step6_3/debug_one_modisco_results_profile_scores_h5.txt step6-3-2-qa-tomtom-bias-tn5.sh 1 1 \n",
    "\n",
    "\n"
   ]
  },
  {
   "cell_type": "code",
   "execution_count": 7,
   "id": "d010fa05-917f-4571-b0f4-d9d584ca7054",
   "metadata": {},
   "outputs": [
    {
     "name": "stdout",
     "output_type": "stream",
     "text": [
      "step6-1-create_input_for_all_folds.sh\n",
      "step6-2-chrombpnet-pipelline.sh\n",
      "step6-3-1-qc-nseqlet.sh\n",
      "step6_3_1_remove_motifs_with_low_numseqs.py\n",
      "step6_3_2_filter_motifs_by_qval.py\n",
      "step6-3-2-qc-qval.sh\n",
      "step6_3_3_filter_motifs_with_tn5_bias.py\n",
      "step6-3-3-qc-bias-tn5.sh\n",
      "step6-3-review-pipeline-report.sh\n"
     ]
    }
   ],
   "source": [
    "!ls step6*"
   ]
  },
  {
   "cell_type": "code",
   "execution_count": null,
   "id": "cf9fbe42-2f10-4dc2-8d6e-a39f28187728",
   "metadata": {},
   "outputs": [],
   "source": []
  },
  {
   "cell_type": "markdown",
   "id": "d50f3c22-9a35-4184-a2f2-2e536beedc96",
   "metadata": {},
   "source": [
    "6.3.3 -check the for tn5 bias"
   ]
  },
  {
   "cell_type": "code",
   "execution_count": 34,
   "id": "124e39b6-877d-4121-97a2-aa46789fb1e7",
   "metadata": {},
   "outputs": [
    {
     "name": "stdout",
     "output_type": "stream",
     "text": [
      "   617    617 128953 ./steps_inputs/step6_3/debug_modisco_results_profile_scores_h5.txt\n"
     ]
    }
   ],
   "source": [
    "#prepare debug data for step 6-3-3:\n",
    "# !ls /scratch/groups/akundaje/eila/encode_pseudobulks/old_encode_pseudobulks_model_training/human/*/*/fold_0/step62.bpnetPipeline/auxiliary/interpret_subsample/modisco_results_profile_scores.h5 > ./steps_inputs/step6_3/debug_modisco_results_profile_scores_h5.txt\n",
    "# !wc ./steps_inputs/step6_3/debug_modisco_results_profile_scores_h5.txt\n"
   ]
  },
  {
   "cell_type": "code",
   "execution_count": 1,
   "id": "ff3c1917-e9ed-498d-bf97-6e0ceccb20c3",
   "metadata": {},
   "outputs": [
    {
     "name": "stdout",
     "output_type": "stream",
     "text": [
      "/scratch/groups/akundaje/eila/encode_pseudobulks/old_encode_pseudobulks_model_training/human/ENCSR004DZS/ENCFF709MRG/fold_0/step62.bpnetPipeline/auxiliary/interpret_subsample/modisco_results_profile_scores.h5"
     ]
    }
   ],
   "source": [
    "!cat ./steps_inputs/step6_3/debug_one_modisco_results_profile_scores_h5.txt"
   ]
  },
  {
   "cell_type": "code",
   "execution_count": 75,
   "id": "a3c0a203-6a81-4aa0-b4d6-fdd1f5fe2665",
   "metadata": {},
   "outputs": [
    {
     "name": "stdout",
     "output_type": "stream",
     "text": [
      "ls: cannot access /scratch/groups/akundaje/eila/encode_pseudobulks/encode_pseudobulks_model_training/human/*/*/fold_0/step62.bpnetPipeline/auxiliary/interpret_subsample/modisco_results_profile_scores.h5: No such file or directory\n",
      "0\n"
     ]
    }
   ],
   "source": [
    "!ls /scratch/groups/akundaje/eila/encode_pseudobulks/encode_pseudobulks_model_training/human/*/*/fold_0/step62.bpnetPipeline/auxiliary/interpret_subsample/modisco_results_profile_scores.h5 | wc -l \n",
    "\n"
   ]
  },
  {
   "cell_type": "code",
   "execution_count": 1,
   "id": "474f6ca4-3481-4c8f-9225-d3d871fdbfb3",
   "metadata": {},
   "outputs": [
    {
     "name": "stdout",
     "output_type": "stream",
     "text": [
      "  1064   1064 218120 ./steps_inputs/step6_3/modisco_results_profile_scores_h5.txt\n"
     ]
    }
   ],
   "source": [
    "#prepare data for step 6-3-3:\n",
    "!ls /scratch/groups/akundaje/eila/encode_pseudobulks/encode_pseudobulks_model_training/*/*/*/fold_0/step62.bpnetPipeline/auxiliary/interpret_subsample/modisco_results_profile_scores.h5 > ./steps_inputs/step6_3/modisco_results_profile_scores_h5.txt\n",
    "!wc ./steps_inputs/step6_3/modisco_results_profile_scores_h5.txt\n",
    "\n"
   ]
  },
  {
   "cell_type": "code",
   "execution_count": 2,
   "id": "ea115fdb-ac15-4582-921e-f820eed23748",
   "metadata": {
    "scrolled": true
   },
   "outputs": [
    {
     "name": "stdout",
     "output_type": "stream",
     "text": [
      "Total entries in input file: 1064\n",
      "Total number of job arrays to be submitted: 1\n",
      "Submitting job array from 1 to 1064 with a maximum of 1064 concurrent tasks.\n",
      "sbatch: defined options\n",
      "sbatch: -------------------- --------------------\n",
      "sbatch: array               : 1-1064%1064\n",
      "sbatch: cpus-per-task       : 4\n",
      "sbatch: error               : /oak/stanford/groups/akundaje/eila/git_tf_chromatin_atlas/local_logs/633_motifs_qc_bias_tn5_%A_%a.err\n",
      "sbatch: job-name            : 633_motifs_qc_bias_tn5\n",
      "sbatch: mem                 : 8G\n",
      "sbatch: ntasks              : 1\n",
      "sbatch: output              : /oak/stanford/groups/akundaje/eila/git_tf_chromatin_atlas/local_logs/633_motifs_qc_bias_tn5_%A_%a.out\n",
      "sbatch: partition           : akundaje,owners\n",
      "sbatch: time                : 10:00:00\n",
      "sbatch: verbose             : 1\n",
      "sbatch: -------------------- --------------------\n",
      "sbatch: end of defined options\n",
      "sbatch: error: Batch job submission failed: Invalid job array specification\n",
      "All tasks for jobs  have completed.\n"
     ]
    }
   ],
   "source": [
    "# !chmod +x step6-3-3-qc-bias-tn5.sh\n",
    "# !chmod +x step6_3_3_filter_motifs_with_tn5_bias.py\n",
    "\n",
    "!rm ./local_logs/633*\n",
    "# script directly- will fail if the part of task ID is not commented out\n",
    "# !./step6-3-3-qc-bias-tn5.sh /scratch/groups/akundaje/eila/encode_pseudobulks/old_encode_pseudobulks_model_training/human/ENCSR004DZS/ENCFF709MRG/fold_0/step62.bpnetPipeline/auxiliary/interpret_subsample/modisco_results_profile_scores.h5\n",
    "# DEBUG\n",
    "# !./execute_sbatch_arrays_on_sherlock.sh ./steps_inputs/step6_3/debug_one_modisco_results_profile_scores_h5.txt step6-3-3-qc-bias-tn5.sh 1 1 \n",
    "# MODEL FOR TF ATLAS\n",
    "!./execute_sbatch_arrays_on_sherlock.sh ./steps_inputs/step6_3/modisco_results_profile_scores_h5.txt step6-3-3-qc-bias-tn5.sh 1064 1064\n"
   ]
  },
  {
   "cell_type": "code",
   "execution_count": 8,
   "id": "bd6132e3-0da8-4222-97ca-8b38f16ba123",
   "metadata": {},
   "outputs": [
    {
     "name": "stdout",
     "output_type": "stream",
     "text": [
      "6th element from the end: ENCFF709MRG\n",
      "7th element from the end: ENCSR004DZS\n"
     ]
    }
   ],
   "source": [
    "%%bash\n",
    "IFS='/' read -r -a path_parts <<< \"/scratch/groups/akundaje/eila/encode_pseudobulks/old_encode_pseudobulks_model_training/human/ENCSR004DZS/ENCFF709MRG/fold_0/step62.bpnetPipeline/auxiliary/interpret_subsample/modisco_results_profile_scores.h5\"; \n",
    "\n",
    "# Print up to the 6th and 7th elements from the end\n",
    "echo \"6th element from the end: ${path_parts[-6]}\"\n",
    "echo \"7th element from the end: ${path_parts[-7]}\"\n"
   ]
  },
  {
   "cell_type": "code",
   "execution_count": 1,
   "id": "ed6e87b4-5d7f-444d-a196-edec6d1ace88",
   "metadata": {},
   "outputs": [
    {
     "name": "stdout",
     "output_type": "stream",
     "text": [
      "/scratch/groups/akundaje/eila/encode_pseudobulks/old_encode_pseudobulks_model_training/human/ENCSR004DZS/ENCFF709MRG/fold_0/step62.bpnetPipeline/qc/out_step_6_3_3_motifs_qc_bias_tn5/neg_patterns_invalid_logos/:\n",
      "\n",
      "/scratch/groups/akundaje/eila/encode_pseudobulks/old_encode_pseudobulks_model_training/human/ENCSR004DZS/ENCFF709MRG/fold_0/step62.bpnetPipeline/qc/out_step_6_3_3_motifs_qc_bias_tn5/pos_patterns_invalid_logos/:\n"
     ]
    }
   ],
   "source": [
    "# check which motifs are tn5 biased - debug set\n",
    "\n",
    "!ls /scratch/groups/akundaje/eila/encode_pseudobulks/old_encode_pseudobulks_model_training/human/*/*/fold_0/step62.bpnetPipeline/qc/out_step_6_3_3_motifs_qc_bias_tn5/*invalid_logos/\n"
   ]
  },
  {
   "cell_type": "code",
   "execution_count": 4,
   "id": "53729564-5c81-462f-b5bf-a32a2ffda098",
   "metadata": {},
   "outputs": [
    {
     "name": "stdout",
     "output_type": "stream",
     "text": [
      "ls: cannot access /scratch/groups/akundaje/eila/encode_pseudobulks/old_encode_pseudobulks_model_training/human/*/*/fold_0/step62.bpnetPipeline/qc/out_step_6_3_3_motifs_qc_bias_tn5/*valid_logos/*: No such file or directory\n"
     ]
    }
   ],
   "source": [
    "# not biased - debug set\n",
    "\n",
    "!ls /scratch/groups/akundaje/eila/encode_pseudobulks/old_encode_pseudobulks_model_training/human/*/*/fold_0/step62.bpnetPipeline/qc/out_step_6_3_3_motifs_qc_bias_tn5/*valid_logos/* \n"
   ]
  },
  {
   "cell_type": "code",
   "execution_count": 16,
   "id": "77c3bfe4-65aa-4bf9-9a76-7f570f351e8f",
   "metadata": {},
   "outputs": [
    {
     "name": "stdout",
     "output_type": "stream",
     "text": [
      "auxiliary  evaluation  logs  models\n"
     ]
    }
   ],
   "source": [
    "!ls /scratch/groups/akundaje/eila/encode_pseudobulks/old_encode_pseudobulks_model_training/human/ENCSR152UIV/ENCFF800VLS/fold_0/step62.bpnetPipeline\n",
    "\n",
    "# ENCSR000NVR/ENCFF585MYS/fold_0/step62.bpnetPipeline/auxiliary/interpret_subsample/"
   ]
  },
  {
   "cell_type": "code",
   "execution_count": null,
   "id": "a1d2b179-46c1-4847-85cd-73c5e57b6215",
   "metadata": {},
   "outputs": [],
   "source": [
    "# !ls /scratch/groups/akundaje/eila/encode_pseudobulks/old_encode_pseudobulks_model_training/human/ENCSR004DZS/ENCFF709MRG/fold_0/step62.bpnetPipeline/qc/out_step_6_3_3_motifs_qc_bias_tn5/pos_patterns_invalid_logos\n",
    "\n"
   ]
  },
  {
   "cell_type": "code",
   "execution_count": 1,
   "id": "6f25b45e-b9c8-47d1-b475-9b7b11759c62",
   "metadata": {},
   "outputs": [
    {
     "name": "stdout",
     "output_type": "stream",
     "text": [
      "neg_patterns.pattern_0.cwm.fwd.png\n",
      "neg_patterns.pattern_0.cwm.rev.png\n",
      "neg_patterns.pattern_1.cwm.fwd.png\n",
      "neg_patterns.pattern_1.cwm.rev.png\n"
     ]
    }
   ],
   "source": [
    "%%bash\n",
    "ls /scratch/groups/akundaje/eila/encode_pseudobulks/old_encode_pseudobulks_model_training/human/ENCSR004DZS/ENCFF709MRG/fold_0/step62.bpnetPipeline/qc/out_step_6_3_3_motifs_qc_bias_tn5/neg_patterns_valid_logos/\n",
    "\n"
   ]
  },
  {
   "cell_type": "code",
   "execution_count": null,
   "id": "5fa5ed98-3614-40a7-b388-a2d0c07e2685",
   "metadata": {},
   "outputs": [],
   "source": []
  },
  {
   "cell_type": "code",
   "execution_count": 5,
   "id": "323e1112-fae7-4f19-af1f-b6ccf6d9cfb4",
   "metadata": {},
   "outputs": [
    {
     "data": {
      "image/png": "[encoded data removed]",
      "text/plain": [
       "<IPython.core.display.Image object>"
      ]
     },
     "metadata": {},
     "output_type": "display_data"
    }
   ],
   "source": [
    "from IPython.display import Image, display\n",
    "\n",
    "# Display a PNG image\n",
    "image_path = \"/scratch/groups/akundaje/eila/encode_pseudobulks/old_encode_pseudobulks_model_training/human/ENCSR004DZS/ENCFF709MRG/fold_0/step62.bpnetPipeline/qc/out_step_6_3_3_motifs_qc_bias_tn5/neg_patterns_valid_logos/neg_patterns.pattern_1.cwm.rev.png\"\n",
    "display(Image(filename=image_path))\n",
    "\n"
   ]
  },
  {
   "cell_type": "code",
   "execution_count": 18,
   "id": "3627e13a-cd08-4862-b6fa-c5952d692729",
   "metadata": {},
   "outputs": [],
   "source": [
    "# from IPython.display import Image, display\n",
    "\n",
    "# # Display a PNG image\n",
    "# image_path = \"/scratch/groups/akundaje/eila/encode_pseudobulks/old_encode_pseudobulks_model_training/human/ENCSR004DZS/ENCFF709MRG/fold_0/step62.bpnetPipeline/qc/out_step_6_3_3_motifs_qc_bias_tn5/pos_patterns_valid_logos/pos_patterns.pattern_0.cwm.fwd.png\"\n",
    "# display(Image(filename=image_path))\n",
    "\n"
   ]
  },
  {
   "cell_type": "markdown",
   "id": "27f0c3c2-25ae-4a70-a00d-66e4a821b481",
   "metadata": {},
   "source": [
    "<!-- 6.3.2 -check the results - qval -->"
   ]
  },
  {
   "cell_type": "code",
   "execution_count": 6,
   "id": "3671fc84-64e5-4c21-af5e-45b81600e6e3",
   "metadata": {},
   "outputs": [
    {
     "name": "stdout",
     "output_type": "stream",
     "text": [
      "step6-1-create_input_for_all_folds.sh\n",
      "step6-2-chrombpnet-pipelline.sh\n",
      "step6-3-1-qc-nseqlet.sh\n",
      "step6_3_1_remove_motifs_with_low_numseqs.py\n",
      "step6_3_2_filter_motifs_by_qval.py\n",
      "step6-3-2-qc-qval.sh\n",
      "step6_3_3_filter_motifs_with_tn5_bias.py\n",
      "step6-3-3-qc-bias-tn5.sh\n",
      "step6-3-review-pipeline-report.sh\n"
     ]
    }
   ],
   "source": [
    "# !ls step6*"
   ]
  },
  {
   "cell_type": "code",
   "execution_count": 7,
   "id": "da56512b-1cbc-4ce9-90f0-7bbfac26c9a3",
   "metadata": {},
   "outputs": [
    {
     "name": "stdout",
     "output_type": "stream",
     "text": [
      "step6-3-2-qc-qval.sh\n"
     ]
    }
   ],
   "source": [
    "# !ls step6-3-2*"
   ]
  },
  {
   "cell_type": "code",
   "execution_count": 5,
   "id": "afffe5db-1e23-46d9-9270-313dd0d6b549",
   "metadata": {},
   "outputs": [],
   "source": [
    "# !chmod +x step6-3-2-qc-qval.sh\n",
    "# !chmod +x step6_3_2_filter_motifs_by_qval.py\n",
    "# !./step6-3-2-qc-qval.sh /scratch/groups/akundaje/eila/encode_pseudobulks/old_encode_pseudobulks_model_training/human/ENCSR877WNS/ENCFF270AAM/fold_0/step62.bpnetPipeline/auxiliary/interpret_subsample/modisco_results_profile_scores.h5\n",
    "\n"
   ]
  },
  {
   "cell_type": "code",
   "execution_count": 7,
   "id": "c29c8289-9398-4d78-8a8d-7c4d15a06dc8",
   "metadata": {},
   "outputs": [],
   "source": [
    "# execute step 6-3-2-high-match-motifs-no-tn5.sh\n",
    "# !./step 6-3-2-high-match-motifs.sh /scratch/groups/akundaje/eila/encode_pseudobulks/old_encode_pseudobulks_model_training/human/ENCSR877WNS/ENCFF270AAM/fold_0/step62.bpnetPipeline/auxiliary/interpret_subsample/modisco_results_profile_scores.h5 out_step_6_3_1\n"
   ]
  },
  {
   "cell_type": "code",
   "execution_count": null,
   "id": "3a8cff94-f3ad-4e16-b291-29f018fd276c",
   "metadata": {},
   "outputs": [],
   "source": []
  },
  {
   "cell_type": "markdown",
   "id": "a1a493b7-74ae-4a48-863b-ce9583d10cde",
   "metadata": {},
   "source": [
    "### Jobs running"
   ]
  },
  {
   "cell_type": "code",
   "execution_count": 3,
   "id": "2ec7e1e0-b411-4587-bbc5-ce3200134382",
   "metadata": {},
   "outputs": [
    {
     "name": "stdout",
     "output_type": "stream",
     "text": [
      "1\n"
     ]
    }
   ],
   "source": [
    "!squeue --user=$USER | wc -l\n",
    "# 48\n"
   ]
  },
  {
   "cell_type": "code",
   "execution_count": 2,
   "id": "804b2bb7-617b-4e52-9ebd-f96ba8e430b4",
   "metadata": {},
   "outputs": [],
   "source": [
    "# !squeue --user=$USER\n",
    "# 54958965"
   ]
  },
  {
   "cell_type": "code",
   "execution_count": 11,
   "id": "41914edf-9726-441c-a5ae-55a74191c767",
   "metadata": {},
   "outputs": [],
   "source": [
    "# !scancel 54084823"
   ]
  },
  {
   "cell_type": "code",
   "execution_count": 51,
   "id": "66ce8732-61d7-458c-a6fa-de4c26c5b678",
   "metadata": {},
   "outputs": [],
   "source": [
    "# !squeue -u $USER -o \"%i %j\" | grep step5Neg\n"
   ]
  },
  {
   "cell_type": "code",
   "execution_count": 24,
   "id": "47127e74-4e1c-4557-a387-ad5126e64c6c",
   "metadata": {},
   "outputs": [
    {
     "name": "stdout",
     "output_type": "stream",
     "text": [
      "total 15940\n",
      "-rw-r--r-- 1 eila akundaje 16317648 Oct  7 17:10 ENCSR945OSX_ENCFF142CJI_mouse_nonpeaks_negatives.bed\n",
      "drwxr-sr-x 2 eila akundaje     4096 Oct  7 17:10 ENCSR945OSX_ENCFF142CJI_mouse_nonpeaks_auxiliary\n"
     ]
    }
   ],
   "source": [
    "# !squeue -u $USER -o \"%i\" | grep step5Neg | xargs scancel\n",
    "!ls -lt /scratch/groups/akundaje/eila/encode_pseudobulks/encode_pseudobulks_negative/mouse/ENCSR945OSX/ENCFF142CJI/fold_3"
   ]
  },
  {
   "cell_type": "code",
   "execution_count": 26,
   "id": "7e8f6b16-a4e1-47dc-8a42-953be2107f3a",
   "metadata": {},
   "outputs": [
    {
     "name": "stdout",
     "output_type": "stream",
     "text": [
      "total 5924\n",
      "-rw-r--r-- 1 eila akundaje 6061850 Oct  7 16:53 ENCSR619QCA_ENCFF499UFR_mouse_nonpeaks_negatives.bed\n",
      "drwxr-sr-x 2 eila akundaje    4096 Oct  7 16:53 ENCSR619QCA_ENCFF499UFR_mouse_nonpeaks_auxiliary\n"
     ]
    }
   ],
   "source": [
    "!ls -lt /scratch/groups/akundaje/eila/encode_pseudobulks/encode_pseudobulks_negative/mouse/ENCSR619QCA/ENCFF499UFR/fold_4/"
   ]
  },
  {
   "cell_type": "code",
   "execution_count": 5,
   "id": "9bea715c-6947-492d-844b-a59f34015a92",
   "metadata": {},
   "outputs": [],
   "source": [
    "# Next: \n",
    "# array_job_interpret_example.sh - with 1000 peaks. counts and profile - two heads (one after the other)\n",
    "# seperate the profile from the counts - so we will not have timeput\n",
    "# note: can also run profile and counts steps separately (will have more jobs, each will take less time)\n",
    "# This need to be updated. https://github.com/kundajelab/chrombpnet/wiki/Generate-contribution-score-bigwigs\n",
    "# -pc for counts. -pc for profile. can be as paraemterts with the value of the -pc and one script.\n",
    "# chrombpnet contribs_bw \\\n",
    "#  -m ${MODEL_PATH} \\\n",
    "#  -r ${REGIONS_PATH} \\\n",
    "#  -g /oak/stanford/groups/akundaje/ziwei75/atac_seq_pipeline/hg38/GRCh38_no_alt_analysis_set_GCA_000001405.15.fasta \\ # update this for mouse\n",
    "#  -c /oak/stanford/groups/akundaje/ziwei75/atac_seq_pipeline/hg38/GRCh38_EBV.chrom.sizes.tsv \\ # update this for mouse\n",
    "#  -op ${output_dir}/${ENCSR_ID} | tee -a $log\n",
    "# comment the counts\n",
    "# change to $SCRATCH_GOUP\n",
    "# copy to $SCRATCH_GOUP whatever is remaining.\n",
    "#  "
   ]
  },
  {
   "cell_type": "code",
   "execution_count": 6,
   "id": "5821672b-ff92-4a26-ab41-f9d2cd59c48e",
   "metadata": {},
   "outputs": [],
   "source": [
    "# !sstat -j 52658719 --format=JobID,MaxRSS,MaxVMSize\n"
   ]
  },
  {
   "cell_type": "code",
   "execution_count": 7,
   "id": "1d19f5fc-9521-41f8-bd21-d3e51d023468",
   "metadata": {},
   "outputs": [],
   "source": [
    "# !scontrol show job 52659563\n"
   ]
  },
  {
   "cell_type": "code",
   "execution_count": 33,
   "id": "2b4a5a21-b4e5-4a0e-b2e6-5bd37b3222f4",
   "metadata": {},
   "outputs": [
    {
     "name": "stdout",
     "output_type": "stream",
     "text": [
      "             JOBID PARTITION     NAME     USER ST       TIME  NODES NODELIST(REASON)\n",
      "54150538_[45-1000% owners,ak step5Neg     eila PD       0:00      1 (Resources)\n",
      "54150540_[1001-135 owners,ak step5Neg     eila PD       0:00      1 (Resources)\n"
     ]
    }
   ],
   "source": [
    "!squeue --user=$USER"
   ]
  },
  {
   "cell_type": "code",
   "execution_count": 121,
   "id": "c3963704-cc94-4c58-b481-106aa5628e4b",
   "metadata": {},
   "outputs": [],
   "source": [
    "# !scancel -u eila"
   ]
  },
  {
   "cell_type": "code",
   "execution_count": 122,
   "id": "3924921e-6fd3-43d5-bff5-8918553ba88a",
   "metadata": {},
   "outputs": [],
   "source": [
    "# !scancel 53562999_1"
   ]
  },
  {
   "cell_type": "code",
   "execution_count": 39,
   "id": "79b4720d-2e0b-4601-91ec-7f7c11930f3b",
   "metadata": {},
   "outputs": [],
   "source": [
    "# !sacct -j 53978234 --format=JobID,State,ExitCode\n"
   ]
  },
  {
   "cell_type": "code",
   "execution_count": 84,
   "id": "309ec7d2-ef76-4962-8a6c-77638f5af29d",
   "metadata": {},
   "outputs": [],
   "source": [
    "# #step 5 - train chrombpnet - human\n",
    "\n",
    "# !./execute_sbatch_arrays_on_sherlock.sh ./steps_inputs/step5/human/eila_peaks_matched_to_experiments-debug.txt step4-compute-negatives-non-peak-background.sh 2 2\n",
    "\n",
    "\n"
   ]
  },
  {
   "cell_type": "code",
   "execution_count": 21,
   "id": "4f349b2a-9876-4b6a-b233-42728185b20b",
   "metadata": {},
   "outputs": [],
   "source": [
    "# !ls /scratch/users/eila/encode_pseudobulks/chrombpnet_model"
   ]
  },
  {
   "cell_type": "code",
   "execution_count": 22,
   "id": "df692af2-5582-4f35-a382-e211820e4f0c",
   "metadata": {},
   "outputs": [],
   "source": [
    "# !ls /scratch/users/eila/encode_pseudobulks/chrombpnet_model/ENCSR396HHA\n"
   ]
  },
  {
   "cell_type": "code",
   "execution_count": 22,
   "id": "88878e8f-f9a1-4fc0-9a35-ba6509d34afd",
   "metadata": {},
   "outputs": [],
   "source": [
    "# !ls /scratch/users/eila/encode_pseudobulks/chrombpnet_model/ENCSR396HHA/negatives/fold_0\n",
    "# !squeue --user=$USER"
   ]
  },
  {
   "cell_type": "code",
   "execution_count": 11,
   "id": "28bbe918-c9d4-4acf-8ae3-30656b2757bf",
   "metadata": {},
   "outputs": [
    {
     "name": "stdout",
     "output_type": "stream",
     "text": [
      "3\n"
     ]
    }
   ],
   "source": [
    "# !scontrol show job 52237837\n",
    "!squeue --user=$USER --state=PENDING | wc -l"
   ]
  },
  {
   "cell_type": "code",
   "execution_count": 20,
   "id": "aa705a94-3b91-4185-84e9-4dc2c0ec124d",
   "metadata": {},
   "outputs": [
    {
     "name": "stdout",
     "output_type": "stream",
     "text": [
      "             JOBID PARTITION     NAME     USER ST       TIME  NODES NODELIST(REASON)\n"
     ]
    }
   ],
   "source": [
    "!squeue --user=$USER --state=RUNNING"
   ]
  },
  {
   "cell_type": "code",
   "execution_count": 14,
   "id": "8744c13e-7c7a-4451-bd05-354f853ab1bf",
   "metadata": {},
   "outputs": [
    {
     "name": "stdout",
     "output_type": "stream",
     "text": [
      "             JOBID PARTITION     NAME     USER ST       TIME  NODES NODELIST(REASON)\n",
      "54150540_[1001-135 owners,ak step5Neg     eila PD       0:00      1 (None)\n",
      "54150538_[1-1000%1 owners,ak step5Neg     eila PD       0:00      1 (None)\n"
     ]
    }
   ],
   "source": [
    "!squeue --user=$USER --state=PENDING"
   ]
  },
  {
   "cell_type": "code",
   "execution_count": 15,
   "id": "b66fe21a-a572-45c3-84be-ac0cd575ba75",
   "metadata": {},
   "outputs": [
    {
     "name": "stdout",
     "output_type": "stream",
     "text": [
      "1\n"
     ]
    }
   ],
   "source": [
    "!squeue --user=$USER --state=COMPLETED | wc -l"
   ]
  },
  {
   "cell_type": "code",
   "execution_count": 19,
   "id": "89f4c495-59c3-483d-bd4a-5255595af6fd",
   "metadata": {},
   "outputs": [
    {
     "name": "stdout",
     "output_type": "stream",
     "text": [
      "1\n"
     ]
    }
   ],
   "source": [
    "!squeue --user=$USER --state=RUNNING | wc -l"
   ]
  },
  {
   "cell_type": "code",
   "execution_count": 18,
   "id": "16662045-05db-45d5-b261-c686a54e9c15",
   "metadata": {},
   "outputs": [
    {
     "name": "stdout",
     "output_type": "stream",
     "text": [
      "eila\n"
     ]
    }
   ],
   "source": [
    "!echo $USER"
   ]
  },
  {
   "cell_type": "code",
   "execution_count": 22,
   "id": "067ee76b-968d-4ee2-88ca-3513ad26f0ee",
   "metadata": {},
   "outputs": [],
   "source": [
    "# !scontrol show job 52275013\n"
   ]
  },
  {
   "cell_type": "code",
   "execution_count": 23,
   "id": "6d03ac10-3c0b-431e-a223-fe6e187349c6",
   "metadata": {},
   "outputs": [],
   "source": [
    "# !squeue -u eila\n"
   ]
  },
  {
   "cell_type": "code",
   "execution_count": 24,
   "id": "434a92ae-78f4-41c3-ba51-339a8e5f67e9",
   "metadata": {},
   "outputs": [],
   "source": [
    "# !squeue --user=$USER --state=PENDING\n"
   ]
  },
  {
   "cell_type": "code",
   "execution_count": 25,
   "id": "dc61c75d-b775-4223-af6f-defd7f983e37",
   "metadata": {},
   "outputs": [],
   "source": [
    "# !squeue --user=$USER --state=RUNNING\n"
   ]
  },
  {
   "cell_type": "code",
   "execution_count": 26,
   "id": "baa40ad4-0838-4827-a1f1-3cc444586f44",
   "metadata": {},
   "outputs": [
    {
     "name": "stdout",
     "output_type": "stream",
     "text": [
      "             JOBID PARTITION     NAME     USER ST       TIME  NODES NODELIST(REASON)\n"
     ]
    }
   ],
   "source": [
    "# !scontrol show job | grep $USER\n",
    "!squeue -u eila --state=FAILED,PREEMPTED,TIMEOUT,PREEMPTED,NODE_FAIL,CANCELLED"
   ]
  },
  {
   "cell_type": "code",
   "execution_count": 27,
   "id": "242b570b-3b46-430e-ad7e-78a6525eb288",
   "metadata": {},
   "outputs": [],
   "source": [
    "# !squeue -u eila -o \"%.18i %.9P %.12j %.8u %.2t %.10M %.10l %.10Q %.19V %.19S\"\n"
   ]
  },
  {
   "cell_type": "code",
   "execution_count": 28,
   "id": "e80ccc0e-c081-467c-aabc-42bf30a60b0c",
   "metadata": {},
   "outputs": [
    {
     "name": "stdout",
     "output_type": "stream",
     "text": [
      "/oak/stanford/groups/akundaje/eila/git_tf_chromatin_atlas\n"
     ]
    }
   ],
   "source": [
    "!pwd"
   ]
  },
  {
   "cell_type": "code",
   "execution_count": 29,
   "id": "3b4a2914-5d5b-4ed4-ac74-04a6e1bf1e90",
   "metadata": {},
   "outputs": [],
   "source": [
    "# !squeue -u eila"
   ]
  },
  {
   "cell_type": "code",
   "execution_count": 30,
   "id": "14f8fd3b-ca0b-40e3-a809-406a511143c9",
   "metadata": {},
   "outputs": [],
   "source": [
    "# Remove logs\n",
    "# !find ./local_logs/ -name '*slurm*' -type f -mmin +600 -exec rm {} \\;\n"
   ]
  },
  {
   "cell_type": "code",
   "execution_count": 31,
   "id": "98ca2ef4-31fc-4394-b416-6f792c0593f2",
   "metadata": {},
   "outputs": [],
   "source": [
    "# !ls /scratch/users/eila/encode_pseudobulks_data/bam/ENCSR925AYP/ENCSR925AYP_sorted.bam "
   ]
  },
  {
   "cell_type": "code",
   "execution_count": 32,
   "id": "db55b4af-268a-4c93-88e7-fa4499dfa763",
   "metadata": {},
   "outputs": [],
   "source": [
    "# !ls /scratch/users/eila/encode_pseudobulks_data/ENCSR000NVR/peaks/ENCFF585MYS/ENCSR000NVR_ENCFF585MYS.bed.gz\n"
   ]
  },
  {
   "cell_type": "code",
   "execution_count": 57,
   "id": "87d6a660-5650-4575-afdc-cc2dd9b7a576",
   "metadata": {},
   "outputs": [
    {
     "name": "stdout",
     "output_type": "stream",
     "text": [
      "14\n"
     ]
    }
   ],
   "source": [
    "# !ls /scratch/users/eila/encode_pseudobulks_data/bam/*/*_sorted.bam | wc -l\n",
    "!ls /scratch/groups/akundaje/eila/encode_pseudobulks/encode_pseudobulks_data/bams/*/*_sorted.bam | wc -l"
   ]
  },
  {
   "cell_type": "code",
   "execution_count": 26,
   "id": "9f3673f8-e41f-419b-b2f1-e7329596e4b7",
   "metadata": {},
   "outputs": [
    {
     "name": "stdout",
     "output_type": "stream",
     "text": [
      "1483\n"
     ]
    }
   ],
   "source": [
    "# vhecht\n",
    "!ls /scratch/groups/akundaje/vhecht/encode_pseudobulks/encode_pseudobulks_data/bams/*/*_sorted.bam | wc -l"
   ]
  },
  {
   "cell_type": "code",
   "execution_count": 59,
   "id": "a3eda346-c171-4dc7-9bd3-8eb543fa079c",
   "metadata": {},
   "outputs": [
    {
     "name": "stdout",
     "output_type": "stream",
     "text": [
      "encode_pseudobulks_data\t\t   encode_pseudobulks_negative\n",
      "encode_pseudobulks_model_training\n"
     ]
    }
   ],
   "source": [
    "!ls /scratch/groups/akundaje/vhecht/encode_pseudobulks/"
   ]
  },
  {
   "cell_type": "code",
   "execution_count": 34,
   "id": "827fb4a3-a92f-446b-b8d8-440aa4c1e5be",
   "metadata": {},
   "outputs": [],
   "source": [
    "# !ls /scratch/users/eila/encode_pseudobulks_data/peaks/*/*/*.bed.gz | wc -l\n"
   ]
  },
  {
   "cell_type": "code",
   "execution_count": 35,
   "id": "66b50acb-ba88-459d-b774-c9519e3f8181",
   "metadata": {},
   "outputs": [],
   "source": [
    "# !ls /scratch/users/eila/encode_pseudobulks_data/bam/*/*_unsorted.bam | wc -l"
   ]
  },
  {
   "cell_type": "code",
   "execution_count": 36,
   "id": "71560da8-095b-41b8-8195-ead3aa01d217",
   "metadata": {},
   "outputs": [],
   "source": [
    "# !rm ./local_logs/slurm_step1_download_bams_err.combined.err"
   ]
  },
  {
   "cell_type": "code",
   "execution_count": 37,
   "id": "22921f00-13e6-4ed1-9a1d-3ca2e2974ab3",
   "metadata": {},
   "outputs": [],
   "source": [
    "# !rm ./local_logs/slurm_step4*"
   ]
  },
  {
   "cell_type": "code",
   "execution_count": 38,
   "id": "30f0c0fb-8d4b-486b-8d25-3499b3aaf70b",
   "metadata": {},
   "outputs": [],
   "source": [
    "# !ls"
   ]
  },
  {
   "cell_type": "code",
   "execution_count": 39,
   "id": "1b9a985c-602e-48b3-943a-84729883d656",
   "metadata": {},
   "outputs": [
    {
     "name": "stdout",
     "output_type": "stream",
     "text": [
      "/oak/stanford/groups/akundaje/eila/git_tf_chromatin_atlas\n"
     ]
    }
   ],
   "source": [
    "!pwd"
   ]
  },
  {
   "cell_type": "code",
   "execution_count": 40,
   "id": "0a76c129-168a-4cf0-9b61-4c149ca0cbd2",
   "metadata": {},
   "outputs": [],
   "source": [
    "# !ls -l ./local_logs/slurm_step5*"
   ]
  },
  {
   "cell_type": "code",
   "execution_count": 41,
   "id": "e2b06aed-ebe2-4e79-b4f8-ef2925e082d8",
   "metadata": {},
   "outputs": [],
   "source": [
    "# bias - given for the train\n",
    "# train - on one file. provides correlation metrics. we need to look at the motifs that modisco populates\n",
    "#         model. modisco on subset of the peaks- subset is random. evaludation folder - modisco and interpret on 30K areas\n",
    "# QC\n",
    "# interpret on subset of the peaks.\n"
   ]
  },
  {
   "cell_type": "code",
   "execution_count": 42,
   "id": "b7aaa213-c515-4c83-9baa-9e8919d4a164",
   "metadata": {},
   "outputs": [
    {
     "name": "stdout",
     "output_type": "stream",
     "text": [
      "/home/users/eila\n"
     ]
    }
   ],
   "source": [
    "!echo $HOME"
   ]
  },
  {
   "cell_type": "code",
   "execution_count": 43,
   "id": "cd4ba86a-4125-4fac-a6ef-d743ba4f362a",
   "metadata": {},
   "outputs": [],
   "source": [
    "# %%bash\n",
    "\n",
    "# # Define the base directories\n",
    "# SRC_BASE=\"/scratch/users/eila/encode_pseudobulks_data\"\n",
    "# DEST_BASE=\"/scratch/users/eila/encode_pseudobulks_data/bam\"\n",
    "\n",
    "# # Loop through all directories matching ENCSR* and move files\n",
    "# for DIR in ${SRC_BASE}/ENCSR*/bam; do\n",
    "#     # Extract the directory name after /ENCSR\n",
    "#     DIR_NAME=$(basename $(dirname \"$DIR\"))\n",
    "    \n",
    "#     # Define source and destination directories\n",
    "#     SRC_DIR=\"${SRC_BASE}/${DIR_NAME}/bam\"\n",
    "#     DEST_DIR=\"${DEST_BASE}/${DIR_NAME}\"\n",
    "    \n",
    "#     # Create destination directory if it doesn't exist\n",
    "#     mkdir -p \"$DEST_DIR\"\n",
    "    \n",
    "#     # Move files from source to destination\n",
    "#     mv \"$SRC_DIR\"/* \"$DEST_DIR\"/\n",
    "    \n",
    "#     echo \"Moved files from $SRC_DIR to $DEST_DIR\"\n",
    "# done\n"
   ]
  },
  {
   "cell_type": "code",
   "execution_count": 44,
   "id": "224f0409-6634-4be7-bba2-1303834e7842",
   "metadata": {},
   "outputs": [],
   "source": [
    " # scp -r eila@login.sherlock.stanford.edu:scratch/users/eila/encode_pseudobulks_model_training/human/ENCSR037JDN/ENCFF933KCP/fold_1_30000_20240912_182023/evaluation . \n",
    "\n",
    "\n",
    "# !rm ./local_logs/slurm_samools_err.combined.err\n",
    "# !rm ./local_logs/slurm_samools_out.combined.out"
   ]
  },
  {
   "cell_type": "code",
   "execution_count": 45,
   "id": "48b3b009-58c0-4109-adda-547b1e2e757c",
   "metadata": {},
   "outputs": [],
   "source": [
    "# !chmod +x samtools_merge.sh\n",
    "# !sbatch --verbose samtools_merge.sh\n",
    "# !ls"
   ]
  },
  {
   "cell_type": "code",
   "execution_count": 8,
   "id": "749b634f-79b7-4bf0-ab17-4578f07e2ea6",
   "metadata": {},
   "outputs": [
    {
     "name": "stdout",
     "output_type": "stream",
     "text": [
      "             JOBID PARTITION     NAME     USER ST       TIME  NODES NODELIST(REASON)\n"
     ]
    }
   ],
   "source": [
    "!squeue --user=$USER"
   ]
  },
  {
   "cell_type": "code",
   "execution_count": 13,
   "id": "fc3613e0-e969-497b-af5c-1c9db1f396fd",
   "metadata": {},
   "outputs": [],
   "source": [
    "# !chmod +x samtools_sort.sh\n",
    "# !sbatch --verbose samtools_sort.sh\n",
    "# !ls"
   ]
  },
  {
   "cell_type": "code",
   "execution_count": 21,
   "id": "0e4fb689-2f5a-4755-b656-85324decc427",
   "metadata": {},
   "outputs": [],
   "source": [
    "# !squeue --user=$USER"
   ]
  },
  {
   "cell_type": "code",
   "execution_count": 44,
   "id": "92c96cdd-db77-4776-bc11-9875c58d1d91",
   "metadata": {},
   "outputs": [],
   "source": [
    "# while true; do ls -lt; sleep 10; done"
   ]
  },
  {
   "cell_type": "code",
   "execution_count": 45,
   "id": "8bf6f633-3771-4b3b-898b-7764d367ebc1",
   "metadata": {},
   "outputs": [],
   "source": [
    "# !chmod +x 03_samtools_index.sh\n",
    "# !sbatch --verbose 03_samtools_index.sh\n"
   ]
  },
  {
   "cell_type": "code",
   "execution_count": 46,
   "id": "01ad4e7f-ccfe-45a7-a116-171cf39472ed",
   "metadata": {},
   "outputs": [],
   "source": [
    "# !ls\n",
    "# !chmod +x 04_chrombpnet_pipeline.sh\n",
    "# !chmod +x 04_chrombpnet_pipeline-inputs.sh\n",
    "# !chmod +x Step5-2_Debug_chrombpnet_pipeline.sh\n",
    "# !sbatch --verbose 04_chrombpnet_pipeline.sh"
   ]
  },
  {
   "cell_type": "code",
   "execution_count": 49,
   "id": "fcc7cef1-b0cd-4ef6-9e38-8305ae67c0ec",
   "metadata": {},
   "outputs": [],
   "source": [
    "# !sinfo -p akundaje,owners --format=\"%G\""
   ]
  },
  {
   "cell_type": "code",
   "execution_count": 50,
   "id": "2eae6f71-7327-4511-8193-08a2dd9a03ea",
   "metadata": {},
   "outputs": [
    {
     "name": "stdout",
     "output_type": "stream",
     "text": [
      "3\n"
     ]
    }
   ],
   "source": [
    "!sinfo -p akundaje,owners --format=\"%G\" | grep -o '[0-9]*' | head -n 1"
   ]
  },
  {
   "cell_type": "code",
   "execution_count": 51,
   "id": "573a25c2-bc18-4cab-9943-bacdd4a57402",
   "metadata": {},
   "outputs": [],
   "source": [
    "# !scontrol update jobid=53289110 nice=0\n"
   ]
  },
  {
   "cell_type": "code",
   "execution_count": 52,
   "id": "6e39c2d2-056a-441b-8669-1403466e4775",
   "metadata": {},
   "outputs": [
    {
     "name": "stdout",
     "output_type": "stream",
     "text": [
      "             JOBID      USER ST TIME_LIMIT PRIORI                 NAME REASON\n",
      "        53497421_1      eila  R 2-00:00:00 0.0002 step6-2-train-chromb   None\n",
      "    53502124_[1%1]      eila PD      20:00 0.0000 step4-2-filter-peaks Priori\n"
     ]
    }
   ],
   "source": [
    "!squeue -u $USER -o \"%.18i %.9u %.2t %.10l %.6p %.20j %.6r\"\n"
   ]
  },
  {
   "cell_type": "code",
   "execution_count": 53,
   "id": "c5a6a917-7fae-4d36-b036-29b8fa2dd0a6",
   "metadata": {},
   "outputs": [
    {
     "name": "stdout",
     "output_type": "stream",
     "text": [
      "             JOBID      USER ST TIME_LIMIT PRIORI                 NAME REASON\n",
      "        53497421_1      eila  R 2-00:00:00 0.0002 step6-2-train-chromb   None\n",
      "    53502124_[1%1]      eila PD      20:00 0.0000 step4-2-filter-peaks Priori\n"
     ]
    }
   ],
   "source": [
    "!squeue -o \"%.18i %.9u %.2t %.10l %.6p %.20j %.6r\" -u $USER\n"
   ]
  },
  {
   "cell_type": "code",
   "execution_count": 54,
   "id": "a710fd9b-e79a-4e20-815d-61022695446f",
   "metadata": {},
   "outputs": [
    {
     "name": "stdout",
     "output_type": "stream",
     "text": [
      "             JOBID PARTITION     NAME     USER ST       TIME  NODES NODELIST(REASON)\n",
      "        53497421_1  akundaje step6-2-     eila  R    1:53:18      1 sh02-12n11\n",
      "    53502124_[1%1] owners,ak step4-2-     eila PD       0:00      1 (Priority)\n"
     ]
    }
   ],
   "source": [
    "!squeue --user=$USER "
   ]
  },
  {
   "cell_type": "code",
   "execution_count": 55,
   "id": "0297edda-61c5-4b6a-a13e-7a9a76c54602",
   "metadata": {},
   "outputs": [
    {
     "name": "stdout",
     "output_type": "stream",
     "text": [
      "             JOBID PARTITION     NAME     USER ST       TIME  NODES NODELIST(REASON)\n",
      "        53497421_1  akundaje step6-2-     eila  R    1:53:18      1 sh02-12n11\n",
      "    53502124_[1%1] owners,ak step4-2-     eila PD       0:00      1 (Priority)\n"
     ]
    }
   ],
   "source": [
    "!squeue --user=$USER"
   ]
  },
  {
   "cell_type": "code",
   "execution_count": 56,
   "id": "c3d474e9-7c68-4760-a30f-e71513482870",
   "metadata": {},
   "outputs": [
    {
     "name": "stdout",
     "output_type": "stream",
     "text": [
      "     JOBID       NAME    STATE MIN_MEMOR       CPUS NODELIST(REASON)   NODELIST  TIME_LEFT\n",
      "53497421_1 step6-2-tr  RUNNING       64G          1 sh02-12n11 sh02-12n11 1-22:06:26\n",
      "53502124_[ step4-2-fi  PENDING        2G          2 (Priority)                 20:00\n"
     ]
    }
   ],
   "source": [
    "!squeue --user=$USER --format=\"%.10i %.10j %.8T %.9m %.10C %.10R %.10N %.10L\""
   ]
  },
  {
   "cell_type": "code",
   "execution_count": 57,
   "id": "d47175d9-469f-4b2f-a2a6-81b02135beb5",
   "metadata": {},
   "outputs": [
    {
     "name": "stdout",
     "output_type": "stream",
     "text": [
      "             JOBID                                               NAME    STATE       TIME PARTI NODELIST(REASON)\n",
      "        53497421_1                           step6-2-train-chrombpnet  RUNNING    1:53:34 akund       sh02-12n11\n",
      "    53502124_[1%1]               step4-2-filter-peaks-by-blacklist.sh  PENDING       0:00 owner       (Priority)\n"
     ]
    }
   ],
   "source": [
    "!squeue --user=$USER --format=\"%.18i %.50j %.8T %.10M %.5P %.16R\"\n"
   ]
  },
  {
   "cell_type": "code",
   "execution_count": 58,
   "id": "b3e66e38-9bed-4358-bc7a-ffb7bdce57fa",
   "metadata": {},
   "outputs": [],
   "source": [
    "# !scancel 53305606"
   ]
  },
  {
   "cell_type": "code",
   "execution_count": 2,
   "id": "61994866-7f84-4ba7-8ed8-3dd3ca5b0e75",
   "metadata": {},
   "outputs": [
    {
     "name": "stdout",
     "output_type": "stream",
     "text": [
      "Fri Sep 27 13:00:37 2024\n",
      "             JOBID PARTITION     NAME     USER    STATE       TIME TIME_LIMI  NODES NODELIST(REASON)\n",
      "        53508298_1  akundaje 52allval     eila  RUNNING 1-18:32:35 2-00:00:00      1 sh02-02n32\n",
      "        53529465_1  akundaje  62epoch     eila  RUNNING 1-03:46:20 2-00:00:00      1 sh03-16n24\n"
     ]
    }
   ],
   "source": [
    "!squeue --user=$USER --long\n",
    "\n"
   ]
  },
  {
   "cell_type": "code",
   "execution_count": 6,
   "id": "7d576901-eda8-474f-8f99-01adb257a39d",
   "metadata": {},
   "outputs": [
    {
     "name": "stdout",
     "output_type": "stream",
     "text": [
      "     JOBID       NAME    STATE MIN_MEMOR       CPUS\n",
      "53973427_[ step62.bpn  PENDING       64G          1\n"
     ]
    }
   ],
   "source": [
    "!squeue --user=$USER --format=\"%.10i %.10j %.8T %.9m %.10C\"\n",
    "\n",
    "\n"
   ]
  },
  {
   "cell_type": "code",
   "execution_count": 1,
   "id": "15c7a3a7-69b7-4be4-836d-2aadfd519395",
   "metadata": {},
   "outputs": [
    {
     "name": "stdout",
     "output_type": "stream",
     "text": [
      "     JOBID       NAME    STATE    NODES NODELIST(REASON)\n"
     ]
    }
   ],
   "source": [
    "!squeue --user=$USER --format=\"%.10i %.10j %.8T %.8D %.16R\"\n",
    "\n",
    "\n"
   ]
  },
  {
   "cell_type": "code",
   "execution_count": 57,
   "id": "300fa490-a509-4c6a-bdd6-5c2d54c68d27",
   "metadata": {},
   "outputs": [],
   "source": [
    "# !ls ./chrombpnet_tutorial/data/splits"
   ]
  },
  {
   "cell_type": "code",
   "execution_count": 58,
   "id": "7cf34f55-92e3-496f-bceb-fead7c5b6f9f",
   "metadata": {},
   "outputs": [],
   "source": [
    "# !ls ./chrombpnet_tutorial/data/downloads"
   ]
  },
  {
   "cell_type": "code",
   "execution_count": 59,
   "id": "d73aa1f7-d281-4cda-b548-cb195d7fc941",
   "metadata": {},
   "outputs": [],
   "source": [
    "# !ls ./chrombpnet_tutorial/bias_model"
   ]
  },
  {
   "cell_type": "code",
   "execution_count": 60,
   "id": "7477a740-ffb5-4c13-9286-071f68c33dc3",
   "metadata": {},
   "outputs": [],
   "source": [
    "# !ls ./chrombpnet_tutorial/data"
   ]
  },
  {
   "cell_type": "code",
   "execution_count": 143,
   "id": "6aad875d-acdb-47dc-8050-c24b3af7adbe",
   "metadata": {},
   "outputs": [],
   "source": [
    "!rm ./local_logs/slurm.52allval.combined*"
   ]
  },
  {
   "cell_type": "code",
   "execution_count": null,
   "id": "c5b0ca0c-106b-4e02-9282-2d02006e0d56",
   "metadata": {},
   "outputs": [],
   "source": []
  },
  {
   "cell_type": "code",
   "execution_count": 283,
   "id": "43baaa45-fb03-4ef7-a749-ebbefd235d62",
   "metadata": {},
   "outputs": [],
   "source": [
    "# !rm ./local_logs/slurm_tr_epoch.combined*"
   ]
  },
  {
   "cell_type": "code",
   "execution_count": 25,
   "id": "03594938-0df9-419b-a492-e34e94737de7",
   "metadata": {},
   "outputs": [],
   "source": [
    "# !rm ./local_logs/slurm.gpu_ENCSR037JDN.*"
   ]
  },
  {
   "cell_type": "code",
   "execution_count": 2,
   "id": "76fdc4bc-96f2-4a8e-b81f-879929b397d1",
   "metadata": {},
   "outputs": [
    {
     "name": "stdout",
     "output_type": "stream",
     "text": [
      "/oak/stanford/groups/akundaje/eila/git_tf_chromatin_atlas\n"
     ]
    }
   ],
   "source": [
    "!pwd"
   ]
  },
  {
   "cell_type": "code",
   "execution_count": 49,
   "id": "6797a41b-5a82-4086-a9f5-076246f2315e",
   "metadata": {},
   "outputs": [
    {
     "name": "stdout",
     "output_type": "stream",
     "text": [
      "ID1: ENCSR449JMK\n",
      "ID2: ENCFF672JNY\n"
     ]
    }
   ],
   "source": [
    "\n",
    "# %%bash\n",
    "\n",
    "# path=\"/scratch/groups/akundaje/eila/encode_pseudobulks/encode_pseudobulks_data/peaks/ENCSR449JMK/ENCFF672JNY/ENCSR449JMK_ENCFF672JNY.bed.gz\"\n",
    "\n",
    "# ID1=$(echo \"$path\" | awk -F'/' '{print $(NF-2)}')  # Extracts the second last directory name\n",
    "# ID2=$(echo \"$path\" | awk -F'/' '{print $(NF-1)}')  # Extracts the last directory name\n",
    "\n",
    "# echo \"ID1: $ID1\"\n",
    "# echo \"ID2: $ID2\"\n"
   ]
  },
  {
   "cell_type": "code",
   "execution_count": 4,
   "id": "4b64ed53-9141-4669-b296-6f18469d75f8",
   "metadata": {},
   "outputs": [],
   "source": [
    "# pip show biopython\n"
   ]
  },
  {
   "cell_type": "code",
   "execution_count": 68,
   "id": "c0ef2702-bbbe-4a7c-9a97-af561fa0f5f9",
   "metadata": {},
   "outputs": [
    {
     "name": "stdout",
     "output_type": "stream",
     "text": [
      "copy_logs_from_local_machine.txt  copy_sorted_bams.sh\n"
     ]
    }
   ],
   "source": [
    "!ls copy*"
   ]
  },
  {
   "cell_type": "code",
   "execution_count": 73,
   "id": "91b9d441-4a12-4362-b401-9ac9c959dd44",
   "metadata": {},
   "outputs": [],
   "source": [
    "# !chmod +x copy_sorted_bams.sh"
   ]
  },
  {
   "cell_type": "code",
   "execution_count": 72,
   "id": "4be539ff-39f4-4443-a7f5-e6d4fe901ae5",
   "metadata": {},
   "outputs": [],
   "source": [
    "# !./copy_sorted_bams.sh"
   ]
  },
  {
   "cell_type": "code",
   "execution_count": 29,
   "id": "6eba613f-0c06-4671-a0cb-a13b6191ec8f",
   "metadata": {},
   "outputs": [],
   "source": [
    "# !ls /scratch/groups/akundaje/eila/encode_pseudobulks/encode_pseudobulks_negative/*/*/*/fold_0/*_nonpeaks.bed\n",
    "\n",
    "\n"
   ]
  },
  {
   "cell_type": "code",
   "execution_count": 49,
   "id": "df293963-85d2-4f7e-a96a-044796bb374f",
   "metadata": {},
   "outputs": [],
   "source": [
    "\n",
    "\n",
    "# !rm ./local_logs/slurm.step5NegativesNoPeaksBackground.combined.err\n",
    "# \"Debug: Nonpeaks negatives file"
   ]
  },
  {
   "cell_type": "code",
   "execution_count": 25,
   "id": "a46ffaee-a578-439a-92ee-8985e75aed0a",
   "metadata": {},
   "outputs": [],
   "source": [
    "# !rm ./output_example/evaluation/modisco_profile/trimmed_logos/out*"
   ]
  },
  {
   "cell_type": "code",
   "execution_count": 28,
   "id": "7224d98e-a3ef-4ea3-b356-a0dd93503bce",
   "metadata": {},
   "outputs": [],
   "source": [
    "# !cp /scratch/groups/akundaje/vhecht/encode_pseudobulks/encode_pseudobulks_negative/homo_sapiens/ENCSR573VRP/ENCFF215KOH/fold_1/ENCSR573VRP_ENCFF215KOH_homo_sapiens_nonpeaks_negatives.bed .\n",
    "\n"
   ]
  },
  {
   "cell_type": "code",
   "execution_count": null,
   "id": "23725ee7-2580-40c9-b511-0446594602db",
   "metadata": {},
   "outputs": [],
   "source": []
  }
 ],
 "metadata": {
  "kernelspec": {
   "display_name": "chrombpnet",
   "language": "python",
   "name": "chrombpnet"
  },
  "language_info": {
   "codemirror_mode": {
    "name": "ipython",
    "version": 3
   },
   "file_extension": ".py",
   "mimetype": "text/x-python",
   "name": "python",
   "nbconvert_exporter": "python",
   "pygments_lexer": "ipython3",
   "version": "3.8.19"
  }
 },
 "nbformat": 4,
 "nbformat_minor": 5
}
