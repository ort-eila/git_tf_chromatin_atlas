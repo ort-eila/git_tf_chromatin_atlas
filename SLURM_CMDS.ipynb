{
 "cells": [
  {
   "cell_type": "code",
   "execution_count": 1,
   "id": "de058c7e-57db-4c6a-814b-8b4f324a61d1",
   "metadata": {},
   "outputs": [],
   "source": [
    "# for all execution\n",
    "!mkdir -p local_logs"
   ]
  },
  {
   "cell_type": "code",
   "execution_count": 40,
   "id": "e7857d4b-d467-4ec5-a31a-ca18f3e5640c",
   "metadata": {},
   "outputs": [],
   "source": [
    "# import os\n",
    "\n",
    "# os.environ['ACCESS_KEY'] = 'DKOBSROD'\n",
    "# os.environ['SECRET_KEY'] = 'd4gdmpfeorhbt72o'\n"
   ]
  },
  {
   "cell_type": "code",
   "execution_count": 3,
   "id": "03f0a817-de06-4932-8013-9071f3131da6",
   "metadata": {},
   "outputs": [],
   "source": [
    "from dotenv import load_dotenv\n",
    "import os\n",
    "\n",
    "# Load environment variables from the .env file\n",
    "load_dotenv()\n",
    "\n",
    "# Access the variables\n",
    "ACCESS_KEY = os.getenv('ACCESS_KEY')\n",
    "SECRET_KEY = os.getenv('SECRET_KEY')\n"
   ]
  },
  {
   "cell_type": "code",
   "execution_count": 16,
   "id": "90fae31a-71f4-4179-8a39-ac8d80d85b5f",
   "metadata": {},
   "outputs": [
    {
     "name": "stdout",
     "output_type": "stream",
     "text": [
      "      User   Def Acct     Admin    Cluster    Account  Partition     Share   Priority MaxJobs MaxNodes  MaxCPUs MaxSubmit     MaxWall  MaxCPUMins                  QOS   Def QOS \n",
      "---------- ---------- --------- ---------- ---------- ---------- --------- ---------- ------- -------- -------- --------- ----------- ----------- -------------------- --------- \n",
      "      eila   akundaje      None   sherlock   akundaje                  100                                                                               high_p,normal    normal \n"
     ]
    }
   ],
   "source": [
    "!sacctmgr show user $USER withassoc\n",
    "\n"
   ]
  },
  {
   "cell_type": "code",
   "execution_count": 5,
   "id": "805ee7a0-db82-4cdb-9819-f9ea1793a9b6",
   "metadata": {},
   "outputs": [],
   "source": [
    "# !echo $ACCESS_KEY\n",
    "# !echo $SECRET_KEY"
   ]
  },
  {
   "cell_type": "code",
   "execution_count": 18,
   "id": "62f6a470-3cb6-4e08-9b9d-0e04039aef6f",
   "metadata": {},
   "outputs": [],
   "source": [
    "# check the jobs:"
   ]
  },
  {
   "cell_type": "code",
   "execution_count": 1,
   "id": "09e462e4-3727-496d-ad12-07ab54ce6bf5",
   "metadata": {},
   "outputs": [
    {
     "name": "stdout",
     "output_type": "stream",
     "text": [
      "             JOBID PARTITION     NAME     USER ST       TIME  NODES NODELIST(REASON)\n"
     ]
    }
   ],
   "source": [
    "!squeue -u eila\n"
   ]
  },
  {
   "cell_type": "code",
   "execution_count": 20,
   "id": "45cd79d9-e485-4ae9-ae12-b2ba1165d2a1",
   "metadata": {},
   "outputs": [],
   "source": [
    "# !squeue -u eila"
   ]
  },
  {
   "cell_type": "code",
   "execution_count": 135,
   "id": "cded3088-39ff-433a-8cda-af7081899c67",
   "metadata": {},
   "outputs": [],
   "source": [
    "# !squeue -u eila"
   ]
  },
  {
   "cell_type": "code",
   "execution_count": 136,
   "id": "cac6e64b-8398-4599-afa0-4874943fc96e",
   "metadata": {},
   "outputs": [],
   "source": [
    "# !scancel -u eila"
   ]
  },
  {
   "cell_type": "code",
   "execution_count": 137,
   "id": "8740142d-272c-4b01-a6af-f76562da4d50",
   "metadata": {},
   "outputs": [],
   "source": [
    "# !squeue -u eila --name=step1-do\n"
   ]
  },
  {
   "cell_type": "code",
   "execution_count": 138,
   "id": "ec5506ee-1145-47a3-a9ac-7f12ecf41da1",
   "metadata": {},
   "outputs": [],
   "source": [
    "# !chmod +x execute_sbatch_arrays_on_sherlock.py \n",
    "\n",
    "# eila_in_download_bams.txt: The input file name.\n",
    "# step1-download-bams.sh: The SLURM script name.\n",
    "# 1: entries_per_job (number of entries per job). - how much is each job needs\n",
    "# 1: max_concurrent_tasks (maximum number of concurrent tasks). - 500 for stanford\n",
    "\n",
    "\n",
    "# example for input of 1300 lines:\n",
    "# ./execute_sbatch_arrays_on_sherlock.sh eila_in_download_bams.txt step1-download-bams.sh 500 500\n",
    "# Breakdown:\n",
    "# eila_in_download_bams.txt: The input file with 1200 lines.\n",
    "# step1-download-bams.sh: The SLURM script to run.\n",
    "# 500: Number of lines per job array (tasks per array).\n",
    "# 500: Maximum number of concurrent tasks per array."
   ]
  },
  {
   "cell_type": "code",
   "execution_count": 9,
   "id": "01be7f93-162d-4528-9a47-872d8ad33da7",
   "metadata": {},
   "outputs": [],
   "source": [
    "# step 1\n",
    "from dotenv import load_dotenv\n",
    "import os\n",
    "\n",
    "# Load environment variables from the .env file\n",
    "load_dotenv()\n",
    "\n",
    "# Access the variables\n",
    "ACCESS_KEY = os.getenv('ACCESS_KEY')\n",
    "SECRET_KEY = os.getenv('SECRET_KEY')\n",
    "\n",
    "# !echo $ACCESS_KEY\n",
    "# !echo $SECRET_KEY\n",
    "\n",
    "# rm slurm-*.out\n",
    "# !scancel -u eila\n",
    "# !./execute_sbatch_arrays_on_sherlock.sh ./steps_inputs/eila_encids_with_bam_urls.txt step1-download-bams.sh 1000 1000\n",
    "\n",
    "# !./execute_sbatch_arrays_on_sherlock.sh ./steps_inputs/step1/eila_encids_with_bam_urls-debug.txt step1-download-bams.sh 2 2\n"
   ]
  },
  {
   "cell_type": "code",
   "execution_count": 10,
   "id": "894b8758-904b-4395-a3b3-93ca4de41238",
   "metadata": {},
   "outputs": [],
   "source": [
    "# #step 2 - samtools sort and index\n",
    "# !ls /scratch/users/eila/encode_pseudobulks_data/bam/ENCSR*/*unsorted.bam > bam_files_list.txt\n",
    "\n",
    "# !./execute_sbatch_arrays_on_sherlock.sh bam_files_list.txt step2-samtool-sort-index.sh 100 100"
   ]
  },
  {
   "cell_type": "code",
   "execution_count": 107,
   "id": "2944e9df-0825-4d7a-b3d7-68384db3afe4",
   "metadata": {},
   "outputs": [],
   "source": [
    "#step 3 - peaks - independant of BAMS:\n",
    "\n",
    "# !./execute_sbatch_arrays_on_sherlock.sh ./steps_inputs/step3/eila_peaks_matched_to_experiments.txt step3-download-peaks.sh 1000 1000\n",
    "\n",
    "# debug\n",
    "# !./execute_sbatch_arrays_on_sherlock.sh ./steps_inputs/step3/eila_peaks_matched_to_experiments-debug.txt step3-download-peaks.sh 2 2\n",
    "\n",
    "\n"
   ]
  },
  {
   "cell_type": "code",
   "execution_count": 18,
   "id": "88094706-07b5-4476-ad5c-cc8f5b745793",
   "metadata": {},
   "outputs": [],
   "source": [
    "# !pip install pandas"
   ]
  },
  {
   "cell_type": "code",
   "execution_count": 19,
   "id": "d29421a3-1600-4f73-859f-e9113c251c5a",
   "metadata": {},
   "outputs": [],
   "source": [
    "# # input file for step4:\n",
    "\n",
    "# import pandas as pd\n",
    "\n",
    "# # Read the species file\n",
    "# species_df = pd.read_csv('./steps_inputs/encids_matched_to_species.txt', sep='\\t', header=None, names=['ID', 'Species'])\n",
    "\n",
    "# # Read the data file\n",
    "# data_df = pd.read_csv('./steps_inputs/step4/peaks_matched_to_experiments.txt', sep=' ', header=None, names=['ID', 'ENCFF', 'Type', 'URL'])\n",
    "\n",
    "# # Merge the data files based on the ID\n",
    "# merged_df = pd.merge(data_df, species_df, left_on='ID', right_on='ID', how='left')\n",
    "\n",
    "# # Save the merged data to a new file\n",
    "# merged_df.to_csv('./steps_inputs/step4/peaks_matched_to_experiments_species.txt', sep=' ', index=False, header=False)\n",
    "\n"
   ]
  },
  {
   "cell_type": "code",
   "execution_count": 90,
   "id": "1643e458-73d9-41dc-ae37-a1475ea29c11",
   "metadata": {},
   "outputs": [],
   "source": [
    "# #step 4 - non-peaks / background / negative - human:\n",
    "\n",
    "# debug\n",
    "# !rm ./local_logs/slurm_step4_negative_*\n",
    "# !rm -r $SCRATCH/encode_pseudobulks_negative\n",
    "# !./execute_sbatch_arrays_on_sherlock.sh ./steps_inputs/step4/debug_peaks_matched_to_experiments.txt step4-compute-negatives-non-peak-background.sh 2 2\n",
    "\n",
    "# ## all samples\n",
    "# ## !./execute_sbatch_arrays_on_sherlock.sh ./steps_inputs/step4/peaks_matched_to_experiments_species.txt step4-compute-negatives-non-peak-background.sh 1000 1000\n"
   ]
  },
  {
   "cell_type": "code",
   "execution_count": 15,
   "id": "1dcb1377-ba1f-44fe-9358-1821246bd65a",
   "metadata": {},
   "outputs": [],
   "source": [
    "!rm ./local_logs/slurm_step5*\n"
   ]
  },
  {
   "cell_type": "code",
   "execution_count": 11,
   "id": "ec8bbe1c-e4d5-4be9-93e4-e73222de149e",
   "metadata": {},
   "outputs": [
    {
     "name": "stdout",
     "output_type": "stream",
     "text": [
      "Total entries in input file: 3\n",
      "Total number of job arrays to be submitted: 2\n",
      "Submitting job array from 1 to 2 with a maximum of 2 concurrent tasks.\n",
      "sbatch: defined options\n",
      "sbatch: -------------------- --------------------\n",
      "sbatch: array               : 1-2%2\n",
      "sbatch: gpus                : 1\n",
      "sbatch: job-name            : step5-train-chrombpnet\n",
      "sbatch: mem                 : 64G\n",
      "sbatch: ntasks              : 1\n",
      "sbatch: partition           : akundaje,owners\n",
      "sbatch: time                : 2-00:00:00\n",
      "sbatch: verbose             : 1\n",
      "sbatch: -------------------- --------------------\n",
      "sbatch: end of defined options\n",
      "Submitted batch job 52710590\n",
      "Submitting job array from 3 to 3 with a maximum of 2 concurrent tasks.\n",
      "sbatch: defined options\n",
      "sbatch: -------------------- --------------------\n",
      "sbatch: array               : 3-3%2\n",
      "sbatch: gpus                : 1\n",
      "sbatch: job-name            : step5-train-chrombpnet\n",
      "sbatch: mem                 : 64G\n",
      "sbatch: ntasks              : 1\n",
      "sbatch: partition           : akundaje,owners\n",
      "sbatch: time                : 2-00:00:00\n",
      "sbatch: verbose             : 1\n",
      "sbatch: -------------------- --------------------\n",
      "sbatch: end of defined options\n",
      "Submitted batch job 52710591\n"
     ]
    }
   ],
   "source": [
    "# prep for step 5\n",
    "# !chmod +x step5-1-create_input.sh\n",
    "# !./step5-1-create_input.sh\n",
    "# !rm ./local_logs/slurm_step5*\n",
    "!./execute_sbatch_arrays_on_sherlock.sh ./steps_inputs/step5/debug-extracted_paths.txt step5-2-train-chrombonet-model.sh 2 2\n",
    "\n",
    "\n",
    "# !./execute_sbatch_arrays_on_sherlock.sh ./steps_inputs/step5/extracted_paths.csv step5-2-train-chrombonet-model.sh 1000 1000\n"
   ]
  },
  {
   "cell_type": "code",
   "execution_count": 85,
   "id": "5821672b-ff92-4a26-ab41-f9d2cd59c48e",
   "metadata": {},
   "outputs": [],
   "source": [
    "# !sstat -j 52658719 --format=JobID,MaxRSS,MaxVMSize\n"
   ]
  },
  {
   "cell_type": "code",
   "execution_count": 117,
   "id": "1d19f5fc-9521-41f8-bd21-d3e51d023468",
   "metadata": {},
   "outputs": [],
   "source": [
    "# !scontrol show job 52659563\n"
   ]
  },
  {
   "cell_type": "code",
   "execution_count": 4,
   "id": "2b4a5a21-b4e5-4a0e-b2e6-5bd37b3222f4",
   "metadata": {},
   "outputs": [
    {
     "name": "stdout",
     "output_type": "stream",
     "text": [
      "             JOBID PARTITION     NAME     USER ST       TIME  NODES NODELIST(REASON)\n",
      "        52707140_1  akundaje step5-tr     eila  R      14:45      1 sh03-16n09\n",
      "        52707140_2 owners,ak step5-tr     eila PD       0:00      1 (Priority)\n"
     ]
    }
   ],
   "source": [
    "!squeue --user=$USER"
   ]
  },
  {
   "cell_type": "code",
   "execution_count": 5,
   "id": "5087331d-cfb4-4c69-8b1a-578b7c07f6a3",
   "metadata": {},
   "outputs": [
    {
     "name": "stdout",
     "output_type": "stream",
     "text": [
      "             JOBID PARTITION     NAME     USER ST       TIME  NODES NODELIST(REASON)\n",
      "        52707144_3    owners step5-tr     eila  F       0:05      1 (NonZeroExitCode)\n"
     ]
    }
   ],
   "source": [
    "!squeue -u eila --state=FAILED,PREEMPTED,TIMEOUT,PREEMPTED,NODE_FAIL,CANCELLED"
   ]
  },
  {
   "cell_type": "code",
   "execution_count": 7,
   "id": "0751cb01-1749-4086-894d-8cab35041071",
   "metadata": {},
   "outputs": [
    {
     "name": "stdout",
     "output_type": "stream",
     "text": [
      "/oak/stanford/groups/akundaje/eila/git_tf_chromatin_atlas\n"
     ]
    }
   ],
   "source": [
    "!pwd"
   ]
  },
  {
   "cell_type": "code",
   "execution_count": 109,
   "id": "c3963704-cc94-4c58-b481-106aa5628e4b",
   "metadata": {},
   "outputs": [],
   "source": [
    "# !scancel -u eila"
   ]
  },
  {
   "cell_type": "code",
   "execution_count": 14,
   "id": "3924921e-6fd3-43d5-bff5-8918553ba88a",
   "metadata": {},
   "outputs": [],
   "source": [
    "# !scancel 52710582"
   ]
  },
  {
   "cell_type": "code",
   "execution_count": 15,
   "id": "804b2bb7-617b-4e52-9ebd-f96ba8e430b4",
   "metadata": {},
   "outputs": [
    {
     "name": "stdout",
     "output_type": "stream",
     "text": [
      "             JOBID PARTITION     NAME     USER ST       TIME  NODES NODELIST(REASON)\n",
      "        52707140_1  akundaje step5-tr     eila  R      47:19      1 sh03-16n09\n",
      "        52709857_1    owners step5-tr     eila  R      11:57      1 sh03-11n11\n",
      "        52709857_2    owners step5-tr     eila  R      11:57      1 sh03-15n07\n",
      "        52707140_2    owners step5-tr     eila  R      21:15      1 sh03-11n10\n",
      "    52710591_[3%2] owners,ak step5-tr     eila PD       0:00      1 (Resources)\n",
      "  52710590_[1-2%2] owners,ak step5-tr     eila PD       0:00      1 (Resources)\n",
      "  52710581_[1-2%2] owners,ak step5-tr     eila PD       0:00      1 (Resources)\n"
     ]
    }
   ],
   "source": [
    "!squeue --user=$USER"
   ]
  },
  {
   "cell_type": "code",
   "execution_count": 99,
   "id": "309ec7d2-ef76-4962-8a6c-77638f5af29d",
   "metadata": {},
   "outputs": [],
   "source": [
    "# #step 5 - train chrombpnet - human\n",
    "\n",
    "# !./execute_sbatch_arrays_on_sherlock.sh ./steps_inputs/step5/human/eila_peaks_matched_to_experiments-debug.txt step4-compute-negatives-non-peak-background.sh 2 2\n",
    "\n",
    "\n"
   ]
  },
  {
   "cell_type": "code",
   "execution_count": 18,
   "id": "4f349b2a-9876-4b6a-b233-42728185b20b",
   "metadata": {},
   "outputs": [],
   "source": [
    "# !ls /scratch/users/eila/encode_pseudobulks/chrombpnet_model"
   ]
  },
  {
   "cell_type": "code",
   "execution_count": 19,
   "id": "df692af2-5582-4f35-a382-e211820e4f0c",
   "metadata": {},
   "outputs": [],
   "source": [
    "# !ls /scratch/users/eila/encode_pseudobulks/chrombpnet_model/ENCSR396HHA\n"
   ]
  },
  {
   "cell_type": "code",
   "execution_count": 20,
   "id": "88878e8f-f9a1-4fc0-9a35-ba6509d34afd",
   "metadata": {},
   "outputs": [],
   "source": [
    "# !ls /scratch/users/eila/encode_pseudobulks/chrombpnet_model/ENCSR396HHA/negatives/fold_0\n"
   ]
  },
  {
   "cell_type": "code",
   "execution_count": 23,
   "id": "28bbe918-c9d4-4acf-8ae3-30656b2757bf",
   "metadata": {},
   "outputs": [
    {
     "name": "stdout",
     "output_type": "stream",
     "text": [
      "3\n"
     ]
    }
   ],
   "source": [
    "# !scontrol show job 52237837\n",
    "!squeue --user=$USER --state=PENDING | wc -l"
   ]
  },
  {
   "cell_type": "code",
   "execution_count": 24,
   "id": "b66fe21a-a572-45c3-84be-ac0cd575ba75",
   "metadata": {},
   "outputs": [
    {
     "name": "stdout",
     "output_type": "stream",
     "text": [
      "1\n"
     ]
    }
   ],
   "source": [
    "!squeue --user=$USER --state=COMPLETED | wc -l"
   ]
  },
  {
   "cell_type": "code",
   "execution_count": 26,
   "id": "89f4c495-59c3-483d-bd4a-5255595af6fd",
   "metadata": {},
   "outputs": [],
   "source": [
    "# !squeue --user=$USER --state=RUNNING"
   ]
  },
  {
   "cell_type": "code",
   "execution_count": 27,
   "id": "4a3a2f9b-601d-4e86-9fb7-ba7a3dd79edc",
   "metadata": {},
   "outputs": [
    {
     "name": "stdout",
     "output_type": "stream",
     "text": [
      "             JOBID PARTITION     NAME     USER ST       TIME  NODES NODELIST(REASON)\n",
      "52575521_[418-1000 owners,ak step4_ca     eila PD       0:00      1 (Priority)\n",
      "52575522_[1073-135 owners,ak step4_ca     eila PD       0:00      1 (Priority)\n"
     ]
    }
   ],
   "source": [
    "!squeue --user=$USER --state=PENDING\n"
   ]
  },
  {
   "cell_type": "code",
   "execution_count": 28,
   "id": "16662045-05db-45d5-b261-c686a54e9c15",
   "metadata": {},
   "outputs": [
    {
     "name": "stdout",
     "output_type": "stream",
     "text": [
      "eila\n"
     ]
    }
   ],
   "source": [
    "!echo $USER"
   ]
  },
  {
   "cell_type": "code",
   "execution_count": 108,
   "id": "067ee76b-968d-4ee2-88ca-3513ad26f0ee",
   "metadata": {},
   "outputs": [],
   "source": [
    "# !scontrol show job 52275013\n"
   ]
  },
  {
   "cell_type": "code",
   "execution_count": 54,
   "id": "6d03ac10-3c0b-431e-a223-fe6e187349c6",
   "metadata": {},
   "outputs": [],
   "source": [
    "# !squeue -u eila\n"
   ]
  },
  {
   "cell_type": "code",
   "execution_count": 55,
   "id": "434a92ae-78f4-41c3-ba51-339a8e5f67e9",
   "metadata": {},
   "outputs": [],
   "source": [
    "# !squeue --user=$USER --state=PENDING\n"
   ]
  },
  {
   "cell_type": "code",
   "execution_count": 56,
   "id": "dc61c75d-b775-4223-af6f-defd7f983e37",
   "metadata": {},
   "outputs": [],
   "source": [
    "# !squeue --user=$USER --state=RUNNING\n"
   ]
  },
  {
   "cell_type": "code",
   "execution_count": 87,
   "id": "baa40ad4-0838-4827-a1f1-3cc444586f44",
   "metadata": {},
   "outputs": [
    {
     "name": "stdout",
     "output_type": "stream",
     "text": [
      "             JOBID PARTITION     NAME     USER ST       TIME  NODES NODELIST(REASON)\n",
      "        52526441_1  akundaje step4_ca     eila  F       0:30      1 (NonZeroExitCode)\n"
     ]
    }
   ],
   "source": [
    "# !scontrol show job | grep $USER\n",
    "!squeue -u eila --state=FAILED,PREEMPTED,TIMEOUT,PREEMPTED,NODE_FAIL,CANCELLED"
   ]
  },
  {
   "cell_type": "code",
   "execution_count": 156,
   "id": "242b570b-3b46-430e-ad7e-78a6525eb288",
   "metadata": {},
   "outputs": [],
   "source": [
    "# !squeue -u eila -o \"%.18i %.9P %.12j %.8u %.2t %.10M %.10l %.10Q %.19V %.19S\"\n"
   ]
  },
  {
   "cell_type": "code",
   "execution_count": 75,
   "id": "e80ccc0e-c081-467c-aabc-42bf30a60b0c",
   "metadata": {},
   "outputs": [
    {
     "name": "stdout",
     "output_type": "stream",
     "text": [
      "/oak/stanford/groups/akundaje/eila/git_tf_chromatin_atlas\n"
     ]
    }
   ],
   "source": [
    "!pwd"
   ]
  },
  {
   "cell_type": "code",
   "execution_count": null,
   "id": "3b4a2914-5d5b-4ed4-ac74-04a6e1bf1e90",
   "metadata": {},
   "outputs": [],
   "source": [
    "# !squeue -u eila"
   ]
  },
  {
   "cell_type": "code",
   "execution_count": 22,
   "id": "14f8fd3b-ca0b-40e3-a809-406a511143c9",
   "metadata": {},
   "outputs": [],
   "source": [
    "# Remove logs\n",
    "# !find ./local_logs/ -name '*slurm*' -type f -mmin +600 -exec rm {} \\;\n"
   ]
  },
  {
   "cell_type": "code",
   "execution_count": 52,
   "id": "98ca2ef4-31fc-4394-b416-6f792c0593f2",
   "metadata": {},
   "outputs": [],
   "source": [
    "# !ls /scratch/users/eila/encode_pseudobulks/ENCSR000NVR/bam/ENCSR000NVR_unsorted.bam"
   ]
  },
  {
   "cell_type": "code",
   "execution_count": 59,
   "id": "db55b4af-268a-4c93-88e7-fa4499dfa763",
   "metadata": {},
   "outputs": [
    {
     "name": "stdout",
     "output_type": "stream",
     "text": [
      "/scratch/users/eila/encode_pseudobulks/ENCSR000NVR/peaks/ENCFF585MYS/ENCSR000NVR_ENCFF585MYS.bed.gz\n"
     ]
    }
   ],
   "source": [
    "# !ls /scratch/users/eila/encode_pseudobulks/ENCSR000NVR/peaks/ENCFF585MYS/ENCSR000NVR_ENCFF585MYS.bed.gz\n"
   ]
  },
  {
   "cell_type": "code",
   "execution_count": 3,
   "id": "87d6a660-5650-4575-afdc-cc2dd9b7a576",
   "metadata": {},
   "outputs": [
    {
     "name": "stdout",
     "output_type": "stream",
     "text": [
      "1355\n"
     ]
    }
   ],
   "source": [
    "!ls /scratch/users/eila/encode_pseudobulks/ENCSR*/bam/ENCSR*_unsorted.bam | wc -l"
   ]
  },
  {
   "cell_type": "code",
   "execution_count": 4,
   "id": "465578c4-dcf2-4730-9b01-f3a853703085",
   "metadata": {},
   "outputs": [
    {
     "name": "stdout",
     "output_type": "stream",
     "text": [
      "1355\n"
     ]
    }
   ],
   "source": [
    "!ls /scratch/users/eila/encode_pseudobulks/ENCSR*/bam/ENCSR*_sorted.bam | wc -l"
   ]
  },
  {
   "cell_type": "code",
   "execution_count": 5,
   "id": "827fb4a3-a92f-446b-b8d8-440aa4c1e5be",
   "metadata": {},
   "outputs": [
    {
     "name": "stdout",
     "output_type": "stream",
     "text": [
      "1355\n"
     ]
    }
   ],
   "source": [
    "!ls /scratch/users/eila/encode_pseudobulks/ENCSR*/peaks/*/*.bed.gz | wc -l\n"
   ]
  },
  {
   "cell_type": "code",
   "execution_count": null,
   "id": "66b50acb-ba88-459d-b774-c9519e3f8181",
   "metadata": {},
   "outputs": [],
   "source": [
    "!ls /scratch/users/eila/encode_pseudobulks/ENCSR*/bam/ENCSR*_unsorted.bam | wc -l"
   ]
  },
  {
   "cell_type": "code",
   "execution_count": null,
   "id": "6ee38a4a-faef-49e9-b5ac-772f6d1b7cbf",
   "metadata": {},
   "outputs": [],
   "source": [
    "!ls /scratch/users/eila/encode_pseudobulks/ENCSR*/bam/ENCSR*_sorted.bam | wc -l"
   ]
  },
  {
   "cell_type": "code",
   "execution_count": 113,
   "id": "71560da8-095b-41b8-8195-ead3aa01d217",
   "metadata": {},
   "outputs": [],
   "source": [
    "# !rm ./local_logs/slurm_step1_download_bams_err.combined.err"
   ]
  },
  {
   "cell_type": "code",
   "execution_count": 13,
   "id": "22921f00-13e6-4ed1-9a1d-3ca2e2974ab3",
   "metadata": {},
   "outputs": [],
   "source": [
    "# !rm ./local_logs/slurm_step4*"
   ]
  },
  {
   "cell_type": "code",
   "execution_count": 2,
   "id": "30f0c0fb-8d4b-486b-8d25-3499b3aaf70b",
   "metadata": {},
   "outputs": [
    {
     "name": "stdout",
     "output_type": "stream",
     "text": [
      "bam_files_list.txt\n",
      "conda_chrombpnet_installation_cmds.txt\n",
      "execute_sbatch_arrays_on_sherlock.sh\n",
      "local_logs\n",
      "shared_vars.sh\n",
      "SLURM_CMDS.ipynb\n",
      "step1-download-bams.sh\n",
      "step2-samtool-sort-index.sh\n",
      "step3-download-peaks.sh\n",
      "step4-compute-negatives-non-peak-background.sh\n",
      "step5-train-chrombonet-model.sh\n",
      "steps_inputs\n"
     ]
    }
   ],
   "source": [
    "!ls"
   ]
  },
  {
   "cell_type": "code",
   "execution_count": 5,
   "id": "1b9a985c-602e-48b3-943a-84729883d656",
   "metadata": {},
   "outputs": [
    {
     "name": "stdout",
     "output_type": "stream",
     "text": [
      "/oak/stanford/groups/akundaje/eila/git_tf_chromatin_atlas\n"
     ]
    }
   ],
   "source": [
    "!pwd"
   ]
  },
  {
   "cell_type": "code",
   "execution_count": 6,
   "id": "0a76c129-168a-4cf0-9b61-4c149ca0cbd2",
   "metadata": {},
   "outputs": [
    {
     "name": "stdout",
     "output_type": "stream",
     "text": [
      "-rw-rw----+ 1 eila oak_akundaje 10224 Sep  4 09:36 ./local_logs/slurm_step4_negative_err.combined.err\n",
      "-rw-rw----+ 1 eila oak_akundaje  9916 Sep  4 09:36 ./local_logs/slurm_step4_negative_out.combined.out\n"
     ]
    }
   ],
   "source": [
    "!ls -l ./local_logs/slurm_step4*"
   ]
  },
  {
   "cell_type": "code",
   "execution_count": null,
   "id": "e2b06aed-ebe2-4e79-b4f8-ef2925e082d8",
   "metadata": {},
   "outputs": [],
   "source": [
    "# bias - given for the train\n",
    "# train - on one file. provides correlation metrics. we need to look at the motifs that modisco populates\n",
    "#         model. modisco on subset of the peaks- subset is random. evaludation folder - modisco and interpret on 30K areas\n",
    "# QC\n",
    "# interpret on subset of the peaks.\n"
   ]
  },
  {
   "cell_type": "code",
   "execution_count": null,
   "id": "b7aaa213-c515-4c83-9baa-9e8919d4a164",
   "metadata": {},
   "outputs": [],
   "source": [
    "!echo $HOME"
   ]
  },
  {
   "cell_type": "code",
   "execution_count": 15,
   "id": "cd4ba86a-4125-4fac-a6ef-d743ba4f362a",
   "metadata": {},
   "outputs": [],
   "source": [
    "# %%bash\n",
    "\n",
    "# # Define the base directories\n",
    "# SRC_BASE=\"/scratch/users/eila/encode_pseudobulks_data\"\n",
    "# DEST_BASE=\"/scratch/users/eila/encode_pseudobulks_data/bam\"\n",
    "\n",
    "# # Loop through all directories matching ENCSR* and move files\n",
    "# for DIR in ${SRC_BASE}/ENCSR*/bam; do\n",
    "#     # Extract the directory name after /ENCSR\n",
    "#     DIR_NAME=$(basename $(dirname \"$DIR\"))\n",
    "    \n",
    "#     # Define source and destination directories\n",
    "#     SRC_DIR=\"${SRC_BASE}/${DIR_NAME}/bam\"\n",
    "#     DEST_DIR=\"${DEST_BASE}/${DIR_NAME}\"\n",
    "    \n",
    "#     # Create destination directory if it doesn't exist\n",
    "#     mkdir -p \"$DEST_DIR\"\n",
    "    \n",
    "#     # Move files from source to destination\n",
    "#     mv \"$SRC_DIR\"/* \"$DEST_DIR\"/\n",
    "    \n",
    "#     echo \"Moved files from $SRC_DIR to $DEST_DIR\"\n",
    "# done\n"
   ]
  },
  {
   "cell_type": "code",
   "execution_count": null,
   "id": "224f0409-6634-4be7-bba2-1303834e7842",
   "metadata": {},
   "outputs": [],
   "source": []
  }
 ],
 "metadata": {
  "kernelspec": {
   "display_name": "Python 3 (ipykernel)",
   "language": "python",
   "name": "python3"
  },
  "language_info": {
   "codemirror_mode": {
    "name": "ipython",
    "version": 3
   },
   "file_extension": ".py",
   "mimetype": "text/x-python",
   "name": "python",
   "nbconvert_exporter": "python",
   "pygments_lexer": "ipython3",
   "version": "3.12.4"
  }
 },
 "nbformat": 4,
 "nbformat_minor": 5
}
